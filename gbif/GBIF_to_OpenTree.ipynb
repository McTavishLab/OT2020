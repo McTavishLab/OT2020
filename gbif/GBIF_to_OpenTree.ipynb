{
 "cells": [
  {
   "cell_type": "markdown",
   "metadata": {},
   "source": [
    "## Getting an evolutionary tree for taxa in a region using GBIF and OpenTree of Life\n",
    "### Example from the University of California, Merced Vernal Pools Reserve\n",
    "https://vernalpools.ucmerced.edu/\n",
    "\n",
    "More info and context at https://github.com/McTavishLab/biodiversity_next/blob/master/biodiversity_next.pdf\n",
    "\n"
   ]
  },
  {
   "cell_type": "markdown",
   "metadata": {},
   "source": [
    "### Get occurence data from GBIF\n",
    "Set polygon: https://www.gbif.org/occurrence/search?country=US&has_coordinate=true&has_geospatial_issue=false&taxon_key=1&advanced=1&geometry=POLYGON((-120.45565%2037.35309,-120.36587%2037.35309,-120.36587%2037.44063,-120.45565%2037.44063,-120.45565%2037.35309))\n",
    "\n",
    "Download records.\n",
    "\n",
    "Here I have limited the search to 'Animalia'\n",
    "\n"
   ]
  },
  {
   "cell_type": "code",
   "execution_count": 1,
   "metadata": {},
   "outputs": [],
   "source": [
    "import sys\n",
    "from opentree import OT"
   ]
  },
  {
   "cell_type": "code",
   "execution_count": 2,
   "metadata": {},
   "outputs": [],
   "source": [
    "input_gbif_file = \"example.csv\"\n",
    "#Example data (17 October 2019) GBIF Occurrence Download https://doi.org/10.15468/dl.9bigak "
   ]
  },
  {
   "cell_type": "code",
   "execution_count": 3,
   "metadata": {},
   "outputs": [
    {
     "name": "stdout",
     "output_type": "stream",
     "text": [
      "Matching ids\n",
      "........................\n",
      "gbif:5229155,Pelecanus erythrorhynchos not matched on ID\n",
      "\n",
      "gbif:5229155,Pelecanus erythrorhynchos matched on name to ott id316989\n",
      "....\n",
      "gbif:9088491,Dryobates nuttallii not matched on ID\n",
      "\n",
      "gbif:9088491,Dryobates nuttallii matched on name to ott id701703\n",
      "..\n",
      "gbif:5231677,Mimus polyglottos not matched on ID\n",
      "\n",
      "gbif:5231677,Mimus polyglottos matched on name to ott id571310\n",
      "......................................\n",
      "gbif:2498167,Anser caerulescens not matched on ID\n",
      "\n",
      "gbif:2498167,Anser caerulescens matched on name to ott id190878\n",
      "...........\n",
      "gbif:2498161,Anser rossii not matched on ID\n",
      "\n",
      "gbif:2498161,Anser rossii matched on name to ott id767830\n",
      "...................."
     ]
    }
   ],
   "source": [
    "fi = open(input_gbif_file)\n",
    "header = fi.readline().split('\\t')\n",
    "\n",
    "\n",
    "#Get indexes for each column in the csv file\n",
    "col_dict = {}\n",
    "for i, col in enumerate(header):\n",
    "    col_dict[col] = i\n",
    "\n",
    "\n",
    "sys.stdout.write(\"Matching ids\\n\")\n",
    "\n",
    "match_dict = {}\n",
    "gbif_ids = []\n",
    "ott_ids = []\n",
    "i = 0\n",
    "#Looop through each line in the file\n",
    "for lin in fi:\n",
    "    i += 1\n",
    "    sys.stdout.write(\".\") #progress bar\n",
    "    sys.stdout.flush()\n",
    "    lii = lin.split('\\t')\n",
    "    gb_id = lii[col_dict['taxonKey']]\n",
    "    if gb_id in match_dict:\n",
    "        #Skip gb_id's you have already matched\n",
    "        pass\n",
    "    else:\n",
    "        # Do a direct match to gbif id's in the open tree taxnomy\n",
    "        gbiftax = \"gbif:{}\".format(int(gb_id))\n",
    "        res = OT.taxon_info(source_id=gbiftax)\n",
    "        if res.status_code == 200:\n",
    "            ott_id = int(res.response_dict['ott_id'])\n",
    "            match_dict[gb_id] = ott_id\n",
    "        if res.status_code == 400:\n",
    "            # If GBIF id isn' found in the open tree taxonomy, search on scientific name\n",
    "            spp_name = lii[col_dict['verbatimScientificName']]\n",
    "#            sys.stdout.write(\"\\n{},{} not matched on ID\\n\".format(gbiftax, spp_name))\n",
    "            res2 = OT.tnrs_match([spp_name])\n",
    "            if res2.status_code == 200:\n",
    "                if len(res2.response_dict['results']) > 0:\n",
    "                    ott_id = int(res2.response_dict['results'][0]['matches'][0]['taxon']['ott_id'])\n",
    "                    match_dict[gb_id] = ott_id\n",
    "                    ott_ids.append(ott_id)\n",
    "                    sys.stdout.write(\"\\n{},{} matched on name to ott id{}\\n\".format(gbiftax, spp_name, ott_id))\n",
    "                else:\n",
    "                    sys.stdout.write(\"\\n{},{} still NO MATCH\\n\".format(gbiftax, spp_name))\n",
    "                    match_dict[gb_id] = None\n",
    "        ott_ids.append(ott_id)\n"
   ]
  },
  {
   "cell_type": "code",
   "execution_count": 4,
   "metadata": {},
   "outputs": [
    {
     "name": "stdout",
     "output_type": "stream",
     "text": [
      "Tree written to VernalPools.tre\n"
     ]
    }
   ],
   "source": [
    "ott_ids = set(ott_ids)\n",
    "if None in ott_ids:\n",
    "    ott_ids.remove(None)\n",
    "\n",
    "trefile = \"VernalPools.tre\"\n",
    "#Get the synthetic tree from OpenTree and write out the citations to a text file.\n",
    "output = OT.synth_induced_tree(ott_ids=list(ott_ids),  label_format='name')\n",
    "output.tree.write(path = trefile, schema = \"newick\")\n",
    "sys.stdout.write(\"Tree written to {}\\n\".format(trefile))\n"
   ]
  },
  {
   "cell_type": "code",
   "execution_count": 5,
   "metadata": {},
   "outputs": [],
   "source": [
    "studies = output.response_dict['supporting_studies']\n",
    "\n",
    "for study in studies:\n",
    "    studyid = study.split('@')[0]\n",
    "    studyres = OT.find_studies(studyid, search_property = 'study_id')\n",
    "    \n",
    "    new_cite = studyres.response_dict.get('matched_studies')\n",
    "    if new_cite:\n",
    "        f.write(to_string(new_cite[0].get('ot:studyPublicationReference', '')) + '\\n' + new_cite[0].get('ot:studyPublication', '') + '\\n')"
   ]
  },
  {
   "cell_type": "code",
   "execution_count": 6,
   "metadata": {},
   "outputs": [
    {
     "data": {
      "text/plain": [
       "104"
      ]
     },
     "execution_count": 6,
     "metadata": {},
     "output_type": "execute_result"
    }
   ],
   "source": [
    "len(studies)"
   ]
  },
  {
   "cell_type": "code",
   "execution_count": null,
   "metadata": {},
   "outputs": [],
   "source": []
  }
 ],
 "metadata": {
  "kernelspec": {
   "display_name": "Python 3",
   "language": "python",
   "name": "python3"
  },
  "language_info": {
   "codemirror_mode": {
    "name": "ipython",
    "version": 3
   },
   "file_extension": ".py",
   "mimetype": "text/x-python",
   "name": "python",
   "nbconvert_exporter": "python",
   "pygments_lexer": "ipython3",
   "version": "3.8.5"
  }
 },
 "nbformat": 4,
 "nbformat_minor": 2
}
