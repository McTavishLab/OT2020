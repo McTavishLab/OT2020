{
 "cells": [
  {
   "cell_type": "code",
   "execution_count": 1,
   "metadata": {},
   "outputs": [],
   "source": [
    "from opentree import OT, taxonomy_helpers\n",
    "import copy\n",
    "import dendropy"
   ]
  },
  {
   "cell_type": "code",
   "execution_count": 2,
   "metadata": {},
   "outputs": [],
   "source": [
    "# Grab the phylo only synth tree to get the ids in synth\n",
    "#!wget https://files.opentreeoflife.org/synthesis/opentree13.4/output/grafted_solution/grafted_solution.tre\n"
   ]
  },
  {
   "cell_type": "code",
   "execution_count": 3,
   "metadata": {},
   "outputs": [],
   "source": [
    "fi = open(\"grafted_solution.tre\").readlines()\n",
    "for lin in fi:\n",
    "    lin = lin.replace('(',',')\n",
    "    lin = lin.replace(')',',')\n",
    "    lii = lin.split(',')\n",
    "    synth_ottids = set(lii)"
   ]
  },
  {
   "cell_type": "code",
   "execution_count": 4,
   "metadata": {},
   "outputs": [
    {
     "data": {
      "text/plain": [
       "104749"
      ]
     },
     "execution_count": 4,
     "metadata": {},
     "output_type": "execute_result"
    }
   ],
   "source": [
    "len(synth_ottids)"
   ]
  },
  {
   "cell_type": "code",
   "execution_count": 5,
   "metadata": {},
   "outputs": [],
   "source": [
    "# Get the grafted synth tree with Fabacea at the root\n",
    "output = OT.synth_subtree('ott560323', label_format=\"id\")\n",
    "output.tree.write(path=\"legumes.tre\",schema=\"newick\")\n"
   ]
  },
  {
   "cell_type": "code",
   "execution_count": 6,
   "metadata": {},
   "outputs": [],
   "source": [
    "pruned = copy.deepcopy(output.tree)"
   ]
  },
  {
   "cell_type": "code",
   "execution_count": 7,
   "metadata": {},
   "outputs": [],
   "source": [
    "#pruned = orig_tree.extract_tree(suppress_unifurcations=False)\n",
    "# Hmmmm forget why I ever needed this"
   ]
  },
  {
   "cell_type": "code",
   "execution_count": 8,
   "metadata": {},
   "outputs": [],
   "source": [
    "taxa_to_retain = []\n",
    "for leaf in pruned.leaf_nodes():\n",
    "    tax = leaf.taxon\n",
    "    if tax:\n",
    "        ottid = tax.label\n",
    "    else:\n",
    "        ottid = None\n",
    "    if ottid in synth_ottids:\n",
    "        taxa_to_retain.append(tax)"
   ]
  },
  {
   "cell_type": "code",
   "execution_count": 9,
   "metadata": {},
   "outputs": [
    {
     "data": {
      "text/plain": [
       "'ott7633656'"
      ]
     },
     "execution_count": 9,
     "metadata": {},
     "output_type": "execute_result"
    }
   ],
   "source": [
    "leaf.taxon.label"
   ]
  },
  {
   "cell_type": "code",
   "execution_count": 10,
   "metadata": {},
   "outputs": [],
   "source": [
    "taxa_to_prune = []\n",
    "for tax in pruned.taxon_namespace:\n",
    "    ottid = tax.label.split('_')[-1]\n",
    "    if ottid not in synth_ottids:\n",
    "        taxa_to_prune.append(tax)"
   ]
  },
  {
   "cell_type": "code",
   "execution_count": 11,
   "metadata": {},
   "outputs": [
    {
     "data": {
      "text/plain": [
       "19607"
      ]
     },
     "execution_count": 11,
     "metadata": {},
     "output_type": "execute_result"
    }
   ],
   "source": [
    "len(taxa_to_prune)"
   ]
  },
  {
   "cell_type": "code",
   "execution_count": 12,
   "metadata": {},
   "outputs": [
    {
     "data": {
      "text/plain": [
       "4872"
      ]
     },
     "execution_count": 12,
     "metadata": {},
     "output_type": "execute_result"
    }
   ],
   "source": [
    "len(taxa_to_retain)"
   ]
  },
  {
   "cell_type": "code",
   "execution_count": 13,
   "metadata": {},
   "outputs": [],
   "source": [
    "pruned.retain_taxa(taxa_to_retain)"
   ]
  },
  {
   "cell_type": "code",
   "execution_count": 14,
   "metadata": {},
   "outputs": [],
   "source": [
    "import json\n",
    "dates = json.load(open(\"../../chronosynth/node_ages.json\"))"
   ]
  },
  {
   "cell_type": "code",
   "execution_count": 15,
   "metadata": {},
   "outputs": [
    {
     "data": {
      "text/plain": [
       "[{'age': 69.14253099999999,\n",
       "  'source_id': 'ot_1250@tree2',\n",
       "  'source_node': 'node99521',\n",
       "  'time_unit': 'Myr'}]"
      ]
     },
     "execution_count": 15,
     "metadata": {},
     "output_type": "execute_result"
    }
   ],
   "source": [
    "#Check there is a date fro the root, or it will break\n",
    "dates['node_ages']['ott560323']"
   ]
  },
  {
   "cell_type": "code",
   "execution_count": 16,
   "metadata": {},
   "outputs": [
    {
     "data": {
      "text/plain": [
       "119"
      ]
     },
     "execution_count": 16,
     "metadata": {},
     "output_type": "execute_result"
    }
   ],
   "source": [
    "ages = open(\"ages\",'w')\n",
    "\n",
    "dated_nodes = set()\n",
    "undated_nodes = set()\n",
    "for node in pruned:\n",
    "    lab = None\n",
    "    if node.label:\n",
    "        if node.label.startswith('mrca'):\n",
    "            lab = node.label\n",
    "        elif node.label.startswith('ott'):\n",
    "            lab = node.label\n",
    "        else:\n",
    "            lab = node.label.split()[-1]\n",
    "        if lab in dates['node_ages']:\n",
    "            dated_nodes.add(lab)\n",
    "            age_range = [float(source['age']) for source in dates['node_ages'][lab]]\n",
    "            age_range.sort()\n",
    "            age_est = sum(age_range) / len(age_range) \n",
    "            ages.write(\"{}\\t{}\\n\".format(node.label, age_est))\n",
    "        #    node.label = age_est\n",
    "        else:\n",
    "        #    node.label = \"-\"\n",
    "            undated_nodes.add(lab)\n",
    "\n",
    "\n",
    "ages.close()\n",
    "len(dated_nodes)"
   ]
  },
  {
   "cell_type": "code",
   "execution_count": 17,
   "metadata": {},
   "outputs": [],
   "source": [
    "node.label"
   ]
  },
  {
   "cell_type": "code",
   "execution_count": 18,
   "metadata": {},
   "outputs": [],
   "source": [
    "trefile = \"Phylo_only_legumes.tre\"\n",
    "pruned.write(path = trefile, schema = \"newick\")\n",
    "            "
   ]
  },
  {
   "cell_type": "code",
   "execution_count": 19,
   "metadata": {},
   "outputs": [],
   "source": [
    "! phylocom bladj -f Phylo_only_legumes.tre > Phylo_only_legumes_dated_ids.tre"
   ]
  },
  {
   "cell_type": "code",
   "execution_count": 20,
   "metadata": {},
   "outputs": [
    {
     "name": "stdout",
     "output_type": "stream",
     "text": [
      "Taxonomy already available at ../../ott3.3"
     ]
    },
    {
     "data": {
      "text/plain": [
       "'../../ott3.3'"
      ]
     },
     "execution_count": 20,
     "metadata": {},
     "output_type": "execute_result"
    }
   ],
   "source": [
    "taxonomy_helpers.download_taxonomy_file(version = 3.3, loc = '../..')"
   ]
  },
  {
   "cell_type": "code",
   "execution_count": 21,
   "metadata": {},
   "outputs": [
    {
     "name": "stdout",
     "output_type": "stream",
     "text": [
      "uid\t|\tparent_uid\t|\tname\t|\trank\t|\tsourceinfo\t|\tuniqname\t|\tflags\t|\t\r\n",
      "805080\t|\t\t|\tlife\t|\tno rank\t|\tsilva:0,ncbi:1,gbif:0,irmng:0\t|\t\t|\t\t|\t\r\n",
      "93302\t|\t805080\t|\tcellular organisms\t|\tno rank\t|\tncbi:131567\t|\t\t|\t\t|\t\r\n",
      "844192\t|\t93302\t|\tBacteria\t|\tdomain\t|\tsilva:A16379/#1,ncbi:2,worms:6,gbif:3,irmng:13,irmng:109739,irmng:109741\t|\t\t|\t\t|\t\r\n",
      "248067\t|\t844192\t|\tProteobacteria\t|\tphylum\t|\tsilva:A16379/#2,ncbi:1224,worms:178054,gbif:111,irmng:192\t|\tProteobacteria (phylum silva:A16379/#2)\t|\t\t|\t\r\n",
      "822744\t|\t248067\t|\tGammaproteobacteria\t|\tclass\t|\tsilva:A16379/#3,ncbi:1236,worms:393018,gbif:362,irmng:1392\t|\t\t|\tsibling_higher\t|\t\r\n",
      "767311\t|\t822744\t|\tPasteurellales\t|\torder\t|\tsilva:A16379/#4,ncbi:135625,worms:394199,gbif:1472,irmng:11731\t|\t\t|\tsibling_higher\t|\t\r\n",
      "1098176\t|\t767311\t|\tPasteurellaceae\t|\tfamily\t|\tsilva:A16379/#5,ncbi:712,worms:394200,gbif:9536,irmng:104984\t|\tPasteurellaceae (family silva:A16379/#5)\t|\t\t|\t\r\n",
      "470454\t|\t1098176\t|\tHaemophilus\t|\tgenus\t|\tsilva:A16379/#6,ncbi:724,worms:571392,gbif:3219815,irmng:1307220\t|\t\t|\t\t|\t\r\n",
      "525972\t|\t470454\t|\tHaemophilus pittmaniae HK 85\t|\tno rank - terminal\t|\tsilva:AFUV01000004,ncbi:1035188\t|\t\t|\t\t|\t\r\n"
     ]
    }
   ],
   "source": [
    "!head ../../ott3.3/taxonomy.tsv"
   ]
  },
  {
   "cell_type": "code",
   "execution_count": 22,
   "metadata": {},
   "outputs": [],
   "source": [
    "ott_id_lookup = {}\n",
    "for lin in open('../../ott3.3/taxonomy.tsv'):\n",
    "    lii = lin.split('|')\n",
    "    ott_id_lookup[lii[0].strip()] = lii[2].strip()"
   ]
  },
  {
   "cell_type": "code",
   "execution_count": 23,
   "metadata": {},
   "outputs": [],
   "source": [
    "#-> relabel back to name labels\n",
    "dated =dendropy.Tree.get(path='Phylo_only_legumes_dated_ids.tre', schema = 'newick')\n",
    "for tax in dated.taxon_namespace:\n",
    "    ottid = tax.label.strip('ott')\n",
    "    taxname = ott_id_lookup[ottid]\n",
    "    tax.label = taxonomy_helpers.remove_problem_characters(taxname)"
   ]
  },
  {
   "cell_type": "code",
   "execution_count": 24,
   "metadata": {},
   "outputs": [],
   "source": [
    "dated.write(path='Phylo_only_legumes_dated_names.tre', schema = 'newick')"
   ]
  },
  {
   "cell_type": "code",
   "execution_count": 25,
   "metadata": {},
   "outputs": [],
   "source": [
    "taxtree = OT.taxon_subtree(ott_id=560323, label_format=\"name\")\n",
    "taxtree.tree.write(path='Tax_only_legumes.tre', schema = 'newick')"
   ]
  },
  {
   "cell_type": "markdown",
   "metadata": {},
   "source": [
    "## Get Citations"
   ]
  },
  {
   "cell_type": "code",
   "execution_count": 26,
   "metadata": {},
   "outputs": [],
   "source": [
    "# Don't forget to cite your friendly phylogeneticists!\n",
    "studies = output.response_dict['supporting_studies']\n",
    "cites = OT.get_citations(studies) #this can be a bit slow\n",
    "fi = open(\"legume_synth_cites.txt\",\"w\")\n",
    "fi.write(cites)\n",
    "fi.close()"
   ]
  },
  {
   "cell_type": "code",
   "execution_count": 27,
   "metadata": {},
   "outputs": [
    {
     "name": "stdout",
     "output_type": "stream",
     "text": [
      "https://tree.opentreeoflife.org/curator/study/view/ot_1987?tab=trees&tree=tree1\n",
      "Sinou, C., Cardinal‐McTeague, W., & Bruneau, A. (2020). Testing generic limits in Cercidoideae (Leguminosae): Insights from plastid and duplicated nuclear gene sequences. TAXON, 69(1), 67–86. doi:10.1002/tax.12207\n",
      "\n",
      "http://dx.doi.org/10.1002/tax.12207\n",
      "\n",
      "https://tree.opentreeoflife.org/curator/study/view/pg_2689?tab=trees&tree=tree6241\n",
      "Drummond, C. S., Eastwood, R. J., Miotto, S. T., & Hughes, C. E. (2012). Multiple continental radiations and correlates of diversification in Lupinus (Leguminosae): testing for key innovation with incomplete taxon sampling. Systematic Biology 61(3), 443-460.\n",
      "http://dx.doi.org/10.1093/sysbio/syr126\n",
      "\n",
      "https://tree.opentreeoflife.org/curator/study/view/pg_2712?tab=trees&tree=tree6296\n",
      "Wang, Hengchang, Michael J. Moore, Pamela S. Soltis, Charles D. Bell, Samuel F. Brockington, Roolse Alexandre, Charles C. Davis, Maribeth Latvis, Steven R. Manchester, and Douglas E. Soltis. 2009. Rosid radiation and the rapid rise of angiosperm-dominated forests. Proceedings of the National Academy of Sciences 106, no. 10 (March 10): 3853 -3858. doi:10.1073/pnas.0813376106.\n",
      "http://dx.doi.org/10.1073/pnas.0813376106 \n",
      "\n",
      "https://tree.opentreeoflife.org/curator/study/view/pg_2690?tab=trees&tree=tree6243\n",
      "Wojciechowski M., Lavin M., & Sanderson M. 2004. A phylogeny of legumes (Leguminosae) based on analysis of the plastid matK gene resolves many well-supported subclades within the family. American Journal of Botany, 91: 1846-1862.\n",
      "http://dx.doi.org/10.3732/ajb.91.11.1846\n",
      "\n",
      "https://tree.opentreeoflife.org/curator/study/view/pg_606?tab=trees&tree=tree5290\n",
      "Steele K., & Wojciechowski M. 2003. \"Phylogenetic analyses of tribes Trifolieae and Vicieae based on sequences of the plastid gene matK (Papilionoideae: Leguminosae).\" In: Klitgaard B., & Bruneau A., eds. Advances in Legume Systematics, part 10. pp. 355-370. London, Royal Botanic Gardens, Kew.\n",
      "http://books.google.com/books?id=vbBaAAAACAAJ\n",
      "\n",
      "https://tree.opentreeoflife.org/curator/study/view/ot_1828?tab=trees&tree=Tr92823\n",
      "Castellanos C., Steeves R.A., Bruneau A., & Lewis G.P. 2016. A settled sub-family for the Orphan tree: The phylogenetic position of the endemic Colombian genus Orphanodendron in the Leguminosae. Brittonia, .\n",
      "\n",
      "\n",
      "https://tree.opentreeoflife.org/curator/study/view/pg_2057?tab=trees&tree=tree4240\n",
      "Cardoso D.B., Queiroz L.P., Pennington R., Cavalcante de lima H., Fonty E., Wojciechowski M., & Lavin M. 2012. Revisiting the phylogeny of papilionoid legumes: New insights from comprehensively sampled early-branching lineages. American Journal of Botany, 99(12): 1991-2013.\n",
      "http://dx.doi.org/10.3732/ajb.1200380\n",
      "\n",
      "https://tree.opentreeoflife.org/curator/study/view/pg_590?tab=trees&tree=tree882\n",
      "Farruggia, F. T., & Howard, J. H. 2011. Examination of five nuclear markers for phylogenetic study of Hologalegina (Leguminosae). Brittonia 63: 489-499.\n",
      "http://dx.doi.org/10.1007/s12228-011-9189-x\n",
      "\n",
      "https://tree.opentreeoflife.org/curator/study/view/ot_1624?tab=trees&tree=Tr85668\n",
      "Jin L.S., Cadotte M.W., & Fortin M. 2015. Phylogenetic turnover patterns consistent with niche conservatism in montane plant species. Journal of Ecology, .\n",
      "https://doi.org/10.1111/1365-2745.12385\n",
      "\n",
      "https://tree.opentreeoflife.org/curator/study/view/ot_535?tab=trees&tree=tree1\n",
      "Sun, Yanxia, Michael J. Moore, Shoujun Zhang, Pamela S. Soltis, Douglas E. Soltis, Tingting Zhao, Aiping Meng, Xiaodong Li, Jianqiang Li, Hengchang Wang. 2016. Phylogenomic and structural analyses of 18 complete plastomes across nearly all families of early-diverging eudicots, including an angiosperm-wide analysis of IR gene content evolution. Molecular Phylogenetics and Evolution 96: 93-101\n",
      "http://dx.doi.org/10.1016/j.ympev.2015.12.006\n",
      "\n",
      "https://tree.opentreeoflife.org/curator/study/view/ot_502?tab=trees&tree=tree1\n",
      "Magallón, Susana, Sandra Gómez-Acevedo, Luna L. Sánchez-Reyes, Tania Hernández-Hernández. 2015. A metacalibrated time-tree documents the early rise of flowering plant phylogenetic diversity. New Phytologist 207 (2): 437-453\n",
      "http://dx.doi.org/10.1111/nph.13264\n",
      "\n",
      "https://tree.opentreeoflife.org/curator/study/view/ot_1050?tab=trees&tree=tree1\n",
      "Azani, Nasim, et al. \"A new subfamily classification of the Leguminosae based on a taxonomically comprehensive phylogeny The Legume Phylogeny Working Group (LPWG).\" Taxon 66.1 (2017): 44-77.\n",
      "http://dx.doi.org/10.12705/661.3\n",
      "\n",
      "https://tree.opentreeoflife.org/curator/study/view/pg_999?tab=trees&tree=tree1940\n",
      "McMahon, M. M., & Sanderson, M. J. 2006. Phylogenetic supermatrix analysis of GenBank sequences from 2228 papilionoid legumes. Syst. Biol. 55: 818-836.\n",
      "http://dx.doi.org/10.1080/10635150600999150\n",
      "\n",
      "https://tree.opentreeoflife.org/curator/study/view/pg_57?tab=trees&tree=tree777\n",
      "Boatwright J., Savolainen V., Wyk B., Schutte-vlok A., Forest F., & Bank M. 2007. Systematic position of the anomolous genus Cadia and the phylogeny of the tribe Podalyrieae (Fabaceae). Systematic Botany, 33(1), 133-147.\n",
      "http://dx.doi.org/10.1600/036364408783887500\n",
      "\n",
      "https://tree.opentreeoflife.org/curator/study/view/pg_592?tab=trees&tree=tree889\n",
      "Hu M., Lavin M., Wojciechowski M., & Sanderson M. 2002. Phylogenetic analysis of nuclear ribosomal ITS/5.8 S sequences in the tribe Millettieae (Fabaceae): Poecilanthe-Cyclolobium, the core Millettieae, and the Callerya group. Systematic Botany, 27: 722-733.\n",
      "http://dx.doi.org/10.1043/0363-6445-27.4.722\n",
      "\n",
      "https://tree.opentreeoflife.org/curator/study/view/pg_2539?tab=trees&tree=tree6294\n",
      "Soltis D., Smith S.A., Cellinese N., Wurdack K.J., Tank D.C., Brockington S.F., Refulio-rodriguez N., Walker J.B., Moore M.J., Carlsward B.S., Bell C., Latvis M., Crawley S., Black C., Diouf D., Xi Z., Rushworth C.A., Gitzendanner M.A., Sytsma K.J., Qiu Y., Hilu K., Davis C., Sanderson M.J., Beaman R.S., Olmstead R., Judd W., Donoghue M., & Soltis P. 2011. Angiosperm phylogeny: 17 genes, 640 taxa. American Journal of Botany, 98(4), 704-730.\n",
      "http://dx.doi.org/10.3732/ajb.1000404\n",
      "\n",
      "https://tree.opentreeoflife.org/curator/study/view/pg_592?tab=trees&tree=tree887\n",
      "Hu M., Lavin M., Wojciechowski M., & Sanderson M. 2002. Phylogenetic analysis of nuclear ribosomal ITS/5.8 S sequences in the tribe Millettieae (Fabaceae): Poecilanthe-Cyclolobium, the core Millettieae, and the Callerya group. Systematic Botany, 27: 722-733.\n",
      "http://dx.doi.org/10.1043/0363-6445-27.4.722\n",
      "\n",
      "https://tree.opentreeoflife.org/curator/study/view/ot_311?tab=trees&tree=tree1\n",
      "Amy E. Zanne, David C. Tank, William K. Cornwell, Jonathan M. Eastman, Stephen A. Smith, Richard G. FitzJohn, Daniel J. McGlinn, Brian C. O’Meara, Angela T. Moles, Peter B. Reich, Dana L. Royer, Douglas E. Soltis, Peter F. Stevens, Mark Westoby, Ian J. Wright, Lonnie Aarssen, Robert I. Bertin, Andre Calaminus, Rafaël Govaerts, Frank Hemmings, Michelle R. Leishman, Jacek Oleksyn, Pamela S. Soltis, Nathan G. Swenson, Laura Warman, Jeremy M. Beaulieu, 2013, 'Three keys to the radiation of angiosperms into freezing environments', Nature, vol. 506, no. 7486, pp. 89-92\n",
      "http://dx.doi.org/10.1038/nature12872\n",
      "\n",
      "https://tree.opentreeoflife.org/curator/study/view/pg_2820?tab=trees&tree=tree6566\n",
      "Ruhfel, Brad R, Matthew A Gitzendanner, Pamela S Soltis, Douglas E Soltis, J Burleigh. 2014. From algae to angiosperms–inferring the phylogeny of green plants (Viridiplantae) from 360 plastid genomes. BMC Evolutionary Biology 14 (1): 23\n",
      "http://dx.doi.org/10.1186/1471-2148-14-23\n",
      "\n",
      "https://tree.opentreeoflife.org/curator/study/view/pg_1862?tab=trees&tree=tree3760\n",
      "Saslis-Lagoudakis, C., Chase, M. W., Robinson, D. N., Russell, S. J., & Klitgaard, B. B. (2008). Phylogenetics of neotropical Platymiscium (Leguminosae: Dalbergieae): systematics, divergence times, and biogeography inferred from nuclear ribosomal and plastid DNA sequence data. American Journal of Botany, 95(10), 1270-1286.\n",
      "http://dx.doi.org/10.3732/ajb.0800101\n",
      "\n",
      "https://tree.opentreeoflife.org/curator/study/view/pg_2051?tab=trees&tree=tree4226\n",
      "le Roux, M. M., & van Wyk, B. E. (2013). A Taxonomic Revision of Amphitrichae, a New Section of Crotalaria (Fabaceae). Systematic Botany, 38(3), 638-652.\n",
      "\n",
      "\n",
      "https://tree.opentreeoflife.org/curator/study/view/pg_2055?tab=trees&tree=tree4234\n",
      "Cardoso D.B., Cavalcante de lima H., Sch?tz rodrigues R., Queiroz L.P., Pennington R., & Lavin M. 2012. The Bowdichia clade of Genistoid legumes: phylogenetic analysis of combined molecular (ITS, matK and trnL intron) and morphological data and a recircumscription of Diplotropis. Taxon, 61(5): 1074?1087.\n",
      "http://www.ingentaconnect.com/content/iapt/tax/2012/00000061/00000005/art00012\n",
      "\n",
      "https://tree.opentreeoflife.org/curator/study/view/ot_607?tab=trees&tree=Tr25497\n",
      "Huang D.I., & Friar E. 2010. Relationships in the Lupinus albifrons species complex (Fabaceae) based on two highly variable chloroplast regions. Systematic Botany, .\n",
      "http://dx.doi.org/10.1600/036364411x569543\n",
      "\n",
      "https://tree.opentreeoflife.org/curator/study/view/pg_267?tab=trees&tree=tree161\n",
      "Ireland H., Kite G., Veitch N., Chase M., Schrire B., Lavin M., & Pennington R. 2010.\r\n",
      "Biogeographic, ecological, and morphological structure of a phylogenetic analysis\r\n",
      "of Ateleia (Swartzieae-Leguminosae) derived from combined molecular and morphological/chemical\r\n",
      "data. Botanical Journal of the Linnean Society, 162(1): 39-53.\n",
      "http://dx.doi.org/10.1111/j.1095-8339.2009.01016\n",
      "\n",
      "https://tree.opentreeoflife.org/curator/study/view/pg_605?tab=trees&tree=tree947\n",
      "Riley-Hulting, E. T., Delgado-Salinas, A., & Lavin, M. (2004). Phylogenetic systematics of Strophostyles (Fabaceae): a North American temperate genus within a neotropical diversification. Systematic Botany, 29(3), 627-653.\n",
      "http://dx.doi.org/10.1600/0363644041744464\n",
      "\n",
      "https://tree.opentreeoflife.org/curator/study/view/pg_129?tab=trees&tree=tree6204\n",
      "Jiang J., Li J., Fu C., Li M., & Lou X. 2008. Phylogenetics and biogeography of Wisteria (Fabaceae) inferred from sequences of chloroplast and nuclear DNA regions. Systematic Botany, null.\n",
      "\n",
      "\n",
      "https://tree.opentreeoflife.org/curator/study/view/ot_1176?tab=trees&tree=tree1\n",
      "Steven B. Cannon, Michael R. McKain, Alex Harkess, Matthew N. Nelson, Sudhansu Dash, Michael K. Deyholos, Yanhui Peng, Blake Joyce, Charles N. Stewart, Megan Rolf, Toni Kutchan, Xuemei Tan, Cui Chen, Yong Zhang, Eric Carpenter, Gane Ka-Shu Wong, Jeff J. Doyle, Jim Leebens-Mack, 2014, 'Multiple Polyploidy Events in the Early Radiation of Nodulating and Nonnodulating Legumes', Molecular Biology and Evolution, vol. 32, no. 1, pp. 193-210\n",
      "http://dx.doi.org/10.1093/molbev/msu296\n",
      "\n",
      "https://tree.opentreeoflife.org/curator/study/view/ot_1417?tab=trees&tree=Tr94055\n",
      "Barber N.A., Jones H.P., Duvall M.R., Wysocki W.P., Hansen M.J., & Gibson D.J. 2016. Phylogenetic diversity is maintained despite richness losses over time in restored tallgrass  prairie plant communities. Journal of Applied Ecology, .\n",
      "https://doi.org/10.1111/1365-2664.12639\n",
      "\n",
      "https://tree.opentreeoflife.org/curator/study/view/ot_859?tab=trees&tree=tree1\n",
      "Foster, Charles S. P., Hervé Sauquet, Marlien van der Merwe, Hannah McPherson, Maurizio Rossetto, Simon Y. W. Ho. 2016. Evaluating the impact of genomic data and priors on Bayesian estimates of the angiosperm evolutionary timescale. Systematic Biology, p. syw086\n",
      "http://dx.doi.org/10.1093/sysbio/syw086\n",
      "\n",
      "https://tree.opentreeoflife.org/curator/study/view/pg_58?tab=trees&tree=tree775\n",
      "Boatwright J., Roux M., Wink M., Morozova T., & Wyk B. 2008. Phylogenetic Relationships of the Tribe Crotalarieae (Fabaceae) Inferred from DNA Sequences and Morphology. Systematic botany, 33(4), 752-761.\n",
      "http://dx.doi.org/10.1600/036364408786500271\n",
      "\n",
      "https://tree.opentreeoflife.org/curator/study/view/pg_2912?tab=trees&tree=tree6740\n",
      "Souza E.R., Lewis G.P., Forest F., Schnadelbach A.S., Van den berg C., & Queiroz L.P. 2013. Phylogeny of Calliandra (Leguminosae: Mimosoideae) based on nuclear and plastid molecular markers. TAXON, 62(6): 1201-1220.\n",
      "http://dx.doi.org/10.12705/626.2\n",
      "\n",
      "https://tree.opentreeoflife.org/curator/study/view/ot_1495?tab=trees&tree=tree1\n",
      "Domingos Cardoso, Wallace M.B. São-Mateus, Daiane Trabuco da Cruz, Charles E. Zartman, Dirce L. Komura, Geoffrey Kite, Gerhard Prenner, Jan J. Wieringa, Alexandra Clark, Gwilym Lewis, R. Toby Pennington, Luciano Paganucci de Queiroz, 2015, 'Filling in the gaps of the papilionoid legume phylogeny: The enigmatic Amazonian genus Petaladenium is a new branch of the early-diverging Amburaneae clade', Molecular Phylogenetics and Evolution, vol. 84, pp. 112-124\n",
      "http://dx.doi.org/10.1016/j.ympev.2014.12.015\n",
      "\n",
      "https://tree.opentreeoflife.org/curator/study/view/ot_303?tab=trees&tree=Tr62284\n",
      "Mishler B., Knerr N., Gonz?lez-orozco C.E., Thornhill A.H., Laffan S., & Miller J.T. 2014. Phylogenetic Measures of Biodiversity and Neo- and Paleo-Endemism in Australian Acacia. Nature Communications, 5(4473).\n",
      "http://dx.doi.org/10.1038/ncomms5473\n",
      "\n",
      "https://tree.opentreeoflife.org/curator/study/view/ot_1390?tab=trees&tree=tree1\n",
      "Anna V. Williams, Joseph T. Miller, Ian Small, Paul G. Nevill, Laura M. Boykin, 2016, 'Integration of complete chloroplast genome sequences with small amplicon datasets improves phylogenetic resolution in  Acacia', Molecular Phylogenetics and Evolution, vol. 96, pp. 1-8\n",
      "http://dx.doi.org/10.1016/j.ympev.2015.11.021\n",
      "\n",
      "https://tree.opentreeoflife.org/curator/study/view/pg_261?tab=trees&tree=tree145\n",
      "Manzanilla V., & Bruneau A. 2012. Phylogeny reconstruction in the Caesalpinieae grade\r\n",
      "(Leguminosae) based on duplicated copies of the sucrose synthase gene and plastid\r\n",
      "markers. Molecular Phylogenetics and Evolution. 65: 149–162.\n",
      "http://dx.doi.org/10.1016/j.ympev.2012.05.035\n",
      "\n",
      "https://tree.opentreeoflife.org/curator/study/view/pg_293?tab=trees&tree=tree201\n",
      "Simon, M. F. [et al. 2011], Grether, R., de Queiroz, L. P., Särkinen, T. E., Dutra, V. F., & Hughes, C. E. 2011. The evolutionary history of Mimosa (Leguminosae): Toward a phylogeny of the sensitive plants. American J. Bot. 98: 1201-1221.\n",
      "http://dx.doi.org/10.3732/ajb.1000520\n",
      "\n",
      "https://tree.opentreeoflife.org/curator/study/view/pg_131?tab=trees&tree=tree6236\n",
      "Ellison N., Liston A., Steiner J., Williams W., & Taylor N. 2006. Molecular phylogenetics of the clover genus (Trifolium--Leguminosae). Molecular Phylogenetics and Evolution, 39(3): 688-705.\n",
      "http://dx.doi.org/10.1016/j.ympev.2006.01.004\n",
      "\n",
      "https://tree.opentreeoflife.org/curator/study/view/ot_1584?tab=trees&tree=tree1\n",
      "Luciano Paganucci de Queiroz, José Floriano B. Pastore, Domingos Cardoso, Cristiane Snak, Ana Luísa de C. Lima, Edeline Gagnon, Mohammad Vatanparast, Ailsa E. Holland, Ashley N. Egan, 2015, 'A multilocus phylogenetic analysis reveals the monophyly of a recircumscribed papilionoid legume tribe Diocleae with well-supported generic relationships', Molecular Phylogenetics and Evolution, vol. 90, pp. 1-19\n",
      "http://dx.doi.org/10.1016/j.ympev.2015.04.016\n",
      "\n",
      "https://tree.opentreeoflife.org/curator/study/view/pg_155?tab=trees&tree=tree780\n",
      "Brown, G. K., Murphy, D. J., Miller, J. T., & Ladiges, P. Y. (2008). Acacia ss. and its relationship among tropical legumes, Tribe Ingeae (Leguminosae: Mimosoideae). Systematic Botany, 33(4), 739-751.\n",
      "http://dx.doi.org/10.1600/036364408786500136\n",
      "\n",
      "https://tree.opentreeoflife.org/curator/study/view/pg_1902?tab=trees&tree=tree3879\n",
      "Jobson, R. W., & Luckow, M. 2007. Phylogenetic study of the genus Piptadenia (Mimosoideae: Leguminosae) using plastid trnL-F and trnK/matK sequence data. Syst. Bot. 32: 569-575\n",
      "http://dx.doi.org/10.1600/036364407782250544\n",
      "\n",
      "https://tree.opentreeoflife.org/curator/study/view/pg_295?tab=trees&tree=tree203\n",
      "Miller, J. T. [et al. 2003], Grimes, J. W,, Murphy, D. J., Bayer, R. J., & Ladiges, P. Y. 2003. A phylogenetic analysis of the Acacieae and Ingeae (Mimosoideae: Fabaceae) based on trnK, matK, psbA-trnH, and trnL/trnF sequence data. Syst. Bot. 28: 558-566.\n",
      "http://dx.doi.org/10.1043/02-48.1\n",
      "\n",
      "https://tree.opentreeoflife.org/curator/study/view/pg_597?tab=trees&tree=tree906\n",
      "Ribeiro R., Lavin M., Filho J., Filho C., Santos F., & Lovato M. 2007. The genus Machaerium (Leguminosae) is more closely related to Aeschynomene Sect. Ochopodium than to Dalbergia: inferences from combined sequence data. Systematic Botany, 32(4).\n",
      "http://dx.doi.org/10.1600/036364407783390700\n",
      "\n",
      "https://tree.opentreeoflife.org/curator/study/view/pg_1087?tab=trees&tree=tree2114\n",
      "Stefanovic, S. [et al. 2009], Pfeil, B. E., Palmer, J. D., & Doyle, J. J. 2009. Relationships Among Phaseoloid Legumes Based on Sequences from Eight Chloroplast Regions. Syst. Bot. 34: 115-128.\n",
      "http://dx.doi.org/10.1600/036364409787602221\n",
      "\n",
      "https://tree.opentreeoflife.org/curator/study/view/pg_1087?tab=trees&tree=tree2115\n",
      "Stefanovic, S. [et al. 2009], Pfeil, B. E., Palmer, J. D., & Doyle, J. J. 2009. Relationships Among Phaseoloid Legumes Based on Sequences from Eight Chloroplast Regions. Syst. Bot. 34: 115-128.\n",
      "http://dx.doi.org/10.1600/036364409787602221\n",
      "\n",
      "https://tree.opentreeoflife.org/curator/study/view/pg_607?tab=trees&tree=tree956\n",
      "Wojciechowski M., Sanderson M., Baldwin B.G., & Donoghue M. 1993. Monophyly of aneuploid Astragalus (Fabaceae): Evidence from nuclear ribosomal DNA internal transcribed spacer sequences. American Journal of Botany, 80: 711-722.\n",
      "http://dx.doi.org/10.2307/2445441\n",
      "\n",
      "https://tree.opentreeoflife.org/curator/study/view/pg_607?tab=trees&tree=tree957\n",
      "Wojciechowski M., Sanderson M., Baldwin B.G., & Donoghue M. 1993. Monophyly of aneuploid Astragalus (Fabaceae): Evidence from nuclear ribosomal DNA internal transcribed spacer sequences. American Journal of Botany, 80: 711-722.\n",
      "http://dx.doi.org/10.2307/2445441\n",
      "\n",
      "https://tree.opentreeoflife.org/curator/study/view/pg_607?tab=trees&tree=tree958\n",
      "Wojciechowski M., Sanderson M., Baldwin B.G., & Donoghue M. 1993. Monophyly of aneuploid Astragalus (Fabaceae): Evidence from nuclear ribosomal DNA internal transcribed spacer sequences. American Journal of Botany, 80: 711-722.\n",
      "http://dx.doi.org/10.2307/2445441\n",
      "\n",
      "https://tree.opentreeoflife.org/curator/study/view/pg_2001?tab=trees&tree=tree4100\n",
      "Mehrshid Riahi, Shahin Zarre, Ali Aasghar Maassoumi, Shahrokh Kazempour Osaloo, Martin F. Wojciechowski. 2011. Towards a phylogeny for Astragalus section Caprini (Fabaceae) and its allies based on nuclear and plastid DNA sequences. Plant Syst Evol. 293:119–133.\n",
      "http://dx.doi.org/10.1007/s00606-011-0417-3\n",
      "\n",
      "https://tree.opentreeoflife.org/curator/study/view/pg_608?tab=trees&tree=tree959\n",
      "Wojciechowski M., Sanderson M., & Hu J. 1999. Evidence on the Monophyly of Astragalus (Fabaceae) and its Major Subgroups Based on Nuclear Ribosomal DNA ITS and Chloroplast DNA trnL Intron Data. Systematic Botany, 24: 409-437.\n",
      "http://dx.doi.org/10.2307/2419698\n",
      "\n",
      "https://tree.opentreeoflife.org/curator/study/view/ot_1443?tab=trees&tree=tree1\n",
      "Gustavo Ramos, Haroldo Cavalcante de Lima, Gerhard Prenner, Luciano Paganucci de Queiroz, Charles E. Zartman, Domingos Cardoso, 2016, 'Molecular systematics of the Amazonian genus  Aldina , a phylogenetically enigmatic ectomycorrhizal lineage of papilionoid legumes', Molecular Phylogenetics and Evolution, vol. 97, pp. 11-18\n",
      "http://dx.doi.org/10.1016/j.ympev.2015.12.017\n",
      "\n",
      "https://tree.opentreeoflife.org/curator/study/view/pg_594?tab=trees&tree=tree890\n",
      "Lavin M., Wojciechowski M., Gasson P., Hughes C., & Wheeler E. 2003. Phylogeny of robinioid legumes (Fabaceae) revisited: Coursetia and Gliricidia recircumscribed, and a biogeographical appraisal of the Caribbean endemics. Systematic Botany, 28(2): 387-409.\n",
      "http://dx.doi.org/10.1043/0363-6445-28.2.387\n",
      "\n",
      "https://tree.opentreeoflife.org/curator/study/view/pg_264?tab=trees&tree=tree150\n",
      "Paganucci de queiroz L., & Lavin M. 2011. Coursetia (Leguminosae) From Eastern Brazil: Nuclear Ribosomal and Chloroplast DNA Sequence Analysis reveal the Monophyly of Three Caatinga-inhabiting Species. Systematic Botany, 36(1): 69-79\n",
      "http://dx.doi.org/10.1600/036364411X553144\n",
      "\n",
      "https://tree.opentreeoflife.org/curator/study/view/pg_154?tab=trees&tree=tree782\n",
      "Brown, G. K., Murphy, D. J., & Ladiges, P. Y. (2011). Relationships of the Australo‐Malesian genus Paraserianthes (Mimosoideae: Leguminosae) identifies the sister group of Acacia sensu stricto and two biogeographical tracks. Cladistics, 27(4), 380-390.\n",
      "http://dx.doi.org/10.1111/j.1096-0031.2011.00349\n",
      "\n",
      "https://tree.opentreeoflife.org/curator/study/view/pg_270?tab=trees&tree=tree159\n",
      "Schrire, B. D. [et al. 2009], Lavin, M., Barker, N. P., & Forest, F. 2009. Phylogeny of the tribe Indigofereae (Leguminosae-Papilionoideae): Geographically structured more in succulent-rich and temperate settings than in grass-rich environments. American J. Bot. 96: 816-852.\n",
      "http://dx.doi.org/10.3732/ajb.0800185\n",
      "\n",
      "https://tree.opentreeoflife.org/curator/study/view/pg_592?tab=trees&tree=tree888\n",
      "Hu M., Lavin M., Wojciechowski M., & Sanderson M. 2002. Phylogenetic analysis of nuclear ribosomal ITS/5.8 S sequences in the tribe Millettieae (Fabaceae): Poecilanthe-Cyclolobium, the core Millettieae, and the Callerya group. Systematic Botany, 27: 722-733.\n",
      "http://dx.doi.org/10.1043/0363-6445-27.4.722\n",
      "\n",
      "https://tree.opentreeoflife.org/curator/study/view/pg_596?tab=trees&tree=tree901\n",
      "Percy D., & Cronk Q. 2002. Different fates of island brooms: contrasting evolution in Adenocarpus, Genista and Teline (Genisteae, Leguminosae) in the Canary Islands and Madeira. American Journal of Botany, 89: 854-864.\n",
      "http://dx.doi.org/10.3732/ajb.89.5.854\n",
      "\n",
      "https://tree.opentreeoflife.org/curator/study/view/pg_197?tab=trees&tree=tree784\n",
      "Delgado-Salinas, A., Bibler, R., & Lavin, M. (2006). Phylogeny of the genus Phaseolus (Leguminosae): a recent diversification in an ancient landscape. Systematic Botany, 31(4), 779-791.\n",
      "http://dx.doi.org/10.1600/036364406779695960\n",
      "\n",
      "https://tree.opentreeoflife.org/curator/study/view/pg_548?tab=trees&tree=tree798\n",
      "A. Delgado-Salinas, M. Thulin, R. Pasquet, N. Weeden, M. Lavin. 2011. Vigna (Leguminosae) sensu lato: The names and identities of the American segregate genera. American Journal of Botany 98(10):1694-1715.\n",
      "http://dx.doi.org/10.3732/ajb.1100069\n",
      "\n",
      "https://tree.opentreeoflife.org/curator/study/view/ot_1318?tab=trees&tree=tree1\n",
      "Rowan J. Schley, Manuel de la Estrella, Oscar Alejandro Pérez-Escobar, Anne Bruneau, Timothy Barraclough, Félix Forest, Bente Klitgård, 2018, 'Is Amazonia a ‘museum’ for Neotropical trees? The evolution of the Brownea clade (Detarioideae, Leguminosae)', Molecular Phylogenetics and Evolution, vol. 126, pp. 279-292\n",
      "http://dx.doi.org/10.1016/j.ympev.2018.04.029\n",
      "\n",
      "https://tree.opentreeoflife.org/curator/study/view/pg_294?tab=trees&tree=tree202\n",
      "Redden, K. M. [et al. 2010], Herendeen, P. S., Wurdack, K. J., & Bruneau, A. 2010. Phylogenetic relationships of the northeatern South American Brownea clade of tribe Detarieae (Leguminosae: Caesalpinioideae) based on morphology and molecular data. Syst. Bot. 35: 524-533.\n",
      "http://dx.doi.org/10.1600/036364410792495863\n",
      "\n",
      "https://tree.opentreeoflife.org/curator/study/view/pg_259?tab=trees&tree=tree142\n",
      "Fritsch, P. W., & Cruz, B. C. (2012). Phylogeny of Cercis based on DNA sequences of nuclear ITS and four plastid regions: Implications for transatlantic historical biogeography. Molecular Phylogenetics and Evolution, 62(3), 816-825.\n",
      "http://dx.doi.org/10.1016/j.ympev.2011.11.016\n",
      "\n",
      "https://tree.opentreeoflife.org/curator/study/view/pg_292?tab=trees&tree=tree199\n",
      "Sede, S. M., Tosto, D., Talia, P., Luckow, M., Poggio, L., & Fortunato, R. (2009). Phylogenetic relationships among southern South American species of Camptosema, Galactia and Collaea (Diocleinae: Papilionoideae: Leguminosae) on the basis of molecular and morphological data. Australian Journal of Botany, 57(1), 76-86.\n",
      "http://dx.doi.org/10.1071/BT08091\n",
      "\n",
      "https://tree.opentreeoflife.org/curator/study/view/ot_1229?tab=trees&tree=tree1\n",
      "Joseph T. Miller, Vanessa Terra, Chance Riggins, John E. Ebinger, David S. Seigler, 2017, 'Molecular Phylogenetics of Parasenegalia and Pseudosenegalia (Fabaceae: Mimosoideae)', Systematic Botany, vol. 42, no. 3, pp. 465-469\n",
      "http://dx.doi.org/10.1600/036364417x696140\n",
      "\n",
      "https://tree.opentreeoflife.org/curator/study/view/pg_595?tab=trees&tree=tree896\n",
      "Marazzi B., & Sanderson M.J. 2010. Large-Scale Patterns of Diversification in the Widespread Legume Genus Senna and the Evolutionary Role of Extrafloral Nectaries. Evolution, 64(12): 3570-3592.\n",
      "http://dx.doi.org/10.1111/j.1558-5646.2010.01086.x\n",
      "\n",
      "https://tree.opentreeoflife.org/curator/study/view/pg_2077?tab=trees&tree=tree4291\n",
      "Schutte-Vlok, A. L., & Wyk, B. E. V. (2011). A Taxonomic Revision of Podalyria (Fabaceae). Systematic Botany, 36(3), 631-660.\n",
      "http://dx.doi.org/10.1600/036364411X583628\n",
      "\n",
      "https://tree.opentreeoflife.org/curator/study/view/pg_1864?tab=trees&tree=tree3763\n",
      "C. Bessega, and R. H. Fortunato. 2010. Section Mimadenia: its phylogenetic relationships within the genus Mimosa (Leguminosae, Mimosoideae) using plastid trnL–F sequence data. Australian Systematic Botany. 24: 104–110.\n",
      "http://dx.doi.org/10.1071/SB10022\n",
      "\n",
      "https://tree.opentreeoflife.org/curator/study/view/pg_2127?tab=trees&tree=tree4426\n",
      "Cardoso D.B., Queiroz L.P., Cavalcante de lima H., Suganuma E., Van den berg C., & Lavin M. 2013. A molecular phylogeny of the Vataireoid legumes underscores floral evolvability that is general to many early-branching papilionoid lineages. American Journal of Botany, 100(2): 403-421.\n",
      "http://dx.doi.org/10.3732/ajb.1200276\n",
      "\n"
     ]
    }
   ],
   "source": [
    "#These are the citations used to build the synth tree\n",
    "print(cites)"
   ]
  },
  {
   "cell_type": "code",
   "execution_count": 28,
   "metadata": {},
   "outputs": [],
   "source": [
    "# Get all the studies that have trees conataining Fabacea\n",
    "phylesystem_studies_resp = OT.find_trees(\"560323\", search_property ='ot:ottId')"
   ]
  },
  {
   "cell_type": "code",
   "execution_count": 29,
   "metadata": {},
   "outputs": [],
   "source": [
    "studies_in_synth = [treeid.split('@')[0] for treeid in studies]"
   ]
  },
  {
   "cell_type": "code",
   "execution_count": 30,
   "metadata": {},
   "outputs": [],
   "source": [
    "#Studies in phylesystem but not in synth"
   ]
  },
  {
   "cell_type": "code",
   "execution_count": 31,
   "metadata": {},
   "outputs": [],
   "source": [
    "phylesystem_only_studies = set()\n",
    "for study in phylesystem_studies_resp.response_dict['matched_studies']:\n",
    "    study_id = study['ot:studyId']\n",
    "    if study_id not in studies_in_synth:\n",
    "        phylesystem_only_studies.add(study_id)"
   ]
  },
  {
   "cell_type": "code",
   "execution_count": 32,
   "metadata": {},
   "outputs": [
    {
     "data": {
      "text/plain": [
       "88"
      ]
     },
     "execution_count": 32,
     "metadata": {},
     "output_type": "execute_result"
    }
   ],
   "source": [
    "len(phylesystem_only_studies)"
   ]
  },
  {
   "cell_type": "code",
   "execution_count": 33,
   "metadata": {},
   "outputs": [],
   "source": [
    "cites_phyl = OT.get_citations(phylesystem_only_studies) #this can be a bit slow"
   ]
  },
  {
   "cell_type": "code",
   "execution_count": 34,
   "metadata": {},
   "outputs": [
    {
     "name": "stdout",
     "output_type": "stream",
     "text": [
      "https://tree.opentreeoflife.org/curator/study/view/ot_1826\n",
      "Luckow M., Fortunato R., Sede S., & Livshultz T. 2005. The phylogenetic affinities of two mysterious monotypic mimosoids from southern South America. Systematic Botany, null.\n",
      "http://dx.doi.org/10.1600/0363644054782206\n",
      "\n",
      "https://tree.opentreeoflife.org/curator/study/view/pg_222\n",
      "TestFakeCitation, Chris Baron,\n",
      "\n",
      "\n",
      "https://tree.opentreeoflife.org/curator/study/view/pg_17\n",
      "Burleigh, J. Gordon, Khidir W. Hilu, and Douglas E. Soltis. 2009. Inferring phylogenies with incomplete data sets: a 5-gene, 567-taxon analysis of angiosperms. BMC Evolutionary Biology 9 (January): 1-11.\n",
      "http://dx.doi.org/10.1186/1471-2148-9-61\n",
      "\n",
      "https://tree.opentreeoflife.org/curator/study/view/pg_626\n",
      "Nickrent, D., Blarer, A., Qiu, Y. L., Vidal-Russell, R., & Anderson, F. (2004). Phylogenetic inference in Rafflesiales: the influence of rate heterogeneity and horizontal gene transfer. BMC Evolutionary Biology, 4(1), 40.\n",
      "http://dx.doi.org/10.1186/1471-2148-4-40\n",
      "\n",
      "https://tree.opentreeoflife.org/curator/study/view/ot_97\n",
      "Yoshiyuki Ishitani, Sohta A. Ishikawa, Yuji Inagaki, Masashi Tsuchiya, Kozo Takahashi, Kiyotaka Takishita, 2011, 'Multigene phylogenetic analyses including diverse radiolarian species support the “Retaria” hypothesis — The sister relationship of Radiolaria and Foraminifera', Marine Micropaleontology, vol. 81, no. 1-2, pp. 32-42\n",
      "http://dx.doi.org/10.1016/j.marmicro.2011.06.007\n",
      "\n",
      "https://tree.opentreeoflife.org/curator/study/view/pg_1911\n",
      "Persson, C. 2001. Phylogenetic relationships in Polygalaceae based on plastid DNA sequences from the trnL-F region. Taxon 50: 763-779.\n",
      "http://dx.doi.org/10.2307/1223706\n",
      "\n",
      "https://tree.opentreeoflife.org/curator/study/view/pg_44\n",
      "Zhang, L.-B., [et al. 2007], Simmons, M. P., & Renner, S. S. 2007. A phylogeny of Anisophylleaceae based on six nuclear and plastid loci: Ancient disjunctions and recent dispersal between South America, Africa, and Asia. Mol. Phyl. Evol. 44: 1057-1067.\n",
      "http://dx.doi.org/10.1016/j.ympev.2007.03.002\n",
      "\n",
      "https://tree.opentreeoflife.org/curator/study/view/pg_163\n",
      "Oh, S. H., & Potter, D. (2006). Description Aand Phylogenetic Position of a New Angiosperm Family, Guamatelaceae, Inferred from Chloroplast rbcL, atpB, and matK Sequences. Systematic Botany, 31(4), 730-738.\n",
      "http://dx.doi.org/10.1600/036364406779695889\n",
      "\n",
      "https://tree.opentreeoflife.org/curator/study/view/pg_2414\n",
      "Freitas T., Hou S., Dioum E., Salto J., Newhouse J., Gonzalez G., Gilles-gonzalez M., and Alam M. 2004. Ancestral hemoglobins in Archaea. Proceedings of the National Academy of Sciences of the United States of America 101 (17): 6675-6680.\n",
      "http://dx.doi.org/10.1073/pnas.0308657101\n",
      "\n",
      "https://tree.opentreeoflife.org/curator/study/view/pg_19\n",
      "Marx, H. E., O’Leary, N., Yuan, Y. W., Lu-Irving, P., Tank, D. C., Múlgura, M. E., & Olmstead, R. G. (2010). A molecular phylogeny and classification of Verbenaceae. American Journal of Botany, 97(10), 1647-1663.\n",
      "http://dx.doi.org/10.3732/ajb.1000144\n",
      "\n",
      "https://tree.opentreeoflife.org/curator/study/view/ot_1012\n",
      "Dexter, Kyle, Jérôme Chave. 2016. Evolutionary patterns of range size, abundance and species richness in Amazonian angiosperm trees. PeerJ 4: e2402\n",
      "http://dx.doi.org/10.7717/peerj.2402\n",
      "\n",
      "https://tree.opentreeoflife.org/curator/study/view/pg_2026\n",
      "Arakaki M., Christin P., Nyffeler R., Lendel A., Eggli U., Ogburn R., Spriggs E.,\r\n",
      "Moore M.J., & Edwards E.J. 2011. Contemporaneous and recent radiations of the world?s\r\n",
      "major succulent plant lineages. PNAS, 108(20): 8379-8384.\n",
      "http://dx.doi.org/10.1073/pnas.1100628108\n",
      "\n",
      "https://tree.opentreeoflife.org/curator/study/view/pg_1922\n",
      "Kress W. 1995. \"Phylogeny of the Zingiberanae: morphology and molecules.\" In: Rudall P., Cribb P., Cutler D., & Humphries C., eds. Monocotyledons: systematics and evolution. pp. 443-460. Kew, Royal Botanic Gardens.\n",
      "\n",
      "\n",
      "https://tree.opentreeoflife.org/curator/study/view/pg_71\n",
      "Ruhfel B.R., Bittrich V., Bove C., Gustafsson M., Philbrick C., Rutishauser R., Xi Z., & Davis C. 2011. Phylogeny of the Clusioid Clade (Malpighiales): Evidence From the Plastid and Mitochondrial Genomes. American Journal of Botany. 98: 306-325.\n",
      "http://dx.doi.org/10.3732/ajb.1000354\n",
      "\n",
      "https://tree.opentreeoflife.org/curator/study/view/pg_1260\n",
      "McDonald, T. R., Dietrich, F. S., & Lutzoni, F. (2012). Multiple horizontal gene transfers of ammonium transporters/ammonia permeases from prokaryotes to eukaryotes: toward a new functional and evolutionary classification. Molecular biology and evolution, 29(1), 51-60.\n",
      "http://dx.doi.org/10.1093/molbev/msr123\n",
      "\n",
      "https://tree.opentreeoflife.org/curator/study/view/ot_1360\n",
      "Pascual B., El-azaz J., De la torre F., Canas R.A., Avila C., & Canovas F.M. 2016. Biosynthesis and metabolic fate of phenylalanine in conifers. Frontiers in Plant Science, 7: 1030.\n",
      "http://dx.doi.org/10.3389/fpls.2016.01030\n",
      "\n",
      "https://tree.opentreeoflife.org/curator/study/view/ot_1883\n",
      "Gagnon E., Hughes C.E., Lewis G.P., & Bruneau A. 2014. A new cryptic species in a new cryptic genus in the Caesalpinia group (Leguminosae) from the seasonally dry inter-Andean valleys of South America. Taxon, .\n",
      "\n",
      "\n",
      "https://tree.opentreeoflife.org/curator/study/view/ot_1882\n",
      "Evolutionary and taxonomic relationships of Acacia s.l. (Leguminosae: Mimosoideae), Joseph T. Miller,David Seigler, 2012, ', Australian Systematic Botany, vol. 25, no. 3, p. 217\n",
      "http://dx.doi.org/10.1071/sb11042\n",
      "\n",
      "https://tree.opentreeoflife.org/curator/study/view/pg_271\n",
      "Forest, F., Chase, M. W., Persson, C., Crane, P. R., & Hawkins, J. A. (2007). The role of biotic and abiotic factors in evolution of ant dispersal in the milkwort family (Polygalaceae). Evolution, 61(7), 1675-1694.\n",
      "http://dx.doi.org/10.1111/j.1558-5646.2007.00138\n",
      "\n",
      "https://tree.opentreeoflife.org/curator/study/view/pg_230\n",
      "Savolainen, V., Fay, M. F., Albach, D. C., Backlund, A., van der Bank, M., Cameron, K. M., Johnson, S. A., Lledó, M. D., Pintaud, J.-C., Powell, M., Sheahan, M. C., Soltis, D. E., Soltis, P. S., Weston, P., Whitten, W. M., Wurdack, K. J., & Chase, M. W. 2000. Phylogeny of the eudicots: A nearly complete familial analysis based on rbcL gene sequences.Kew Bull. 55: 257-309.\n",
      "http://dx.doi.org/10.2307/4115644\n",
      "\n",
      "https://tree.opentreeoflife.org/curator/study/view/pg_438\n",
      "Goloboff, Pablo A., Santiago A. Catalano, J. Marcos Mirande, Claudia A. Szumik,\r\n",
      "J. Salvador Arias, Mari Kallersjo, and James S. Farris. 2009. Phylogenetic analysis of 73 060 taxa corroborates major eukaryotic groups. Cladistics 25 (3): 211–230.\n",
      "http://dx.doi.org/10.1111/j.1096-0031.2009.00255.x\n",
      "\n",
      "https://tree.opentreeoflife.org/curator/study/view/pg_2430\n",
      "Qu, Xinshun, and Barbara J. Christ. \"Genetic variation and phylogeny ofSpongospora subterranea f. sp. subterranea based on ribosomal DNA sequence analysis.\" American Journal of Potato Research 81, no. 6 (2004): 385-394.\n",
      "http://dx.doi.org/10.1007/BF02870199\n",
      "\n",
      "https://tree.opentreeoflife.org/curator/study/view/pg_704\n",
      "Christin, P.-A., Sage, T. L., Edwards, E. J., gburn, R. M., Khoshravesh, R., & Sage, R. F. 2011. Complex evolutionary transitions and the significance of c(3)-c(4) intermediate forms of photosynthesis in Molluginaceae. Evolution 65: 643-660.\n",
      "http://dx.doi.org/10.1111/j.1558-5646.2010.01168.x\n",
      "\n",
      "https://tree.opentreeoflife.org/curator/study/view/ot_409\n",
      "Hedges, S. Blair, Julie Marin, Michael Suleski, Madeline Paymer, Sudhir Kumar. 2015. Tree of life reveals clock-like speciation and diversification. Molecular Biology and Evolution 32 (4): 835-845\n",
      "http://dx.doi.org/10.1093/molbev/msv037\n",
      "\n",
      "https://tree.opentreeoflife.org/curator/study/view/pg_137\n",
      "McDILL, J. R., & SIMPSON, B. B. (2011). Molecular phylogenetics of Linaceae with complete generic sampling and data from two plastid genes. Botanical Journal of the Linnean Society, 165(1), 64-83.\n",
      "http://dx.doi.org/10.1111/j.1095-8339.2010.01096.x\n",
      "\n",
      "https://tree.opentreeoflife.org/curator/study/view/pg_184\n",
      "Torke B., & Schaal B. 2008. Molecular phylogenetics of the species-rich neotropical genus Swartzia (Leguminosae-Papilionoideae) and related genera of the swartzioid clade. American Journal of Botany, 95(2): 215-228.\n",
      "http://dx.doi.org/10.3732/ajb.95.2.215\n",
      "\n",
      "https://tree.opentreeoflife.org/curator/study/view/pg_649\n",
      "De‐Nova, J. Arturo, Rosalinda Medina, Juan Carlos Montero, Andrea Weeks, Julieta A. Rosell, Mark E. Olson, Luis E. Eguiarte, and Susana Magallón. 2011. Insights into the historical construction of species‐rich Mesoamerican seasonally dry tropical forests: the diversification of Bursera (Burseraceae, Sapindales). New Phytologist 193 (1): 276-287.\n",
      "http://dx.doi.org/10.1111/j.1469-8137.2011.03909.x\n",
      "\n",
      "https://tree.opentreeoflife.org/curator/study/view/ot_550\n",
      "Ravi K Singh, Klaus Gase, Ian T Baldwin, Shree P Pandey, 2015, 'Molecular evolution and diversification of the Argonaute family of proteins in plants', BMC Plant Biology, vol. 15, no. 1, p. 23\n",
      "http://dx.doi.org/10.1186/s12870-014-0364-6\n",
      "\n",
      "https://tree.opentreeoflife.org/curator/study/view/pg_1079\n",
      "Voigt, K., & Wostemeyer J. 2001. Phylogeny and origin of 82 zygomycetes from all 54 genera of the Mucorales and Mortierellales based on combined analysis of actin and translation elongation factor EF-1 alpha genes. Gene 270 (1-2): 113-120.\n",
      "http://dx.doi.org/10.1016/S0378-1119(01)00464-4\n",
      "\n",
      "https://tree.opentreeoflife.org/curator/study/view/ot_1489\n",
      "Miao Sun, Douglas E. Soltis, Pamela S. Soltis, Xinyu Zhu, J. Gordon Burleigh, Zhiduan Chen, 2015, 'Deep phylogenetic incongruence in the angiosperm clade Rosidae', Molecular Phylogenetics and Evolution, vol. 83, pp. 156-166\n",
      "http://dx.doi.org/10.1016/j.ympev.2014.11.003\n",
      "\n",
      "https://tree.opentreeoflife.org/curator/study/view/pg_15\n",
      "Wang, Hengchang, Michael J. Moore, Pamela S. Soltis, Charles D. Bell, Samuel F. Brockington, Roolse Alexandre, Charles C. Davis, Maribeth Latvis, Steven R. Manchester, and Douglas E. Soltis. 2009. Rosid radiation and the rapid rise of angiosperm-dominated forests. Proceedings of the National Academy of Sciences 106, no. 10 (March 10): 3853 -3858. doi:10.1073/pnas.0813376106.\n",
      "http://dx.doi.org/10.1073/pnas.0813376106\n",
      "\n",
      "https://tree.opentreeoflife.org/curator/study/view/pg_1038\n",
      "Ito M., & Takamatsu S. 2010. Molecular phylogeny and evolution of subsection Magnicellulatae (Erysiphaceae: Podosphaera) with special reference to host plants. Mycoscience, 51(1): 34-43.\n",
      "http://dx.doi.org/10.1007/s10267-009-0005-3\n",
      "\n",
      "https://tree.opentreeoflife.org/curator/study/view/pg_10\n",
      "Jansen, Robert K., Zhengqiu Cai, Linda A. Raubeson, Henry Daniell, Claude W. dePamphilis, James Leebens-Mack, Kai F. Müller, et al. 2007. Analysis of 81 genes from 64 plastid genomes resolves relationships in angiosperms and identifies genome-scale evolutionary patterns. Proceedings of the National Academy of Sciences 104, no. 49 (December 4): 19369 -19374. doi:10.1073/pnas.0709121104.\n",
      "http://dx.doi.org/10.1073/pnas.0709121104\n",
      "\n",
      "https://tree.opentreeoflife.org/curator/study/view/pg_12\n",
      "Moore, Michael J., Charles D. Bell, Pamela S. Soltis, and Douglas E. Soltis. 2007. Using plastid genome-scale data to resolve enigmatic relationships among basal angiosperms. Proceedings of the National Academy of Sciences 104, no. 49 (December 4): 19363 -19368. doi:10.1073/pnas.0708072104.\n",
      "http://dx.doi.org/10.1073/pnas.0708072104\n",
      "\n",
      "https://tree.opentreeoflife.org/curator/study/view/pg_283\n",
      "Zhang, L. B., & Simmons, M. P. (2006). Phylogeny and delimitation of the Celastrales inferred from nuclear and plastid genes. Systematic Botany, 31(1), 122-137.\n",
      "http://dx.doi.org/10.1600/036364406775971778\n",
      "\n",
      "https://tree.opentreeoflife.org/curator/study/view/pg_1485\n",
      "Bremer K. 1988. The limits of amino acid sequence data in angiosperm phylogenetic reconstruction. Evolution, 42: 795-803\n",
      "http://dx.doi.org/10.2307/2408870\n",
      "\n",
      "https://tree.opentreeoflife.org/curator/study/view/pg_228\n",
      "Leebens-Mack, J., Raubeson, L. A., Cui, L., Kuehl, J. V., Fourcade, M. H., Chumley, T. W., Boore, J. L., Jansen, R. K., & dePamphilis, C. W. 2005. Identifying the basal angiosperm node in chloroplast genome phylogenies: Sampling one's way out of the Felsenstein zone. Mol. Biol. Evol. 22: 1948-1963\n",
      "http://dx.doi.org/10.1093/molbev/msi191\n",
      "\n",
      "https://tree.opentreeoflife.org/curator/study/view/ot_1829\n",
      "Babineau M., & Bruneau A. 2016. Phylogeny and Biogeography of the Afro-Madagascan Genera Delonix, Colvillea and Lemuropisum (Leguminosae: Caesalpinioideae). Botanical Journal of the Linnaean Society, .\n",
      "\n",
      "\n",
      "https://tree.opentreeoflife.org/curator/study/view/pg_1261\n",
      "Nishiyama T., Wolf P.G., Kugita M., Sinclair R.B., Sugita M., Sugiura C., Wakasugi\r\n",
      "T., Yamada K., Yoshinaga K., Yamaguchi K., Ueda K., & Hasebe M. 2004. Chloroplast\r\n",
      "Phylogeny Indicates that Bryophytes are Monophyletic. Molecular Biology and\r\n",
      "Evolution, 21(10): 1813-1819.\n",
      "http://dx.doi.org/10.1093/molbev/msh203\n",
      "\n",
      "https://tree.opentreeoflife.org/curator/study/view/pg_536\n",
      "Li-Bing Zhang, Mark P. Simmons, Alexander Kocyan, Susanne S. Renner. 2006. Phylogeny of the Cucurbitales based on DNA sequences of nine loci from three genomes: Implications for morphological and sexual system evolution. Molecular Phylogenetics and Evolution 39(2):305-322.\n",
      "http://dx.doi.org/10.1016/j.ympev.2005.10.002\n",
      "\n",
      "https://tree.opentreeoflife.org/curator/study/view/pg_266\n",
      "Lavin, M. [et al. 2005], Herendeen, P. S., & Wojciechowski, M. F. 2005. Evolutionary rates analysis of Leguminosae implicates a rapid diversification of lineages during the Tertiary emergence. Syst. Biol. 54: 575-594\n",
      "http://dx.doi.org/10.1080/10635150590947131\n",
      "\n",
      "https://tree.opentreeoflife.org/curator/study/view/pg_170\n",
      "Crisp M., & Pfeil B. 2009. The age and biogeography of Citrus and the orange subfamily (Rutaceae: Aurantioideae) in Australasia and New Caledonia. American Journal of Botany,  95(12), 1621-1631.\n",
      "\n",
      "\n",
      "https://tree.opentreeoflife.org/curator/study/view/pg_233\n",
      "Finet, C., Timme, R. E., Delwiche, C. F., & Mariétaz, F. 2010. Multigene phylogeny of the green lineage reveals the origin and diversification of land plants. Curr. Biol. 20: 2217-2222.\n",
      "http://dx.doi.org/10.1016/j.cub.2010.11.035\n",
      "\n",
      "https://tree.opentreeoflife.org/curator/study/view/pg_1451\n",
      "An S., Mpps B., Weber K., & Bhattacharya D. 1999. The origin and evolution of green algal and plant actins. Molecular Biology and Evolution, 16: 275-285.\n",
      "http://dx.doi.org/10.1093/oxfordjournals.molbev.a026109\n",
      "\n",
      "https://tree.opentreeoflife.org/curator/study/view/pg_562\n",
      "Givnish, Thomas J., Mercedes Ames, Joel R. McNeal, Michael R. McKain, P. Roxanne Steele, Claude W. dePamphilis, Sean W. Graham, J. Chris Pires, Dennis W. Stevenson, Wendy B. Zomlefer, Barbara G. Briggs, Melvin R. Duvall, Michael J. Moore, J. Michael Heaney, Douglas E. Soltis, Pamela S. Soltis, Kevin Thiele, James H. Leebens-Mack. 2010. Assembling the Tree of the Monocotyledons: Plastome Sequence Phylogeny and Evolution of Poales 1. Annals of the Missouri Botanical Garden 97 (4): 584-616\n",
      "http://dx.doi.org/10.3417/2010023\n",
      "\n",
      "https://tree.opentreeoflife.org/curator/study/view/ot_274\n",
      "Mcdonald T.R., Dietrich F., & Lutzoni F. 2011. Multiple horizontal gene transfers of ammonium transporters/ammonia permeases from prokaryotes to eukaryotes: toward a new functional and evolutionary classification. Molecular Biology and Evolution, .\n",
      "\n",
      "\n",
      "https://tree.opentreeoflife.org/curator/study/view/ot_485\n",
      "Beaulieu, Jeremy M., Brian C. O'Meara, Peter Crane, Michael J. Donoghue. 2015. Heterogeneous rates of molecular evolution and diversification could explain the Triassic age estimate for Angiosperms. Systematic Biology 64 (5): 869-878\n",
      "http://dx.doi.org/10.1093/sysbio/syv027\n",
      "\n",
      "https://tree.opentreeoflife.org/curator/study/view/pg_998\n",
      "Bello, M. A., Rudall, P. J., & Hawkins, J. A. (2012). Combined phylogenetic analyses reveal interfamilial relationships and patterns of floral evolution in the eudicot order Fabales. Cladistics. 28: 393–421.\n",
      "http://dx.doi.org/10.1111/j.1096-0031.2012.00392.x\n",
      "\n",
      "https://tree.opentreeoflife.org/curator/study/view/pg_1135\n",
      "Yoo, M. J., Albert, V. A., Soltis, P. S., & Soltis, D. E. (2006). Phylogenetic diversification of glycogen synthase kinase 3/SHAGGY-like kinase genes in plants. BMC plant biology, 6(1), 3.\n",
      "http://dx.doi.org/10.1186/1471-2229-6-3\n",
      "\n",
      "https://tree.opentreeoflife.org/curator/study/view/pg_1860\n",
      "Scherson, R. A. [et al. 2008], Vidal, R., & Sanderson, M. J. 2008. Phylogeny, biogeography and rates of diversification of New World Astragalus (Leguminosae) with an emphasis on South American radiations. American J. Bot. 95: 1030-1039.\n",
      "http://dx.doi.org/10.3732/ajb.0800017\n",
      "\n",
      "https://tree.opentreeoflife.org/curator/study/view/pg_1356\n",
      "Omar F., Schneider H., Heinrichs J., & Savolainen V. 2011. Diversification of land plants: insights from a family-level phylogenetic analysis. BMC Evolutionary Biology, 11: 341.\n",
      "http://dx.doi.org/10.1186/1471-2148-11-341\n",
      "\n",
      "https://tree.opentreeoflife.org/curator/study/view/pg_265\n",
      "Bello, M. A., Bruneau, A., Forest, F., & Hawkins, J. A. (2009). Elusive Relationships Within Order Fabales: Phylogenetic Analyses Using matK and rbcL Sequence Data1. Systematic Botany, 34(1), 102-114.\n",
      "http://dx.doi.org/10.1600/036364409787602348\n",
      "\n",
      "https://tree.opentreeoflife.org/curator/study/view/pg_537\n",
      "Bena G. 2001. Molecular phylogeny supports the morphological based taxonomic transfer of the medicagoid Trigonella species to the genus Medicago L. Plant Systematics and Evolution, 88(12): 2168-2179.\n",
      "http://dx.doi.org/10.1007/s006060170012\n",
      "\n",
      "https://tree.opentreeoflife.org/curator/study/view/pg_28\n",
      "Bell, Charles D., Douglas E. Soltis, and Pamela S. Soltis. 2010. The age and diversification of the angiosperms re-revisited. Am. J. Bot. 97, no. 8 (August 1): 1296-1303. doi:10.3732/ajb.0900346.\n",
      "http://dx.doi.org/10.3732/ajb.0900346\n",
      "\n",
      "https://tree.opentreeoflife.org/curator/study/view/pg_229\n",
      "Savolainen, V., M. W. Chase, C. M. Morton, D. E. Soltis, C. Bayer, M. F. Fay, A. De Bruijn, S. Sullivan, and Y.-L. Qiu. 2000. Phylogenetics of flowering plants based upon a combined analysis of plastid atpB and rbcL gene sequences. Systematic Biology 49: 306-362\n",
      "http://dx.doi.org/10.1080/10635159950173861\n",
      "\n",
      "https://tree.opentreeoflife.org/curator/study/view/pg_268\n",
      "Duno de stefano R., Carnevali fernández-concha G., Lorena can-itza L., & Lavin M. 2010. The Morphological and Phylogenetic Distinctions of Coursetia greenmanii (Leguminosae): Taxonomic and Ecological Implications. Systematic Botany, 35(2): 286-295.\n",
      "http://dx.doi.org/10.1600/036364410791638360\n",
      "\n",
      "https://tree.opentreeoflife.org/curator/study/view/pg_2011\n",
      "Davis C., Miller-rushing A., Primack R., Ruhfel B., Willis C., Primack B. 2008. Phylogenetic patterns of species loss in Thoreau's woods are driven by climate change. Proceedings of the National Academy of Sciences of the United States of America, 105: 17029-17033.\n",
      "http://dx.doi.org/10.1073/pnas.0806446105\n",
      "\n",
      "https://tree.opentreeoflife.org/curator/study/view/ot_1493\n",
      "Percy D., Cronk Q., & Page R. 2004. Plant-insect interactions: double-dating associated insect and plant lineages reveals asynchronous radiations. Systematic Biology, 53(1): 120-127.\n",
      "http://dx.doi.org/10.1080/10635150490264996\n",
      "\n",
      "https://tree.opentreeoflife.org/curator/study/view/pg_1639\n",
      "Voigt, K., & Wstemeyer J. 2000. Reliable amplification of actin genes facilitates deep-level phylogeny. Microbiological Research 155 (3): 179-195.\n",
      "http://dx.doi.org/10.1016/S0944-5013(00)80031-2\n",
      "\n",
      "https://tree.opentreeoflife.org/curator/study/view/pg_2610\n",
      "Xi, Z., Ruhfel, B. R., Schaefer, H., Amorim, A. M., Sugumaran, M., Wurdack, K. J., ... & Davis, C. C. (2012). Phylogenomics and a posteriori data partitioning resolve the Cretaceous angiosperm radiation Malpighiales. Proceedings of the National Academy of Sciences, 109(43), 17519-17524.\n",
      "http://dx.doi.org/10.1073/pnas.1205818109 \n",
      "\n",
      "https://tree.opentreeoflife.org/curator/study/view/pg_135\n",
      "Sede, S. M., Tosto, D., Talia, P., Luckow, M., Poggio, L., & Fortunato, R. (2009). Phylogenetic relationships among southern South American species of Camptosema, Galactia and Collaea (Diocleinae: Papilionoideae: Leguminosae) on the basis of molecular and morphological data. Australian Journal of Botany, 57(1), 76-86.\n",
      "http://dx.doi.org/10.1071/BT08091\n",
      "\n",
      "https://tree.opentreeoflife.org/curator/study/view/ot_1672\n",
      "Joseph T. Miller, Garry Jolley-Rogers, Brent D. Mishler, Andrew H. Thornhill, 2018, 'Phylogenetic diversity is a better measure of biodiversity than taxon counting', Journal of Systematics and Evolution\n",
      "http://dx.doi.org/10.1111/jse.12436\n",
      "\n",
      "https://tree.opentreeoflife.org/curator/study/view/ot_1880\n",
      "Fougère-danezan M., Maumont S., & Bruneau A. 2007. Relationships among resin-producing Detarieae s. lat. (Leguminosae) as inferred by molecular data. Systematic Botany, null.\n",
      "\n",
      "\n",
      "https://tree.opentreeoflife.org/curator/study/view/ot_1692\n",
      "Walter Durka, Stefan G. Michalski, 2012, 'Daphne: a dated phylogeny of a large European flora for phylogenetically informed ecological analyses', Ecology, vol. 93, no. 10, pp. 2297-2297\n",
      "http://dx.doi.org/10.1890/12-0743.1\n",
      "\n",
      "https://tree.opentreeoflife.org/curator/study/view/pg_272\n",
      "Hu J., Lavin M., Wojciechowski M., & Sanderson M. 2000. Phylogenetic systematics\r\n",
      "of the tribe Millettieae (Leguminosae) base on chloroplast trnK/matK sequences and\r\n",
      "its implications for evolutionary patterns in Papilionoideae. American Journal\r\n",
      "of Botany, 87(3): 418-430.\n",
      "http://dx.doi.org/10.2307/2656638\n",
      "\n",
      "https://tree.opentreeoflife.org/curator/study/view/pg_1276\n",
      "Yang, Y., Maruyama, S., Sekimoto, H., Sakayama, H., & Nozaki, H. (2011). An extended phylogenetic analysis reveals ancient origin of \"non-green\" phosphoribulokinase genes from two lineages of \"green\" secondary photosynthetic eukaryotes: Euglenophyta and Chlorarachniophyta. BMC Research Notes 4 (1): 330.\n",
      "http://dx.doi.org/10.1186/1756-0500-4-330\n",
      "\n",
      "https://tree.opentreeoflife.org/curator/study/view/ot_1827\n",
      "Archambault A., & Bruneau A. 2004. Phylogenetic utility of the LEAFY/FLORICAULA gene in the Caesalpinioideae (Leguminosae): Gene duplication and a novel insertion. Systematic Botany, 29(3): 609-626.\n",
      "http://dx.doi.org/10.1600/0363644041744374\n",
      "\n",
      "https://tree.opentreeoflife.org/curator/study/view/pg_112\n",
      "Zhang, M. L., Uhink, C. H., & Kadereit, J. W. (2007). Phylogeny and biogeography of Epimedium/Vancouveria (Berberidaceae): Western North American-East Asian disjunctions, the origin of European mountain plant taxa, and East Asian species diversity. Systematic botany, 32(1), 81-92.\n",
      "http://dx.doi.org/10.1600/036364407780360265\n",
      "\n",
      "https://tree.opentreeoflife.org/curator/study/view/pg_13\n",
      "Moore, Michael J., Pamela S. Soltis, Charles D. Bell, J. Gordon Burleigh, and Douglas E. Soltis. 2010. Phylogenetic analysis of 83 plastid genes further resolves the early diversification of eudicots. Proceedings of the National Academy of Sciences 107, no. 10 (March 9): 4623 -4628. doi:10.1073/pnas.0907801107.\n",
      "http://dx.doi.org/10.1073/pnas.0907801107\n",
      "\n",
      "https://tree.opentreeoflife.org/curator/study/view/pg_25\n",
      "Qiu, Yin-Long, Libo Li, Bin Wang, Jia-Yu Xue, Tory A. Hendry, Rui-Qi Li, Joseph W. Brown, Yang Liu, Geordan T. Hudson, and Zhi-Duan Chen. 2010. Angiosperm phylogeny inferred from sequences of four mitochondrial genes. Journal of Systematics and Evolution 48, no. 6 (11): 391-425.\n",
      "http://dx.doi.org/10.1111/j.1759-6831.2010.00097.x\n",
      "\n",
      "https://tree.opentreeoflife.org/curator/study/view/pg_227\n",
      "Smith SA, Beaulieu JM, Stamatakis A, Donoghue MJ (2011) Understanding angiosperm diversification using small and large phylogenetic trees. American Journal of Botany 98(3): 404-414\n",
      "http://dx.doi.org/10.3732/ajb.1000481\n",
      "\n",
      "https://tree.opentreeoflife.org/curator/study/view/ot_892\n",
      "Harris, Liam W., T. Jonathan Davies. 2016. A Complete Fossil-Calibrated Phylogeny of Seed Plant Families as a Tool for Comparative Analyses: Testing the ‘Time for Speciation’ Hypothesis. PLoS ONE 11 (10): e0162907\n",
      "http://dx.doi.org/10.1371/journal.pone.0162907\n",
      "\n",
      "https://tree.opentreeoflife.org/curator/study/view/pg_16\n",
      "Wurdack, Kenneth J., and Charles C. Davis. 2009. Malpighiales phylogenetics: Gaining ground on one of the most recalcitrant clades in the angiosperm tree of life. Am. J. Bot. 96, no. 8 (August 1): 1551-1570.\n",
      "http://dx.doi.org/10.3732/ajb.0800207\n",
      "\n",
      "https://tree.opentreeoflife.org/curator/study/view/pg_2821\n",
      "Drew BT, Ruhfel BR, Smith SA, Moore MJ, Briggs BG, Gitzendanner MA, Soltis PS, Soltis DE (2014) Another look at the root of the angiosperms reveals a familiar tale. Systematic Biology\n",
      "http://dx.doi.org/10.1093/sysbio/syt108\n",
      "\n",
      "https://tree.opentreeoflife.org/curator/study/view/pg_1487\n",
      "Donoghue M., & Mathews S. 1998. Duplicate genes and the root of the angiosperms, with an example using phytochrome sequences. Molecular Phylogenetics and Evolution, 9(3): 489-500.\n",
      "http://dx.doi.org/10.1006/mpev.1998.0511\n",
      "\n",
      "https://tree.opentreeoflife.org/curator/study/view/ot_2036\n",
      "Vasconcelos, T. N. C., Alcantara, S., Andrino, C. O., Forest, F., Reginato, M., Simon, M. F., & Pirani, J. R. (2020). Fast diversification through a mosaic of evolutionary histories characterizes the endemic flora of ancient Neotropical mountains. Proceedings of the Royal Society B: Biological Sciences, 287(1923), 20192933. doi:10.1098/rspb.2019.2933\n",
      "\n",
      "http://dx.doi.org/10.1098/rspb.2019.2933\n",
      "\n",
      "https://tree.opentreeoflife.org/curator/study/view/ot_1688\n",
      "Jin-Hua Ran, Ting-Ting Shen, Ming-Ming Wang, Xiao-Quan Wang, 2018, 'Phylogenomics resolves the deep phylogeny of seed plants and indicates partial convergent or homoplastic evolution between Gnetales and angiosperms', Proceedings of the Royal Society B: Biological Sciences, vol. 285, no. 1881, p. 20181012\n",
      "http://dx.doi.org/10.1098/rspb.2018.1012\n",
      "\n",
      "https://tree.opentreeoflife.org/curator/study/view/ot_1881\n",
      "Vanessa Terra,Flávia C. P. Garcia,Luciano P. de Queiroz,Michelle van der Bank,Joseph T. Miller, 2017, 'Phylogenetic Relationships in Senegalia (Leguminosae-Mimosoideae) Emphasizing the South American Lineages', Systematic Botany, vol. 42, no. 3, pp. 458-464\n",
      "http://dx.doi.org/10.1600/036364417x696122\n",
      "\n",
      "https://tree.opentreeoflife.org/curator/study/view/pg_1961\n",
      "Davis C.C., Schaefer H., Xi Z., Baum D., Donoghue M., & Harmon L.J. 2012. Long-term morphological stasis maintained by a plant-pollinator mutualism. Proceedings of the National Academy of Sciences of the United States of America.,\n",
      "\n",
      "\n",
      "https://tree.opentreeoflife.org/curator/study/view/pg_2494\n",
      "Guo, L., Hyde K., & Liew E. 2001. Detection and taxonomic placement of endophytic fungi within frond tissues of Livistona chinensis based on rDNA sequences. Molecular Phylogenetics and Evolution 20 (1): 1-13.\n",
      "http://dx.doi.org/10.1006/mpev.2001.0942\n",
      "\n",
      "https://tree.opentreeoflife.org/curator/study/view/ot_1250\n",
      "James B. Pease, Joseph W. Brown, Joseph F. Walker, Cody E. Hinchliff, Stephen A. Smith, 2018, 'Quartet Sampling distinguishes lack of support from conflicting support in the green plant tree of life', American Journal of Botany\n",
      "http://dx.doi.org/10.1002/ajb2.1016\n",
      "\n",
      "https://tree.opentreeoflife.org/curator/study/view/pg_224\n",
      "Moore, M. J., Hassan, N, Gitzendanner, M. A., Bruenn, R. A., Croley, M., Vandeventer, A., Horn, J. W., Dhingra, A., Brockington, S. F., Latvis, M., Ramdial, J., Alexandre, R., Piedrahita, A., Xi, Z., Davis, C. C., Soltis, P. S., & Soltis, D. E. 2011. Phylogenetic analysis of the plastid inverted repeat for 244 species: Insights into deeper-level angiosperm relationships from a long, slowly evolving sequence region. Int. J. Plant Sci. 172: 541-558.\n",
      "http://dx.doi.org/10.1086/658923\n",
      "\n",
      "https://tree.opentreeoflife.org/curator/study/view/pg_613\n",
      "Sauquet H., Ho S.Y., Gandolfo M.A., Jordan G.J., Wilf P., Cantrill D.J., Bayly M.J., Bromham L., Brown G.K., Carpenter R.J., Lee D.M., Murphy D.J., Sniderman J.K., & Udovicic F. 2012. Testing the impact of calibration on molecular divergence times using a fossil-rich group: the case of Nothofagus (Fagales). Systematic Biology, 61(2): 289-313.\n",
      "http://dx.doi.org/10.1093/sysbio/syr116\n",
      "\n",
      "https://tree.opentreeoflife.org/curator/study/view/pg_27\n",
      "Bello, M. A., A. Bruneau, F. Forest, and J. A. Hawkins. 2009. Elusive Relationships Within Order Fabales: Phylogenetic Analyses Using matK and rbcL Sequence Data. Systematic Botany 34, no. 1 (3): 102-114. doi:10.1600/036364409787602348.\n",
      "http://dx.doi.org/10.1600/036364409787602348\n",
      "\n",
      "https://tree.opentreeoflife.org/curator/study/view/pg_138\n",
      "Simpson, B., Larkin, L., Weeks, A., & McDill, J. (2006). Phylogeny and biogeography of Pomaria (Caesalpinioideae: Leguminosae). Systematic botany, 31(4), 792-804.\n",
      "http://dx.doi.org/10.1600/036364406779695915\n",
      "\n",
      "https://tree.opentreeoflife.org/curator/study/view/pg_1133\n",
      "Zhang S., Soltis D., Li D., Yang Y., & Yi T. 2011. Multi-gene analysis provides a well-supported phylogeny of Rosales. Molecular Phylogenetics and Evolution, 60(1): 21-8.\n",
      "http://dx.doi.org/10.1016/j.ympev.2011.04.008\n",
      "\n",
      "https://tree.opentreeoflife.org/curator/study/view/pg_2666\n",
      "Cardoso D.B., Cavalcante de lima H., Sch?tz rodrigues R., Queiroz L.P., Pennington R., & Lavin M. 2012. The realignment of Acosmium sensu stricto with the Dalbergioid clade (Leguminosae, Papilionoideae) reveals a proneness for independent evolution of radial floral symmetry among early branching papilionoid legumes. Taxon, 61(5): 1057?1073.\n",
      "\n",
      "\n",
      "https://tree.opentreeoflife.org/curator/study/view/pg_2631\n",
      "Bruneau, A. [et al. 2008a], Mercure, M., Lewis, G. P., & Herendeen, P. S. 2008a. Phylogenetic patterns and diversification in the caesalpinioid legumes. Botany 86: 697-718.\n",
      "\n",
      "\n"
     ]
    }
   ],
   "source": [
    "print(cites_phyl)"
   ]
  },
  {
   "cell_type": "code",
   "execution_count": 35,
   "metadata": {},
   "outputs": [],
   "source": [
    "fi = open(\"curation_unfinished.txt\",\"w\")\n",
    "fi.write(cites_phyl)\n",
    "fi.close()"
   ]
  },
  {
   "cell_type": "code",
   "execution_count": 36,
   "metadata": {},
   "outputs": [
    {
     "data": {
      "text/plain": [
       "'fi=open(\"legume_tax_info.tsv\",\"w\")\\nfi.write(\"SppName\\tLabel\\tOttId\\tGbifId\\tncbiId\\tSynonyms\\n\")\\nfor tip in taxa_to_retain:\\n    ott_id = tip.label.split()[-1].strip(\\'ott\\')\\n    resp = OT.taxon_info(int(ott_id))    \\n    match = resp.response_dict\\n    spp = match[\\'name\\']\\n    gbif_id = \"\"\\n    ncbi_id = \"\"\\n    for source in match[\\'tax_sources\\']:\\n        if source.startswith(\"gbif\"):\\n            gbif_id = gbif_id + source\\n        if source.startswith(\"ncbi\"):\\n            ncbi_id = ncbi_id + source\\n    synonyms = \",\".join(match[\\'synonyms\\'])\\n    fi.write(\"{}\\t{}\\t{}\\t{}\\t{}\\t{}\\n\".format(spp, tip.label, ott_id, gbif_id, ncbi_id, synonyms))\\nfi.close()'"
      ]
     },
     "execution_count": 36,
     "metadata": {},
     "output_type": "execute_result"
    }
   ],
   "source": [
    "'''fi=open(\"legume_tax_info.tsv\",\"w\")\n",
    "fi.write(\"SppName\\tLabel\\tOttId\\tGbifId\\tncbiId\\tSynonyms\\n\")\n",
    "for tip in taxa_to_retain:\n",
    "    ott_id = tip.label.split()[-1].strip('ott')\n",
    "    resp = OT.taxon_info(int(ott_id))    \n",
    "    match = resp.response_dict\n",
    "    spp = match['name']\n",
    "    gbif_id = \"\"\n",
    "    ncbi_id = \"\"\n",
    "    for source in match['tax_sources']:\n",
    "        if source.startswith(\"gbif\"):\n",
    "            gbif_id = gbif_id + source\n",
    "        if source.startswith(\"ncbi\"):\n",
    "            ncbi_id = ncbi_id + source\n",
    "    synonyms = \",\".join(match['synonyms'])\n",
    "    fi.write(\"{}\\t{}\\t{}\\t{}\\t{}\\t{}\\n\".format(spp, tip.label, ott_id, gbif_id, ncbi_id, synonyms))\n",
    "fi.close()'''"
   ]
  },
  {
   "cell_type": "code",
   "execution_count": null,
   "metadata": {},
   "outputs": [],
   "source": []
  }
 ],
 "metadata": {
  "kernelspec": {
   "display_name": "Python 3",
   "language": "python",
   "name": "python3"
  },
  "language_info": {
   "codemirror_mode": {
    "name": "ipython",
    "version": 3
   },
   "file_extension": ".py",
   "mimetype": "text/x-python",
   "name": "python",
   "nbconvert_exporter": "python",
   "pygments_lexer": "ipython3",
   "version": "3.8.10"
  }
 },
 "nbformat": 4,
 "nbformat_minor": 2
}
