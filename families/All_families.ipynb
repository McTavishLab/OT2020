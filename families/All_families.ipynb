{
 "cells": [
  {
   "cell_type": "code",
   "execution_count": 1,
   "metadata": {},
   "outputs": [],
   "source": [
    "from opentree import OT\n",
    "import os\n",
    "import sys\n",
    "import json"
   ]
  },
  {
   "cell_type": "markdown",
   "metadata": {},
   "source": [
    "Download the current OpenTree taxonomy from https://tree.opentreeoflife.org/about/taxonomy-version/ott3.2"
   ]
  },
  {
   "cell_type": "code",
   "execution_count": 2,
   "metadata": {},
   "outputs": [
    {
     "name": "stdout",
     "output_type": "stream",
     "text": [
      "family.tsv    genus.tsv    synonyms.tsv        taxonomy.tsv\r\n",
      "forwards.tsv  README.html  taxonomy_clean.tsv  version.txt\r\n"
     ]
    }
   ],
   "source": [
    "!ls ../../ott3.2"
   ]
  },
  {
   "cell_type": "code",
   "execution_count": 3,
   "metadata": {},
   "outputs": [],
   "source": [
    "taxonomy_file = \"../../ott3.2/taxonomy.tsv\"\n",
    "assert os.path.exists(taxonomy_file)"
   ]
  },
  {
   "cell_type": "markdown",
   "metadata": {},
   "source": [
    "Families are convenient to find via string matching, because they all end in *aceae* or *idae*.\n",
    "We do also list a rank for taxa in the taxonomy, but dues to merhing across resources, but this can be a bit unreliable."
   ]
  },
  {
   "cell_type": "code",
   "execution_count": 4,
   "metadata": {},
   "outputs": [],
   "source": [
    "fam_dict = {}\n",
    "for lin in open(taxonomy_file):\n",
    "        lii=lin.split('\\t|\\t')\n",
    "        if len(lii[2].split(' ')) > 1:\n",
    "            pass\n",
    "        elif lii[2].endswith(\"aceae\"):\n",
    "            fam_dict[lii[2]]=lii\n",
    "        elif lii[2].endswith(\"idae\"):\n",
    "            fam_dict[lii[2]]=lii"
   ]
  },
  {
   "cell_type": "code",
   "execution_count": 5,
   "metadata": {},
   "outputs": [
    {
     "data": {
      "text/plain": [
       "21933"
      ]
     },
     "execution_count": 5,
     "metadata": {},
     "output_type": "execute_result"
    }
   ],
   "source": [
    "len(fam_dict)"
   ]
  },
  {
   "cell_type": "code",
   "execution_count": 6,
   "metadata": {},
   "outputs": [],
   "source": [
    "fams_node_id = {}\n",
    "fams_resp = {}\n",
    "fams_in_tree = set()"
   ]
  },
  {
   "cell_type": "markdown",
   "metadata": {},
   "source": [
    "There are around 22,000 families - so the query can be a bit slow.\n",
    "To make it more efficient, we first check if each family is found in the tree at all, and store that data"
   ]
  },
  {
   "cell_type": "markdown",
   "metadata": {},
   "source": [
    "## This takes a long time (beacuse it calls the OpenTree api's 22,000 times).\n",
    "##So after it runs we write it out to json, so we can re-load in future instead of re-running.\n",
    "i = 0\n",
    "for fam in fam_dict:\n",
    "    i += 1\n",
    "    if i % 50 == 0:\n",
    "        sys.stdout.write('.')\n",
    "    if fam not in fams_node_id:\n",
    "        ott_id = fam_dict[fam][0]\n",
    "        resp = OT.synth_node_info(ott_id = ott_id)\n",
    "        try:\n",
    "            nid = resp.response_dict.get('node_id')\n",
    "            fams_in_tree.add(fam)\n",
    "            fams_resp[fam] = resp.response_dict\n",
    "        except:\n",
    "            assert(str(resp.response) == '<Response [400]>')\n",
    "            not_in_tree.add(fam)\n",
    "            nid = None\n",
    "        fams_node_id[fam] =  nid"
   ]
  },
  {
   "cell_type": "markdown",
   "metadata": {},
   "source": [
    "## Example node info call for 'Juncaginaceae'\n",
    "https://tree.opentreeoflife.org/taxonomy/browse?id=460579\n",
    "\n",
    "https://tree.opentreeoflife.org/opentree/argus/ottol@460579\n"
   ]
  },
  {
   "cell_type": "code",
   "execution_count": 7,
   "metadata": {},
   "outputs": [
    {
     "data": {
      "text/plain": [
       "{'node_id': 'mrcaott106181ott402055',\n",
       " 'num_tips': 38,\n",
       " 'query': 'ott460579',\n",
       " 'source_id_map': {'ot_1391@Tr96262': {'git_sha': '3008105691283414a18a6c8a728263b2aa8e7960',\n",
       "   'study_id': 'ot_1391',\n",
       "   'tree_id': 'Tr96262'},\n",
       "  'ot_311@tree1': {'git_sha': '3008105691283414a18a6c8a728263b2aa8e7960',\n",
       "   'study_id': 'ot_311',\n",
       "   'tree_id': 'tree1'},\n",
       "  'ot_502@tree1': {'git_sha': '3008105691283414a18a6c8a728263b2aa8e7960',\n",
       "   'study_id': 'ot_502',\n",
       "   'tree_id': 'tree1'}},\n",
       " 'supported_by': {'ot_311@tree1': 'node2913'},\n",
       " 'synth_id': 'opentree12.3',\n",
       " 'terminal': {'ot_1391@Tr96262': 'ott5715946', 'ot_502@tree1': 'ott5715946'}}"
      ]
     },
     "execution_count": 7,
     "metadata": {},
     "output_type": "execute_result"
    }
   ],
   "source": [
    "resp = OT.synth_node_info(ott_id = '460579')\n",
    "resp.response_dict"
   ]
  },
  {
   "cell_type": "code",
   "execution_count": 21,
   "metadata": {},
   "outputs": [],
   "source": [
    "#with open('fam_synth_node_info.json', 'w') as outfile:\n",
    "#    json.dump(fams_node_id, outfile)\n",
    "    "
   ]
  },
  {
   "cell_type": "code",
   "execution_count": 22,
   "metadata": {},
   "outputs": [],
   "source": [
    "#with open('fam_resp_dict.json', 'w') as outfile:\n",
    "#    json.dump(fams_resp, outfile)"
   ]
  },
  {
   "cell_type": "code",
   "execution_count": 8,
   "metadata": {},
   "outputs": [],
   "source": [
    "fams_node_id = json.load(open('fam_synth_node_info.json'))\n",
    "fams_resp = json.load(open('fam_resp_dict.json'))"
   ]
  },
  {
   "cell_type": "code",
   "execution_count": 9,
   "metadata": {},
   "outputs": [],
   "source": [
    "fams_in_tree = set()\n",
    "not_in_tree = set()\n",
    "for fam in fams_node_id:\n",
    "    nid = fams_node_id[fam]\n",
    "    if nid:\n",
    "        fams_in_tree.add(fam)\n",
    "    else:\n",
    "        not_in_tree.add(fam)\n"
   ]
  },
  {
   "cell_type": "code",
   "execution_count": 10,
   "metadata": {},
   "outputs": [],
   "source": [
    "node_ids = {}\n",
    "fams_in_tree = set()\n",
    "not_in_tree = set()\n",
    "monophy = set()\n",
    "non_monophy = set()\n",
    "for fam in fams_node_id:\n",
    "    nid = fams_node_id[fam]\n",
    "    ott_id = fam_dict[fam][0]\n",
    "    if nid:\n",
    "        if nid not in node_ids:\n",
    "            node_ids[nid] = set()\n",
    "        node_ids[nid].add(fam)\n",
    "        fams_in_tree.add(fam)\n",
    "        if nid.strip('ott') == ott_id:\n",
    "            monophy.add(fam)\n",
    "        else:\n",
    "            non_monophy.add(fam)\n",
    "    else:\n",
    "        not_in_tree.add(fam)"
   ]
  },
  {
   "cell_type": "code",
   "execution_count": 11,
   "metadata": {},
   "outputs": [
    {
     "data": {
      "text/plain": [
       "10104"
      ]
     },
     "execution_count": 11,
     "metadata": {},
     "output_type": "execute_result"
    }
   ],
   "source": [
    "len(non_monophy)+len(monophy)"
   ]
  },
  {
   "cell_type": "code",
   "execution_count": 12,
   "metadata": {},
   "outputs": [],
   "source": [
    "for fam in monophy:\n",
    "    assert(fams_node_id[fam].startswith('ott'))"
   ]
  },
  {
   "cell_type": "code",
   "execution_count": 13,
   "metadata": {},
   "outputs": [],
   "source": [
    "with open('fam_synth_node_info.csv', 'w') as outfile:\n",
    "    outfile.write(\"Family, ott_id, synthetic node id, notes\\n\")\n",
    "    for fam in fams_node_id:\n",
    "        ott_id = fam_dict[fam][0]\n",
    "        node_id = fams_node_id[fam]\n",
    "        notes = ''\n",
    "        if node_id != None:\n",
    "            if len(node_ids[node_id]) > 1:\n",
    "                taxa = \" - \".join(list(node_ids[node_id]))\n",
    "                notes = 'Family maps to same node as ' + taxa\n",
    "        outfile.write(\"{},{}, {}, {}\\n\".format(fam, ott_id, node_id, notes))"
   ]
  },
  {
   "cell_type": "code",
   "execution_count": 14,
   "metadata": {},
   "outputs": [
    {
     "data": {
      "text/plain": [
       "10104"
      ]
     },
     "execution_count": 14,
     "metadata": {},
     "output_type": "execute_result"
    }
   ],
   "source": [
    "len(fams_in_tree)"
   ]
  },
  {
   "cell_type": "code",
   "execution_count": 15,
   "metadata": {},
   "outputs": [
    {
     "data": {
      "text/plain": [
       "9240"
      ]
     },
     "execution_count": 15,
     "metadata": {},
     "output_type": "execute_result"
    }
   ],
   "source": [
    "len(monophy)"
   ]
  },
  {
   "cell_type": "code",
   "execution_count": 16,
   "metadata": {},
   "outputs": [],
   "source": [
    "fi = open(\"families_not_in_tree.tsv\",'w')\n",
    "fi.write('name\\t ottid, sources, flags\\n')\n",
    "for fam in not_in_tree:\n",
    "    fi.write(\"{}\\t{}\\t{}\\t{}\\n\".format(fam,fam_dict[fam][0],fam_dict[fam][-4],fam_dict[fam][-2]))\n",
    "\n",
    "fi.close()"
   ]
  },
  {
   "cell_type": "code",
   "execution_count": 17,
   "metadata": {},
   "outputs": [],
   "source": [
    "synthtreeid = OT.synth_induced_tree(node_ids = list(node_ids.keys()), label_format=\"id\")\n",
    "synthtreeid.tree.write(path=\"allfam_id_label.tre\",schema=\"newick\")"
   ]
  },
  {
   "cell_type": "code",
   "execution_count": 20,
   "metadata": {},
   "outputs": [],
   "source": [
    "synth_tips = [leaf.taxon.label for leaf in synthtreeid.tree.leaf_node_iter()]"
   ]
  },
  {
   "cell_type": "code",
   "execution_count": 123,
   "metadata": {},
   "outputs": [],
   "source": [
    "node_annotation = {}\n",
    "for node in synthtreeid.tree:\n",
    "    if node.label:\n",
    "        node_annotation[node.label] = {}\n",
    "    elif node.taxon:\n",
    "        if node.taxon.label:\n",
    "            node_annotation[node.taxon.label] = {}\n",
    "    else:\n",
    "        print(node)"
   ]
  },
  {
   "cell_type": "code",
   "execution_count": 125,
   "metadata": {},
   "outputs": [],
   "source": [
    "for nid in node_annotation:\n",
    "    node_annotation[nid] = {}\n",
    "    node_annotation[nid]['families'] = []\n",
    "    node_annotation[nid]['studies'] = []\n",
    "    node_annotation[nid]['strict_support'] = []\n",
    "    node_annotation[nid]['conflict'] = []\n",
    "    node_annotation[nid]['total_descendents'] = 0"
   ]
  },
  {
   "cell_type": "code",
   "execution_count": 126,
   "metadata": {},
   "outputs": [
    {
     "data": {
      "text/plain": [
       "16810"
      ]
     },
     "execution_count": 126,
     "metadata": {},
     "output_type": "execute_result"
    }
   ],
   "source": [
    "len(node_annotation)"
   ]
  },
  {
   "cell_type": "code",
   "execution_count": 29,
   "metadata": {},
   "outputs": [],
   "source": [
    "# We have already pulled info on nodes that map to family names, \n",
    "## so we can use those reponses here and not poll OPenTree again\n",
    "nid_resp = {}\n",
    "for fam in fams_resp:\n",
    "    nid = fams_resp[fam].get('node_id')\n",
    "    if nid:\n",
    "        if nid in nid_resp:\n",
    "            assert(nid_resp[nid]['num_tips']==fams_resp[fam]['num_tips'])\n",
    "        else:\n",
    "            nid_resp[nid] = fams_resp[fam]\n",
    "        if nid in tip_annotation:\n",
    "            tip_annotation[nid]['families'].append(fam)\n",
    "    else:\n",
    "        assert fam in not_in_tree"
   ]
  },
  {
   "cell_type": "code",
   "execution_count": 127,
   "metadata": {},
   "outputs": [],
   "source": [
    "## To get info on concordance or conflict for the rest of the nodes\n",
    "## we need to call node ids for those as well\n",
    "for nid in node_annotation:\n",
    "    if nid in nid_resp:\n",
    "        pass\n",
    "    else:\n",
    "        resp = OT.synth_node_info(node_id = nid)\n",
    "        nid_resp[nid] = resp.response_dict"
   ]
  },
  {
   "cell_type": "code",
   "execution_count": 128,
   "metadata": {},
   "outputs": [],
   "source": [
    "with open('nid_resp.json', 'w') as outfile:\n",
    "    json.dump(nid_resp, outfile)"
   ]
  },
  {
   "cell_type": "code",
   "execution_count": 129,
   "metadata": {},
   "outputs": [
    {
     "data": {
      "text/plain": [
       "16810"
      ]
     },
     "execution_count": 129,
     "metadata": {},
     "output_type": "execute_result"
    }
   ],
   "source": [
    "len(nid_resp.keys())"
   ]
  },
  {
   "cell_type": "code",
   "execution_count": 130,
   "metadata": {},
   "outputs": [],
   "source": [
    "total_descendents = 0\n",
    "for tip in synth_tips:\n",
    "    total_descendents += nid_resp[tip]['num_tips']\n",
    "    node_annotation[tip]['total_descendents'] = int(nid_resp[tip]['num_tips'])\n",
    "\n",
    "    "
   ]
  },
  {
   "cell_type": "code",
   "execution_count": 131,
   "metadata": {},
   "outputs": [
    {
     "data": {
      "text/plain": [
       "1725488"
      ]
     },
     "execution_count": 131,
     "metadata": {},
     "output_type": "execute_result"
    }
   ],
   "source": [
    "total_descendents"
   ]
  },
  {
   "cell_type": "code",
   "execution_count": 46,
   "metadata": {},
   "outputs": [],
   "source": [
    "#descendent_ids = set()\n",
    "#for tip in synth_tips:\n",
    "    if tip_annotation[tip]['total_descendents'] > 0:\n",
    "        if tip_annotation[tip].get('desc_taxa'):\n",
    "            pass\n",
    "        else:\n",
    "            desc_subtree = OT.synth_subtree(node_id = tip, label_format =\"id\")\n",
    "            leaves = [leaf.taxon.label for leaf in desc_subtree.tree.leaf_node_iter()]\n",
    "            assert len(leaves) == tip_annotation[tip]['total_descendents'], tip\n",
    "            descendent_ids.update(set(leaves))\n",
    "            node_annotation[tip]['desc_taxa'] = set(leaves)"
   ]
  },
  {
   "cell_type": "code",
   "execution_count": null,
   "metadata": {},
   "outputs": [],
   "source": [
    "#import dendropy\n",
    "\n",
    "#tips_in_synth = open(\"tips_in_synth.txt\",\"w\")\n",
    "#fi = '/home/ejmctavish/projects/otapi/OT2020/opentree12.3_tree/labelled_supertree/labelled_supertree.tre'\n",
    "#total_synth = dendropy.Tree.get(path=fi, schema=\"newick\")\n",
    "#for leaf in total_synth.leaf_node_iter():\n",
    "#    tips_in_synth.write(leaf.taxon.label + '\\n')"
   ]
  },
  {
   "cell_type": "code",
   "execution_count": 67,
   "metadata": {},
   "outputs": [],
   "source": [
    "fi = open(\"tips_in_synth.txt\")\n",
    "tip_ott_ids_in_synth = set()\n",
    "for lin in fi:\n",
    "    tip_ott_ids_in_synth.add(lin.strip())\n",
    "    "
   ]
  },
  {
   "cell_type": "code",
   "execution_count": 68,
   "metadata": {},
   "outputs": [
    {
     "data": {
      "text/plain": [
       "2391916"
      ]
     },
     "execution_count": 68,
     "metadata": {},
     "output_type": "execute_result"
    }
   ],
   "source": [
    "len(tip_ott_ids_in_synth)"
   ]
  },
  {
   "cell_type": "code",
   "execution_count": 69,
   "metadata": {},
   "outputs": [],
   "source": [
    "not_captured = tip_ott_ids_in_synth.difference(descendent_ids)"
   ]
  },
  {
   "cell_type": "code",
   "execution_count": null,
   "metadata": {},
   "outputs": [],
   "source": [
    "len(not_captured)"
   ]
  },
  {
   "cell_type": "code",
   "execution_count": 113,
   "metadata": {},
   "outputs": [
    {
     "name": "stderr",
     "output_type": "stream",
     "text": [
      "ERROR:root:Error in POST to https://api.opentreeoflife.org/v3/taxonomy/taxon_info\n",
      "Traceback (most recent call last):\n",
      "  File \"/home/ejmctavish/projects/otapi/python-opentree/opentree/ws_wrapper.py\", line 221, in _call_api\n",
      "    ws_call_rec = self._http_request(url, http_method, data=data, headers=headers)\n",
      "  File \"/home/ejmctavish/projects/otapi/python-opentree/opentree/ws_wrapper.py\", line 282, in _http_request\n",
      "    resp = requests.request(http_method, url, headers=headers, data=json.dumps(data), allow_redirects=True)\n",
      "  File \"/home/ejmctavish/projects/otapi/OT2020/venv-ot2020/lib/python3.7/site-packages/requests/api.py\", line 61, in request\n",
      "    return session.request(method=method, url=url, **kwargs)\n",
      "  File \"/home/ejmctavish/projects/otapi/OT2020/venv-ot2020/lib/python3.7/site-packages/requests/sessions.py\", line 530, in request\n",
      "    resp = self.send(prep, **send_kwargs)\n",
      "  File \"/home/ejmctavish/projects/otapi/OT2020/venv-ot2020/lib/python3.7/site-packages/requests/sessions.py\", line 643, in send\n",
      "    r = adapter.send(request, **kwargs)\n",
      "  File \"/home/ejmctavish/projects/otapi/OT2020/venv-ot2020/lib/python3.7/site-packages/requests/adapters.py\", line 449, in send\n",
      "    timeout=timeout\n",
      "  File \"/home/ejmctavish/projects/otapi/OT2020/venv-ot2020/lib/python3.7/site-packages/urllib3/connectionpool.py\", line 677, in urlopen\n",
      "    chunked=chunked,\n",
      "  File \"/home/ejmctavish/projects/otapi/OT2020/venv-ot2020/lib/python3.7/site-packages/urllib3/connectionpool.py\", line 381, in _make_request\n",
      "    self._validate_conn(conn)\n",
      "  File \"/home/ejmctavish/projects/otapi/OT2020/venv-ot2020/lib/python3.7/site-packages/urllib3/connectionpool.py\", line 978, in _validate_conn\n",
      "    conn.connect()\n",
      "  File \"/home/ejmctavish/projects/otapi/OT2020/venv-ot2020/lib/python3.7/site-packages/urllib3/connection.py\", line 371, in connect\n",
      "    ssl_context=context,\n",
      "  File \"/home/ejmctavish/projects/otapi/OT2020/venv-ot2020/lib/python3.7/site-packages/urllib3/util/ssl_.py\", line 384, in ssl_wrap_socket\n",
      "    return context.wrap_socket(sock, server_hostname=server_hostname)\n",
      "  File \"/usr/lib/python3.7/ssl.py\", line 423, in wrap_socket\n",
      "    session=session\n",
      "  File \"/usr/lib/python3.7/ssl.py\", line 870, in _create\n",
      "    self.do_handshake()\n",
      "  File \"/usr/lib/python3.7/ssl.py\", line 1139, in do_handshake\n",
      "    self._sslobj.do_handshake()\n",
      "KeyboardInterrupt\n"
     ]
    },
    {
     "ename": "KeyboardInterrupt",
     "evalue": "",
     "output_type": "error",
     "traceback": [
      "\u001b[0;31m---------------------------------------------------------------------------\u001b[0m",
      "\u001b[0;31mKeyboardInterrupt\u001b[0m                         Traceback (most recent call last)",
      "\u001b[0;32m<ipython-input-113-a7fc6cebbb0e>\u001b[0m in \u001b[0;36m<module>\u001b[0;34m\u001b[0m\n\u001b[1;32m      3\u001b[0m \u001b[0;32mfor\u001b[0m \u001b[0mott_id\u001b[0m \u001b[0;32min\u001b[0m \u001b[0mnot_captured\u001b[0m\u001b[0;34m:\u001b[0m\u001b[0;34m\u001b[0m\u001b[0;34m\u001b[0m\u001b[0m\n\u001b[1;32m      4\u001b[0m     \u001b[0;32mif\u001b[0m \u001b[0mott_id\u001b[0m \u001b[0;32mnot\u001b[0m \u001b[0;32min\u001b[0m \u001b[0mnot_capture_info\u001b[0m\u001b[0;34m:\u001b[0m\u001b[0;34m\u001b[0m\u001b[0;34m\u001b[0m\u001b[0m\n\u001b[0;32m----> 5\u001b[0;31m         \u001b[0mresp\u001b[0m \u001b[0;34m=\u001b[0m \u001b[0mOT\u001b[0m\u001b[0;34m.\u001b[0m\u001b[0mtaxon_info\u001b[0m\u001b[0;34m(\u001b[0m\u001b[0mott_id\u001b[0m \u001b[0;34m=\u001b[0m \u001b[0mint\u001b[0m\u001b[0;34m(\u001b[0m\u001b[0mott_id\u001b[0m\u001b[0;34m.\u001b[0m\u001b[0mstrip\u001b[0m\u001b[0;34m(\u001b[0m\u001b[0;34m'ott'\u001b[0m\u001b[0;34m)\u001b[0m\u001b[0;34m)\u001b[0m\u001b[0;34m,\u001b[0m \u001b[0minclude_lineage\u001b[0m \u001b[0;34m=\u001b[0m \u001b[0;32mTrue\u001b[0m\u001b[0;34m)\u001b[0m\u001b[0;34m\u001b[0m\u001b[0;34m\u001b[0m\u001b[0m\n\u001b[0m\u001b[1;32m      6\u001b[0m         \u001b[0mnot_capture_info\u001b[0m\u001b[0;34m[\u001b[0m\u001b[0mott_id\u001b[0m\u001b[0;34m]\u001b[0m \u001b[0;34m=\u001b[0m \u001b[0mresp\u001b[0m\u001b[0;34m\u001b[0m\u001b[0;34m\u001b[0m\u001b[0m\n\u001b[1;32m      7\u001b[0m         \u001b[0mlineag\u001b[0m \u001b[0;34m=\u001b[0m \u001b[0mresp\u001b[0m\u001b[0;34m.\u001b[0m\u001b[0mresponse_dict\u001b[0m\u001b[0;34m[\u001b[0m\u001b[0;34m'lineage'\u001b[0m\u001b[0;34m]\u001b[0m\u001b[0;34m\u001b[0m\u001b[0;34m\u001b[0m\u001b[0m\n",
      "\u001b[0;32m~/projects/otapi/python-opentree/opentree/ot_object.py\u001b[0m in \u001b[0;36mtaxon_info\u001b[0;34m(self, ott_id, source_id, include_lineage, include_children, include_terminal_descendants)\u001b[0m\n\u001b[1;32m    264\u001b[0m                                            \u001b[0minclude_lineage\u001b[0m\u001b[0;34m=\u001b[0m\u001b[0minclude_lineage\u001b[0m\u001b[0;34m,\u001b[0m\u001b[0;34m\u001b[0m\u001b[0;34m\u001b[0m\u001b[0m\n\u001b[1;32m    265\u001b[0m                                            \u001b[0minclude_children\u001b[0m\u001b[0;34m=\u001b[0m\u001b[0minclude_children\u001b[0m\u001b[0;34m,\u001b[0m\u001b[0;34m\u001b[0m\u001b[0;34m\u001b[0m\u001b[0m\n\u001b[0;32m--> 266\u001b[0;31m                                            include_terminal_descendants=include_terminal_descendants)\n\u001b[0m\u001b[1;32m    267\u001b[0m \u001b[0;34m\u001b[0m\u001b[0m\n\u001b[1;32m    268\u001b[0m     \u001b[0;32mdef\u001b[0m \u001b[0mtaxon_mrca\u001b[0m\u001b[0;34m(\u001b[0m\u001b[0mself\u001b[0m\u001b[0;34m,\u001b[0m \u001b[0mott_ids\u001b[0m\u001b[0;34m=\u001b[0m\u001b[0;32mNone\u001b[0m\u001b[0;34m,\u001b[0m \u001b[0mignore_unknown_ids\u001b[0m\u001b[0;34m=\u001b[0m\u001b[0;32mTrue\u001b[0m\u001b[0;34m)\u001b[0m\u001b[0;34m:\u001b[0m\u001b[0;34m\u001b[0m\u001b[0;34m\u001b[0m\u001b[0m\n",
      "\u001b[0;32m~/projects/otapi/python-opentree/opentree/ot_ws_wrapper.py\u001b[0m in \u001b[0;36mtaxonomy_taxon_info\u001b[0;34m(self, ott_id, source_id, include_lineage, include_children, include_terminal_descendants)\u001b[0m\n\u001b[1;32m     88\u001b[0m              \u001b[0;34m\"include_children\"\u001b[0m\u001b[0;34m:\u001b[0m \u001b[0minclude_children\u001b[0m\u001b[0;34m,\u001b[0m\u001b[0;34m\u001b[0m\u001b[0;34m\u001b[0m\u001b[0m\n\u001b[1;32m     89\u001b[0m              \"include_terminal_descendants\": include_terminal_descendants, }\n\u001b[0;32m---> 90\u001b[0;31m         \u001b[0;32mreturn\u001b[0m \u001b[0mself\u001b[0m\u001b[0;34m.\u001b[0m\u001b[0m_call_api\u001b[0m\u001b[0;34m(\u001b[0m\u001b[0;34m'taxonomy/taxon_info'\u001b[0m\u001b[0;34m,\u001b[0m \u001b[0mdata\u001b[0m\u001b[0;34m=\u001b[0m\u001b[0md\u001b[0m\u001b[0;34m,\u001b[0m \u001b[0mdemand_success\u001b[0m\u001b[0;34m=\u001b[0m\u001b[0;32mFalse\u001b[0m\u001b[0;34m)\u001b[0m\u001b[0;34m\u001b[0m\u001b[0;34m\u001b[0m\u001b[0m\n\u001b[0m\u001b[1;32m     91\u001b[0m \u001b[0;34m\u001b[0m\u001b[0m\n\u001b[1;32m     92\u001b[0m     \u001b[0;32mdef\u001b[0m \u001b[0mtaxonomy_subtree\u001b[0m\u001b[0;34m(\u001b[0m\u001b[0mself\u001b[0m\u001b[0;34m,\u001b[0m \u001b[0mott_id\u001b[0m\u001b[0;34m,\u001b[0m \u001b[0mlabel_format\u001b[0m\u001b[0;34m=\u001b[0m\u001b[0;32mNone\u001b[0m\u001b[0;34m)\u001b[0m\u001b[0;34m:\u001b[0m\u001b[0;34m\u001b[0m\u001b[0;34m\u001b[0m\u001b[0m\n",
      "\u001b[0;32m~/projects/otapi/python-opentree/opentree/ws_wrapper.py\u001b[0m in \u001b[0;36m_call_api\u001b[0;34m(self, method_url_fragment, data, http_method, demand_success, headers)\u001b[0m\n\u001b[1;32m    219\u001b[0m             \u001b[0mheaders\u001b[0m \u001b[0;34m=\u001b[0m \u001b[0;34m{\u001b[0m\u001b[0;34m'content-type'\u001b[0m\u001b[0;34m:\u001b[0m \u001b[0;34m'text/plain'\u001b[0m\u001b[0;34m,\u001b[0m \u001b[0;34m'accept'\u001b[0m\u001b[0;34m:\u001b[0m \u001b[0;34m'text/plain'\u001b[0m\u001b[0;34m,\u001b[0m \u001b[0;34m}\u001b[0m\u001b[0;34m\u001b[0m\u001b[0;34m\u001b[0m\u001b[0m\n\u001b[1;32m    220\u001b[0m         \u001b[0;32mtry\u001b[0m\u001b[0;34m:\u001b[0m\u001b[0;34m\u001b[0m\u001b[0;34m\u001b[0m\u001b[0m\n\u001b[0;32m--> 221\u001b[0;31m             \u001b[0mws_call_rec\u001b[0m \u001b[0;34m=\u001b[0m \u001b[0mself\u001b[0m\u001b[0;34m.\u001b[0m\u001b[0m_http_request\u001b[0m\u001b[0;34m(\u001b[0m\u001b[0murl\u001b[0m\u001b[0;34m,\u001b[0m \u001b[0mhttp_method\u001b[0m\u001b[0;34m,\u001b[0m \u001b[0mdata\u001b[0m\u001b[0;34m=\u001b[0m\u001b[0mdata\u001b[0m\u001b[0;34m,\u001b[0m \u001b[0mheaders\u001b[0m\u001b[0;34m=\u001b[0m\u001b[0mheaders\u001b[0m\u001b[0;34m)\u001b[0m\u001b[0;34m\u001b[0m\u001b[0;34m\u001b[0m\u001b[0m\n\u001b[0m\u001b[1;32m    222\u001b[0m             \u001b[0;32mif\u001b[0m \u001b[0mdemand_success\u001b[0m \u001b[0;32mand\u001b[0m \u001b[0;32mnot\u001b[0m \u001b[0mws_call_rec\u001b[0m\u001b[0;34m:\u001b[0m\u001b[0;34m\u001b[0m\u001b[0;34m\u001b[0m\u001b[0m\n\u001b[1;32m    223\u001b[0m                 \u001b[0;32mif\u001b[0m \u001b[0;32mnot\u001b[0m \u001b[0mself\u001b[0m\u001b[0;34m.\u001b[0m\u001b[0m_perform_ws_calls\u001b[0m\u001b[0;34m:\u001b[0m\u001b[0;34m\u001b[0m\u001b[0;34m\u001b[0m\u001b[0m\n",
      "\u001b[0;32m~/projects/otapi/python-opentree/opentree/ws_wrapper.py\u001b[0m in \u001b[0;36m_http_request\u001b[0;34m(self, url, http_method, data, headers)\u001b[0m\n\u001b[1;32m    280\u001b[0m             \u001b[0;32mreturn\u001b[0m \u001b[0mrec\u001b[0m\u001b[0;34m\u001b[0m\u001b[0;34m\u001b[0m\u001b[0m\n\u001b[1;32m    281\u001b[0m         \u001b[0;32mif\u001b[0m \u001b[0mdata\u001b[0m\u001b[0;34m:\u001b[0m\u001b[0;34m\u001b[0m\u001b[0;34m\u001b[0m\u001b[0m\n\u001b[0;32m--> 282\u001b[0;31m             \u001b[0mresp\u001b[0m \u001b[0;34m=\u001b[0m \u001b[0mrequests\u001b[0m\u001b[0;34m.\u001b[0m\u001b[0mrequest\u001b[0m\u001b[0;34m(\u001b[0m\u001b[0mhttp_method\u001b[0m\u001b[0;34m,\u001b[0m \u001b[0murl\u001b[0m\u001b[0;34m,\u001b[0m \u001b[0mheaders\u001b[0m\u001b[0;34m=\u001b[0m\u001b[0mheaders\u001b[0m\u001b[0;34m,\u001b[0m \u001b[0mdata\u001b[0m\u001b[0;34m=\u001b[0m\u001b[0mjson\u001b[0m\u001b[0;34m.\u001b[0m\u001b[0mdumps\u001b[0m\u001b[0;34m(\u001b[0m\u001b[0mdata\u001b[0m\u001b[0;34m)\u001b[0m\u001b[0;34m,\u001b[0m \u001b[0mallow_redirects\u001b[0m\u001b[0;34m=\u001b[0m\u001b[0;32mTrue\u001b[0m\u001b[0;34m)\u001b[0m\u001b[0;34m\u001b[0m\u001b[0;34m\u001b[0m\u001b[0m\n\u001b[0m\u001b[1;32m    283\u001b[0m         \u001b[0;32melse\u001b[0m\u001b[0;34m:\u001b[0m\u001b[0;34m\u001b[0m\u001b[0;34m\u001b[0m\u001b[0m\n\u001b[1;32m    284\u001b[0m             \u001b[0mresp\u001b[0m \u001b[0;34m=\u001b[0m \u001b[0mrequests\u001b[0m\u001b[0;34m.\u001b[0m\u001b[0mrequest\u001b[0m\u001b[0;34m(\u001b[0m\u001b[0mhttp_method\u001b[0m\u001b[0;34m,\u001b[0m \u001b[0murl\u001b[0m\u001b[0;34m,\u001b[0m \u001b[0mheaders\u001b[0m\u001b[0;34m=\u001b[0m\u001b[0mheaders\u001b[0m\u001b[0;34m,\u001b[0m \u001b[0mallow_redirects\u001b[0m\u001b[0;34m=\u001b[0m\u001b[0;32mTrue\u001b[0m\u001b[0;34m)\u001b[0m\u001b[0;34m\u001b[0m\u001b[0;34m\u001b[0m\u001b[0m\n",
      "\u001b[0;32m~/projects/otapi/OT2020/venv-ot2020/lib/python3.7/site-packages/requests/api.py\u001b[0m in \u001b[0;36mrequest\u001b[0;34m(method, url, **kwargs)\u001b[0m\n\u001b[1;32m     59\u001b[0m     \u001b[0;31m# cases, and look like a memory leak in others.\u001b[0m\u001b[0;34m\u001b[0m\u001b[0;34m\u001b[0m\u001b[0;34m\u001b[0m\u001b[0m\n\u001b[1;32m     60\u001b[0m     \u001b[0;32mwith\u001b[0m \u001b[0msessions\u001b[0m\u001b[0;34m.\u001b[0m\u001b[0mSession\u001b[0m\u001b[0;34m(\u001b[0m\u001b[0;34m)\u001b[0m \u001b[0;32mas\u001b[0m \u001b[0msession\u001b[0m\u001b[0;34m:\u001b[0m\u001b[0;34m\u001b[0m\u001b[0;34m\u001b[0m\u001b[0m\n\u001b[0;32m---> 61\u001b[0;31m         \u001b[0;32mreturn\u001b[0m \u001b[0msession\u001b[0m\u001b[0;34m.\u001b[0m\u001b[0mrequest\u001b[0m\u001b[0;34m(\u001b[0m\u001b[0mmethod\u001b[0m\u001b[0;34m=\u001b[0m\u001b[0mmethod\u001b[0m\u001b[0;34m,\u001b[0m \u001b[0murl\u001b[0m\u001b[0;34m=\u001b[0m\u001b[0murl\u001b[0m\u001b[0;34m,\u001b[0m \u001b[0;34m**\u001b[0m\u001b[0mkwargs\u001b[0m\u001b[0;34m)\u001b[0m\u001b[0;34m\u001b[0m\u001b[0;34m\u001b[0m\u001b[0m\n\u001b[0m\u001b[1;32m     62\u001b[0m \u001b[0;34m\u001b[0m\u001b[0m\n\u001b[1;32m     63\u001b[0m \u001b[0;34m\u001b[0m\u001b[0m\n",
      "\u001b[0;32m~/projects/otapi/OT2020/venv-ot2020/lib/python3.7/site-packages/requests/sessions.py\u001b[0m in \u001b[0;36mrequest\u001b[0;34m(self, method, url, params, data, headers, cookies, files, auth, timeout, allow_redirects, proxies, hooks, stream, verify, cert, json)\u001b[0m\n\u001b[1;32m    528\u001b[0m         }\n\u001b[1;32m    529\u001b[0m         \u001b[0msend_kwargs\u001b[0m\u001b[0;34m.\u001b[0m\u001b[0mupdate\u001b[0m\u001b[0;34m(\u001b[0m\u001b[0msettings\u001b[0m\u001b[0;34m)\u001b[0m\u001b[0;34m\u001b[0m\u001b[0;34m\u001b[0m\u001b[0m\n\u001b[0;32m--> 530\u001b[0;31m         \u001b[0mresp\u001b[0m \u001b[0;34m=\u001b[0m \u001b[0mself\u001b[0m\u001b[0;34m.\u001b[0m\u001b[0msend\u001b[0m\u001b[0;34m(\u001b[0m\u001b[0mprep\u001b[0m\u001b[0;34m,\u001b[0m \u001b[0;34m**\u001b[0m\u001b[0msend_kwargs\u001b[0m\u001b[0;34m)\u001b[0m\u001b[0;34m\u001b[0m\u001b[0;34m\u001b[0m\u001b[0m\n\u001b[0m\u001b[1;32m    531\u001b[0m \u001b[0;34m\u001b[0m\u001b[0m\n\u001b[1;32m    532\u001b[0m         \u001b[0;32mreturn\u001b[0m \u001b[0mresp\u001b[0m\u001b[0;34m\u001b[0m\u001b[0;34m\u001b[0m\u001b[0m\n",
      "\u001b[0;32m~/projects/otapi/OT2020/venv-ot2020/lib/python3.7/site-packages/requests/sessions.py\u001b[0m in \u001b[0;36msend\u001b[0;34m(self, request, **kwargs)\u001b[0m\n\u001b[1;32m    641\u001b[0m \u001b[0;34m\u001b[0m\u001b[0m\n\u001b[1;32m    642\u001b[0m         \u001b[0;31m# Send the request\u001b[0m\u001b[0;34m\u001b[0m\u001b[0;34m\u001b[0m\u001b[0;34m\u001b[0m\u001b[0m\n\u001b[0;32m--> 643\u001b[0;31m         \u001b[0mr\u001b[0m \u001b[0;34m=\u001b[0m \u001b[0madapter\u001b[0m\u001b[0;34m.\u001b[0m\u001b[0msend\u001b[0m\u001b[0;34m(\u001b[0m\u001b[0mrequest\u001b[0m\u001b[0;34m,\u001b[0m \u001b[0;34m**\u001b[0m\u001b[0mkwargs\u001b[0m\u001b[0;34m)\u001b[0m\u001b[0;34m\u001b[0m\u001b[0;34m\u001b[0m\u001b[0m\n\u001b[0m\u001b[1;32m    644\u001b[0m \u001b[0;34m\u001b[0m\u001b[0m\n\u001b[1;32m    645\u001b[0m         \u001b[0;31m# Total elapsed time of the request (approximately)\u001b[0m\u001b[0;34m\u001b[0m\u001b[0;34m\u001b[0m\u001b[0;34m\u001b[0m\u001b[0m\n",
      "\u001b[0;32m~/projects/otapi/OT2020/venv-ot2020/lib/python3.7/site-packages/requests/adapters.py\u001b[0m in \u001b[0;36msend\u001b[0;34m(self, request, stream, timeout, verify, cert, proxies)\u001b[0m\n\u001b[1;32m    447\u001b[0m                     \u001b[0mdecode_content\u001b[0m\u001b[0;34m=\u001b[0m\u001b[0;32mFalse\u001b[0m\u001b[0;34m,\u001b[0m\u001b[0;34m\u001b[0m\u001b[0;34m\u001b[0m\u001b[0m\n\u001b[1;32m    448\u001b[0m                     \u001b[0mretries\u001b[0m\u001b[0;34m=\u001b[0m\u001b[0mself\u001b[0m\u001b[0;34m.\u001b[0m\u001b[0mmax_retries\u001b[0m\u001b[0;34m,\u001b[0m\u001b[0;34m\u001b[0m\u001b[0;34m\u001b[0m\u001b[0m\n\u001b[0;32m--> 449\u001b[0;31m                     \u001b[0mtimeout\u001b[0m\u001b[0;34m=\u001b[0m\u001b[0mtimeout\u001b[0m\u001b[0;34m\u001b[0m\u001b[0;34m\u001b[0m\u001b[0m\n\u001b[0m\u001b[1;32m    450\u001b[0m                 )\n\u001b[1;32m    451\u001b[0m \u001b[0;34m\u001b[0m\u001b[0m\n",
      "\u001b[0;32m~/projects/otapi/OT2020/venv-ot2020/lib/python3.7/site-packages/urllib3/connectionpool.py\u001b[0m in \u001b[0;36murlopen\u001b[0;34m(self, method, url, body, headers, retries, redirect, assert_same_host, timeout, pool_timeout, release_conn, chunked, body_pos, **response_kw)\u001b[0m\n\u001b[1;32m    675\u001b[0m                 \u001b[0mbody\u001b[0m\u001b[0;34m=\u001b[0m\u001b[0mbody\u001b[0m\u001b[0;34m,\u001b[0m\u001b[0;34m\u001b[0m\u001b[0;34m\u001b[0m\u001b[0m\n\u001b[1;32m    676\u001b[0m                 \u001b[0mheaders\u001b[0m\u001b[0;34m=\u001b[0m\u001b[0mheaders\u001b[0m\u001b[0;34m,\u001b[0m\u001b[0;34m\u001b[0m\u001b[0;34m\u001b[0m\u001b[0m\n\u001b[0;32m--> 677\u001b[0;31m                 \u001b[0mchunked\u001b[0m\u001b[0;34m=\u001b[0m\u001b[0mchunked\u001b[0m\u001b[0;34m,\u001b[0m\u001b[0;34m\u001b[0m\u001b[0;34m\u001b[0m\u001b[0m\n\u001b[0m\u001b[1;32m    678\u001b[0m             )\n\u001b[1;32m    679\u001b[0m \u001b[0;34m\u001b[0m\u001b[0m\n",
      "\u001b[0;32m~/projects/otapi/OT2020/venv-ot2020/lib/python3.7/site-packages/urllib3/connectionpool.py\u001b[0m in \u001b[0;36m_make_request\u001b[0;34m(self, conn, method, url, timeout, chunked, **httplib_request_kw)\u001b[0m\n\u001b[1;32m    379\u001b[0m         \u001b[0;31m# Trigger any extra validation we need to do.\u001b[0m\u001b[0;34m\u001b[0m\u001b[0;34m\u001b[0m\u001b[0;34m\u001b[0m\u001b[0m\n\u001b[1;32m    380\u001b[0m         \u001b[0;32mtry\u001b[0m\u001b[0;34m:\u001b[0m\u001b[0;34m\u001b[0m\u001b[0;34m\u001b[0m\u001b[0m\n\u001b[0;32m--> 381\u001b[0;31m             \u001b[0mself\u001b[0m\u001b[0;34m.\u001b[0m\u001b[0m_validate_conn\u001b[0m\u001b[0;34m(\u001b[0m\u001b[0mconn\u001b[0m\u001b[0;34m)\u001b[0m\u001b[0;34m\u001b[0m\u001b[0;34m\u001b[0m\u001b[0m\n\u001b[0m\u001b[1;32m    382\u001b[0m         \u001b[0;32mexcept\u001b[0m \u001b[0;34m(\u001b[0m\u001b[0mSocketTimeout\u001b[0m\u001b[0;34m,\u001b[0m \u001b[0mBaseSSLError\u001b[0m\u001b[0;34m)\u001b[0m \u001b[0;32mas\u001b[0m \u001b[0me\u001b[0m\u001b[0;34m:\u001b[0m\u001b[0;34m\u001b[0m\u001b[0;34m\u001b[0m\u001b[0m\n\u001b[1;32m    383\u001b[0m             \u001b[0;31m# Py2 raises this as a BaseSSLError, Py3 raises it as socket timeout.\u001b[0m\u001b[0;34m\u001b[0m\u001b[0;34m\u001b[0m\u001b[0;34m\u001b[0m\u001b[0m\n",
      "\u001b[0;32m~/projects/otapi/OT2020/venv-ot2020/lib/python3.7/site-packages/urllib3/connectionpool.py\u001b[0m in \u001b[0;36m_validate_conn\u001b[0;34m(self, conn)\u001b[0m\n\u001b[1;32m    976\u001b[0m         \u001b[0;31m# Force connect early to allow us to validate the connection.\u001b[0m\u001b[0;34m\u001b[0m\u001b[0;34m\u001b[0m\u001b[0;34m\u001b[0m\u001b[0m\n\u001b[1;32m    977\u001b[0m         \u001b[0;32mif\u001b[0m \u001b[0;32mnot\u001b[0m \u001b[0mgetattr\u001b[0m\u001b[0;34m(\u001b[0m\u001b[0mconn\u001b[0m\u001b[0;34m,\u001b[0m \u001b[0;34m\"sock\"\u001b[0m\u001b[0;34m,\u001b[0m \u001b[0;32mNone\u001b[0m\u001b[0;34m)\u001b[0m\u001b[0;34m:\u001b[0m  \u001b[0;31m# AppEngine might not have  `.sock`\u001b[0m\u001b[0;34m\u001b[0m\u001b[0;34m\u001b[0m\u001b[0m\n\u001b[0;32m--> 978\u001b[0;31m             \u001b[0mconn\u001b[0m\u001b[0;34m.\u001b[0m\u001b[0mconnect\u001b[0m\u001b[0;34m(\u001b[0m\u001b[0;34m)\u001b[0m\u001b[0;34m\u001b[0m\u001b[0;34m\u001b[0m\u001b[0m\n\u001b[0m\u001b[1;32m    979\u001b[0m \u001b[0;34m\u001b[0m\u001b[0m\n\u001b[1;32m    980\u001b[0m         \u001b[0;32mif\u001b[0m \u001b[0;32mnot\u001b[0m \u001b[0mconn\u001b[0m\u001b[0;34m.\u001b[0m\u001b[0mis_verified\u001b[0m\u001b[0;34m:\u001b[0m\u001b[0;34m\u001b[0m\u001b[0;34m\u001b[0m\u001b[0m\n",
      "\u001b[0;32m~/projects/otapi/OT2020/venv-ot2020/lib/python3.7/site-packages/urllib3/connection.py\u001b[0m in \u001b[0;36mconnect\u001b[0;34m(self)\u001b[0m\n\u001b[1;32m    369\u001b[0m             \u001b[0mca_cert_data\u001b[0m\u001b[0;34m=\u001b[0m\u001b[0mself\u001b[0m\u001b[0;34m.\u001b[0m\u001b[0mca_cert_data\u001b[0m\u001b[0;34m,\u001b[0m\u001b[0;34m\u001b[0m\u001b[0;34m\u001b[0m\u001b[0m\n\u001b[1;32m    370\u001b[0m             \u001b[0mserver_hostname\u001b[0m\u001b[0;34m=\u001b[0m\u001b[0mserver_hostname\u001b[0m\u001b[0;34m,\u001b[0m\u001b[0;34m\u001b[0m\u001b[0;34m\u001b[0m\u001b[0m\n\u001b[0;32m--> 371\u001b[0;31m             \u001b[0mssl_context\u001b[0m\u001b[0;34m=\u001b[0m\u001b[0mcontext\u001b[0m\u001b[0;34m,\u001b[0m\u001b[0;34m\u001b[0m\u001b[0;34m\u001b[0m\u001b[0m\n\u001b[0m\u001b[1;32m    372\u001b[0m         )\n\u001b[1;32m    373\u001b[0m \u001b[0;34m\u001b[0m\u001b[0m\n",
      "\u001b[0;32m~/projects/otapi/OT2020/venv-ot2020/lib/python3.7/site-packages/urllib3/util/ssl_.py\u001b[0m in \u001b[0;36mssl_wrap_socket\u001b[0;34m(sock, keyfile, certfile, cert_reqs, ca_certs, server_hostname, ssl_version, ciphers, ssl_context, ca_cert_dir, key_password, ca_cert_data)\u001b[0m\n\u001b[1;32m    382\u001b[0m     ) or IS_SECURETRANSPORT:\n\u001b[1;32m    383\u001b[0m         \u001b[0;32mif\u001b[0m \u001b[0mHAS_SNI\u001b[0m \u001b[0;32mand\u001b[0m \u001b[0mserver_hostname\u001b[0m \u001b[0;32mis\u001b[0m \u001b[0;32mnot\u001b[0m \u001b[0;32mNone\u001b[0m\u001b[0;34m:\u001b[0m\u001b[0;34m\u001b[0m\u001b[0;34m\u001b[0m\u001b[0m\n\u001b[0;32m--> 384\u001b[0;31m             \u001b[0;32mreturn\u001b[0m \u001b[0mcontext\u001b[0m\u001b[0;34m.\u001b[0m\u001b[0mwrap_socket\u001b[0m\u001b[0;34m(\u001b[0m\u001b[0msock\u001b[0m\u001b[0;34m,\u001b[0m \u001b[0mserver_hostname\u001b[0m\u001b[0;34m=\u001b[0m\u001b[0mserver_hostname\u001b[0m\u001b[0;34m)\u001b[0m\u001b[0;34m\u001b[0m\u001b[0;34m\u001b[0m\u001b[0m\n\u001b[0m\u001b[1;32m    385\u001b[0m \u001b[0;34m\u001b[0m\u001b[0m\n\u001b[1;32m    386\u001b[0m         warnings.warn(\n",
      "\u001b[0;32m/usr/lib/python3.7/ssl.py\u001b[0m in \u001b[0;36mwrap_socket\u001b[0;34m(self, sock, server_side, do_handshake_on_connect, suppress_ragged_eofs, server_hostname, session)\u001b[0m\n\u001b[1;32m    421\u001b[0m             \u001b[0mserver_hostname\u001b[0m\u001b[0;34m=\u001b[0m\u001b[0mserver_hostname\u001b[0m\u001b[0;34m,\u001b[0m\u001b[0;34m\u001b[0m\u001b[0;34m\u001b[0m\u001b[0m\n\u001b[1;32m    422\u001b[0m             \u001b[0mcontext\u001b[0m\u001b[0;34m=\u001b[0m\u001b[0mself\u001b[0m\u001b[0;34m,\u001b[0m\u001b[0;34m\u001b[0m\u001b[0;34m\u001b[0m\u001b[0m\n\u001b[0;32m--> 423\u001b[0;31m             \u001b[0msession\u001b[0m\u001b[0;34m=\u001b[0m\u001b[0msession\u001b[0m\u001b[0;34m\u001b[0m\u001b[0;34m\u001b[0m\u001b[0m\n\u001b[0m\u001b[1;32m    424\u001b[0m         )\n\u001b[1;32m    425\u001b[0m \u001b[0;34m\u001b[0m\u001b[0m\n",
      "\u001b[0;32m/usr/lib/python3.7/ssl.py\u001b[0m in \u001b[0;36m_create\u001b[0;34m(cls, sock, server_side, do_handshake_on_connect, suppress_ragged_eofs, server_hostname, context, session)\u001b[0m\n\u001b[1;32m    868\u001b[0m                         \u001b[0;31m# non-blocking\u001b[0m\u001b[0;34m\u001b[0m\u001b[0;34m\u001b[0m\u001b[0;34m\u001b[0m\u001b[0m\n\u001b[1;32m    869\u001b[0m                         \u001b[0;32mraise\u001b[0m \u001b[0mValueError\u001b[0m\u001b[0;34m(\u001b[0m\u001b[0;34m\"do_handshake_on_connect should not be specified for non-blocking sockets\"\u001b[0m\u001b[0;34m)\u001b[0m\u001b[0;34m\u001b[0m\u001b[0;34m\u001b[0m\u001b[0m\n\u001b[0;32m--> 870\u001b[0;31m                     \u001b[0mself\u001b[0m\u001b[0;34m.\u001b[0m\u001b[0mdo_handshake\u001b[0m\u001b[0;34m(\u001b[0m\u001b[0;34m)\u001b[0m\u001b[0;34m\u001b[0m\u001b[0;34m\u001b[0m\u001b[0m\n\u001b[0m\u001b[1;32m    871\u001b[0m             \u001b[0;32mexcept\u001b[0m \u001b[0;34m(\u001b[0m\u001b[0mOSError\u001b[0m\u001b[0;34m,\u001b[0m \u001b[0mValueError\u001b[0m\u001b[0;34m)\u001b[0m\u001b[0;34m:\u001b[0m\u001b[0;34m\u001b[0m\u001b[0;34m\u001b[0m\u001b[0m\n\u001b[1;32m    872\u001b[0m                 \u001b[0mself\u001b[0m\u001b[0;34m.\u001b[0m\u001b[0mclose\u001b[0m\u001b[0;34m(\u001b[0m\u001b[0;34m)\u001b[0m\u001b[0;34m\u001b[0m\u001b[0;34m\u001b[0m\u001b[0m\n",
      "\u001b[0;32m/usr/lib/python3.7/ssl.py\u001b[0m in \u001b[0;36mdo_handshake\u001b[0;34m(self, block)\u001b[0m\n\u001b[1;32m   1137\u001b[0m             \u001b[0;32mif\u001b[0m \u001b[0mtimeout\u001b[0m \u001b[0;34m==\u001b[0m \u001b[0;36m0.0\u001b[0m \u001b[0;32mand\u001b[0m \u001b[0mblock\u001b[0m\u001b[0;34m:\u001b[0m\u001b[0;34m\u001b[0m\u001b[0;34m\u001b[0m\u001b[0m\n\u001b[1;32m   1138\u001b[0m                 \u001b[0mself\u001b[0m\u001b[0;34m.\u001b[0m\u001b[0msettimeout\u001b[0m\u001b[0;34m(\u001b[0m\u001b[0;32mNone\u001b[0m\u001b[0;34m)\u001b[0m\u001b[0;34m\u001b[0m\u001b[0;34m\u001b[0m\u001b[0m\n\u001b[0;32m-> 1139\u001b[0;31m             \u001b[0mself\u001b[0m\u001b[0;34m.\u001b[0m\u001b[0m_sslobj\u001b[0m\u001b[0;34m.\u001b[0m\u001b[0mdo_handshake\u001b[0m\u001b[0;34m(\u001b[0m\u001b[0;34m)\u001b[0m\u001b[0;34m\u001b[0m\u001b[0;34m\u001b[0m\u001b[0m\n\u001b[0m\u001b[1;32m   1140\u001b[0m         \u001b[0;32mfinally\u001b[0m\u001b[0;34m:\u001b[0m\u001b[0;34m\u001b[0m\u001b[0;34m\u001b[0m\u001b[0m\n\u001b[1;32m   1141\u001b[0m             \u001b[0mself\u001b[0m\u001b[0;34m.\u001b[0m\u001b[0msettimeout\u001b[0m\u001b[0;34m(\u001b[0m\u001b[0mtimeout\u001b[0m\u001b[0;34m)\u001b[0m\u001b[0;34m\u001b[0m\u001b[0;34m\u001b[0m\u001b[0m\n",
      "\u001b[0;31mKeyboardInterrupt\u001b[0m: "
     ]
    }
   ],
   "source": [
    "#not_capture_info = {}\n",
    "#fams_not_captured = {}\n",
    "for ott_id in not_captured:\n",
    "    if ott_id not in not_capture_info:   \n",
    "        resp = OT.taxon_info(ott_id = int(ott_id.strip('ott')), include_lineage = True)\n",
    "        not_capture_info[ott_id] = resp\n",
    "        lineag = resp.response_dict['lineage']\n",
    "        fam = 'Missing'\n",
    "        order = 'Missing'\n",
    "        for highertax in lineag:\n",
    "            if highertax['rank'] == 'order':\n",
    "                order = highertax['name']\n",
    "            if highertax['rank'] == 'family':\n",
    "                fam = highertax['name']\n",
    "        if order not in fams_not_captured:\n",
    "            fams_not_captured[order] = {}\n",
    "        if fam not in  fams_not_captured[order]:\n",
    "            fams_not_captured[order][fam] = []\n",
    "        fams_not_captured[order][fam].append(ott_id)\n",
    "        \n",
    "        \n",
    "    "
   ]
  },
  {
   "cell_type": "code",
   "execution_count": 245,
   "metadata": {},
   "outputs": [],
   "source": [
    "supported_tips = set()\n",
    "unsupported_tips = set()\n",
    "i = 0\n",
    "for node in node_annotation:\n",
    "    i+=1\n",
    "    supporting = nid_resp[node].get('source_id_map')\n",
    "    strict_support = nid_resp[node].get('supported_by')\n",
    "    conflict = nid_resp[node].get('conflicts_with', [])\n",
    "    if supporting.keys() == set(['ott3.2draft9']):\n",
    "        node_annotation[node]['studies'] = 0\n",
    "    else:\n",
    "        node_annotation[node]['studies'] = len(supporting.keys())\n",
    "    if strict_support.keys() == set(['ott3.2draft9']):\n",
    "        node_annotation[node]['strict_support'] = 0\n",
    "    else:\n",
    "        node_annotation[node]['strict_support'] = len(strict_support.keys())\n",
    "    node_annotation[node]['conflict'] = len(conflict)\n"
   ]
  },
  {
   "cell_type": "code",
   "execution_count": 246,
   "metadata": {},
   "outputs": [
    {
     "data": {
      "text/plain": [
       "16810"
      ]
     },
     "execution_count": 246,
     "metadata": {},
     "output_type": "execute_result"
    }
   ],
   "source": [
    "len(node_annotation)"
   ]
  },
  {
   "cell_type": "code",
   "execution_count": 322,
   "metadata": {},
   "outputs": [],
   "source": [
    "with open('node_annotation.json', 'w') as outfile:\n",
    "    json.dump(node_annotation, outfile)"
   ]
  },
  {
   "cell_type": "code",
   "execution_count": 3,
   "metadata": {},
   "outputs": [],
   "source": [
    "import json\n",
    "node_annotation = json.load(open('node_annotation.json'))\n"
   ]
  },
  {
   "cell_type": "code",
   "execution_count": 4,
   "metadata": {},
   "outputs": [
    {
     "ename": "NameError",
     "evalue": "name 'synth_tips' is not defined",
     "output_type": "error",
     "traceback": [
      "\u001b[0;31m---------------------------------------------------------------------------\u001b[0m",
      "\u001b[0;31mNameError\u001b[0m                                 Traceback (most recent call last)",
      "\u001b[0;32m<ipython-input-4-c227a91a21e3>\u001b[0m in \u001b[0;36m<module>\u001b[0;34m\u001b[0m\n\u001b[1;32m     10\u001b[0m     \u001b[0;32mif\u001b[0m \u001b[0mnode_annotation\u001b[0m\u001b[0;34m[\u001b[0m\u001b[0mnode\u001b[0m\u001b[0;34m]\u001b[0m\u001b[0;34m[\u001b[0m\u001b[0;34m'studies'\u001b[0m\u001b[0;34m]\u001b[0m \u001b[0;34m>\u001b[0m \u001b[0mmax_support\u001b[0m\u001b[0;34m:\u001b[0m\u001b[0;34m\u001b[0m\u001b[0;34m\u001b[0m\u001b[0m\n\u001b[1;32m     11\u001b[0m         \u001b[0mmax_support\u001b[0m \u001b[0;34m=\u001b[0m \u001b[0mnode_annotation\u001b[0m\u001b[0;34m[\u001b[0m\u001b[0mnode\u001b[0m\u001b[0;34m]\u001b[0m\u001b[0;34m[\u001b[0m\u001b[0;34m'studies'\u001b[0m\u001b[0;34m]\u001b[0m\u001b[0;34m\u001b[0m\u001b[0;34m\u001b[0m\u001b[0m\n\u001b[0;32m---> 12\u001b[0;31m     \u001b[0;32mif\u001b[0m \u001b[0mnode\u001b[0m \u001b[0;32min\u001b[0m \u001b[0msynth_tips\u001b[0m\u001b[0;34m:\u001b[0m\u001b[0;34m\u001b[0m\u001b[0;34m\u001b[0m\u001b[0m\n\u001b[0m\u001b[1;32m     13\u001b[0m         \u001b[0;32mif\u001b[0m \u001b[0mtip_annotation\u001b[0m\u001b[0;34m[\u001b[0m\u001b[0mnode\u001b[0m\u001b[0;34m]\u001b[0m\u001b[0;34m[\u001b[0m\u001b[0;34m'total_descendents'\u001b[0m\u001b[0;34m]\u001b[0m \u001b[0;34m>\u001b[0m \u001b[0mmax_desc\u001b[0m\u001b[0;34m:\u001b[0m\u001b[0;34m\u001b[0m\u001b[0;34m\u001b[0m\u001b[0m\n\u001b[1;32m     14\u001b[0m             \u001b[0mmax_desc\u001b[0m \u001b[0;34m=\u001b[0m  \u001b[0mtip_annotation\u001b[0m\u001b[0;34m[\u001b[0m\u001b[0mnode\u001b[0m\u001b[0;34m]\u001b[0m\u001b[0;34m[\u001b[0m\u001b[0;34m'total_descendents'\u001b[0m\u001b[0;34m]\u001b[0m\u001b[0;34m\u001b[0m\u001b[0;34m\u001b[0m\u001b[0m\n",
      "\u001b[0;31mNameError\u001b[0m: name 'synth_tips' is not defined"
     ]
    }
   ],
   "source": [
    "max_conf=0\n",
    "max_support=0\n",
    "max_desc=0\n",
    "no_desc=set()\n",
    "sing_desc=set()\n",
    "huge_desc=set()\n",
    "for node in node_annotation:\n",
    "    if node_annotation[node]['conflict'] > max_conf:\n",
    "        max_conf = node_annotation[node]['conflict']\n",
    "    if node_annotation[node]['studies'] > max_support:\n",
    "        max_support = node_annotation[node]['studies']\n",
    "    if node in synth_tips:\n",
    "        if tip_annotation[node]['total_descendents'] > max_desc:\n",
    "            max_desc =  tip_annotation[node]['total_descendents']\n",
    "        if tip_annotation[node]['total_descendents'] == 0:\n",
    "            no_desc.add(node)\n",
    "        if tip_annotation[node]['total_descendents'] == 1:\n",
    "            sing_desc.add(node)\n",
    "        if tip_annotation[node]['total_descendents'] > 10000:\n",
    "            huge_desc.add(node)\n",
    "        \n",
    "\n",
    "print(max_conf)\n",
    "print(max_support)\n",
    "print(max_desc)"
   ]
  },
  {
   "cell_type": "code",
   "execution_count": 284,
   "metadata": {},
   "outputs": [
    {
     "data": {
      "text/plain": [
       "119"
      ]
     },
     "execution_count": 284,
     "metadata": {},
     "output_type": "execute_result"
    }
   ],
   "source": [
    "len(no_desc)"
   ]
  },
  {
   "cell_type": "code",
   "execution_count": 285,
   "metadata": {},
   "outputs": [
    {
     "data": {
      "text/plain": [
       "{'ott1065162',\n",
       " 'ott119908',\n",
       " 'ott231907',\n",
       " 'ott245885',\n",
       " 'ott2812304',\n",
       " 'ott2872091',\n",
       " 'ott3247106',\n",
       " 'ott3356305',\n",
       " 'ott3531441',\n",
       " 'ott3532167',\n",
       " 'ott3588511',\n",
       " 'ott4023553',\n",
       " 'ott4125916',\n",
       " 'ott4139966',\n",
       " 'ott4175023',\n",
       " 'ott4187834',\n",
       " 'ott4221168',\n",
       " 'ott4524043',\n",
       " 'ott4697503',\n",
       " 'ott4697720',\n",
       " 'ott4697789',\n",
       " 'ott4698009',\n",
       " 'ott4698047',\n",
       " 'ott4698119',\n",
       " 'ott4698763',\n",
       " 'ott4698874',\n",
       " 'ott4698945',\n",
       " 'ott4699032',\n",
       " 'ott4699059',\n",
       " 'ott4699076',\n",
       " 'ott4699276',\n",
       " 'ott4699327',\n",
       " 'ott4699641',\n",
       " 'ott4699724',\n",
       " 'ott4699826',\n",
       " 'ott4700272',\n",
       " 'ott4700364',\n",
       " 'ott4700443',\n",
       " 'ott4700790',\n",
       " 'ott4701143',\n",
       " 'ott4701442',\n",
       " 'ott4701492',\n",
       " 'ott4701526',\n",
       " 'ott4701635',\n",
       " 'ott4701742',\n",
       " 'ott4701914',\n",
       " 'ott4702117',\n",
       " 'ott4702145',\n",
       " 'ott4702368',\n",
       " 'ott4702607',\n",
       " 'ott4703029',\n",
       " 'ott4703450',\n",
       " 'ott4939687',\n",
       " 'ott4941108',\n",
       " 'ott4946049',\n",
       " 'ott4991293',\n",
       " 'ott4991506',\n",
       " 'ott4994455',\n",
       " 'ott5004048',\n",
       " 'ott5021877',\n",
       " 'ott5031587',\n",
       " 'ott5099466',\n",
       " 'ott5104667',\n",
       " 'ott5122625',\n",
       " 'ott5122688',\n",
       " 'ott5122747',\n",
       " 'ott5122770',\n",
       " 'ott5122772',\n",
       " 'ott5127510',\n",
       " 'ott5127649',\n",
       " 'ott5127769',\n",
       " 'ott5128225',\n",
       " 'ott5128381',\n",
       " 'ott5138376',\n",
       " 'ott5140726',\n",
       " 'ott5155355',\n",
       " 'ott5249406',\n",
       " 'ott5252602',\n",
       " 'ott5254088',\n",
       " 'ott5254644',\n",
       " 'ott5254831',\n",
       " 'ott5255030',\n",
       " 'ott5255488',\n",
       " 'ott5255615',\n",
       " 'ott5256519',\n",
       " 'ott5256681',\n",
       " 'ott5292852',\n",
       " 'ott5343012',\n",
       " 'ott5394876',\n",
       " 'ott5453761',\n",
       " 'ott5498084',\n",
       " 'ott5580291',\n",
       " 'ott5602454',\n",
       " 'ott5674334',\n",
       " 'ott5677242',\n",
       " 'ott5743343',\n",
       " 'ott5882219',\n",
       " 'ott5985468',\n",
       " 'ott6105573',\n",
       " 'ott6143980',\n",
       " 'ott6171762',\n",
       " 'ott6197207',\n",
       " 'ott6287754',\n",
       " 'ott6289262',\n",
       " 'ott6290852',\n",
       " 'ott6320324',\n",
       " 'ott6376361',\n",
       " 'ott641537',\n",
       " 'ott7389250',\n",
       " 'ott7502695',\n",
       " 'ott7513520',\n",
       " 'ott7529773',\n",
       " 'ott760231',\n",
       " 'ott7674630',\n",
       " 'ott784794',\n",
       " 'ott7993313',\n",
       " 'ott827318',\n",
       " 'ott842977',\n",
       " 'ott846629'}"
      ]
     },
     "execution_count": 285,
     "metadata": {},
     "output_type": "execute_result"
    }
   ],
   "source": [
    "no_desc"
   ]
  },
  {
   "cell_type": "code",
   "execution_count": 280,
   "metadata": {},
   "outputs": [
    {
     "data": {
      "text/plain": [
       "1092"
      ]
     },
     "execution_count": 280,
     "metadata": {},
     "output_type": "execute_result"
    }
   ],
   "source": [
    "len(sing_desc)"
   ]
  },
  {
   "cell_type": "code",
   "execution_count": 324,
   "metadata": {},
   "outputs": [
    {
     "data": {
      "text/plain": [
       "{'families': [],\n",
       " 'studies': 0,\n",
       " 'strict_support': 0,\n",
       " 'conflict': 0,\n",
       " 'total_descendents': 11}"
      ]
     },
     "execution_count": 324,
     "metadata": {},
     "output_type": "execute_result"
    }
   ],
   "source": [
    "node_annotation['ott2959440']"
   ]
  },
  {
   "cell_type": "code",
   "execution_count": 274,
   "metadata": {},
   "outputs": [
    {
     "data": {
      "text/plain": [
       "15"
      ]
     },
     "execution_count": 274,
     "metadata": {},
     "output_type": "execute_result"
    }
   ],
   "source": [
    "len(huge_desc)"
   ]
  },
  {
   "cell_type": "code",
   "execution_count": 286,
   "metadata": {},
   "outputs": [
    {
     "data": {
      "text/plain": [
       "{'mrcaott11244ott21732',\n",
       " 'mrcaott413ott199885',\n",
       " 'ott1014022',\n",
       " 'ott116636',\n",
       " 'ott271925',\n",
       " 'ott305904',\n",
       " 'ott46248',\n",
       " 'ott508090',\n",
       " 'ott568878',\n",
       " 'ott587367',\n",
       " 'ott65329',\n",
       " 'ott678079',\n",
       " 'ott7376225',\n",
       " 'ott769762',\n",
       " 'ott968124'}"
      ]
     },
     "execution_count": 286,
     "metadata": {},
     "output_type": "execute_result"
    }
   ],
   "source": [
    "huge_desc"
   ]
  },
  {
   "cell_type": "code",
   "execution_count": 325,
   "metadata": {},
   "outputs": [],
   "source": [
    "fi = open(\"support_anno.txt\", 'w')\n",
    "startstr = \"\"\"DATASET_STYLE\n",
    "SEPARATOR TAB\n",
    "\n",
    "#label is used in the legend table (can be changed later)\n",
    "DATASET_LABEL\\t{}\n",
    "\n",
    "#dataset color (can be changed later)\n",
    "COLOR\\t#ffff00\n",
    "\n",
    "DATA\\n\"\"\".format(\"Support\")\n",
    "fi.write(startstr)\n",
    "for node in node_annotation:\n",
    "    if node_annotation[node]['studies']:\n",
    "        relsupport = node_annotation[node]['studies']/5\n",
    "        r = 0\n",
    "        g = 255*relsupport\n",
    "        b = 0\n",
    "        color = \"rgba({}, {}, {}, {})\".format(r, g, b, 0.25+relsupport)\n",
    "        fi.write(\"{}\\tbranch\\tclade\\t{}\\t1\\tnormal\\n\".format(node,color))\n",
    "    else:\n",
    "        color = \"rgba(0, 0, 0, 0.25)\"\n",
    "        fi.write(\"{}\\tbranch\\tclade\\t{}\\t1\\tnormal\\n\".format(node,color))\n",
    "fi.close()"
   ]
  },
  {
   "cell_type": "code",
   "execution_count": 216,
   "metadata": {},
   "outputs": [],
   "source": [
    "fi = open(\"conflict_anno.txt\", 'w')\n",
    "startstr = \"\"\"DATASET_STYLE\n",
    "SEPARATOR TAB\n",
    "\n",
    "#label is used in the legend table (can be changed later)\n",
    "DATASET_LABEL\\t{}\n",
    "\n",
    "#dataset color (can be changed later)\n",
    "COLOR\\t#ffff00\n",
    "\n",
    "DATA\\n\"\"\".format(\"conflict\")\n",
    "fi.write(startstr)\n",
    "for node in node_annotation:\n",
    "    relconf = node_annotation[node]['conflict']/5\n",
    "    r = 255*relconf\n",
    "    g = 0\n",
    "    b = 0\n",
    "    color = \"rgba({}, {}, {}, {})\".format(r, g, b, 0.25+relconf)\n",
    "    fi.write(\"{}\\tbranch\\tclade\\t{}\\t1\\tnormal\\n\".format(node,color))\n",
    "        \n",
    "fi.close()"
   ]
  },
  {
   "cell_type": "code",
   "execution_count": 287,
   "metadata": {
    "scrolled": true
   },
   "outputs": [],
   "source": [
    "fi = open(\"descendent_heatmap.txt\", 'w')\n",
    "import math\n",
    "startstr = \"\"\"DATASET_HEATMAP\n",
    "#In heatmaps, each ID is associated to multiple numeric values, which are displayed as a set of colored boxes defined by a color gradient\n",
    "#lines starting with a hash are comments and ignored during parsing\n",
    "#=================================================================#\n",
    "#                    MANDATORY SETTINGS                           #\n",
    "#=================================================================#\n",
    "#select the separator which is used to delimit the data below (TAB,SPACE or COMMA).This separator must be used throughout this file (except in the SEPARATOR line, which uses space).\n",
    "#SEPARATOR TAB\n",
    "SEPARATOR SPACE\n",
    "#SEPARATOR COMMA\n",
    "\n",
    "#label is used in the legend table (can be changed later)\n",
    "DATASET_LABEL LOG_number_of_descendante\n",
    "\n",
    "#dataset color (can be changed later)\n",
    "COLOR #ff0000\n",
    "\n",
    "#define labels for each individual field column\n",
    "FIELD_LABELS number_desc\n",
    "\n",
    "#=================================================================#\n",
    "#                    OPTIONAL SETTINGS                            #\n",
    "#=================================================================#\n",
    "\n",
    "\n",
    "#Heatmaps can have an optional Newick formatted tree assigned. Its leaf IDs must exactly match the dataset FIELD_LABELS.\n",
    "#The tree will be used to sort the dataset fields, and will be displayed above the dataset. It can have branch lengths defined.\n",
    "#All newlines and spaces should be stripped from the tree, and COMMA cannot be used as the dataset separator if a FIELD_TREE is provided.\n",
    "#FIELD_TREE (((f1:0.2,f5:0.5):1,(f2:0.2,f3:0.3):1.2):0.5,(f4:0.1,f6:0.5):0.8):1;\n",
    "\n",
    "\n",
    "\n",
    "#=================================================================#\n",
    "#     all other optional settings can be set or changed later     #\n",
    "#           in the web interface (under 'Datasets' tab)           #\n",
    "#=================================================================#\n",
    "\n",
    "#Each dataset can have a legend, which is defined using LEGEND_XXX fields below\n",
    "#For each row in the legend, there should be one shape, color and label.\n",
    "#Optionally, you can define an exact legend position using LEGEND_POSITION_X and LEGEND_POSITION_Y. To use automatic legend positioning, do NOT define these values\n",
    "#Optionally, shape scaling can be present (LEGEND_SHAPE_SCALES). For each shape, you can define a scaling factor between 0 and 1.\n",
    "#Shape should be a number between 1 and 6, or any protein domain shape definition.\n",
    "#1: square\n",
    "#2: circle\n",
    "#3: star\n",
    "#4: right pointing triangle\n",
    "#5: left pointing triangle\n",
    "#6: checkmark\n",
    "\n",
    "#LEGEND_TITLE,Dataset legend\n",
    "#LEGEND_POSITION_X,100\n",
    "#LEGEND_POSITION_Y,100\n",
    "#LEGEND_SHAPES,1,2,3\n",
    "#LEGEND_COLORS,#ff0000,#00ff00,#0000ff\n",
    "#LEGEND_LABELS,value1,value2,value3\n",
    "#LEGEND_SHAPE_SCALES,1,1,0.5\n",
    "\n",
    "#left margin, used to increase/decrease the spacing to the next dataset. Can be negative, causing datasets to overlap.\n",
    "#MARGIN 0\n",
    "\n",
    "#width of the individual boxes\n",
    "#STRIP_WIDTH 25\n",
    "\n",
    "#always show internal values; if set, values associated to internal nodes will be displayed even if these nodes are not collapsed. It could cause overlapping in the dataset display.\n",
    "#SHOW_INTERNAL 0\n",
    "\n",
    "\n",
    "#show dashed lines between leaf labels and the dataset\n",
    "#DASHED_LINES 1\n",
    "\n",
    "#if a FIELD_TREE is present, it can be hidden by setting this option to 0\n",
    "#SHOW_TREE 1\n",
    "\n",
    "#define the color for the NULL values in the dataset. Use the letter X in the data to define the NULL values\n",
    "#COLOR_NAN #000000\n",
    "\n",
    "#automatically create and display a legend based on the color gradients and values defined below\n",
    "#AUTO_LEGEND 1\n",
    "\n",
    "\n",
    "#define the heatmap gradient colors. Values in the dataset will be mapped onto the corresponding color gradient.\n",
    "COLOR_MIN #0000ff\n",
    "COLOR_MAX #ff0000\n",
    "\n",
    "#you can specify a gradient with three colors (e.g red to yellow to green) by setting 'USE_MID_COLOR' to 1, and specifying the midpoint color\n",
    "#USE_MID_COLOR 1\n",
    "#COLOR_MID #ffff00\n",
    "\n",
    "#By default, color gradients will be calculated based on dataset values. You can force different values to use in the calculation by setting the values below:\n",
    "#USER_MIN_VALUE 0\n",
    "#USER_MID_VALUE 500\n",
    "#USER_MAX_VALUE 1000\n",
    "\n",
    "#border width; if set above 0, a border of specified width (in pixels) will be drawn around individual cells\n",
    "#BORDER_WIDTH,0\n",
    "\n",
    "#border color; used only when BORDER_WIDTH is above 0\n",
    "#BORDER_COLOR,#0000ff\n",
    "\n",
    "\n",
    "#Internal tree nodes can be specified using IDs directly, or using the 'last common ancestor' method described in iTOL help pages\n",
    "#=================================================================#\n",
    "#       Actual data follows after the \"DATA\" keyword              #\n",
    "#=================================================================#\n",
    "DATA\\n\n",
    "\"\"\"\n",
    "fi.write(startstr)\n",
    "for node in synth_tips:\n",
    "    desc = int(node_annotation[node]['total_descendents'])\n",
    "    if desc == 0:\n",
    "        val = -0.1\n",
    "    else:\n",
    "        val = math.log(desc, 10)\n",
    "    fi.write(\"{} {}\\n\".format(node, val))\n",
    "        \n",
    "fi.close()\n"
   ]
  },
  {
   "cell_type": "code",
   "execution_count": 235,
   "metadata": {},
   "outputs": [],
   "source": [
    "#fam_dict = {}\n",
    "#rank = set()\n",
    "#fi = \n",
    "#for lin in open(taxonomy_file):\n",
    "#        lii=lin.split('\\t|\\t')\n",
    "#        ott_id = 'ott'+lii[0]\n",
    "#        if \n",
    "#        rank.add(lii[3])"
   ]
  },
  {
   "cell_type": "code",
   "execution_count": 240,
   "metadata": {},
   "outputs": [],
   "source": [
    "fi= open(\"label_anno.txt\",'w')\n",
    "startstr = \"\"\"LABELS\n",
    "#use this template to change the leaf labels, or define/change the internal node names (displayed in mouseover popups)\n",
    "\n",
    "#lines starting with a hash are comments and ignored during parsing\n",
    "\n",
    "#=================================================================#\n",
    "#                    MANDATORY SETTINGS                           #\n",
    "#=================================================================#\n",
    "#select the separator which is used to delimit the data below (TAB,SPACE or COMMA).This separator must be used throughout this file (except in the SEPARATOR line, which uses space).\n",
    "\n",
    "\n",
    "SEPARATOR COMMA\n",
    "\n",
    "#Internal tree nodes can be specified using IDs directly, or using the 'last common ancestor' method described in iTOL help pages\n",
    "#=================================================================#\n",
    "#       Actual data follows after the \"DATA\" keyword              #\n",
    "#=================================================================#\n",
    "DATA\n",
    "\\n\"\"\"\n",
    "fi.write(startstr)\n",
    "for lin in open(taxonomy_file):\n",
    "        lii=lin.split('\\t|\\t')\n",
    "        ott_id = 'ott'+lii[0]\n",
    "        name = lii[2]\n",
    "        rank = lii[3]\n",
    "        if rank in ['class', 'phylum', 'kingdom']:\n",
    "            if ott_id in node_annotation:\n",
    "                fi.write(\"{},{}\\n\".format(ott_id, name))\n",
    "\n",
    "fi.close()\n",
    "                "
   ]
  },
  {
   "cell_type": "code",
   "execution_count": 316,
   "metadata": {},
   "outputs": [
    {
     "data": {
      "text/plain": [
       "21"
      ]
     },
     "execution_count": 316,
     "metadata": {},
     "output_type": "execute_result"
    }
   ],
   "source": [
    "import random\n",
    "random.randint(1,255)"
   ]
  },
  {
   "cell_type": "code",
   "execution_count": 321,
   "metadata": {},
   "outputs": [],
   "source": [
    "fi = open('phylum_colors.txt','w')\n",
    "startstr=\"\"\"TREE_COLORS\n",
    "#use this template to define branch colors and styles, colored ranges and label colors/font styles/backgrounds\n",
    "#lines starting with a hash are comments and ignored during parsing\n",
    "\n",
    "#=================================================================#\n",
    "#                    MANDATORY SETTINGS                           #\n",
    "#=================================================================#\n",
    "#select the separator which is used to delimit the data below (TAB,SPACE or COMMA).This separator must be used throughout this file (except in the SEPARATOR line, which uses space).\n",
    "\n",
    "\n",
    "SEPARATOR SPACE\n",
    "\n",
    "DATA\n",
    "\"\"\"\n",
    "import random\n",
    "fi.write(startstr)\n",
    "for lin in open(taxonomy_file):\n",
    "        lii=lin.split('\\t|\\t')\n",
    "        ott_id = 'ott'+lii[0]\n",
    "        name = lii[2]\n",
    "        rank = lii[3]\n",
    "        if rank in ['phylum']:\n",
    "            if ott_id in node_annotation:\n",
    "                r = random.randint(1,255)\n",
    "                g = random.randint(1,255)\n",
    "                b = random.randint(1,255)\n",
    "                color = \"rgba({},{},{},0.5)\".format(r,g,b)\n",
    "                fi.write(\"{} range {} {}\\n\".format(ott_id, color, name))\n",
    "\n",
    "fi.close()"
   ]
  },
  {
   "cell_type": "code",
   "execution_count": 14,
   "metadata": {},
   "outputs": [],
   "source": [
    "fi = open(\"kingdom_heatmap.txt\", 'w')\n",
    "import math\n",
    "startstr = \"\"\"DATASET_HEATMAP\n",
    "#In heatmaps, each ID is associated to multiple numeric values, which are displayed as a set of colored boxes defined by a color gradient\n",
    "#lines starting with a hash are comments and ignored during parsing\n",
    "#=================================================================#\n",
    "#                    MANDATORY SETTINGS                           #\n",
    "#=================================================================#\n",
    "#select the separator which is used to delimit the data below (TAB,SPACE or COMMA).This separator must be used throughout this file (except in the SEPARATOR line, which uses space).\n",
    "#SEPARATOR TAB\n",
    "SEPARATOR SPACE\n",
    "#SEPARATOR COMMA\n",
    "\n",
    "#label is used in the legend table (can be changed later)\n",
    "DATASET_LABEL Kingdom\n",
    "\n",
    "#dataset color (can be changed later)\n",
    "COLOR #ff0000\n",
    "\n",
    "#define labels for each individual field column\n",
    "FIELD_LABELS number_desc\n",
    "\n",
    "#=================================================================#\n",
    "#                    OPTIONAL SETTINGS                            #\n",
    "#=================================================================#\n",
    "\n",
    "\n",
    "#Heatmaps can have an optional Newick formatted tree assigned. Its leaf IDs must exactly match the dataset FIELD_LABELS.\n",
    "#The tree will be used to sort the dataset fields, and will be displayed above the dataset. It can have branch lengths defined.\n",
    "#All newlines and spaces should be stripped from the tree, and COMMA cannot be used as the dataset separator if a FIELD_TREE is provided.\n",
    "#FIELD_TREE (((f1:0.2,f5:0.5):1,(f2:0.2,f3:0.3):1.2):0.5,(f4:0.1,f6:0.5):0.8):1;\n",
    "\n",
    "\n",
    "\n",
    "#=================================================================#\n",
    "#     all other optional settings can be set or changed later     #\n",
    "#           in the web interface (under 'Datasets' tab)           #\n",
    "#=================================================================#\n",
    "\n",
    "#Each dataset can have a legend, which is defined using LEGEND_XXX fields below\n",
    "#For each row in the legend, there should be one shape, color and label.\n",
    "#Optionally, you can define an exact legend position using LEGEND_POSITION_X and LEGEND_POSITION_Y. To use automatic legend positioning, do NOT define these values\n",
    "#Optionally, shape scaling can be present (LEGEND_SHAPE_SCALES). For each shape, you can define a scaling factor between 0 and 1.\n",
    "#Shape should be a number between 1 and 6, or any protein domain shape definition.\n",
    "#1: square\n",
    "#2: circle\n",
    "#3: star\n",
    "#4: right pointing triangle\n",
    "#5: left pointing triangle\n",
    "#6: checkmark\n",
    "\n",
    "#LEGEND_TITLE,Dataset legend\n",
    "#LEGEND_POSITION_X,100\n",
    "#LEGEND_POSITION_Y,100\n",
    "#LEGEND_SHAPES,1,2,3\n",
    "#LEGEND_COLORS,#ff0000,#00ff00,#0000ff\n",
    "#LEGEND_LABELS,value1,value2,value3\n",
    "#LEGEND_SHAPE_SCALES,1,1,0.5\n",
    "\n",
    "#left margin, used to increase/decrease the spacing to the next dataset. Can be negative, causing datasets to overlap.\n",
    "#MARGIN 0\n",
    "\n",
    "#width of the individual boxes\n",
    "#STRIP_WIDTH 25\n",
    "\n",
    "#always show internal values; if set, values associated to internal nodes will be displayed even if these nodes are not collapsed. It could cause overlapping in the dataset display.\n",
    "#SHOW_INTERNAL 0\n",
    "\n",
    "\n",
    "#show dashed lines between leaf labels and the dataset\n",
    "#DASHED_LINES 1\n",
    "\n",
    "#if a FIELD_TREE is present, it can be hidden by setting this option to 0\n",
    "#SHOW_TREE 1\n",
    "\n",
    "#define the color for the NULL values in the dataset. Use the letter X in the data to define the NULL values\n",
    "#COLOR_NAN #000000\n",
    "\n",
    "#automatically create and display a legend based on the color gradients and values defined below\n",
    "#AUTO_LEGEND 1\n",
    "\n",
    "\n",
    "#define the heatmap gradient colors. Values in the dataset will be mapped onto the corresponding color gradient.\n",
    "COLOR_MIN #0000ff\n",
    "COLOR_MAX #ff0000\n",
    "\n",
    "#you can specify a gradient with three colors (e.g red to yellow to green) by setting 'USE_MID_COLOR' to 1, and specifying the midpoint color\n",
    "#USE_MID_COLOR 1\n",
    "#COLOR_MID #ffff00\n",
    "\n",
    "#By default, color gradients will be calculated based on dataset values. You can force different values to use in the calculation by setting the values below:\n",
    "#USER_MIN_VALUE 0\n",
    "#USER_MID_VALUE 500\n",
    "#USER_MAX_VALUE 1000\n",
    "\n",
    "#border width; if set above 0, a border of specified width (in pixels) will be drawn around individual cells\n",
    "#BORDER_WIDTH,0\n",
    "\n",
    "#border color; used only when BORDER_WIDTH is above 0\n",
    "#BORDER_COLOR,#0000ff\n",
    "\n",
    "\n",
    "#Internal tree nodes can be specified using IDs directly, or using the 'last common ancestor' method described in iTOL help pages\n",
    "#=================================================================#\n",
    "#       Actual data follows after the \"DATA\" keyword              #\n",
    "#=================================================================#\n",
    "DATA\\n\n",
    "\"\"\"\n",
    "fi.write(startstr)\n",
    "val = 0\n",
    "for lin in open(taxonomy_file):\n",
    "        lii=lin.split('\\t|\\t')\n",
    "        ott_id = 'ott'+lii[0]\n",
    "        name = lii[2]\n",
    "        rank = lii[3]\n",
    "        if rank in ['kingdom']:\n",
    "            val += 50\n",
    "            if ott_id in node_annotation:\n",
    "                fi.write(\"{} {}\\n\".format(node, val))\n",
    "        \n",
    "fi.close()\n"
   ]
  },
  {
   "cell_type": "code",
   "execution_count": 4,
   "metadata": {},
   "outputs": [
    {
     "ename": "NameError",
     "evalue": "name 'node_annotation' is not defined",
     "output_type": "error",
     "traceback": [
      "\u001b[0;31m---------------------------------------------------------------------------\u001b[0m",
      "\u001b[0;31mNameError\u001b[0m                                 Traceback (most recent call last)",
      "\u001b[0;32m<ipython-input-4-a5ad147069eb>\u001b[0m in \u001b[0;36m<module>\u001b[0;34m\u001b[0m\n\u001b[1;32m     36\u001b[0m         \u001b[0mrank\u001b[0m \u001b[0;34m=\u001b[0m \u001b[0mlii\u001b[0m\u001b[0;34m[\u001b[0m\u001b[0;36m3\u001b[0m\u001b[0;34m]\u001b[0m\u001b[0;34m\u001b[0m\u001b[0;34m\u001b[0m\u001b[0m\n\u001b[1;32m     37\u001b[0m         \u001b[0;32mif\u001b[0m \u001b[0mname\u001b[0m \u001b[0;32min\u001b[0m \u001b[0mname_labels\u001b[0m\u001b[0;34m:\u001b[0m\u001b[0;34m\u001b[0m\u001b[0;34m\u001b[0m\u001b[0m\n\u001b[0;32m---> 38\u001b[0;31m             \u001b[0;32mif\u001b[0m \u001b[0mott_id\u001b[0m \u001b[0;32min\u001b[0m \u001b[0mnode_annotation\u001b[0m\u001b[0;34m:\u001b[0m\u001b[0;34m\u001b[0m\u001b[0;34m\u001b[0m\u001b[0m\n\u001b[0m\u001b[1;32m     39\u001b[0m                 \u001b[0mr\u001b[0m \u001b[0;34m=\u001b[0m \u001b[0mrandom\u001b[0m\u001b[0;34m.\u001b[0m\u001b[0mrandint\u001b[0m\u001b[0;34m(\u001b[0m\u001b[0;36m1\u001b[0m\u001b[0;34m,\u001b[0m\u001b[0;36m255\u001b[0m\u001b[0;34m)\u001b[0m\u001b[0;34m\u001b[0m\u001b[0;34m\u001b[0m\u001b[0m\n\u001b[1;32m     40\u001b[0m                 \u001b[0mg\u001b[0m \u001b[0;34m=\u001b[0m \u001b[0mrandom\u001b[0m\u001b[0;34m.\u001b[0m\u001b[0mrandint\u001b[0m\u001b[0;34m(\u001b[0m\u001b[0;36m1\u001b[0m\u001b[0;34m,\u001b[0m\u001b[0;36m255\u001b[0m\u001b[0;34m)\u001b[0m\u001b[0;34m\u001b[0m\u001b[0;34m\u001b[0m\u001b[0m\n",
      "\u001b[0;31mNameError\u001b[0m: name 'node_annotation' is not defined"
     ]
    }
   ],
   "source": [
    "fi = open('kingdom_colors.txt','w')\n",
    "startstr=\"\"\"TREE_COLORS\n",
    "#use this template to define branch colors and styles, colored ranges and label colors/font styles/backgrounds\n",
    "#lines starting with a hash are comments and ignored during parsing\n",
    "\n",
    "#=================================================================#\n",
    "#                    MANDATORY SETTINGS                           #\n",
    "#=================================================================#\n",
    "#select the separator which is used to delimit the data below (TAB,SPACE or COMMA).This separator must be used throughout this file (except in the SEPARATOR line, which uses space).\n",
    "\n",
    "\n",
    "SEPARATOR SPACE\n",
    "\n",
    "DATA\n",
    "\"\"\"\n",
    "import random\n",
    "name_labels = ['Bacteria',\n",
    "               'Archaea',\n",
    "               'Chloroplastida',\n",
    "               'Chordata',\n",
    "               'Ecdysozoa',\n",
    "               'Lophotrochozoa',\n",
    "               'Cnidaria',\n",
    "               'Fungi',\n",
    "               'SAR',\n",
    "               'Arthropoda',\n",
    "               'Echinoidea',\n",
    "               'Nematoda',\n",
    "               'Porifera',\n",
    "               'Excavata']\n",
    "fi.write(startstr)\n",
    "for lin in open(taxonomy_file):\n",
    "        lii=lin.split('\\t|\\t')\n",
    "        ott_id = 'ott'+lii[0]\n",
    "        name = lii[2]\n",
    "        rank = lii[3]\n",
    "        if name in name_labels:\n",
    "            if ott_id in node_annotation:\n",
    "                r = random.randint(1,255)\n",
    "                g = random.randint(1,255)\n",
    "                b = random.randint(1,255)\n",
    "                color = \"rgba({},{},{},0.5)\".format(r,g,b)\n",
    "                fi.write(\"{} range {} {}\\n\".format(ott_id, color, name))\n",
    "        \n",
    "        \n",
    "\n",
    "fi.close()"
   ]
  },
  {
   "cell_type": "raw",
   "metadata": {},
   "source": [
    "lii"
   ]
  },
  {
   "cell_type": "code",
   "execution_count": 242,
   "metadata": {},
   "outputs": [
    {
     "data": {
      "text/plain": [
       "{'node_id': 'mrcaott26521ott26533',\n",
       " 'num_tips': 57,\n",
       " 'query': 'mrcaott26521ott26533',\n",
       " 'source_id_map': {'pg_437@tree6242': {'git_sha': '3008105691283414a18a6c8a728263b2aa8e7960',\n",
       "   'study_id': 'pg_437',\n",
       "   'tree_id': 'tree6242'}},\n",
       " 'supported_by': {'pg_437@tree6242': 'node1082117'},\n",
       " 'synth_id': 'opentree12.3'}"
      ]
     },
     "execution_count": 242,
     "metadata": {},
     "output_type": "execute_result"
    }
   ],
   "source": [
    "nid_resp['mrcaott26521ott26533']"
   ]
  },
  {
   "cell_type": "code",
   "execution_count": 164,
   "metadata": {},
   "outputs": [],
   "source": [
    "testtreeid = OT.synth_induced_tree(node_ids = test_nodes, label_format=\"id\")\n",
    "testtreeid.tree.write(path=\"test_id_label.tre\",schema=\"newick\")"
   ]
  },
  {
   "cell_type": "code",
   "execution_count": 181,
   "metadata": {},
   "outputs": [
    {
     "name": "stdout",
     "output_type": "stream",
     "text": [
      "{'families': [], 'studies': 2, 'strict_support': 2, 'conflict': 0, 'total_descendents': 30}\n",
      "{'families': [], 'studies': 5, 'strict_support': 5, 'conflict': 0, 'total_descendents': 5}\n"
     ]
    }
   ],
   "source": [
    "print(node_annotation['ott5750755'])\n",
    "print(node_annotation['ott36015'])"
   ]
  },
  {
   "cell_type": "code",
   "execution_count": 206,
   "metadata": {},
   "outputs": [],
   "source": [
    "fi = open(\"test_conflict_anno.txt\", 'w')\n",
    "startstr = \"\"\"DATASET_STYLE\n",
    "SEPARATOR TAB\n",
    "\n",
    "#label is used in the legend table (can be changed later)\n",
    "DATASET_LABEL\\t{}\n",
    "\n",
    "#dataset color (can be changed later)\n",
    "COLOR\\t#ffff00\n",
    "\n",
    "DATA\\n\"\"\".format(\"conflict\")\n",
    "fi.write(startstr)\n",
    "for node in test_nodes:\n",
    "    if node_annotation[node]['conflict'] > 0:\n",
    "        relconf = node_annotation[node]['conflict']/5\n",
    "        r = 255*relconf\n",
    "        g = 0\n",
    "        b = 0\n",
    "        color = \"rgba({}, {}, {}, {})\".format(r, g, b, 0.25+relconf)\n",
    "        fi.write(\"{}\\tbranch\\tclade\\t{}\\t1\\tnormal\\n\".format(node,color))\n",
    "        \n",
    "fi.close()"
   ]
  },
  {
   "cell_type": "code",
   "execution_count": 203,
   "metadata": {},
   "outputs": [],
   "source": [
    "fi = open(\"test_support_anno.txt\", 'w')\n",
    "startstr = \"\"\"DATASET_STYLE\n",
    "SEPARATOR TAB\n",
    "\n",
    "#label is used in the legend table (can be changed later)\n",
    "DATASET_LABEL\\t{}\n",
    "\n",
    "#dataset color (can be changed later)\n",
    "COLOR\\t#ffff00\n",
    "\n",
    "DATA\\n\"\"\".format(\"Support\")\n",
    "fi.write(startstr)\n",
    "for node in test_nodes:\n",
    "    if node_annotation[node]['studies']:\n",
    "        relsupport = node_annotation[node]['studies']/5\n",
    "        r = 0\n",
    "        g = 255*relsupport\n",
    "        b = 255*(1-relsupport)\n",
    "        color = \"rgba({}, {}, {}, {})\".format(r, g, b, 0.25+relsupport)\n",
    "        fi.write(\"{}\\tbranch\\tclade\\t{}\\t1\\tnormal\\n\".format(node,color))\n",
    "        \n",
    "fi.close()"
   ]
  },
  {
   "cell_type": "code",
   "execution_count": 168,
   "metadata": {},
   "outputs": [],
   "source": [
    "fi = open(\"test_heatmap.txt\", 'w')\n",
    "startstr = \"\"\"DATASET_HEATMAP\n",
    "#In heatmaps, each ID is associated to multiple numeric values, which are displayed as a set of colored boxes defined by a color gradient\n",
    "#lines starting with a hash are comments and ignored during parsing\n",
    "#=================================================================#\n",
    "#                    MANDATORY SETTINGS                           #\n",
    "#=================================================================#\n",
    "#select the separator which is used to delimit the data below (TAB,SPACE or COMMA).This separator must be used throughout this file (except in the SEPARATOR line, which uses space).\n",
    "#SEPARATOR TAB\n",
    "SEPARATOR SPACE\n",
    "#SEPARATOR COMMA\n",
    "\n",
    "#label is used in the legend table (can be changed later)\n",
    "DATASET_LABEL example_heatmap\n",
    "\n",
    "#dataset color (can be changed later)\n",
    "COLOR #ff0000\n",
    "\n",
    "#define labels for each individual field column\n",
    "FIELD_LABELS support conflict\n",
    "\n",
    "#=================================================================#\n",
    "#                    OPTIONAL SETTINGS                            #\n",
    "#=================================================================#\n",
    "\n",
    "\n",
    "#Heatmaps can have an optional Newick formatted tree assigned. Its leaf IDs must exactly match the dataset FIELD_LABELS.\n",
    "#The tree will be used to sort the dataset fields, and will be displayed above the dataset. It can have branch lengths defined.\n",
    "#All newlines and spaces should be stripped from the tree, and COMMA cannot be used as the dataset separator if a FIELD_TREE is provided.\n",
    "#FIELD_TREE (((f1:0.2,f5:0.5):1,(f2:0.2,f3:0.3):1.2):0.5,(f4:0.1,f6:0.5):0.8):1;\n",
    "\n",
    "\n",
    "\n",
    "#=================================================================#\n",
    "#     all other optional settings can be set or changed later     #\n",
    "#           in the web interface (under 'Datasets' tab)           #\n",
    "#=================================================================#\n",
    "\n",
    "#Each dataset can have a legend, which is defined using LEGEND_XXX fields below\n",
    "#For each row in the legend, there should be one shape, color and label.\n",
    "#Optionally, you can define an exact legend position using LEGEND_POSITION_X and LEGEND_POSITION_Y. To use automatic legend positioning, do NOT define these values\n",
    "#Optionally, shape scaling can be present (LEGEND_SHAPE_SCALES). For each shape, you can define a scaling factor between 0 and 1.\n",
    "#Shape should be a number between 1 and 6, or any protein domain shape definition.\n",
    "#1: square\n",
    "#2: circle\n",
    "#3: star\n",
    "#4: right pointing triangle\n",
    "#5: left pointing triangle\n",
    "#6: checkmark\n",
    "\n",
    "#LEGEND_TITLE,Dataset legend\n",
    "#LEGEND_POSITION_X,100\n",
    "#LEGEND_POSITION_Y,100\n",
    "#LEGEND_SHAPES,1,2,3\n",
    "#LEGEND_COLORS,#ff0000,#00ff00,#0000ff\n",
    "#LEGEND_LABELS,value1,value2,value3\n",
    "#LEGEND_SHAPE_SCALES,1,1,0.5\n",
    "\n",
    "#left margin, used to increase/decrease the spacing to the next dataset. Can be negative, causing datasets to overlap.\n",
    "#MARGIN 0\n",
    "\n",
    "#width of the individual boxes\n",
    "#STRIP_WIDTH 25\n",
    "\n",
    "#always show internal values; if set, values associated to internal nodes will be displayed even if these nodes are not collapsed. It could cause overlapping in the dataset display.\n",
    "#SHOW_INTERNAL 0\n",
    "\n",
    "\n",
    "#show dashed lines between leaf labels and the dataset\n",
    "#DASHED_LINES 1\n",
    "\n",
    "#if a FIELD_TREE is present, it can be hidden by setting this option to 0\n",
    "#SHOW_TREE 1\n",
    "\n",
    "#define the color for the NULL values in the dataset. Use the letter X in the data to define the NULL values\n",
    "#COLOR_NAN #000000\n",
    "\n",
    "#automatically create and display a legend based on the color gradients and values defined below\n",
    "#AUTO_LEGEND 1\n",
    "\n",
    "\n",
    "#define the heatmap gradient colors. Values in the dataset will be mapped onto the corresponding color gradient.\n",
    "COLOR_MIN #ff0000\n",
    "COLOR_MAX #0000ff\n",
    "\n",
    "#you can specify a gradient with three colors (e.g red to yellow to green) by setting 'USE_MID_COLOR' to 1, and specifying the midpoint color\n",
    "#USE_MID_COLOR 1\n",
    "#COLOR_MID #ffff00\n",
    "\n",
    "#By default, color gradients will be calculated based on dataset values. You can force different values to use in the calculation by setting the values below:\n",
    "#USER_MIN_VALUE 0\n",
    "#USER_MID_VALUE 500\n",
    "#USER_MAX_VALUE 1000\n",
    "\n",
    "#border width; if set above 0, a border of specified width (in pixels) will be drawn around individual cells\n",
    "#BORDER_WIDTH,0\n",
    "\n",
    "#border color; used only when BORDER_WIDTH is above 0\n",
    "#BORDER_COLOR,#0000ff\n",
    "\n",
    "\n",
    "#Internal tree nodes can be specified using IDs directly, or using the 'last common ancestor' method described in iTOL help pages\n",
    "#=================================================================#\n",
    "#       Actual data follows after the \"DATA\" keyword              #\n",
    "#=================================================================#\n",
    "DATA\\n\n",
    "\"\"\"\n",
    "fi.write(startstr)\n",
    "for node in test_nodes:\n",
    "    support = node_annotation[node]['studies']\n",
    "    conflict = node_annotation[node]['conflict']\n",
    "    \n",
    "    fi.write(\"{} {} {}\\n\".format(node, support, conflict))\n",
    "        \n",
    "fi.close()"
   ]
  },
  {
   "cell_type": "code",
   "execution_count": 81,
   "metadata": {},
   "outputs": [],
   "source": [
    "color = 'rgb(255, 204, 153, 0.5)'\n",
    "write_annotation(not_captured, color, 'annotest', \"annotest.txt\")"
   ]
  },
  {
   "cell_type": "code",
   "execution_count": null,
   "metadata": {},
   "outputs": [],
   "source": [
    "fi = open(\"tip_annotation.tsv\",'w')\n",
    "fi.write('ottid \\t sources \\t node_id \\t tip_in_tree \\t descendent_taxa notes\\n')\n",
    "for fam in fams_in_tree:\n",
    "        ott_id = fam_dict[fam][0]\n",
    "        sources = fam_dict[fam][4]\n",
    "        node_id = fams_node_id[fam]\n",
    "        notes = ''\n",
    "        if node_id != None:\n",
    "            if len(node_ids[node_id]) > 1:\n",
    "                taxa = \" - \".join(list(node_ids[node_id]))\n",
    "                notes = 'Maps to same node as: ' + taxa\n",
    "        fi.write(\"{}\\t{}\\t{}\\t{}\\t{}\\n\".format(fam, ott_id, sources, node_id, notes))\n",
    "\n",
    "fi.close()"
   ]
  },
  {
   "cell_type": "code",
   "execution_count": 80,
   "metadata": {},
   "outputs": [],
   "source": [
    "def write_annotation(labels, color, name, outputfile):\n",
    "    \"\"\"Write an itol annotation file\"\"\"\n",
    "    fi = open(outputfile, 'a')\n",
    "    startstr = \"\"\"DATASET_STYLE\n",
    "SEPARATOR TAB\n",
    "\n",
    "#label is used in the legend table (can be changed later)\n",
    "DATASET_LABEL,{}\n",
    "\n",
    "#dataset color (can be changed later)\n",
    "COLOR,#ffff00\n",
    "\n",
    "DATA\\n\"\"\".format(name)\n",
    "    fi.write(startstr)\n",
    "    for label in labels:\n",
    "        fi.write(\"{}\\tbranch\\tclade\\t{}\\t1\\tnormal\\n\".format(label,color))"
   ]
  },
  {
   "cell_type": "code",
   "execution_count": 45,
   "metadata": {},
   "outputs": [],
   "source": [
    "fi = open(\"families_in_tree.tsv\",'w')\n",
    "fi.write('name \\t ottid \\t sources \\t node_id \\t tip_in_tree \\t descendent_taxa notes\\n')\n",
    "for fam in fams_in_tree:\n",
    "        ott_id = fam_dict[fam][0]\n",
    "        sources = fam_dict[fam][4]\n",
    "        node_id = fams_node_id[fam]\n",
    "        notes = ''\n",
    "        if node_id != None:\n",
    "            if len(node_ids[node_id]) > 1:\n",
    "                taxa = \" - \".join(list(node_ids[node_id]))\n",
    "                notes = 'Maps to same node as: ' + taxa\n",
    "        fi.write(\"{}\\t{}\\t{}\\t{}\\t{}\\n\".format(fam, ott_id, sources, node_id, notes))\n",
    "\n",
    "fi.close()"
   ]
  },
  {
   "cell_type": "code",
   "execution_count": 52,
   "metadata": {},
   "outputs": [],
   "source": [
    "def remove_problem_characters(tree, prob_char = \"():#\", replace_w = '?'):\n",
    "    problem_characters = set(prob_char)\n",
    "    for node in tree:\n",
    "        if node.taxon:\n",
    "            for char in problem_characters:\n",
    "                node.taxon.label = node.taxon.label.replace(char,replace_w)\n",
    "        elif node.label:\n",
    "            for char in problem_characters:\n",
    "                node.label = node.label.replace(char,replace_w)\n",
    "    return None"
   ]
  },
  {
   "cell_type": "code",
   "execution_count": 53,
   "metadata": {},
   "outputs": [],
   "source": [
    "import copy\n",
    "local_tree = copy.deepcopy(synthtree.tree)\n",
    "\n",
    "remove_problem_characters(local_tree)\n",
    "local_tree.write(path=\"allfam.tre\",schema=\"newick\")"
   ]
  },
  {
   "cell_type": "code",
   "execution_count": 59,
   "metadata": {},
   "outputs": [],
   "source": [
    "rev_fam =  {'ott{}'.format(fam_dict[k][0]):k for k in fam_dict}\n",
    "\n",
    "for node in local_tree:\n",
    "    if node.taxon:\n",
    "        if node.taxon.label in node_ids:\n",
    "            fam = '-'.join(list(node_ids[node.taxon.label]))\n",
    "            node.taxon.label = \"{} broken - MRCA {}\".format(fam, node.taxon.label)\n",
    "    elif node.label:\n",
    "         if node.label in node_ids:\n",
    "            fam = '-'.join(list(node_ids[node.label]))\n",
    "            node.label = \"{} broken - MRCA {}\".format(fam, node.label)"
   ]
  },
  {
   "cell_type": "code",
   "execution_count": 57,
   "metadata": {},
   "outputs": [
    {
     "data": {
      "text/plain": [
       "455"
      ]
     },
     "execution_count": 57,
     "metadata": {},
     "output_type": "execute_result"
    }
   ],
   "source": [
    "# Don't forget to cite your friendly phylogeneticists!\n",
    "studies = synthtree.response_dict['supporting_studies']\n",
    "len(studies)"
   ]
  },
  {
   "cell_type": "code",
   "execution_count": 58,
   "metadata": {},
   "outputs": [],
   "source": [
    "cites = OT.get_citations(studies) #this can be a bit slow\n",
    "fi = open(\"all_famcites.txt\",\"w\")\n",
    "fi.write(cites)\n",
    "fi.close()"
   ]
  },
  {
   "cell_type": "code",
   "execution_count": 60,
   "metadata": {},
   "outputs": [],
   "source": [
    "local_tree.write(path=\"allfam_labeled.tre\",schema=\"newick\")"
   ]
  },
  {
   "cell_type": "code",
   "execution_count": 23,
   "metadata": {},
   "outputs": [
    {
     "name": "stdout",
     "output_type": "stream",
     "text": [
      "total families 21933\n",
      "in tree 10104\n",
      "not in tree 11829\n",
      "monophyletic 9240\n",
      "not monophyletic 864\n",
      "tips in tree 9306\n"
     ]
    }
   ],
   "source": [
    "#Table of values\n",
    "print('total families', len(fam_dict))\n",
    "print('in tree', len(fams_in_tree))\n",
    "print('not in tree', len(not_in_tree))\n",
    "print('monophyletic', len(monophy))\n",
    "print('not monophyletic', len(non_monophy))\n",
    "print('tips in tree', len([leaf for leaf in synthtree.tree.leaf_node_iter()]))\n"
   ]
  }
 ],
 "metadata": {
  "kernelspec": {
   "display_name": "Python 3",
   "language": "python",
   "name": "python3"
  },
  "language_info": {
   "codemirror_mode": {
    "name": "ipython",
    "version": 3
   },
   "file_extension": ".py",
   "mimetype": "text/x-python",
   "name": "python",
   "nbconvert_exporter": "python",
   "pygments_lexer": "ipython3",
   "version": "3.8.10"
  }
 },
 "nbformat": 4,
 "nbformat_minor": 2
}
