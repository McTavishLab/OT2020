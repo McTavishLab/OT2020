{
 "cells": [
  {
   "cell_type": "code",
   "execution_count": 11,
   "metadata": {},
   "outputs": [],
   "source": [
    "import genbank_tree_funcs"
   ]
  },
  {
   "cell_type": "code",
   "execution_count": 12,
   "metadata": {},
   "outputs": [],
   "source": [
    "import os\n",
    "import json\n",
    "import dendropy\n",
    "from opentree import OT\n",
    "from pygbif import occurrences as occ"
   ]
  },
  {
   "cell_type": "code",
   "execution_count": 13,
   "metadata": {},
   "outputs": [],
   "source": [
    "taxonomy_file = \"../../ott3.2/taxonomy.tsv\"\n",
    "fam_synth_node_info_path = 'fam_synth_node_info.json'\n",
    "#tip_dict_path = 'cluster_tip_info.json'\n",
    "tip_dict_path = 'tip_dict.json'\n",
    "\n",
    "\n",
    "assert os.path.exists(taxonomy_file)\n",
    "assert os.path.exists(fam_synth_node_info_path)\n",
    "#assert os.path.exists(tip_dict_path)\n"
   ]
  },
  {
   "cell_type": "code",
   "execution_count": 5,
   "metadata": {},
   "outputs": [],
   "source": [
    "all_tax_dict = {}\n",
    "header = ['ottid', 'parent_ottid', 'name','rank','source','uniqname','flags']\n",
    "for lin in open(taxonomy_file):\n",
    "        lii=lin.split('\\t|\\t')\n",
    "        all_tax_dict[lii[0]]=dict(zip(header, lii))"
   ]
  },
  {
   "cell_type": "code",
   "execution_count": 14,
   "metadata": {},
   "outputs": [],
   "source": [
    "fams_node_id = json.load(open(fam_synth_node_info_path))\n",
    "\n",
    "node_ids = {}\n",
    "for fam in fams_node_id:\n",
    "    nid = fams_node_id[fam]\n",
    "    if nid:\n",
    "        if nid not in node_ids:\n",
    "            node_ids[nid] = set()\n",
    "        node_ids[nid].add(fam)"
   ]
  },
  {
   "cell_type": "code",
   "execution_count": 15,
   "metadata": {},
   "outputs": [],
   "source": [
    "synthtreeid = OT.synth_induced_tree(node_ids = list(node_ids.keys()), label_format=\"id\")\n",
    "fam_synth_tips = [leaf.taxon.label for leaf in synthtreeid.tree.leaf_node_iter()]"
   ]
  },
  {
   "cell_type": "code",
   "execution_count": 16,
   "metadata": {},
   "outputs": [
    {
     "data": {
      "text/plain": [
       "9306"
      ]
     },
     "execution_count": 16,
     "metadata": {},
     "output_type": "execute_result"
    }
   ],
   "source": [
    "len(fam_synth_tips)"
   ]
  },
  {
   "cell_type": "code",
   "execution_count": 13,
   "metadata": {},
   "outputs": [],
   "source": [
    "# Download synth tree from https://tree.opentreeoflife.org/about/synthesis-release/v12.3\n",
    "#tips_over_500 = set()\n",
    "\n",
    "#fi = '/home/ejmctavish/projects/otapi/opentree12.3_tree/labelled_supertree/labelled_supertree.tre'\n",
    "#total_synth = dendropy.Tree.get(path=fi, schema=\"newick\")\n",
    "#for node in total_synth:\n",
    "#    if len(node.leaf_nodes()) > 500:\n",
    "##        tips_over_500.add(node.label)\n",
    "#        synthtreeid_over_500 = OT.synth_induced_tree(node_ids = list(tips_over_500), label_format=\"id\")\n",
    "#synth_tips_over_500 = [leaf.taxon.label for leaf in synthtreeid_over_500.tree.leaf_node_iter()]\n",
    "#synth_tips_over_500.sort()\n",
    "#len(synth_tips_over_500)\n",
    "#\n",
    "#with open('synth_tips_over_500.json', 'w') as outfile:\n",
    "#    json.dump(synth_tips_over_500, outfile)"
   ]
  },
  {
   "cell_type": "code",
   "execution_count": null,
   "metadata": {},
   "outputs": [],
   "source": [
    "synth_tips_over_500 = json.load(open('synth_tips_over_500.json'))"
   ]
  },
  {
   "cell_type": "code",
   "execution_count": null,
   "metadata": {},
   "outputs": [],
   "source": [
    "#node_tips = genbank_tree_funcs.get_tips_for_nodes(synth_tips_over_500)\n",
    "node_tips = json.load(open('node_tip.json'))"
   ]
  },
  {
   "cell_type": "code",
   "execution_count": null,
   "metadata": {},
   "outputs": [],
   "source": [
    "#with open('node_tip.json', 'w') as outfile:\n",
    "#    json.dump(node_tips, outfile)"
   ]
  },
  {
   "cell_type": "code",
   "execution_count": null,
   "metadata": {},
   "outputs": [],
   "source": [
    "#tip_dict = json.load(open(tip_dict_path))"
   ]
  },
  {
   "cell_type": "code",
   "execution_count": null,
   "metadata": {},
   "outputs": [],
   "source": [
    "!ls *.json"
   ]
  },
  {
   "cell_type": "code",
   "execution_count": 17,
   "metadata": {},
   "outputs": [],
   "source": [
    "tip_dict = {}\n",
    "for i in range(10):\n",
    "    tmp_dict = json.load(open(\"tip_dict_{}.json\".format(i)))\n",
    "    tip_dict.update(tmp_dict)\n",
    "    tmp_dict = json.load(open(\"cluster_tip_info.json\"))\n",
    "    tip_dict.update(tmp_dict)\n",
    "    tmp_dict = json.load(open(\"tip_dict_local.json\"))\n",
    "    tip_dict.update(tmp_dict)"
   ]
  },
  {
   "cell_type": "code",
   "execution_count": 22,
   "metadata": {},
   "outputs": [
    {
     "data": {
      "text/plain": [
       "9"
      ]
     },
     "execution_count": 22,
     "metadata": {},
     "output_type": "execute_result"
    }
   ],
   "source": [
    "i"
   ]
  },
  {
   "cell_type": "code",
   "execution_count": 23,
   "metadata": {},
   "outputs": [
    {
     "data": {
      "text/plain": [
       "2391916"
      ]
     },
     "execution_count": 23,
     "metadata": {},
     "output_type": "execute_result"
    }
   ],
   "source": [
    "len(tip_dict)"
   ]
  },
  {
   "cell_type": "code",
   "execution_count": 18,
   "metadata": {},
   "outputs": [
    {
     "ename": "NameError",
     "evalue": "name 'synth_tips_over_500' is not defined",
     "output_type": "error",
     "traceback": [
      "\u001b[0;31m---------------------------------------------------------------------------\u001b[0m",
      "\u001b[0;31mNameError\u001b[0m                                 Traceback (most recent call last)",
      "\u001b[0;32m<ipython-input-18-0d5242cb1278>\u001b[0m in \u001b[0;36m<module>\u001b[0;34m\u001b[0m\n\u001b[0;32m----> 1\u001b[0;31m \u001b[0mnode_annotation\u001b[0m \u001b[0;34m=\u001b[0m \u001b[0mgenbank_tree_funcs\u001b[0m\u001b[0;34m.\u001b[0m\u001b[0mgenerate_node_annotations\u001b[0m\u001b[0;34m(\u001b[0m\u001b[0msynth_tips_over_500\u001b[0m\u001b[0;34m,\u001b[0m \u001b[0mnode_tips\u001b[0m\u001b[0;34m,\u001b[0m \u001b[0mtip_dict\u001b[0m\u001b[0;34m)\u001b[0m\u001b[0;34m\u001b[0m\u001b[0;34m\u001b[0m\u001b[0m\n\u001b[0m",
      "\u001b[0;31mNameError\u001b[0m: name 'synth_tips_over_500' is not defined"
     ]
    }
   ],
   "source": [
    "node_annotation = genbank_tree_funcs.generate_node_annotations(synth_tips_over_500, node_tips, tip_dict)"
   ]
  },
  {
   "cell_type": "code",
   "execution_count": null,
   "metadata": {},
   "outputs": [],
   "source": [
    "node_annotation['ott487331']"
   ]
  },
  {
   "cell_type": "code",
   "execution_count": null,
   "metadata": {},
   "outputs": [],
   "source": []
  },
  {
   "cell_type": "code",
   "execution_count": null,
   "metadata": {},
   "outputs": [],
   "source": [
    "genbank_tree_funcs.write_itol_heatmap(\"genomes_heatmap.txt\", \"Genome_counts\", \"Genome_count\", node_annotation, 'genomes')\n",
    "genbank_tree_funcs.write_itol_heatmap(\"genbank.txt\", \"genbank_counts\", \"genbank_count\", node_annotation, 'genbank')\n",
    "genbank_tree_funcs.write_itol_heatmap(\"GBIF_heatmap.txt\", \"GBIF_counts\", \"GBIF_count\", node_annotation, 'gbif_occ')\n",
    "genbank_tree_funcs.write_itol_heatmap(\"genbank_perc.txt\", \"genbank_perc\", \"genbank_perc\", node_annotation, 'has_gbif_dat_perc')\n",
    "genbank_tree_funcs.write_itol_heatmap(\"GBIF_perc.txt\", \"GBIF_perc\", \"GBIF_perc\", node_annotation, 'has_nuc_dat_perc')\n",
    "genbank_tree_funcs.write_itol_heatmap(\"tips_counted.txt\", \"Tips_counted\", \"tips_counted\", node_annotation, 'tips_counted')\n",
    "genbank_tree_funcs.write_itol_heatmap(\"genome_perc.txt\", \"genome_perc\", \"genome_perc\", node_annotation, 'has_genome_dat_perc')\n"
   ]
  },
  {
   "cell_type": "code",
   "execution_count": null,
   "metadata": {},
   "outputs": [],
   "source": [
    "synthtreeid = OT.synth_induced_tree(node_ids = list(synth_tips_over_500), label_format=\"id\")\n"
   ]
  },
  {
   "cell_type": "code",
   "execution_count": null,
   "metadata": {},
   "outputs": [],
   "source": [
    "synthtreeid.tree.write(path=\"500_label.tre\",schema=\"newick\")"
   ]
  },
  {
   "cell_type": "code",
   "execution_count": null,
   "metadata": {},
   "outputs": [],
   "source": [
    "fi = open('clade_colors.txt','w')\n",
    "startstr=\"\"\"TREE_COLORS\n",
    "#use this template to define branch colors and styles, colored ranges and label colors/font styles/backgrounds\n",
    "#lines starting with a hash are comments and ignored during parsing\n",
    "\n",
    "#=================================================================#\n",
    "#                    MANDATORY SETTINGS                           #\n",
    "#=================================================================#\n",
    "#select the separator which is used to delimit the data below (TAB,SPACE or COMMA).This separator must be used throughout this file (except in the SEPARATOR line, which uses space).\n",
    "\n",
    "\n",
    "SEPARATOR SPACE\n",
    "\n",
    "DATA\n",
    "\"\"\"\n",
    "import random\n",
    "name_labels = ['Bacteria',\n",
    "               'Archaea',\n",
    "               'Chloroplastida',\n",
    "               'Chordata',\n",
    "               'Lophotrochozoa',\n",
    "               'Cnidaria',\n",
    "               'Fungi',\n",
    "               'SAR',\n",
    "               'Arthropoda',\n",
    "               'Echinoidea',\n",
    "               'Nematoda',\n",
    "               'Porifera',\n",
    "               'Excavata']\n",
    "fi.write(startstr)\n",
    "for lin in open(taxonomy_file):\n",
    "        lii=lin.split('\\t|\\t')\n",
    "        ott_id = 'ott'+lii[0]\n",
    "        name = lii[2]\n",
    "        rank = lii[3]\n",
    "        if name in name_labels:\n",
    "            #print(lii)\n",
    "            #if ott_id in node_annotation:\n",
    "                r = random.randint(1,255)\n",
    "                g = random.randint(1,255)\n",
    "                b = random.randint(1,255)\n",
    "                color = \"rgba({},{},{},0.5)\".format(r,g,b)\n",
    "                fi.write(\"{} range {} {}\\n\".format(ott_id, color, name))\n",
    "        \n",
    "        \n",
    "\n",
    "fi.close()"
   ]
  },
  {
   "cell_type": "code",
   "execution_count": null,
   "metadata": {},
   "outputs": [],
   "source": [
    "nodes = list(synth_tips_over_500)\n",
    "still_missing = []\n",
    "for nid in nodes:\n",
    "    for tip in node_tips[nid]:\n",
    "            if tip not in tip_dict:\n",
    "                still_missing.append(tip)"
   ]
  },
  {
   "cell_type": "code",
   "execution_count": null,
   "metadata": {},
   "outputs": [],
   "source": [
    "len(still_missing)"
   ]
  },
  {
   "cell_type": "code",
   "execution_count": null,
   "metadata": {},
   "outputs": [],
   "source": [
    "still_missing.sort()"
   ]
  },
  {
   "cell_type": "code",
   "execution_count": null,
   "metadata": {},
   "outputs": [],
   "source": [
    "splits = {}\n",
    "for i in range(10):\n",
    "    splits[str(i)] = 0\n",
    "for item in still_missing:\n",
    "    splits[item[-1]] += 1"
   ]
  },
  {
   "cell_type": "code",
   "execution_count": null,
   "metadata": {},
   "outputs": [],
   "source": [
    "splits"
   ]
  },
  {
   "cell_type": "code",
   "execution_count": 18,
   "metadata": {},
   "outputs": [],
   "source": [
    "#fam_node_tips = genbank_tree_funcs.get_tips_for_nodes(fam_synth_tips)\n",
    "fam_node_tips = json.load(open('fam_node_tip.json'))"
   ]
  },
  {
   "cell_type": "code",
   "execution_count": 10,
   "metadata": {},
   "outputs": [
    {
     "data": {
      "text/plain": [
       "0"
      ]
     },
     "execution_count": 10,
     "metadata": {},
     "output_type": "execute_result"
    }
   ],
   "source": [
    "nodes = list(fam_node_tips)\n",
    "still_missing = []\n",
    "for nid in nodes:\n",
    "    for tip in fam_node_tips[nid]:\n",
    "            if tip not in tip_dict:\n",
    "                still_missing.append(tip)\n",
    "                \n",
    "len(still_missing)"
   ]
  },
  {
   "cell_type": "code",
   "execution_count": 11,
   "metadata": {},
   "outputs": [
    {
     "data": {
      "text/plain": [
       "{'0': 0,\n",
       " '1': 0,\n",
       " '2': 0,\n",
       " '3': 0,\n",
       " '4': 0,\n",
       " '5': 0,\n",
       " '6': 0,\n",
       " '7': 0,\n",
       " '8': 0,\n",
       " '9': 0}"
      ]
     },
     "execution_count": 11,
     "metadata": {},
     "output_type": "execute_result"
    }
   ],
   "source": [
    "splits = {}\n",
    "for i in range(10):\n",
    "    splits[str(i)] = 0\n",
    "for item in still_missing:\n",
    "    splits[item[-1]] += 1\n",
    "\n",
    "splits"
   ]
  },
  {
   "cell_type": "code",
   "execution_count": null,
   "metadata": {},
   "outputs": [],
   "source": []
  },
  {
   "cell_type": "code",
   "execution_count": null,
   "metadata": {},
   "outputs": [],
   "source": [
    "#with open('fam_node_tip.json', 'w') as outfile:\n",
    "#    json.dump(fam_node_tips, outfile)"
   ]
  },
  {
   "cell_type": "code",
   "execution_count": null,
   "metadata": {},
   "outputs": [],
   "source": []
  },
  {
   "cell_type": "code",
   "execution_count": 17,
   "metadata": {},
   "outputs": [],
   "source": [
    "fam_node_annotation = genbank_tree_funcs.generate_node_annotations(fam_synth_tips, fam_node_tips, tip_dict)"
   ]
  },
  {
   "cell_type": "code",
   "execution_count": 18,
   "metadata": {},
   "outputs": [
    {
     "data": {
      "text/plain": [
       "{'tips_counted': 34,\n",
       " 'ncbi_ids': 0,\n",
       " 'gbif_ids': 34,\n",
       " 'genomes': 0,\n",
       " 'genbank': 0,\n",
       " 'gbif_occ': 34,\n",
       " 'has_gbif_dat': 17,\n",
       " 'has_gbif_id': 34,\n",
       " 'has_nuc_dat': 0,\n",
       " 'has_genome_dat': 0,\n",
       " 'has_ncbi_id': 0,\n",
       " 'total_descendents': 34,\n",
       " 'has_gbif_dat_perc': 50,\n",
       " 'has_genome_dat_perc': 0.0,\n",
       " 'has_nuc_dat_perc': 0,\n",
       " 'has_gbif_id_perc': 100,\n",
       " 'has_ncbi_id_perc': 0}"
      ]
     },
     "execution_count": 18,
     "metadata": {},
     "output_type": "execute_result"
    }
   ],
   "source": [
    "fam_node_annotation['ott3001061']"
   ]
  },
  {
   "cell_type": "code",
   "execution_count": 14,
   "metadata": {},
   "outputs": [],
   "source": [
    "genbank_tree_funcs.write_itol_heatmap(\"fam_genomes_heatmap.txt\", \"Genome_counts\", \"Genome_count\", fam_node_annotation, 'genomes')\n",
    "genbank_tree_funcs.write_itol_heatmap(\"fam_genbank.txt\", \"genbank_counts\", \"genbank_count\", fam_node_annotation, 'genbank')\n",
    "genbank_tree_funcs.write_itol_heatmap(\"fam_GBIF_heatmap.txt\", \"GBIF_counts\", \"GBIF_count\", fam_node_annotation, 'gbif_occ')\n",
    "genbank_tree_funcs.write_itol_heatmap(\"fam_genbank_perc.txt\", \"genbank_perc\", \"genbank_perc\", fam_node_annotation, 'has_gbif_dat_perc')\n",
    "genbank_tree_funcs.write_itol_heatmap(\"fam_GBIF_perc.txt\", \"GBIF_perc\", \"GBIF_perc\", fam_node_annotation, 'has_nuc_dat_perc')\n",
    "genbank_tree_funcs.write_itol_heatmap(\"fam_tips_counted.txt\", \"Tips_counted\", \"tips_counted\", fam_node_annotation, 'tips_counted')\n"
   ]
  },
  {
   "cell_type": "code",
   "execution_count": 15,
   "metadata": {},
   "outputs": [],
   "source": [
    "genbank_tree_funcs.write_itol_heatmap(\"fam_genome_perc.txt\", \"genome_perc\", \"genome_perc\", fam_node_annotation, 'has_genome_dat_perc')"
   ]
  },
  {
   "cell_type": "code",
   "execution_count": 31,
   "metadata": {},
   "outputs": [],
   "source": [
    "synthtreeid = OT.synth_induced_tree(node_ids = list(fam_synth_tips), label_format=\"id\")\n"
   ]
  },
  {
   "cell_type": "code",
   "execution_count": 19,
   "metadata": {},
   "outputs": [],
   "source": [
    "fi = open(\"families_in_tree.tsv\")\n",
    "\n",
    "fam_nids = set()\n",
    "\n",
    "for lin in fi:\n",
    "    lii = lin.strip().split('\\t')\n",
    "    nid = lii[3]\n",
    "    fam_nids.add(nid)"
   ]
  },
  {
   "cell_type": "code",
   "execution_count": 20,
   "metadata": {},
   "outputs": [
    {
     "ename": "NameError",
     "evalue": "name 'node' is not defined",
     "output_type": "error",
     "traceback": [
      "\u001b[0;31m---------------------------------------------------------------------------\u001b[0m",
      "\u001b[0;31mNameError\u001b[0m                                 Traceback (most recent call last)",
      "\u001b[0;32m<ipython-input-20-ba88fb636ddf>\u001b[0m in \u001b[0;36m<module>\u001b[0;34m\u001b[0m\n\u001b[0;32m----> 1\u001b[0;31m \u001b[0mnode\u001b[0m\u001b[0;34m\u001b[0m\u001b[0;34m\u001b[0m\u001b[0m\n\u001b[0m",
      "\u001b[0;31mNameError\u001b[0m: name 'node' is not defined"
     ]
    }
   ],
   "source": [
    "node"
   ]
  },
  {
   "cell_type": "code",
   "execution_count": null,
   "metadata": {},
   "outputs": [],
   "source": [
    "all_fam_node_tips = fam_node_tips\n",
    "\n",
    "internal_nodes = set()\n",
    "for node in fam_nids:\n",
    "    if node not in fam_synth_tips:\n",
    "        internal_nodes.add(node)\n",
    "    if node not in all_fam_node_tips:\n",
    "        synth_sub = OT.synth_subtree(node_id=node, label_format=\"id\")\n",
    "        if synth_sub.tree:\n",
    "            sub_tips = [leaf.taxon.label for leaf in synth_sub.tree.leaf_node_iter()]\n",
    "            all_fam_node_tips[node] = sub_tips\n",
    "        else:\n",
    "            pass\n"
   ]
  },
  {
   "cell_type": "code",
   "execution_count": null,
   "metadata": {},
   "outputs": [],
   "source": [
    "all_fam_node_annotation = genbank_tree_funcs.generate_node_annotations(fam_synth_tips, fam_node_tips, tip_dict)"
   ]
  },
  {
   "cell_type": "code",
   "execution_count": 33,
   "metadata": {},
   "outputs": [
    {
     "ename": "KeyError",
     "evalue": "'mrcaott8837ott9778'",
     "output_type": "error",
     "traceback": [
      "\u001b[0;31m---------------------------------------------------------------------------\u001b[0m",
      "\u001b[0;31mKeyError\u001b[0m                                  Traceback (most recent call last)",
      "\u001b[0;32m<ipython-input-33-00a621a51331>\u001b[0m in \u001b[0;36m<module>\u001b[0;34m\u001b[0m\n\u001b[1;32m     18\u001b[0m     \u001b[0mlii\u001b[0m \u001b[0;34m=\u001b[0m \u001b[0mlii\u001b[0m\u001b[0;34m[\u001b[0m\u001b[0;34m:\u001b[0m\u001b[0;36m4\u001b[0m\u001b[0;34m]\u001b[0m\u001b[0;34m\u001b[0m\u001b[0;34m\u001b[0m\u001b[0m\n\u001b[1;32m     19\u001b[0m     \u001b[0mnid\u001b[0m \u001b[0;34m=\u001b[0m \u001b[0mlii\u001b[0m\u001b[0;34m[\u001b[0m\u001b[0;36m3\u001b[0m\u001b[0;34m]\u001b[0m\u001b[0;34m\u001b[0m\u001b[0;34m\u001b[0m\u001b[0m\n\u001b[0;32m---> 20\u001b[0;31m     \u001b[0mlii\u001b[0m\u001b[0;34m.\u001b[0m\u001b[0mappend\u001b[0m\u001b[0;34m(\u001b[0m\u001b[0mfam_node_annotation\u001b[0m\u001b[0;34m[\u001b[0m\u001b[0mnid\u001b[0m\u001b[0;34m]\u001b[0m\u001b[0;34m[\u001b[0m\u001b[0;34m'total_descendents'\u001b[0m\u001b[0;34m]\u001b[0m\u001b[0;34m)\u001b[0m\u001b[0;34m\u001b[0m\u001b[0;34m\u001b[0m\u001b[0m\n\u001b[0m\u001b[1;32m     21\u001b[0m     \u001b[0mlii\u001b[0m\u001b[0;34m.\u001b[0m\u001b[0mappend\u001b[0m\u001b[0;34m(\u001b[0m\u001b[0mfam_node_annotation\u001b[0m\u001b[0;34m[\u001b[0m\u001b[0mnid\u001b[0m\u001b[0;34m]\u001b[0m\u001b[0;34m[\u001b[0m\u001b[0;34m'genomes'\u001b[0m\u001b[0;34m]\u001b[0m\u001b[0;34m)\u001b[0m\u001b[0;34m\u001b[0m\u001b[0;34m\u001b[0m\u001b[0m\n\u001b[1;32m     22\u001b[0m     \u001b[0mlii\u001b[0m\u001b[0;34m.\u001b[0m\u001b[0mappend\u001b[0m\u001b[0;34m(\u001b[0m\u001b[0mfam_node_annotation\u001b[0m\u001b[0;34m[\u001b[0m\u001b[0mnid\u001b[0m\u001b[0;34m]\u001b[0m\u001b[0;34m[\u001b[0m\u001b[0;34m'has_genome_dat_perc'\u001b[0m\u001b[0;34m]\u001b[0m\u001b[0;34m)\u001b[0m\u001b[0;34m\u001b[0m\u001b[0;34m\u001b[0m\u001b[0m\n",
      "\u001b[0;31mKeyError\u001b[0m: 'mrcaott8837ott9778'"
     ]
    }
   ],
   "source": [
    "fi = open(\"families_in_tree.tsv\")\n",
    "header = fi.readline().split('\\t')\n",
    "\n",
    "new_header = header[:-1]\n",
    "\n",
    "ofi = open(\"family_genome_counts.tsv\", \"w\")\n",
    "new_header.append(\"Leaf_or_internal\")\n",
    "new_header.append(\"Count_descendent_tips_opentree\")\n",
    "new_header.append(\"Count_genomes_in_ncbi\")\n",
    "new_header.append(\"Percent_tips_w_genomes_in_ncbi\")\n",
    "new_header.append(\"Notes\")\n",
    "\n",
    "ofi.write(\"\\t\".join(new_header))\n",
    "ofi.write(\"\\n\")\n",
    "\n",
    "for lin in fi:\n",
    "    lii = lin.strip().split('\\t')\n",
    "    notes = ''\n",
    "    if len(lii) == 5:\n",
    "        notes = lii[4]\n",
    "    lii = lii[:4]\n",
    "    nid = lii[3]\n",
    "    if nid in fam_synth_tips:\n",
    "        lii.append(\"tip\")\n",
    "    else:\n",
    "        assert nid in internal_nodes\n",
    "        lii.append(\"internal\")\n",
    "    if nid in all_fam_node_annotation:\n",
    "        lii.append(str(all_fam_node_annotation[nid]['total_descendents']))\n",
    "        lii.append(str(all_fam_node_annotation[nid].get('genomes', 'NA')))\n",
    "        lii.append(str(all_fam_node_annotation[nid].get('has_genome_dat_perc','NA')))\n",
    "    else:\n",
    "        lii.append(\"10,000 plus\")\n",
    "        lii.append(\"not calculated\")\n",
    "        lii.append(\"not calculated\")\n",
    "    lii.append(notes)\n",
    "    ofi.write(\"\\t\".join(lii))\n",
    "    ofi.write(\"\\n\")\n",
    "\n",
    "    \n",
    "    "
   ]
  },
  {
   "cell_type": "code",
   "execution_count": 20,
   "metadata": {},
   "outputs": [
    {
     "data": {
      "text/plain": [
       "['name ', ' ottid ', ' sources ', ' node_id ', ' notes\\n']"
      ]
     },
     "execution_count": 20,
     "metadata": {},
     "output_type": "execute_result"
    }
   ],
   "source": [
    "header"
   ]
  },
  {
   "cell_type": "code",
   "execution_count": 31,
   "metadata": {},
   "outputs": [
    {
     "data": {
      "text/plain": [
       "['Cabiropidae', '3001061', 'worms:248282,gbif:4599,irmng:106236', 'ott3001061']"
      ]
     },
     "execution_count": 31,
     "metadata": {},
     "output_type": "execute_result"
    }
   ],
   "source": [
    "lii"
   ]
  },
  {
   "cell_type": "code",
   "execution_count": 35,
   "metadata": {},
   "outputs": [
    {
     "ename": "KeyError",
     "evalue": "'mrcaott8837ott9778'",
     "output_type": "error",
     "traceback": [
      "\u001b[0;31m---------------------------------------------------------------------------\u001b[0m",
      "\u001b[0;31mKeyError\u001b[0m                                  Traceback (most recent call last)",
      "\u001b[0;32m<ipython-input-35-68690f026eec>\u001b[0m in \u001b[0;36m<module>\u001b[0;34m\u001b[0m\n\u001b[0;32m----> 1\u001b[0;31m \u001b[0mfam_node_annotation\u001b[0m\u001b[0;34m[\u001b[0m\u001b[0mnid\u001b[0m\u001b[0;34m]\u001b[0m\u001b[0;34m\u001b[0m\u001b[0;34m\u001b[0m\u001b[0m\n\u001b[0m",
      "\u001b[0;31mKeyError\u001b[0m: 'mrcaott8837ott9778'"
     ]
    }
   ],
   "source": [
    "fam_node_annotation[nid]"
   ]
  },
  {
   "cell_type": "code",
   "execution_count": 38,
   "metadata": {},
   "outputs": [
    {
     "data": {
      "text/plain": [
       "True"
      ]
     },
     "execution_count": 38,
     "metadata": {},
     "output_type": "execute_result"
    }
   ],
   "source": [
    "'mrcaott8837ott9778' in fam_nids"
   ]
  },
  {
   "cell_type": "code",
   "execution_count": null,
   "metadata": {},
   "outputs": [],
   "source": []
  }
 ],
 "metadata": {
  "kernelspec": {
   "display_name": "opentree",
   "language": "python",
   "name": "opentree"
  },
  "language_info": {
   "codemirror_mode": {
    "name": "ipython",
    "version": 3
   },
   "file_extension": ".py",
   "mimetype": "text/x-python",
   "name": "python",
   "nbconvert_exporter": "python",
   "pygments_lexer": "ipython3",
   "version": "3.8.10"
  }
 },
 "nbformat": 4,
 "nbformat_minor": 4
}
