{
 "cells": [
  {
   "cell_type": "code",
   "execution_count": 1,
   "metadata": {},
   "outputs": [],
   "source": [
    "!pip install -q pygbif"
   ]
  },
  {
   "cell_type": "code",
   "execution_count": 2,
   "metadata": {},
   "outputs": [],
   "source": [
    "from opentree import OT\n",
    "\n",
    "import os\n",
    "import sys\n",
    "import json\n",
    "import dendropy\n",
    "\n",
    "from Bio import Entrez\n",
    "Entrez.email = \"ejmctavish@ucmerced.edu\"\n",
    "\n",
    "from pygbif import occurrences as occ"
   ]
  },
  {
   "cell_type": "code",
   "execution_count": 3,
   "metadata": {},
   "outputs": [],
   "source": [
    "taxonomy_file = \"../../ott3.2/taxonomy.tsv\"\n",
    "assert os.path.exists(taxonomy_file)"
   ]
  },
  {
   "cell_type": "code",
   "execution_count": 4,
   "metadata": {},
   "outputs": [
    {
     "name": "stdout",
     "output_type": "stream",
     "text": [
      "uid\t|\tparent_uid\t|\tname\t|\trank\t|\tsourceinfo\t|\tuniqname\t|\tflags\t|\t\r\n"
     ]
    }
   ],
   "source": [
    "!head -n 1 \"../../ott3.2/taxonomy.tsv\""
   ]
  },
  {
   "cell_type": "markdown",
   "metadata": {},
   "source": [
    "# Get families and sources directly from taxonomy download"
   ]
  },
  {
   "cell_type": "code",
   "execution_count": 5,
   "metadata": {},
   "outputs": [],
   "source": [
    "fam_dict = {}\n",
    "species_set = set()\n",
    "genus_dict = {}\n",
    "all_tax_dict = {}\n",
    "header = ['ottid', 'parent_ottid', 'name','rank','source','uniqname','flags']\n",
    "for lin in open(taxonomy_file):\n",
    "        lii=lin.split('\\t|\\t')\n",
    "        if len(lii[2].split(' ')) > 1:\n",
    "            pass\n",
    "        elif lii[2].endswith(\"aceae\"):\n",
    "            fam_dict[lii[2]]=lii\n",
    "        elif lii[2].endswith(\"idae\"):\n",
    "            fam_dict[lii[2]]=lii\n",
    "        if lii[3] == 'species':\n",
    "            species_set.add(lii[0])\n",
    "        all_tax_dict[lii[0]]=dict(zip(header, lii))"
   ]
  },
  {
   "cell_type": "markdown",
   "metadata": {},
   "source": [
    "### Create a wrapper function for pulling info from NCBI"
   ]
  },
  {
   "cell_type": "code",
   "execution_count": 6,
   "metadata": {},
   "outputs": [],
   "source": [
    "def get_ncbi_records(ncbi_id):\n",
    "    handle = Entrez.egquery(retmax=50, term=\"txid{}[Organism]\".format(ncbi_id), idtype=\"acc\")\n",
    "    gen_record = Entrez.read(handle)\n",
    "    eq_results = {}\n",
    "    for db in gen_record['eGQueryResult']:\n",
    "        try:\n",
    "            count = int(db['Count'])\n",
    "            if count > 0:\n",
    "                eq_results[db['DbName']]=db\n",
    "        except ValueError:\n",
    "            pass\n",
    "    return(eq_results)\n",
    "    "
   ]
  },
  {
   "cell_type": "code",
   "execution_count": 8,
   "metadata": {},
   "outputs": [],
   "source": [
    "fams_node_id = json.load(open('fam_synth_node_info.json'))\n",
    "fams_resp = json.load(open('fam_resp_dict.json'))"
   ]
  },
  {
   "cell_type": "code",
   "execution_count": 10,
   "metadata": {},
   "outputs": [],
   "source": [
    "node_ids = {}\n",
    "fams_in_tree = set()\n",
    "not_in_tree = set()\n",
    "monophy = set()\n",
    "non_monophy = set()\n",
    "for fam in fams_node_id:\n",
    "    nid = fams_node_id[fam]\n",
    "    ott_id = fam_dict[fam][0]\n",
    "    if nid:\n",
    "        if nid not in node_ids:\n",
    "            node_ids[nid] = set()\n",
    "        node_ids[nid].add(fam)\n",
    "        fams_in_tree.add(fam)\n",
    "        if nid.strip('ott') == ott_id:\n",
    "            monophy.add(fam)\n",
    "        else:\n",
    "            non_monophy.add(fam)\n",
    "    else:\n",
    "        not_in_tree.add(fam)"
   ]
  },
  {
   "cell_type": "code",
   "execution_count": 11,
   "metadata": {},
   "outputs": [
    {
     "data": {
      "text/plain": [
       "10104"
      ]
     },
     "execution_count": 11,
     "metadata": {},
     "output_type": "execute_result"
    }
   ],
   "source": [
    "len(non_monophy)+len(monophy)"
   ]
  },
  {
   "cell_type": "code",
   "execution_count": 12,
   "metadata": {},
   "outputs": [],
   "source": [
    "synthtreeid = OT.synth_induced_tree(node_ids = list(node_ids.keys()), label_format=\"id\")\n",
    "synthtreeid.tree.write(path=\"allfam_id_label.tre\",schema=\"newick\")"
   ]
  },
  {
   "cell_type": "code",
   "execution_count": 14,
   "metadata": {},
   "outputs": [],
   "source": [
    "fam_synth_tips = [leaf.taxon.label for leaf in synthtreeid.tree.leaf_node_iter()]"
   ]
  },
  {
   "cell_type": "code",
   "execution_count": 16,
   "metadata": {},
   "outputs": [],
   "source": [
    "test_tips = []\n",
    "fam_synth_tips.sort()\n",
    "for node in fam_synth_tips[:5]:\n",
    "    synth_sub = OT.synth_subtree(node_id=node, label_format=\"id\")\n",
    "    #sub_taxa = [node.label for node in synth_sub.tree if node.label]\n",
    "    sub_tips = [leaf.taxon.label for leaf in synth_sub.tree.leaf_node_iter()]\n",
    "    #internal_spp = [ottid for ottid in  sub_taxa if ottid.strip('ott') in species_set]\n",
    "    #print(len(sub_spp_and_below))\n",
    "    #node_tips[node] = sub_tips\n",
    "    test_tips = test_tips + sub_tips"
   ]
  },
  {
   "cell_type": "markdown",
   "metadata": {},
   "source": [
    "## Search across all of genbank and gbif on each taxon id, and add to dict"
   ]
  },
  {
   "cell_type": "code",
   "execution_count": 17,
   "metadata": {},
   "outputs": [
    {
     "name": "stdout",
     "output_type": "stream",
     "text": [
      "9910\n",
      "9911\n"
     ]
    },
    {
     "ename": "KeyboardInterrupt",
     "evalue": "",
     "output_type": "error",
     "traceback": [
      "\u001b[0;31m---------------------------------------------------------------------------\u001b[0m",
      "\u001b[0;31mKeyboardInterrupt\u001b[0m                         Traceback (most recent call last)",
      "\u001b[0;32m<ipython-input-17-efed1299d9ff>\u001b[0m in \u001b[0;36m<module>\u001b[0;34m\u001b[0m\n\u001b[1;32m     20\u001b[0m                 \u001b[0mncbi_id\u001b[0m \u001b[0;34m=\u001b[0m \u001b[0msource\u001b[0m\u001b[0;34m.\u001b[0m\u001b[0msplit\u001b[0m\u001b[0;34m(\u001b[0m\u001b[0;34m':'\u001b[0m\u001b[0;34m)\u001b[0m\u001b[0;34m[\u001b[0m\u001b[0;36m1\u001b[0m\u001b[0;34m]\u001b[0m\u001b[0;34m\u001b[0m\u001b[0;34m\u001b[0m\u001b[0m\n\u001b[1;32m     21\u001b[0m                 \u001b[0mtmp_dict\u001b[0m\u001b[0;34m[\u001b[0m\u001b[0;34m'ncbi_ids'\u001b[0m\u001b[0;34m]\u001b[0m\u001b[0;34m.\u001b[0m\u001b[0mappend\u001b[0m\u001b[0;34m(\u001b[0m\u001b[0mncbi_id\u001b[0m\u001b[0;34m)\u001b[0m\u001b[0;34m\u001b[0m\u001b[0;34m\u001b[0m\u001b[0m\n\u001b[0;32m---> 22\u001b[0;31m                 \u001b[0meq_results\u001b[0m \u001b[0;34m=\u001b[0m \u001b[0mget_ncbi_records\u001b[0m\u001b[0;34m(\u001b[0m\u001b[0mncbi_id\u001b[0m\u001b[0;34m)\u001b[0m\u001b[0;34m\u001b[0m\u001b[0;34m\u001b[0m\u001b[0m\n\u001b[0m\u001b[1;32m     23\u001b[0m                 \u001b[0mtmp_dict\u001b[0m\u001b[0;34m[\u001b[0m\u001b[0;34m'ncbi_eq_results'\u001b[0m\u001b[0;34m]\u001b[0m\u001b[0;34m.\u001b[0m\u001b[0mappend\u001b[0m\u001b[0;34m(\u001b[0m\u001b[0meq_results\u001b[0m\u001b[0;34m)\u001b[0m\u001b[0;34m\u001b[0m\u001b[0;34m\u001b[0m\u001b[0m\n\u001b[1;32m     24\u001b[0m             \u001b[0;32mif\u001b[0m \u001b[0msource\u001b[0m\u001b[0;34m.\u001b[0m\u001b[0mstartswith\u001b[0m\u001b[0;34m(\u001b[0m\u001b[0;34m'gbif'\u001b[0m\u001b[0;34m)\u001b[0m\u001b[0;34m:\u001b[0m\u001b[0;34m\u001b[0m\u001b[0;34m\u001b[0m\u001b[0m\n",
      "\u001b[0;32m<ipython-input-6-2a6897f57931>\u001b[0m in \u001b[0;36mget_ncbi_records\u001b[0;34m(ncbi_id)\u001b[0m\n\u001b[1;32m      1\u001b[0m \u001b[0;32mdef\u001b[0m \u001b[0mget_ncbi_records\u001b[0m\u001b[0;34m(\u001b[0m\u001b[0mncbi_id\u001b[0m\u001b[0;34m)\u001b[0m\u001b[0;34m:\u001b[0m\u001b[0;34m\u001b[0m\u001b[0;34m\u001b[0m\u001b[0m\n\u001b[0;32m----> 2\u001b[0;31m     \u001b[0mhandle\u001b[0m \u001b[0;34m=\u001b[0m \u001b[0mEntrez\u001b[0m\u001b[0;34m.\u001b[0m\u001b[0megquery\u001b[0m\u001b[0;34m(\u001b[0m\u001b[0mretmax\u001b[0m\u001b[0;34m=\u001b[0m\u001b[0;36m50\u001b[0m\u001b[0;34m,\u001b[0m \u001b[0mterm\u001b[0m\u001b[0;34m=\u001b[0m\u001b[0;34m\"txid{}[Organism]\"\u001b[0m\u001b[0;34m.\u001b[0m\u001b[0mformat\u001b[0m\u001b[0;34m(\u001b[0m\u001b[0mncbi_id\u001b[0m\u001b[0;34m)\u001b[0m\u001b[0;34m,\u001b[0m \u001b[0midtype\u001b[0m\u001b[0;34m=\u001b[0m\u001b[0;34m\"acc\"\u001b[0m\u001b[0;34m)\u001b[0m\u001b[0;34m\u001b[0m\u001b[0;34m\u001b[0m\u001b[0m\n\u001b[0m\u001b[1;32m      3\u001b[0m     \u001b[0mgen_record\u001b[0m \u001b[0;34m=\u001b[0m \u001b[0mEntrez\u001b[0m\u001b[0;34m.\u001b[0m\u001b[0mread\u001b[0m\u001b[0;34m(\u001b[0m\u001b[0mhandle\u001b[0m\u001b[0;34m)\u001b[0m\u001b[0;34m\u001b[0m\u001b[0;34m\u001b[0m\u001b[0m\n\u001b[1;32m      4\u001b[0m     \u001b[0meq_results\u001b[0m \u001b[0;34m=\u001b[0m \u001b[0;34m{\u001b[0m\u001b[0;34m}\u001b[0m\u001b[0;34m\u001b[0m\u001b[0;34m\u001b[0m\u001b[0m\n\u001b[1;32m      5\u001b[0m     \u001b[0;32mfor\u001b[0m \u001b[0mdb\u001b[0m \u001b[0;32min\u001b[0m \u001b[0mgen_record\u001b[0m\u001b[0;34m[\u001b[0m\u001b[0;34m'eGQueryResult'\u001b[0m\u001b[0;34m]\u001b[0m\u001b[0;34m:\u001b[0m\u001b[0;34m\u001b[0m\u001b[0;34m\u001b[0m\u001b[0m\n",
      "\u001b[0;32m~/projects/otapi/OT2020/venv-ot2020/lib/python3.8/site-packages/Bio/Entrez/__init__.py\u001b[0m in \u001b[0;36megquery\u001b[0;34m(**keywds)\u001b[0m\n\u001b[1;32m    374\u001b[0m     \u001b[0mvariables\u001b[0m \u001b[0;34m=\u001b[0m \u001b[0;34m{\u001b[0m\u001b[0;34m}\u001b[0m\u001b[0;34m\u001b[0m\u001b[0;34m\u001b[0m\u001b[0m\n\u001b[1;32m    375\u001b[0m     \u001b[0mvariables\u001b[0m\u001b[0;34m.\u001b[0m\u001b[0mupdate\u001b[0m\u001b[0;34m(\u001b[0m\u001b[0mkeywds\u001b[0m\u001b[0;34m)\u001b[0m\u001b[0;34m\u001b[0m\u001b[0;34m\u001b[0m\u001b[0m\n\u001b[0;32m--> 376\u001b[0;31m     \u001b[0;32mreturn\u001b[0m \u001b[0m_open\u001b[0m\u001b[0;34m(\u001b[0m\u001b[0mcgi\u001b[0m\u001b[0;34m,\u001b[0m \u001b[0mvariables\u001b[0m\u001b[0;34m)\u001b[0m\u001b[0;34m\u001b[0m\u001b[0;34m\u001b[0m\u001b[0m\n\u001b[0m\u001b[1;32m    377\u001b[0m \u001b[0;34m\u001b[0m\u001b[0m\n\u001b[1;32m    378\u001b[0m \u001b[0;34m\u001b[0m\u001b[0m\n",
      "\u001b[0;32m~/projects/otapi/OT2020/venv-ot2020/lib/python3.8/site-packages/Bio/Entrez/__init__.py\u001b[0m in \u001b[0;36m_open\u001b[0;34m(cgi, params, post, ecitmatch)\u001b[0m\n\u001b[1;32m    604\u001b[0m                 \u001b[0mhandle\u001b[0m \u001b[0;34m=\u001b[0m \u001b[0murlopen\u001b[0m\u001b[0;34m(\u001b[0m\u001b[0mcgi\u001b[0m\u001b[0;34m,\u001b[0m \u001b[0mdata\u001b[0m\u001b[0;34m=\u001b[0m\u001b[0moptions\u001b[0m\u001b[0;34m.\u001b[0m\u001b[0mencode\u001b[0m\u001b[0;34m(\u001b[0m\u001b[0;34m\"utf8\"\u001b[0m\u001b[0;34m)\u001b[0m\u001b[0;34m)\u001b[0m\u001b[0;34m\u001b[0m\u001b[0;34m\u001b[0m\u001b[0m\n\u001b[1;32m    605\u001b[0m             \u001b[0;32melse\u001b[0m\u001b[0;34m:\u001b[0m\u001b[0;34m\u001b[0m\u001b[0;34m\u001b[0m\u001b[0m\n\u001b[0;32m--> 606\u001b[0;31m                 \u001b[0mhandle\u001b[0m \u001b[0;34m=\u001b[0m \u001b[0murlopen\u001b[0m\u001b[0;34m(\u001b[0m\u001b[0mcgi\u001b[0m\u001b[0;34m)\u001b[0m\u001b[0;34m\u001b[0m\u001b[0;34m\u001b[0m\u001b[0m\n\u001b[0m\u001b[1;32m    607\u001b[0m         \u001b[0;32mexcept\u001b[0m \u001b[0mHTTPError\u001b[0m \u001b[0;32mas\u001b[0m \u001b[0mexception\u001b[0m\u001b[0;34m:\u001b[0m\u001b[0;34m\u001b[0m\u001b[0;34m\u001b[0m\u001b[0m\n\u001b[1;32m    608\u001b[0m             \u001b[0;31m# Reraise if the final try fails\u001b[0m\u001b[0;34m\u001b[0m\u001b[0;34m\u001b[0m\u001b[0;34m\u001b[0m\u001b[0m\n",
      "\u001b[0;32m/usr/lib/python3.8/urllib/request.py\u001b[0m in \u001b[0;36murlopen\u001b[0;34m(url, data, timeout, cafile, capath, cadefault, context)\u001b[0m\n\u001b[1;32m    220\u001b[0m     \u001b[0;32melse\u001b[0m\u001b[0;34m:\u001b[0m\u001b[0;34m\u001b[0m\u001b[0;34m\u001b[0m\u001b[0m\n\u001b[1;32m    221\u001b[0m         \u001b[0mopener\u001b[0m \u001b[0;34m=\u001b[0m \u001b[0m_opener\u001b[0m\u001b[0;34m\u001b[0m\u001b[0;34m\u001b[0m\u001b[0m\n\u001b[0;32m--> 222\u001b[0;31m     \u001b[0;32mreturn\u001b[0m \u001b[0mopener\u001b[0m\u001b[0;34m.\u001b[0m\u001b[0mopen\u001b[0m\u001b[0;34m(\u001b[0m\u001b[0murl\u001b[0m\u001b[0;34m,\u001b[0m \u001b[0mdata\u001b[0m\u001b[0;34m,\u001b[0m \u001b[0mtimeout\u001b[0m\u001b[0;34m)\u001b[0m\u001b[0;34m\u001b[0m\u001b[0;34m\u001b[0m\u001b[0m\n\u001b[0m\u001b[1;32m    223\u001b[0m \u001b[0;34m\u001b[0m\u001b[0m\n\u001b[1;32m    224\u001b[0m \u001b[0;32mdef\u001b[0m \u001b[0minstall_opener\u001b[0m\u001b[0;34m(\u001b[0m\u001b[0mopener\u001b[0m\u001b[0;34m)\u001b[0m\u001b[0;34m:\u001b[0m\u001b[0;34m\u001b[0m\u001b[0;34m\u001b[0m\u001b[0m\n",
      "\u001b[0;32m/usr/lib/python3.8/urllib/request.py\u001b[0m in \u001b[0;36mopen\u001b[0;34m(self, fullurl, data, timeout)\u001b[0m\n\u001b[1;32m    523\u001b[0m \u001b[0;34m\u001b[0m\u001b[0m\n\u001b[1;32m    524\u001b[0m         \u001b[0msys\u001b[0m\u001b[0;34m.\u001b[0m\u001b[0maudit\u001b[0m\u001b[0;34m(\u001b[0m\u001b[0;34m'urllib.Request'\u001b[0m\u001b[0;34m,\u001b[0m \u001b[0mreq\u001b[0m\u001b[0;34m.\u001b[0m\u001b[0mfull_url\u001b[0m\u001b[0;34m,\u001b[0m \u001b[0mreq\u001b[0m\u001b[0;34m.\u001b[0m\u001b[0mdata\u001b[0m\u001b[0;34m,\u001b[0m \u001b[0mreq\u001b[0m\u001b[0;34m.\u001b[0m\u001b[0mheaders\u001b[0m\u001b[0;34m,\u001b[0m \u001b[0mreq\u001b[0m\u001b[0;34m.\u001b[0m\u001b[0mget_method\u001b[0m\u001b[0;34m(\u001b[0m\u001b[0;34m)\u001b[0m\u001b[0;34m)\u001b[0m\u001b[0;34m\u001b[0m\u001b[0;34m\u001b[0m\u001b[0m\n\u001b[0;32m--> 525\u001b[0;31m         \u001b[0mresponse\u001b[0m \u001b[0;34m=\u001b[0m \u001b[0mself\u001b[0m\u001b[0;34m.\u001b[0m\u001b[0m_open\u001b[0m\u001b[0;34m(\u001b[0m\u001b[0mreq\u001b[0m\u001b[0;34m,\u001b[0m \u001b[0mdata\u001b[0m\u001b[0;34m)\u001b[0m\u001b[0;34m\u001b[0m\u001b[0;34m\u001b[0m\u001b[0m\n\u001b[0m\u001b[1;32m    526\u001b[0m \u001b[0;34m\u001b[0m\u001b[0m\n\u001b[1;32m    527\u001b[0m         \u001b[0;31m# post-process response\u001b[0m\u001b[0;34m\u001b[0m\u001b[0;34m\u001b[0m\u001b[0;34m\u001b[0m\u001b[0m\n",
      "\u001b[0;32m/usr/lib/python3.8/urllib/request.py\u001b[0m in \u001b[0;36m_open\u001b[0;34m(self, req, data)\u001b[0m\n\u001b[1;32m    540\u001b[0m \u001b[0;34m\u001b[0m\u001b[0m\n\u001b[1;32m    541\u001b[0m         \u001b[0mprotocol\u001b[0m \u001b[0;34m=\u001b[0m \u001b[0mreq\u001b[0m\u001b[0;34m.\u001b[0m\u001b[0mtype\u001b[0m\u001b[0;34m\u001b[0m\u001b[0;34m\u001b[0m\u001b[0m\n\u001b[0;32m--> 542\u001b[0;31m         result = self._call_chain(self.handle_open, protocol, protocol +\n\u001b[0m\u001b[1;32m    543\u001b[0m                                   '_open', req)\n\u001b[1;32m    544\u001b[0m         \u001b[0;32mif\u001b[0m \u001b[0mresult\u001b[0m\u001b[0;34m:\u001b[0m\u001b[0;34m\u001b[0m\u001b[0;34m\u001b[0m\u001b[0m\n",
      "\u001b[0;32m/usr/lib/python3.8/urllib/request.py\u001b[0m in \u001b[0;36m_call_chain\u001b[0;34m(self, chain, kind, meth_name, *args)\u001b[0m\n\u001b[1;32m    500\u001b[0m         \u001b[0;32mfor\u001b[0m \u001b[0mhandler\u001b[0m \u001b[0;32min\u001b[0m \u001b[0mhandlers\u001b[0m\u001b[0;34m:\u001b[0m\u001b[0;34m\u001b[0m\u001b[0;34m\u001b[0m\u001b[0m\n\u001b[1;32m    501\u001b[0m             \u001b[0mfunc\u001b[0m \u001b[0;34m=\u001b[0m \u001b[0mgetattr\u001b[0m\u001b[0;34m(\u001b[0m\u001b[0mhandler\u001b[0m\u001b[0;34m,\u001b[0m \u001b[0mmeth_name\u001b[0m\u001b[0;34m)\u001b[0m\u001b[0;34m\u001b[0m\u001b[0;34m\u001b[0m\u001b[0m\n\u001b[0;32m--> 502\u001b[0;31m             \u001b[0mresult\u001b[0m \u001b[0;34m=\u001b[0m \u001b[0mfunc\u001b[0m\u001b[0;34m(\u001b[0m\u001b[0;34m*\u001b[0m\u001b[0margs\u001b[0m\u001b[0;34m)\u001b[0m\u001b[0;34m\u001b[0m\u001b[0;34m\u001b[0m\u001b[0m\n\u001b[0m\u001b[1;32m    503\u001b[0m             \u001b[0;32mif\u001b[0m \u001b[0mresult\u001b[0m \u001b[0;32mis\u001b[0m \u001b[0;32mnot\u001b[0m \u001b[0;32mNone\u001b[0m\u001b[0;34m:\u001b[0m\u001b[0;34m\u001b[0m\u001b[0;34m\u001b[0m\u001b[0m\n\u001b[1;32m    504\u001b[0m                 \u001b[0;32mreturn\u001b[0m \u001b[0mresult\u001b[0m\u001b[0;34m\u001b[0m\u001b[0;34m\u001b[0m\u001b[0m\n",
      "\u001b[0;32m/usr/lib/python3.8/urllib/request.py\u001b[0m in \u001b[0;36mhttps_open\u001b[0;34m(self, req)\u001b[0m\n\u001b[1;32m   1391\u001b[0m \u001b[0;34m\u001b[0m\u001b[0m\n\u001b[1;32m   1392\u001b[0m         \u001b[0;32mdef\u001b[0m \u001b[0mhttps_open\u001b[0m\u001b[0;34m(\u001b[0m\u001b[0mself\u001b[0m\u001b[0;34m,\u001b[0m \u001b[0mreq\u001b[0m\u001b[0;34m)\u001b[0m\u001b[0;34m:\u001b[0m\u001b[0;34m\u001b[0m\u001b[0;34m\u001b[0m\u001b[0m\n\u001b[0;32m-> 1393\u001b[0;31m             return self.do_open(http.client.HTTPSConnection, req,\n\u001b[0m\u001b[1;32m   1394\u001b[0m                 context=self._context, check_hostname=self._check_hostname)\n\u001b[1;32m   1395\u001b[0m \u001b[0;34m\u001b[0m\u001b[0m\n",
      "\u001b[0;32m/usr/lib/python3.8/urllib/request.py\u001b[0m in \u001b[0;36mdo_open\u001b[0;34m(self, http_class, req, **http_conn_args)\u001b[0m\n\u001b[1;32m   1348\u001b[0m         \u001b[0;32mtry\u001b[0m\u001b[0;34m:\u001b[0m\u001b[0;34m\u001b[0m\u001b[0;34m\u001b[0m\u001b[0m\n\u001b[1;32m   1349\u001b[0m             \u001b[0;32mtry\u001b[0m\u001b[0;34m:\u001b[0m\u001b[0;34m\u001b[0m\u001b[0;34m\u001b[0m\u001b[0m\n\u001b[0;32m-> 1350\u001b[0;31m                 h.request(req.get_method(), req.selector, req.data, headers,\n\u001b[0m\u001b[1;32m   1351\u001b[0m                           encode_chunked=req.has_header('Transfer-encoding'))\n\u001b[1;32m   1352\u001b[0m             \u001b[0;32mexcept\u001b[0m \u001b[0mOSError\u001b[0m \u001b[0;32mas\u001b[0m \u001b[0merr\u001b[0m\u001b[0;34m:\u001b[0m \u001b[0;31m# timeout error\u001b[0m\u001b[0;34m\u001b[0m\u001b[0;34m\u001b[0m\u001b[0m\n",
      "\u001b[0;32m/usr/lib/python3.8/http/client.py\u001b[0m in \u001b[0;36mrequest\u001b[0;34m(self, method, url, body, headers, encode_chunked)\u001b[0m\n\u001b[1;32m   1253\u001b[0m                 encode_chunked=False):\n\u001b[1;32m   1254\u001b[0m         \u001b[0;34m\"\"\"Send a complete request to the server.\"\"\"\u001b[0m\u001b[0;34m\u001b[0m\u001b[0;34m\u001b[0m\u001b[0m\n\u001b[0;32m-> 1255\u001b[0;31m         \u001b[0mself\u001b[0m\u001b[0;34m.\u001b[0m\u001b[0m_send_request\u001b[0m\u001b[0;34m(\u001b[0m\u001b[0mmethod\u001b[0m\u001b[0;34m,\u001b[0m \u001b[0murl\u001b[0m\u001b[0;34m,\u001b[0m \u001b[0mbody\u001b[0m\u001b[0;34m,\u001b[0m \u001b[0mheaders\u001b[0m\u001b[0;34m,\u001b[0m \u001b[0mencode_chunked\u001b[0m\u001b[0;34m)\u001b[0m\u001b[0;34m\u001b[0m\u001b[0;34m\u001b[0m\u001b[0m\n\u001b[0m\u001b[1;32m   1256\u001b[0m \u001b[0;34m\u001b[0m\u001b[0m\n\u001b[1;32m   1257\u001b[0m     \u001b[0;32mdef\u001b[0m \u001b[0m_send_request\u001b[0m\u001b[0;34m(\u001b[0m\u001b[0mself\u001b[0m\u001b[0;34m,\u001b[0m \u001b[0mmethod\u001b[0m\u001b[0;34m,\u001b[0m \u001b[0murl\u001b[0m\u001b[0;34m,\u001b[0m \u001b[0mbody\u001b[0m\u001b[0;34m,\u001b[0m \u001b[0mheaders\u001b[0m\u001b[0;34m,\u001b[0m \u001b[0mencode_chunked\u001b[0m\u001b[0;34m)\u001b[0m\u001b[0;34m:\u001b[0m\u001b[0;34m\u001b[0m\u001b[0;34m\u001b[0m\u001b[0m\n",
      "\u001b[0;32m/usr/lib/python3.8/http/client.py\u001b[0m in \u001b[0;36m_send_request\u001b[0;34m(self, method, url, body, headers, encode_chunked)\u001b[0m\n\u001b[1;32m   1299\u001b[0m             \u001b[0;31m# default charset of iso-8859-1.\u001b[0m\u001b[0;34m\u001b[0m\u001b[0;34m\u001b[0m\u001b[0;34m\u001b[0m\u001b[0m\n\u001b[1;32m   1300\u001b[0m             \u001b[0mbody\u001b[0m \u001b[0;34m=\u001b[0m \u001b[0m_encode\u001b[0m\u001b[0;34m(\u001b[0m\u001b[0mbody\u001b[0m\u001b[0;34m,\u001b[0m \u001b[0;34m'body'\u001b[0m\u001b[0;34m)\u001b[0m\u001b[0;34m\u001b[0m\u001b[0;34m\u001b[0m\u001b[0m\n\u001b[0;32m-> 1301\u001b[0;31m         \u001b[0mself\u001b[0m\u001b[0;34m.\u001b[0m\u001b[0mendheaders\u001b[0m\u001b[0;34m(\u001b[0m\u001b[0mbody\u001b[0m\u001b[0;34m,\u001b[0m \u001b[0mencode_chunked\u001b[0m\u001b[0;34m=\u001b[0m\u001b[0mencode_chunked\u001b[0m\u001b[0;34m)\u001b[0m\u001b[0;34m\u001b[0m\u001b[0;34m\u001b[0m\u001b[0m\n\u001b[0m\u001b[1;32m   1302\u001b[0m \u001b[0;34m\u001b[0m\u001b[0m\n\u001b[1;32m   1303\u001b[0m     \u001b[0;32mdef\u001b[0m \u001b[0mgetresponse\u001b[0m\u001b[0;34m(\u001b[0m\u001b[0mself\u001b[0m\u001b[0;34m)\u001b[0m\u001b[0;34m:\u001b[0m\u001b[0;34m\u001b[0m\u001b[0;34m\u001b[0m\u001b[0m\n",
      "\u001b[0;32m/usr/lib/python3.8/http/client.py\u001b[0m in \u001b[0;36mendheaders\u001b[0;34m(self, message_body, encode_chunked)\u001b[0m\n\u001b[1;32m   1248\u001b[0m         \u001b[0;32melse\u001b[0m\u001b[0;34m:\u001b[0m\u001b[0;34m\u001b[0m\u001b[0;34m\u001b[0m\u001b[0m\n\u001b[1;32m   1249\u001b[0m             \u001b[0;32mraise\u001b[0m \u001b[0mCannotSendHeader\u001b[0m\u001b[0;34m(\u001b[0m\u001b[0;34m)\u001b[0m\u001b[0;34m\u001b[0m\u001b[0;34m\u001b[0m\u001b[0m\n\u001b[0;32m-> 1250\u001b[0;31m         \u001b[0mself\u001b[0m\u001b[0;34m.\u001b[0m\u001b[0m_send_output\u001b[0m\u001b[0;34m(\u001b[0m\u001b[0mmessage_body\u001b[0m\u001b[0;34m,\u001b[0m \u001b[0mencode_chunked\u001b[0m\u001b[0;34m=\u001b[0m\u001b[0mencode_chunked\u001b[0m\u001b[0;34m)\u001b[0m\u001b[0;34m\u001b[0m\u001b[0;34m\u001b[0m\u001b[0m\n\u001b[0m\u001b[1;32m   1251\u001b[0m \u001b[0;34m\u001b[0m\u001b[0m\n\u001b[1;32m   1252\u001b[0m     def request(self, method, url, body=None, headers={}, *,\n",
      "\u001b[0;32m/usr/lib/python3.8/http/client.py\u001b[0m in \u001b[0;36m_send_output\u001b[0;34m(self, message_body, encode_chunked)\u001b[0m\n\u001b[1;32m   1008\u001b[0m         \u001b[0mmsg\u001b[0m \u001b[0;34m=\u001b[0m \u001b[0;34mb\"\\r\\n\"\u001b[0m\u001b[0;34m.\u001b[0m\u001b[0mjoin\u001b[0m\u001b[0;34m(\u001b[0m\u001b[0mself\u001b[0m\u001b[0;34m.\u001b[0m\u001b[0m_buffer\u001b[0m\u001b[0;34m)\u001b[0m\u001b[0;34m\u001b[0m\u001b[0;34m\u001b[0m\u001b[0m\n\u001b[1;32m   1009\u001b[0m         \u001b[0;32mdel\u001b[0m \u001b[0mself\u001b[0m\u001b[0;34m.\u001b[0m\u001b[0m_buffer\u001b[0m\u001b[0;34m[\u001b[0m\u001b[0;34m:\u001b[0m\u001b[0;34m]\u001b[0m\u001b[0;34m\u001b[0m\u001b[0;34m\u001b[0m\u001b[0m\n\u001b[0;32m-> 1010\u001b[0;31m         \u001b[0mself\u001b[0m\u001b[0;34m.\u001b[0m\u001b[0msend\u001b[0m\u001b[0;34m(\u001b[0m\u001b[0mmsg\u001b[0m\u001b[0;34m)\u001b[0m\u001b[0;34m\u001b[0m\u001b[0;34m\u001b[0m\u001b[0m\n\u001b[0m\u001b[1;32m   1011\u001b[0m \u001b[0;34m\u001b[0m\u001b[0m\n\u001b[1;32m   1012\u001b[0m         \u001b[0;32mif\u001b[0m \u001b[0mmessage_body\u001b[0m \u001b[0;32mis\u001b[0m \u001b[0;32mnot\u001b[0m \u001b[0;32mNone\u001b[0m\u001b[0;34m:\u001b[0m\u001b[0;34m\u001b[0m\u001b[0;34m\u001b[0m\u001b[0m\n",
      "\u001b[0;32m/usr/lib/python3.8/http/client.py\u001b[0m in \u001b[0;36msend\u001b[0;34m(self, data)\u001b[0m\n\u001b[1;32m    948\u001b[0m         \u001b[0;32mif\u001b[0m \u001b[0mself\u001b[0m\u001b[0;34m.\u001b[0m\u001b[0msock\u001b[0m \u001b[0;32mis\u001b[0m \u001b[0;32mNone\u001b[0m\u001b[0;34m:\u001b[0m\u001b[0;34m\u001b[0m\u001b[0;34m\u001b[0m\u001b[0m\n\u001b[1;32m    949\u001b[0m             \u001b[0;32mif\u001b[0m \u001b[0mself\u001b[0m\u001b[0;34m.\u001b[0m\u001b[0mauto_open\u001b[0m\u001b[0;34m:\u001b[0m\u001b[0;34m\u001b[0m\u001b[0;34m\u001b[0m\u001b[0m\n\u001b[0;32m--> 950\u001b[0;31m                 \u001b[0mself\u001b[0m\u001b[0;34m.\u001b[0m\u001b[0mconnect\u001b[0m\u001b[0;34m(\u001b[0m\u001b[0;34m)\u001b[0m\u001b[0;34m\u001b[0m\u001b[0;34m\u001b[0m\u001b[0m\n\u001b[0m\u001b[1;32m    951\u001b[0m             \u001b[0;32melse\u001b[0m\u001b[0;34m:\u001b[0m\u001b[0;34m\u001b[0m\u001b[0;34m\u001b[0m\u001b[0m\n\u001b[1;32m    952\u001b[0m                 \u001b[0;32mraise\u001b[0m \u001b[0mNotConnected\u001b[0m\u001b[0;34m(\u001b[0m\u001b[0;34m)\u001b[0m\u001b[0;34m\u001b[0m\u001b[0;34m\u001b[0m\u001b[0m\n",
      "\u001b[0;32m/usr/lib/python3.8/http/client.py\u001b[0m in \u001b[0;36mconnect\u001b[0;34m(self)\u001b[0m\n\u001b[1;32m   1415\u001b[0m             \u001b[0;34m\"Connect to a host on a given (SSL) port.\"\u001b[0m\u001b[0;34m\u001b[0m\u001b[0;34m\u001b[0m\u001b[0m\n\u001b[1;32m   1416\u001b[0m \u001b[0;34m\u001b[0m\u001b[0m\n\u001b[0;32m-> 1417\u001b[0;31m             \u001b[0msuper\u001b[0m\u001b[0;34m(\u001b[0m\u001b[0;34m)\u001b[0m\u001b[0;34m.\u001b[0m\u001b[0mconnect\u001b[0m\u001b[0;34m(\u001b[0m\u001b[0;34m)\u001b[0m\u001b[0;34m\u001b[0m\u001b[0;34m\u001b[0m\u001b[0m\n\u001b[0m\u001b[1;32m   1418\u001b[0m \u001b[0;34m\u001b[0m\u001b[0m\n\u001b[1;32m   1419\u001b[0m             \u001b[0;32mif\u001b[0m \u001b[0mself\u001b[0m\u001b[0;34m.\u001b[0m\u001b[0m_tunnel_host\u001b[0m\u001b[0;34m:\u001b[0m\u001b[0;34m\u001b[0m\u001b[0;34m\u001b[0m\u001b[0m\n",
      "\u001b[0;32m/usr/lib/python3.8/http/client.py\u001b[0m in \u001b[0;36mconnect\u001b[0;34m(self)\u001b[0m\n\u001b[1;32m    919\u001b[0m     \u001b[0;32mdef\u001b[0m \u001b[0mconnect\u001b[0m\u001b[0;34m(\u001b[0m\u001b[0mself\u001b[0m\u001b[0;34m)\u001b[0m\u001b[0;34m:\u001b[0m\u001b[0;34m\u001b[0m\u001b[0;34m\u001b[0m\u001b[0m\n\u001b[1;32m    920\u001b[0m         \u001b[0;34m\"\"\"Connect to the host and port specified in __init__.\"\"\"\u001b[0m\u001b[0;34m\u001b[0m\u001b[0;34m\u001b[0m\u001b[0m\n\u001b[0;32m--> 921\u001b[0;31m         self.sock = self._create_connection(\n\u001b[0m\u001b[1;32m    922\u001b[0m             (self.host,self.port), self.timeout, self.source_address)\n\u001b[1;32m    923\u001b[0m         \u001b[0mself\u001b[0m\u001b[0;34m.\u001b[0m\u001b[0msock\u001b[0m\u001b[0;34m.\u001b[0m\u001b[0msetsockopt\u001b[0m\u001b[0;34m(\u001b[0m\u001b[0msocket\u001b[0m\u001b[0;34m.\u001b[0m\u001b[0mIPPROTO_TCP\u001b[0m\u001b[0;34m,\u001b[0m \u001b[0msocket\u001b[0m\u001b[0;34m.\u001b[0m\u001b[0mTCP_NODELAY\u001b[0m\u001b[0;34m,\u001b[0m \u001b[0;36m1\u001b[0m\u001b[0;34m)\u001b[0m\u001b[0;34m\u001b[0m\u001b[0;34m\u001b[0m\u001b[0m\n",
      "\u001b[0;32m/usr/lib/python3.8/socket.py\u001b[0m in \u001b[0;36mcreate_connection\u001b[0;34m(address, timeout, source_address)\u001b[0m\n\u001b[1;32m    794\u001b[0m             \u001b[0;32mif\u001b[0m \u001b[0msource_address\u001b[0m\u001b[0;34m:\u001b[0m\u001b[0;34m\u001b[0m\u001b[0;34m\u001b[0m\u001b[0m\n\u001b[1;32m    795\u001b[0m                 \u001b[0msock\u001b[0m\u001b[0;34m.\u001b[0m\u001b[0mbind\u001b[0m\u001b[0;34m(\u001b[0m\u001b[0msource_address\u001b[0m\u001b[0;34m)\u001b[0m\u001b[0;34m\u001b[0m\u001b[0;34m\u001b[0m\u001b[0m\n\u001b[0;32m--> 796\u001b[0;31m             \u001b[0msock\u001b[0m\u001b[0;34m.\u001b[0m\u001b[0mconnect\u001b[0m\u001b[0;34m(\u001b[0m\u001b[0msa\u001b[0m\u001b[0;34m)\u001b[0m\u001b[0;34m\u001b[0m\u001b[0;34m\u001b[0m\u001b[0m\n\u001b[0m\u001b[1;32m    797\u001b[0m             \u001b[0;31m# Break explicitly a reference cycle\u001b[0m\u001b[0;34m\u001b[0m\u001b[0;34m\u001b[0m\u001b[0;34m\u001b[0m\u001b[0m\n\u001b[1;32m    798\u001b[0m             \u001b[0merr\u001b[0m \u001b[0;34m=\u001b[0m \u001b[0;32mNone\u001b[0m\u001b[0;34m\u001b[0m\u001b[0;34m\u001b[0m\u001b[0m\n",
      "\u001b[0;31mKeyboardInterrupt\u001b[0m: "
     ]
    }
   ],
   "source": [
    "#tip_dict = {}\n",
    "tip_dict = json.load(open('tip_dict.json'))\n",
    "\n",
    "#all_synth_tips = [leaf.taxon.label for leaf in total_synth.tree.leaf_node_iter()]\n",
    "#fi = open(\"tip_interop.csv\", \"a\")\n",
    "\n",
    "all_synth_tips = test_tips\n",
    "\n",
    "for tip in all_synth_tips:\n",
    "    print(len(tip_dict))\n",
    "    if tip not in tip_dict:\n",
    "        assert(tip.startswith('ott'))\n",
    "        tmp_dict = all_tax_dict[tip.strip('ott')]\n",
    "        tmp_dict['ncbi_ids'] = []\n",
    "        tmp_dict['gbif_ids'] = []   \n",
    "        tmp_dict['ncbi_eq_results'] = []\n",
    "        tmp_dict['gbif_records'] = 0\n",
    "        for source in tmp_dict['source'].split(','):\n",
    "            if source.startswith('ncbi'):\n",
    "                ncbi_id = source.split(':')[1]\n",
    "                tmp_dict['ncbi_ids'].append(ncbi_id)\n",
    "                eq_results = get_ncbi_records(ncbi_id)\n",
    "                tmp_dict['ncbi_eq_results'].append(eq_results)\n",
    "            if source.startswith('gbif'):\n",
    "                gbif_id = source.split(':')[1]\n",
    "                tmp_dict['gbif_ids'].append(gbif_id)\n",
    "                tmp_dict['gbif_records'] += occ.count(taxonKey = gbif_id)\n",
    "        tip_dict[tip] = tmp_dict\n",
    "\n",
    "        \n"
   ]
  },
  {
   "cell_type": "code",
   "execution_count": null,
   "metadata": {},
   "outputs": [],
   "source": [
    "test_tips = []\n",
    "node_tips = {}\n",
    "synth_tips_over_500.sort()\n",
    "for node in synth_tips_over_500[:5]:\n",
    "    synth_sub = OT.synth_subtree(node_id=node, label_format=\"id\")\n",
    "    sub_taxa = [node.label for node in synth_sub.tree if node.label]\n",
    "    sub_tips = [leaf.taxon.label for leaf in synth_sub.tree.leaf_node_iter()]\n",
    "    internal_spp = [ottid for ottid in  sub_taxa if ottid.strip('ott') in species_set]\n",
    "    print(len(sub_spp_and_below))\n",
    "    node_tips[node] = sub_tips\n",
    "    test_tips = test_tips + sub_tips"
   ]
  },
  {
   "cell_type": "code",
   "execution_count": 18,
   "metadata": {},
   "outputs": [
    {
     "name": "stdout",
     "output_type": "stream",
     "text": [
      "mrcaott101284ott282313\n"
     ]
    },
    {
     "ename": "NameError",
     "evalue": "name 'node_tips' is not defined",
     "output_type": "error",
     "traceback": [
      "\u001b[0;31m---------------------------------------------------------------------------\u001b[0m",
      "\u001b[0;31mNameError\u001b[0m                                 Traceback (most recent call last)",
      "\u001b[0;32m<ipython-input-18-8288be6edd6b>\u001b[0m in \u001b[0;36m<module>\u001b[0;34m\u001b[0m\n\u001b[1;32m     13\u001b[0m     \u001b[0mnode_annotation\u001b[0m\u001b[0;34m[\u001b[0m\u001b[0mnid\u001b[0m\u001b[0;34m]\u001b[0m\u001b[0;34m[\u001b[0m\u001b[0;34m'has_nuc_dat'\u001b[0m\u001b[0;34m]\u001b[0m \u001b[0;34m=\u001b[0m \u001b[0;36m0\u001b[0m\u001b[0;34m\u001b[0m\u001b[0;34m\u001b[0m\u001b[0m\n\u001b[1;32m     14\u001b[0m     \u001b[0mnode_annotation\u001b[0m\u001b[0;34m[\u001b[0m\u001b[0mnid\u001b[0m\u001b[0;34m]\u001b[0m\u001b[0;34m[\u001b[0m\u001b[0;34m'has_ncbi_id'\u001b[0m\u001b[0;34m]\u001b[0m \u001b[0;34m=\u001b[0m \u001b[0;36m0\u001b[0m\u001b[0;34m\u001b[0m\u001b[0;34m\u001b[0m\u001b[0m\n\u001b[0;32m---> 15\u001b[0;31m     \u001b[0mnode_annotation\u001b[0m\u001b[0;34m[\u001b[0m\u001b[0mnid\u001b[0m\u001b[0;34m]\u001b[0m\u001b[0;34m[\u001b[0m\u001b[0;34m'total_descendents'\u001b[0m\u001b[0;34m]\u001b[0m \u001b[0;34m=\u001b[0m \u001b[0mlen\u001b[0m\u001b[0;34m(\u001b[0m\u001b[0mnode_tips\u001b[0m\u001b[0;34m[\u001b[0m\u001b[0mnid\u001b[0m\u001b[0;34m]\u001b[0m\u001b[0;34m)\u001b[0m\u001b[0;34m\u001b[0m\u001b[0;34m\u001b[0m\u001b[0m\n\u001b[0m\u001b[1;32m     16\u001b[0m     \u001b[0;32mfor\u001b[0m \u001b[0mtip\u001b[0m \u001b[0;32min\u001b[0m \u001b[0mnode_tips\u001b[0m\u001b[0;34m[\u001b[0m\u001b[0mnid\u001b[0m\u001b[0;34m]\u001b[0m\u001b[0;34m:\u001b[0m\u001b[0;34m\u001b[0m\u001b[0;34m\u001b[0m\u001b[0m\n\u001b[1;32m     17\u001b[0m         \u001b[0;32massert\u001b[0m \u001b[0mtip\u001b[0m \u001b[0;32min\u001b[0m \u001b[0mtest_tips\u001b[0m\u001b[0;34m\u001b[0m\u001b[0;34m\u001b[0m\u001b[0m\n",
      "\u001b[0;31mNameError\u001b[0m: name 'node_tips' is not defined"
     ]
    }
   ],
   "source": [
    "node_annotation = {}\n",
    "for nid in fam_synth_tips[:5]:\n",
    "    print(nid)\n",
    "    node_annotation[nid] = {}\n",
    "    node_annotation[nid]['tips_counted'] = 0\n",
    "    node_annotation[nid]['ncbi_ids'] = 0\n",
    "    node_annotation[nid]['gbif_ids'] = 0\n",
    "    node_annotation[nid]['genomes'] = 0\n",
    "    node_annotation[nid]['genbank'] = 0\n",
    "    node_annotation[nid]['gbif_occ'] = 0\n",
    "    node_annotation[nid]['has_gbif_dat'] = 0\n",
    "    node_annotation[nid]['has_gbif_id'] = 0\n",
    "    node_annotation[nid]['has_nuc_dat'] = 0\n",
    "    node_annotation[nid]['has_ncbi_id'] = 0\n",
    "    node_annotation[nid]['total_descendents'] = len(node_tips[nid])\n",
    "    for tip in node_tips[nid]:\n",
    "        assert tip in test_tips\n",
    "        if tip in tip_dict:\n",
    "            node_annotation[nid]['tips_counted'] += 1\n",
    "            node_annotation[nid]['ncbi_ids'] +=len(tip_dict[tip].get('ncbi_ids',[]))\n",
    "            node_annotation[nid]['genomes'] += sum([int(res.get('genome',{'Count':0})['Count']) for res in tip_dict[tip]['ncbi_eq_results']])\n",
    "            node_annotation[nid]['genbank'] += sum([int(res.get('nuccore',{'Count':0})['Count']) for res in tip_dict[tip]['ncbi_eq_results']])\n",
    "            node_annotation[nid]['gbif_occ'] += int(tip_dict[tip]['gbif_records'])\n",
    "            node_annotation[nid]['gbif_ids'] +=len(tip_dict[tip].get('gbif_ids',[]))\n",
    "            if len(tip_dict[tip].get('ncbi_ids',[])) >= 1:\n",
    "                node_annotation[nid]['has_ncbi_id'] += 1\n",
    "            if len(tip_dict[tip].get('gbif_ids',[])) >= 1:\n",
    "                node_annotation[nid]['has_gbif_id'] += 1\n",
    "            if int(tip_dict[tip]['gbif_records']) >= 1:\n",
    "                node_annotation[nid]['has_gbif_dat'] += 1\n",
    "            if sum([int(res.get('nuccore',{'Count':0})['Count']) for res in tip_dict[tip]['ncbi_eq_results']]) >= 1:\n",
    "                node_annotation[nid]['has_nuc_dat'] +=1\n",
    "                \n",
    "    node_annotation[nid]['has_gbif_dat_perc'] = int((node_annotation[nid]['has_gbif_dat']/node_annotation[nid]['tips_counted'])*100)\n",
    "    node_annotation[nid]['has_nuc_dat_perc'] = int((node_annotation[nid]['has_nuc_dat']/node_annotation[nid]['tips_counted'])*100)\n",
    "    node_annotation[nid]['has_gbif_id_perc'] = int((node_annotation[nid]['has_gbif_id']/node_annotation[nid]['tips_counted'])*100)\n",
    "    node_annotation[nid]['has_ncbi_id_perc'] = int((node_annotation[nid]['has_ncbi_id']/node_annotation[nid]['tips_counted'])*100)\n",
    "                \n",
    "\n",
    "            \n",
    "\n"
   ]
  },
  {
   "cell_type": "markdown",
   "metadata": {},
   "source": [
    "## Start by finding lineages that represent 500 or more descendents"
   ]
  },
  {
   "cell_type": "code",
   "execution_count": 7,
   "metadata": {},
   "outputs": [
    {
     "ename": "KeyboardInterrupt",
     "evalue": "",
     "output_type": "error",
     "traceback": [
      "\u001b[0;31m---------------------------------------------------------------------------\u001b[0m",
      "\u001b[0;31mKeyboardInterrupt\u001b[0m                         Traceback (most recent call last)",
      "\u001b[0;32m<ipython-input-7-b9437bd65a68>\u001b[0m in \u001b[0;36m<module>\u001b[0;34m\u001b[0m\n\u001b[1;32m      3\u001b[0m \u001b[0;34m\u001b[0m\u001b[0m\n\u001b[1;32m      4\u001b[0m \u001b[0mfi\u001b[0m \u001b[0;34m=\u001b[0m \u001b[0;34m'/home/ejmctavish/projects/otapi/opentree12.3_tree/labelled_supertree/labelled_supertree.tre'\u001b[0m\u001b[0;34m\u001b[0m\u001b[0;34m\u001b[0m\u001b[0m\n\u001b[0;32m----> 5\u001b[0;31m \u001b[0mtotal_synth\u001b[0m \u001b[0;34m=\u001b[0m \u001b[0mdendropy\u001b[0m\u001b[0;34m.\u001b[0m\u001b[0mTree\u001b[0m\u001b[0;34m.\u001b[0m\u001b[0mget\u001b[0m\u001b[0;34m(\u001b[0m\u001b[0mpath\u001b[0m\u001b[0;34m=\u001b[0m\u001b[0mfi\u001b[0m\u001b[0;34m,\u001b[0m \u001b[0mschema\u001b[0m\u001b[0;34m=\u001b[0m\u001b[0;34m\"newick\"\u001b[0m\u001b[0;34m)\u001b[0m\u001b[0;34m\u001b[0m\u001b[0;34m\u001b[0m\u001b[0m\n\u001b[0m\u001b[1;32m      6\u001b[0m \u001b[0;32mfor\u001b[0m \u001b[0mnode\u001b[0m \u001b[0;32min\u001b[0m \u001b[0mtotal_synth\u001b[0m\u001b[0;34m:\u001b[0m\u001b[0;34m\u001b[0m\u001b[0;34m\u001b[0m\u001b[0m\n\u001b[1;32m      7\u001b[0m     \u001b[0;32mif\u001b[0m \u001b[0mlen\u001b[0m\u001b[0;34m(\u001b[0m\u001b[0mnode\u001b[0m\u001b[0;34m.\u001b[0m\u001b[0mleaf_nodes\u001b[0m\u001b[0;34m(\u001b[0m\u001b[0;34m)\u001b[0m\u001b[0;34m)\u001b[0m \u001b[0;34m>\u001b[0m \u001b[0;36m500\u001b[0m\u001b[0;34m:\u001b[0m\u001b[0;34m\u001b[0m\u001b[0;34m\u001b[0m\u001b[0m\n",
      "\u001b[0;32m~/projects/otapi/OT2020/venv-ot2020/lib/python3.8/site-packages/dendropy/datamodel/treemodel.py\u001b[0m in \u001b[0;36mget\u001b[0;34m(cls, **kwargs)\u001b[0m\n\u001b[1;32m   2756\u001b[0m \u001b[0;34m\u001b[0m\u001b[0m\n\u001b[1;32m   2757\u001b[0m         \"\"\"\n\u001b[0;32m-> 2758\u001b[0;31m         \u001b[0;32mreturn\u001b[0m \u001b[0mcls\u001b[0m\u001b[0;34m.\u001b[0m\u001b[0m_get_from\u001b[0m\u001b[0;34m(\u001b[0m\u001b[0;34m**\u001b[0m\u001b[0mkwargs\u001b[0m\u001b[0;34m)\u001b[0m\u001b[0;34m\u001b[0m\u001b[0;34m\u001b[0m\u001b[0m\n\u001b[0m\u001b[1;32m   2759\u001b[0m \u001b[0;34m\u001b[0m\u001b[0m\n\u001b[1;32m   2760\u001b[0m     def yield_from_files(cls,\n",
      "\u001b[0;32m~/projects/otapi/OT2020/venv-ot2020/lib/python3.8/site-packages/dendropy/datamodel/basemodel.py\u001b[0m in \u001b[0;36m_get_from\u001b[0;34m(cls, **kwargs)\u001b[0m\n\u001b[1;32m    154\u001b[0m             \u001b[0;32mreturn\u001b[0m \u001b[0mcls\u001b[0m\u001b[0;34m.\u001b[0m\u001b[0mget_from_stream\u001b[0m\u001b[0;34m(\u001b[0m\u001b[0msrc\u001b[0m\u001b[0;34m=\u001b[0m\u001b[0msrc\u001b[0m\u001b[0;34m,\u001b[0m \u001b[0mschema\u001b[0m\u001b[0;34m=\u001b[0m\u001b[0mschema\u001b[0m\u001b[0;34m,\u001b[0m \u001b[0;34m**\u001b[0m\u001b[0mkwargs\u001b[0m\u001b[0;34m)\u001b[0m\u001b[0;34m\u001b[0m\u001b[0;34m\u001b[0m\u001b[0m\n\u001b[1;32m    155\u001b[0m         \u001b[0;32melif\u001b[0m \u001b[0msrc_type\u001b[0m \u001b[0;34m==\u001b[0m \u001b[0;34m\"path\"\u001b[0m\u001b[0;34m:\u001b[0m\u001b[0;34m\u001b[0m\u001b[0;34m\u001b[0m\u001b[0m\n\u001b[0;32m--> 156\u001b[0;31m             \u001b[0;32mreturn\u001b[0m \u001b[0mcls\u001b[0m\u001b[0;34m.\u001b[0m\u001b[0mget_from_path\u001b[0m\u001b[0;34m(\u001b[0m\u001b[0msrc\u001b[0m\u001b[0;34m=\u001b[0m\u001b[0msrc\u001b[0m\u001b[0;34m,\u001b[0m \u001b[0mschema\u001b[0m\u001b[0;34m=\u001b[0m\u001b[0mschema\u001b[0m\u001b[0;34m,\u001b[0m \u001b[0;34m**\u001b[0m\u001b[0mkwargs\u001b[0m\u001b[0;34m)\u001b[0m\u001b[0;34m\u001b[0m\u001b[0;34m\u001b[0m\u001b[0m\n\u001b[0m\u001b[1;32m    157\u001b[0m         \u001b[0;32melif\u001b[0m \u001b[0msrc_type\u001b[0m \u001b[0;34m==\u001b[0m \u001b[0;34m\"data\"\u001b[0m \u001b[0;32mor\u001b[0m \u001b[0msrc_type\u001b[0m \u001b[0;34m==\u001b[0m \u001b[0;34m\"string\"\u001b[0m\u001b[0;34m:\u001b[0m\u001b[0;34m\u001b[0m\u001b[0;34m\u001b[0m\u001b[0m\n\u001b[1;32m    158\u001b[0m             \u001b[0;32mreturn\u001b[0m \u001b[0mcls\u001b[0m\u001b[0;34m.\u001b[0m\u001b[0mget_from_string\u001b[0m\u001b[0;34m(\u001b[0m\u001b[0msrc\u001b[0m\u001b[0;34m=\u001b[0m\u001b[0msrc\u001b[0m\u001b[0;34m,\u001b[0m \u001b[0mschema\u001b[0m\u001b[0;34m=\u001b[0m\u001b[0mschema\u001b[0m\u001b[0;34m,\u001b[0m \u001b[0;34m**\u001b[0m\u001b[0mkwargs\u001b[0m\u001b[0;34m)\u001b[0m\u001b[0;34m\u001b[0m\u001b[0;34m\u001b[0m\u001b[0m\n",
      "\u001b[0;32m~/projects/otapi/OT2020/venv-ot2020/lib/python3.8/site-packages/dendropy/datamodel/basemodel.py\u001b[0m in \u001b[0;36mget_from_path\u001b[0;34m(cls, src, schema, **kwargs)\u001b[0m\n\u001b[1;32m    215\u001b[0m         \"\"\"\n\u001b[1;32m    216\u001b[0m         \u001b[0;32mwith\u001b[0m \u001b[0mopen\u001b[0m\u001b[0;34m(\u001b[0m\u001b[0msrc\u001b[0m\u001b[0;34m,\u001b[0m \u001b[0;34m\"r\"\u001b[0m\u001b[0;34m,\u001b[0m \u001b[0mnewline\u001b[0m\u001b[0;34m=\u001b[0m\u001b[0;32mNone\u001b[0m\u001b[0;34m)\u001b[0m \u001b[0;32mas\u001b[0m \u001b[0mfsrc\u001b[0m\u001b[0;34m:\u001b[0m\u001b[0;34m\u001b[0m\u001b[0;34m\u001b[0m\u001b[0m\n\u001b[0;32m--> 217\u001b[0;31m             return cls._parse_and_create_from_stream(stream=fsrc,\n\u001b[0m\u001b[1;32m    218\u001b[0m                     \u001b[0mschema\u001b[0m\u001b[0;34m=\u001b[0m\u001b[0mschema\u001b[0m\u001b[0;34m,\u001b[0m\u001b[0;34m\u001b[0m\u001b[0;34m\u001b[0m\u001b[0m\n\u001b[1;32m    219\u001b[0m                     **kwargs)\n",
      "\u001b[0;32m~/projects/otapi/OT2020/venv-ot2020/lib/python3.8/site-packages/dendropy/datamodel/treemodel.py\u001b[0m in \u001b[0;36m_parse_and_create_from_stream\u001b[0;34m(cls, stream, schema, collection_offset, tree_offset, **kwargs)\u001b[0m\n\u001b[1;32m   2657\u001b[0m         \u001b[0;32mif\u001b[0m \u001b[0mtree_offset\u001b[0m \u001b[0;32mis\u001b[0m \u001b[0;32mNone\u001b[0m\u001b[0;34m:\u001b[0m\u001b[0;34m\u001b[0m\u001b[0;34m\u001b[0m\u001b[0m\n\u001b[1;32m   2658\u001b[0m             \u001b[0mtree_offset\u001b[0m \u001b[0;34m=\u001b[0m \u001b[0;36m0\u001b[0m\u001b[0;34m\u001b[0m\u001b[0;34m\u001b[0m\u001b[0m\n\u001b[0;32m-> 2659\u001b[0;31m         tree_lists = reader.read_tree_lists(\n\u001b[0m\u001b[1;32m   2660\u001b[0m                     \u001b[0mstream\u001b[0m\u001b[0;34m=\u001b[0m\u001b[0mstream\u001b[0m\u001b[0;34m,\u001b[0m\u001b[0;34m\u001b[0m\u001b[0;34m\u001b[0m\u001b[0m\n\u001b[1;32m   2661\u001b[0m                     \u001b[0mtaxon_namespace_factory\u001b[0m\u001b[0;34m=\u001b[0m\u001b[0mtns_factory\u001b[0m\u001b[0;34m,\u001b[0m\u001b[0;34m\u001b[0m\u001b[0;34m\u001b[0m\u001b[0m\n",
      "\u001b[0;32m~/projects/otapi/OT2020/venv-ot2020/lib/python3.8/site-packages/dendropy/dataio/ioservice.py\u001b[0m in \u001b[0;36mread_tree_lists\u001b[0;34m(self, stream, taxon_namespace_factory, tree_list_factory, global_annotations_target)\u001b[0m\n\u001b[1;32m    356\u001b[0m         \"\"\"\n\u001b[1;32m    357\u001b[0m         \u001b[0;31m# ``product`` is a namedtuple(\"DataReaderProducts\", [\"taxon_namespaces\", \"tree_lists\", \"char_matrices\"])\u001b[0m\u001b[0;34m\u001b[0m\u001b[0;34m\u001b[0m\u001b[0;34m\u001b[0m\u001b[0m\n\u001b[0;32m--> 358\u001b[0;31m         product = self._read(stream=stream,\n\u001b[0m\u001b[1;32m    359\u001b[0m                 \u001b[0mtaxon_namespace_factory\u001b[0m\u001b[0;34m=\u001b[0m\u001b[0mtaxon_namespace_factory\u001b[0m\u001b[0;34m,\u001b[0m\u001b[0;34m\u001b[0m\u001b[0;34m\u001b[0m\u001b[0m\n\u001b[1;32m    360\u001b[0m                 \u001b[0mtree_list_factory\u001b[0m\u001b[0;34m=\u001b[0m\u001b[0mtree_list_factory\u001b[0m\u001b[0;34m,\u001b[0m\u001b[0;34m\u001b[0m\u001b[0;34m\u001b[0m\u001b[0m\n",
      "\u001b[0;32m~/projects/otapi/OT2020/venv-ot2020/lib/python3.8/site-packages/dendropy/dataio/newickreader.py\u001b[0m in \u001b[0;36m_read\u001b[0;34m(self, stream, taxon_namespace_factory, tree_list_factory, char_matrix_factory, state_alphabet_factory, global_annotations_target)\u001b[0m\n\u001b[1;32m    322\u001b[0m                 case_sensitive=self.case_sensitive_taxon_labels)\n\u001b[1;32m    323\u001b[0m         \u001b[0mtree_factory\u001b[0m \u001b[0;34m=\u001b[0m \u001b[0mtree_list\u001b[0m\u001b[0;34m.\u001b[0m\u001b[0mnew_tree\u001b[0m\u001b[0;34m\u001b[0m\u001b[0;34m\u001b[0m\u001b[0m\n\u001b[0;32m--> 324\u001b[0;31m         for tree in self.tree_iter(stream=stream,\n\u001b[0m\u001b[1;32m    325\u001b[0m                 \u001b[0mtaxon_symbol_mapper\u001b[0m\u001b[0;34m=\u001b[0m\u001b[0mtaxon_symbol_mapper\u001b[0m\u001b[0;34m,\u001b[0m\u001b[0;34m\u001b[0m\u001b[0;34m\u001b[0m\u001b[0m\n\u001b[1;32m    326\u001b[0m                 tree_factory=tree_factory):\n",
      "\u001b[0;32m~/projects/otapi/OT2020/venv-ot2020/lib/python3.8/site-packages/dendropy/dataio/newickreader.py\u001b[0m in \u001b[0;36mtree_iter\u001b[0;34m(self, stream, taxon_symbol_mapper, tree_factory)\u001b[0m\n\u001b[1;32m    299\u001b[0m                 preserve_unquoted_underscores=self.preserve_unquoted_underscores)\n\u001b[1;32m    300\u001b[0m         \u001b[0;32mwhile\u001b[0m \u001b[0;32mTrue\u001b[0m\u001b[0;34m:\u001b[0m\u001b[0;34m\u001b[0m\u001b[0;34m\u001b[0m\u001b[0m\n\u001b[0;32m--> 301\u001b[0;31m             tree = self._parse_tree_statement(\n\u001b[0m\u001b[1;32m    302\u001b[0m                     \u001b[0mnexus_tokenizer\u001b[0m\u001b[0;34m=\u001b[0m\u001b[0mnexus_tokenizer\u001b[0m\u001b[0;34m,\u001b[0m\u001b[0;34m\u001b[0m\u001b[0;34m\u001b[0m\u001b[0m\n\u001b[1;32m    303\u001b[0m                     \u001b[0mtree_factory\u001b[0m\u001b[0;34m=\u001b[0m\u001b[0mtree_factory\u001b[0m\u001b[0;34m,\u001b[0m\u001b[0;34m\u001b[0m\u001b[0;34m\u001b[0m\u001b[0m\n",
      "\u001b[0;32m~/projects/otapi/OT2020/venv-ot2020/lib/python3.8/site-packages/dendropy/dataio/newickreader.py\u001b[0m in \u001b[0;36m_parse_tree_statement\u001b[0;34m(self, nexus_tokenizer, tree_factory, taxon_symbol_map_fn)\u001b[0m\n\u001b[1;32m    379\u001b[0m         \u001b[0mself\u001b[0m\u001b[0;34m.\u001b[0m\u001b[0m_tree_statement_complete\u001b[0m \u001b[0;34m=\u001b[0m \u001b[0;32mFalse\u001b[0m\u001b[0;34m\u001b[0m\u001b[0;34m\u001b[0m\u001b[0m\n\u001b[1;32m    380\u001b[0m         \u001b[0mself\u001b[0m\u001b[0;34m.\u001b[0m\u001b[0m_seen_taxa\u001b[0m \u001b[0;34m=\u001b[0m \u001b[0mset\u001b[0m\u001b[0;34m(\u001b[0m\u001b[0;34m)\u001b[0m\u001b[0;34m\u001b[0m\u001b[0;34m\u001b[0m\u001b[0m\n\u001b[0;32m--> 381\u001b[0;31m         self._parse_tree_node_description(\n\u001b[0m\u001b[1;32m    382\u001b[0m                 \u001b[0mnexus_tokenizer\u001b[0m\u001b[0;34m=\u001b[0m\u001b[0mnexus_tokenizer\u001b[0m\u001b[0;34m,\u001b[0m\u001b[0;34m\u001b[0m\u001b[0;34m\u001b[0m\u001b[0m\n\u001b[1;32m    383\u001b[0m                 \u001b[0mtree\u001b[0m\u001b[0;34m=\u001b[0m\u001b[0mtree\u001b[0m\u001b[0;34m,\u001b[0m\u001b[0;34m\u001b[0m\u001b[0;34m\u001b[0m\u001b[0m\n",
      "\u001b[0;32m~/projects/otapi/OT2020/venv-ot2020/lib/python3.8/site-packages/dendropy/dataio/newickreader.py\u001b[0m in \u001b[0;36m_parse_tree_node_description\u001b[0;34m(self, nexus_tokenizer, tree, current_node, taxon_symbol_map_fn, is_internal_node)\u001b[0m\n\u001b[1;32m    555\u001b[0m                             \u001b[0mitem_comments\u001b[0m\u001b[0;34m=\u001b[0m\u001b[0mnexus_tokenizer\u001b[0m\u001b[0;34m.\u001b[0m\u001b[0mpull_captured_comments\u001b[0m\u001b[0;34m(\u001b[0m\u001b[0;34m)\u001b[0m\u001b[0;34m,\u001b[0m\u001b[0;34m\u001b[0m\u001b[0;34m\u001b[0m\u001b[0m\n\u001b[1;32m    556\u001b[0m                             extract_comment_metadata=self.extract_comment_metadata)\n\u001b[0;32m--> 557\u001b[0;31m                     self._parse_tree_node_description(\n\u001b[0m\u001b[1;32m    558\u001b[0m                             \u001b[0mnexus_tokenizer\u001b[0m\u001b[0;34m=\u001b[0m\u001b[0mnexus_tokenizer\u001b[0m\u001b[0;34m,\u001b[0m\u001b[0;34m\u001b[0m\u001b[0;34m\u001b[0m\u001b[0m\n\u001b[1;32m    559\u001b[0m                             \u001b[0mtree\u001b[0m\u001b[0;34m=\u001b[0m\u001b[0mtree\u001b[0m\u001b[0;34m,\u001b[0m\u001b[0;34m\u001b[0m\u001b[0;34m\u001b[0m\u001b[0m\n",
      "\u001b[0;32m~/projects/otapi/OT2020/venv-ot2020/lib/python3.8/site-packages/dendropy/dataio/newickreader.py\u001b[0m in \u001b[0;36m_parse_tree_node_description\u001b[0;34m(self, nexus_tokenizer, tree, current_node, taxon_symbol_map_fn, is_internal_node)\u001b[0m\n\u001b[1;32m    555\u001b[0m                             \u001b[0mitem_comments\u001b[0m\u001b[0;34m=\u001b[0m\u001b[0mnexus_tokenizer\u001b[0m\u001b[0;34m.\u001b[0m\u001b[0mpull_captured_comments\u001b[0m\u001b[0;34m(\u001b[0m\u001b[0;34m)\u001b[0m\u001b[0;34m,\u001b[0m\u001b[0;34m\u001b[0m\u001b[0;34m\u001b[0m\u001b[0m\n\u001b[1;32m    556\u001b[0m                             extract_comment_metadata=self.extract_comment_metadata)\n\u001b[0;32m--> 557\u001b[0;31m                     self._parse_tree_node_description(\n\u001b[0m\u001b[1;32m    558\u001b[0m                             \u001b[0mnexus_tokenizer\u001b[0m\u001b[0;34m=\u001b[0m\u001b[0mnexus_tokenizer\u001b[0m\u001b[0;34m,\u001b[0m\u001b[0;34m\u001b[0m\u001b[0;34m\u001b[0m\u001b[0m\n\u001b[1;32m    559\u001b[0m                             \u001b[0mtree\u001b[0m\u001b[0;34m=\u001b[0m\u001b[0mtree\u001b[0m\u001b[0;34m,\u001b[0m\u001b[0;34m\u001b[0m\u001b[0;34m\u001b[0m\u001b[0m\n",
      "\u001b[0;32m~/projects/otapi/OT2020/venv-ot2020/lib/python3.8/site-packages/dendropy/dataio/newickreader.py\u001b[0m in \u001b[0;36m_parse_tree_node_description\u001b[0;34m(self, nexus_tokenizer, tree, current_node, taxon_symbol_map_fn, is_internal_node)\u001b[0m\n\u001b[1;32m    555\u001b[0m                             \u001b[0mitem_comments\u001b[0m\u001b[0;34m=\u001b[0m\u001b[0mnexus_tokenizer\u001b[0m\u001b[0;34m.\u001b[0m\u001b[0mpull_captured_comments\u001b[0m\u001b[0;34m(\u001b[0m\u001b[0;34m)\u001b[0m\u001b[0;34m,\u001b[0m\u001b[0;34m\u001b[0m\u001b[0;34m\u001b[0m\u001b[0m\n\u001b[1;32m    556\u001b[0m                             extract_comment_metadata=self.extract_comment_metadata)\n\u001b[0;32m--> 557\u001b[0;31m                     self._parse_tree_node_description(\n\u001b[0m\u001b[1;32m    558\u001b[0m                             \u001b[0mnexus_tokenizer\u001b[0m\u001b[0;34m=\u001b[0m\u001b[0mnexus_tokenizer\u001b[0m\u001b[0;34m,\u001b[0m\u001b[0;34m\u001b[0m\u001b[0;34m\u001b[0m\u001b[0m\n\u001b[1;32m    559\u001b[0m                             \u001b[0mtree\u001b[0m\u001b[0;34m=\u001b[0m\u001b[0mtree\u001b[0m\u001b[0;34m,\u001b[0m\u001b[0;34m\u001b[0m\u001b[0;34m\u001b[0m\u001b[0m\n",
      "\u001b[0;32m~/projects/otapi/OT2020/venv-ot2020/lib/python3.8/site-packages/dendropy/dataio/newickreader.py\u001b[0m in \u001b[0;36m_parse_tree_node_description\u001b[0;34m(self, nexus_tokenizer, tree, current_node, taxon_symbol_map_fn, is_internal_node)\u001b[0m\n\u001b[1;32m    555\u001b[0m                             \u001b[0mitem_comments\u001b[0m\u001b[0;34m=\u001b[0m\u001b[0mnexus_tokenizer\u001b[0m\u001b[0;34m.\u001b[0m\u001b[0mpull_captured_comments\u001b[0m\u001b[0;34m(\u001b[0m\u001b[0;34m)\u001b[0m\u001b[0;34m,\u001b[0m\u001b[0;34m\u001b[0m\u001b[0;34m\u001b[0m\u001b[0m\n\u001b[1;32m    556\u001b[0m                             extract_comment_metadata=self.extract_comment_metadata)\n\u001b[0;32m--> 557\u001b[0;31m                     self._parse_tree_node_description(\n\u001b[0m\u001b[1;32m    558\u001b[0m                             \u001b[0mnexus_tokenizer\u001b[0m\u001b[0;34m=\u001b[0m\u001b[0mnexus_tokenizer\u001b[0m\u001b[0;34m,\u001b[0m\u001b[0;34m\u001b[0m\u001b[0;34m\u001b[0m\u001b[0m\n\u001b[1;32m    559\u001b[0m                             \u001b[0mtree\u001b[0m\u001b[0;34m=\u001b[0m\u001b[0mtree\u001b[0m\u001b[0;34m,\u001b[0m\u001b[0;34m\u001b[0m\u001b[0;34m\u001b[0m\u001b[0m\n",
      "\u001b[0;32m~/projects/otapi/OT2020/venv-ot2020/lib/python3.8/site-packages/dendropy/dataio/newickreader.py\u001b[0m in \u001b[0;36m_parse_tree_node_description\u001b[0;34m(self, nexus_tokenizer, tree, current_node, taxon_symbol_map_fn, is_internal_node)\u001b[0m\n\u001b[1;32m    555\u001b[0m                             \u001b[0mitem_comments\u001b[0m\u001b[0;34m=\u001b[0m\u001b[0mnexus_tokenizer\u001b[0m\u001b[0;34m.\u001b[0m\u001b[0mpull_captured_comments\u001b[0m\u001b[0;34m(\u001b[0m\u001b[0;34m)\u001b[0m\u001b[0;34m,\u001b[0m\u001b[0;34m\u001b[0m\u001b[0;34m\u001b[0m\u001b[0m\n\u001b[1;32m    556\u001b[0m                             extract_comment_metadata=self.extract_comment_metadata)\n\u001b[0;32m--> 557\u001b[0;31m                     self._parse_tree_node_description(\n\u001b[0m\u001b[1;32m    558\u001b[0m                             \u001b[0mnexus_tokenizer\u001b[0m\u001b[0;34m=\u001b[0m\u001b[0mnexus_tokenizer\u001b[0m\u001b[0;34m,\u001b[0m\u001b[0;34m\u001b[0m\u001b[0;34m\u001b[0m\u001b[0m\n\u001b[1;32m    559\u001b[0m                             \u001b[0mtree\u001b[0m\u001b[0;34m=\u001b[0m\u001b[0mtree\u001b[0m\u001b[0;34m,\u001b[0m\u001b[0;34m\u001b[0m\u001b[0;34m\u001b[0m\u001b[0m\n",
      "\u001b[0;32m~/projects/otapi/OT2020/venv-ot2020/lib/python3.8/site-packages/dendropy/dataio/newickreader.py\u001b[0m in \u001b[0;36m_parse_tree_node_description\u001b[0;34m(self, nexus_tokenizer, tree, current_node, taxon_symbol_map_fn, is_internal_node)\u001b[0m\n\u001b[1;32m    555\u001b[0m                             \u001b[0mitem_comments\u001b[0m\u001b[0;34m=\u001b[0m\u001b[0mnexus_tokenizer\u001b[0m\u001b[0;34m.\u001b[0m\u001b[0mpull_captured_comments\u001b[0m\u001b[0;34m(\u001b[0m\u001b[0;34m)\u001b[0m\u001b[0;34m,\u001b[0m\u001b[0;34m\u001b[0m\u001b[0;34m\u001b[0m\u001b[0m\n\u001b[1;32m    556\u001b[0m                             extract_comment_metadata=self.extract_comment_metadata)\n\u001b[0;32m--> 557\u001b[0;31m                     self._parse_tree_node_description(\n\u001b[0m\u001b[1;32m    558\u001b[0m                             \u001b[0mnexus_tokenizer\u001b[0m\u001b[0;34m=\u001b[0m\u001b[0mnexus_tokenizer\u001b[0m\u001b[0;34m,\u001b[0m\u001b[0;34m\u001b[0m\u001b[0;34m\u001b[0m\u001b[0m\n\u001b[1;32m    559\u001b[0m                             \u001b[0mtree\u001b[0m\u001b[0;34m=\u001b[0m\u001b[0mtree\u001b[0m\u001b[0;34m,\u001b[0m\u001b[0;34m\u001b[0m\u001b[0;34m\u001b[0m\u001b[0m\n",
      "\u001b[0;32m~/projects/otapi/OT2020/venv-ot2020/lib/python3.8/site-packages/dendropy/dataio/newickreader.py\u001b[0m in \u001b[0;36m_parse_tree_node_description\u001b[0;34m(self, nexus_tokenizer, tree, current_node, taxon_symbol_map_fn, is_internal_node)\u001b[0m\n\u001b[1;32m    555\u001b[0m                             \u001b[0mitem_comments\u001b[0m\u001b[0;34m=\u001b[0m\u001b[0mnexus_tokenizer\u001b[0m\u001b[0;34m.\u001b[0m\u001b[0mpull_captured_comments\u001b[0m\u001b[0;34m(\u001b[0m\u001b[0;34m)\u001b[0m\u001b[0;34m,\u001b[0m\u001b[0;34m\u001b[0m\u001b[0;34m\u001b[0m\u001b[0m\n\u001b[1;32m    556\u001b[0m                             extract_comment_metadata=self.extract_comment_metadata)\n\u001b[0;32m--> 557\u001b[0;31m                     self._parse_tree_node_description(\n\u001b[0m\u001b[1;32m    558\u001b[0m                             \u001b[0mnexus_tokenizer\u001b[0m\u001b[0;34m=\u001b[0m\u001b[0mnexus_tokenizer\u001b[0m\u001b[0;34m,\u001b[0m\u001b[0;34m\u001b[0m\u001b[0;34m\u001b[0m\u001b[0m\n\u001b[1;32m    559\u001b[0m                             \u001b[0mtree\u001b[0m\u001b[0;34m=\u001b[0m\u001b[0mtree\u001b[0m\u001b[0;34m,\u001b[0m\u001b[0;34m\u001b[0m\u001b[0;34m\u001b[0m\u001b[0m\n",
      "\u001b[0;32m~/projects/otapi/OT2020/venv-ot2020/lib/python3.8/site-packages/dendropy/dataio/newickreader.py\u001b[0m in \u001b[0;36m_parse_tree_node_description\u001b[0;34m(self, nexus_tokenizer, tree, current_node, taxon_symbol_map_fn, is_internal_node)\u001b[0m\n\u001b[1;32m    555\u001b[0m                             \u001b[0mitem_comments\u001b[0m\u001b[0;34m=\u001b[0m\u001b[0mnexus_tokenizer\u001b[0m\u001b[0;34m.\u001b[0m\u001b[0mpull_captured_comments\u001b[0m\u001b[0;34m(\u001b[0m\u001b[0;34m)\u001b[0m\u001b[0;34m,\u001b[0m\u001b[0;34m\u001b[0m\u001b[0;34m\u001b[0m\u001b[0m\n\u001b[1;32m    556\u001b[0m                             extract_comment_metadata=self.extract_comment_metadata)\n\u001b[0;32m--> 557\u001b[0;31m                     self._parse_tree_node_description(\n\u001b[0m\u001b[1;32m    558\u001b[0m                             \u001b[0mnexus_tokenizer\u001b[0m\u001b[0;34m=\u001b[0m\u001b[0mnexus_tokenizer\u001b[0m\u001b[0;34m,\u001b[0m\u001b[0;34m\u001b[0m\u001b[0;34m\u001b[0m\u001b[0m\n\u001b[1;32m    559\u001b[0m                             \u001b[0mtree\u001b[0m\u001b[0;34m=\u001b[0m\u001b[0mtree\u001b[0m\u001b[0;34m,\u001b[0m\u001b[0;34m\u001b[0m\u001b[0;34m\u001b[0m\u001b[0m\n",
      "\u001b[0;32m~/projects/otapi/OT2020/venv-ot2020/lib/python3.8/site-packages/dendropy/dataio/newickreader.py\u001b[0m in \u001b[0;36m_parse_tree_node_description\u001b[0;34m(self, nexus_tokenizer, tree, current_node, taxon_symbol_map_fn, is_internal_node)\u001b[0m\n\u001b[1;32m    555\u001b[0m                             \u001b[0mitem_comments\u001b[0m\u001b[0;34m=\u001b[0m\u001b[0mnexus_tokenizer\u001b[0m\u001b[0;34m.\u001b[0m\u001b[0mpull_captured_comments\u001b[0m\u001b[0;34m(\u001b[0m\u001b[0;34m)\u001b[0m\u001b[0;34m,\u001b[0m\u001b[0;34m\u001b[0m\u001b[0;34m\u001b[0m\u001b[0m\n\u001b[1;32m    556\u001b[0m                             extract_comment_metadata=self.extract_comment_metadata)\n\u001b[0;32m--> 557\u001b[0;31m                     self._parse_tree_node_description(\n\u001b[0m\u001b[1;32m    558\u001b[0m                             \u001b[0mnexus_tokenizer\u001b[0m\u001b[0;34m=\u001b[0m\u001b[0mnexus_tokenizer\u001b[0m\u001b[0;34m,\u001b[0m\u001b[0;34m\u001b[0m\u001b[0;34m\u001b[0m\u001b[0m\n\u001b[1;32m    559\u001b[0m                             \u001b[0mtree\u001b[0m\u001b[0;34m=\u001b[0m\u001b[0mtree\u001b[0m\u001b[0;34m,\u001b[0m\u001b[0;34m\u001b[0m\u001b[0;34m\u001b[0m\u001b[0m\n",
      "\u001b[0;32m~/projects/otapi/OT2020/venv-ot2020/lib/python3.8/site-packages/dendropy/dataio/newickreader.py\u001b[0m in \u001b[0;36m_parse_tree_node_description\u001b[0;34m(self, nexus_tokenizer, tree, current_node, taxon_symbol_map_fn, is_internal_node)\u001b[0m\n\u001b[1;32m    555\u001b[0m                             \u001b[0mitem_comments\u001b[0m\u001b[0;34m=\u001b[0m\u001b[0mnexus_tokenizer\u001b[0m\u001b[0;34m.\u001b[0m\u001b[0mpull_captured_comments\u001b[0m\u001b[0;34m(\u001b[0m\u001b[0;34m)\u001b[0m\u001b[0;34m,\u001b[0m\u001b[0;34m\u001b[0m\u001b[0;34m\u001b[0m\u001b[0m\n\u001b[1;32m    556\u001b[0m                             extract_comment_metadata=self.extract_comment_metadata)\n\u001b[0;32m--> 557\u001b[0;31m                     self._parse_tree_node_description(\n\u001b[0m\u001b[1;32m    558\u001b[0m                             \u001b[0mnexus_tokenizer\u001b[0m\u001b[0;34m=\u001b[0m\u001b[0mnexus_tokenizer\u001b[0m\u001b[0;34m,\u001b[0m\u001b[0;34m\u001b[0m\u001b[0;34m\u001b[0m\u001b[0m\n\u001b[1;32m    559\u001b[0m                             \u001b[0mtree\u001b[0m\u001b[0;34m=\u001b[0m\u001b[0mtree\u001b[0m\u001b[0;34m,\u001b[0m\u001b[0;34m\u001b[0m\u001b[0;34m\u001b[0m\u001b[0m\n",
      "\u001b[0;32m~/projects/otapi/OT2020/venv-ot2020/lib/python3.8/site-packages/dendropy/dataio/newickreader.py\u001b[0m in \u001b[0;36m_parse_tree_node_description\u001b[0;34m(self, nexus_tokenizer, tree, current_node, taxon_symbol_map_fn, is_internal_node)\u001b[0m\n\u001b[1;32m    555\u001b[0m                             \u001b[0mitem_comments\u001b[0m\u001b[0;34m=\u001b[0m\u001b[0mnexus_tokenizer\u001b[0m\u001b[0;34m.\u001b[0m\u001b[0mpull_captured_comments\u001b[0m\u001b[0;34m(\u001b[0m\u001b[0;34m)\u001b[0m\u001b[0;34m,\u001b[0m\u001b[0;34m\u001b[0m\u001b[0;34m\u001b[0m\u001b[0m\n\u001b[1;32m    556\u001b[0m                             extract_comment_metadata=self.extract_comment_metadata)\n\u001b[0;32m--> 557\u001b[0;31m                     self._parse_tree_node_description(\n\u001b[0m\u001b[1;32m    558\u001b[0m                             \u001b[0mnexus_tokenizer\u001b[0m\u001b[0;34m=\u001b[0m\u001b[0mnexus_tokenizer\u001b[0m\u001b[0;34m,\u001b[0m\u001b[0;34m\u001b[0m\u001b[0;34m\u001b[0m\u001b[0m\n\u001b[1;32m    559\u001b[0m                             \u001b[0mtree\u001b[0m\u001b[0;34m=\u001b[0m\u001b[0mtree\u001b[0m\u001b[0;34m,\u001b[0m\u001b[0;34m\u001b[0m\u001b[0;34m\u001b[0m\u001b[0m\n",
      "\u001b[0;32m~/projects/otapi/OT2020/venv-ot2020/lib/python3.8/site-packages/dendropy/dataio/newickreader.py\u001b[0m in \u001b[0;36m_parse_tree_node_description\u001b[0;34m(self, nexus_tokenizer, tree, current_node, taxon_symbol_map_fn, is_internal_node)\u001b[0m\n\u001b[1;32m    555\u001b[0m                             \u001b[0mitem_comments\u001b[0m\u001b[0;34m=\u001b[0m\u001b[0mnexus_tokenizer\u001b[0m\u001b[0;34m.\u001b[0m\u001b[0mpull_captured_comments\u001b[0m\u001b[0;34m(\u001b[0m\u001b[0;34m)\u001b[0m\u001b[0;34m,\u001b[0m\u001b[0;34m\u001b[0m\u001b[0;34m\u001b[0m\u001b[0m\n\u001b[1;32m    556\u001b[0m                             extract_comment_metadata=self.extract_comment_metadata)\n\u001b[0;32m--> 557\u001b[0;31m                     self._parse_tree_node_description(\n\u001b[0m\u001b[1;32m    558\u001b[0m                             \u001b[0mnexus_tokenizer\u001b[0m\u001b[0;34m=\u001b[0m\u001b[0mnexus_tokenizer\u001b[0m\u001b[0;34m,\u001b[0m\u001b[0;34m\u001b[0m\u001b[0;34m\u001b[0m\u001b[0m\n\u001b[1;32m    559\u001b[0m                             \u001b[0mtree\u001b[0m\u001b[0;34m=\u001b[0m\u001b[0mtree\u001b[0m\u001b[0;34m,\u001b[0m\u001b[0;34m\u001b[0m\u001b[0;34m\u001b[0m\u001b[0m\n",
      "\u001b[0;32m~/projects/otapi/OT2020/venv-ot2020/lib/python3.8/site-packages/dendropy/dataio/newickreader.py\u001b[0m in \u001b[0;36m_parse_tree_node_description\u001b[0;34m(self, nexus_tokenizer, tree, current_node, taxon_symbol_map_fn, is_internal_node)\u001b[0m\n\u001b[1;32m    555\u001b[0m                             \u001b[0mitem_comments\u001b[0m\u001b[0;34m=\u001b[0m\u001b[0mnexus_tokenizer\u001b[0m\u001b[0;34m.\u001b[0m\u001b[0mpull_captured_comments\u001b[0m\u001b[0;34m(\u001b[0m\u001b[0;34m)\u001b[0m\u001b[0;34m,\u001b[0m\u001b[0;34m\u001b[0m\u001b[0;34m\u001b[0m\u001b[0m\n\u001b[1;32m    556\u001b[0m                             extract_comment_metadata=self.extract_comment_metadata)\n\u001b[0;32m--> 557\u001b[0;31m                     self._parse_tree_node_description(\n\u001b[0m\u001b[1;32m    558\u001b[0m                             \u001b[0mnexus_tokenizer\u001b[0m\u001b[0;34m=\u001b[0m\u001b[0mnexus_tokenizer\u001b[0m\u001b[0;34m,\u001b[0m\u001b[0;34m\u001b[0m\u001b[0;34m\u001b[0m\u001b[0m\n\u001b[1;32m    559\u001b[0m                             \u001b[0mtree\u001b[0m\u001b[0;34m=\u001b[0m\u001b[0mtree\u001b[0m\u001b[0;34m,\u001b[0m\u001b[0;34m\u001b[0m\u001b[0;34m\u001b[0m\u001b[0m\n",
      "\u001b[0;32m~/projects/otapi/OT2020/venv-ot2020/lib/python3.8/site-packages/dendropy/dataio/newickreader.py\u001b[0m in \u001b[0;36m_parse_tree_node_description\u001b[0;34m(self, nexus_tokenizer, tree, current_node, taxon_symbol_map_fn, is_internal_node)\u001b[0m\n\u001b[1;32m    555\u001b[0m                             \u001b[0mitem_comments\u001b[0m\u001b[0;34m=\u001b[0m\u001b[0mnexus_tokenizer\u001b[0m\u001b[0;34m.\u001b[0m\u001b[0mpull_captured_comments\u001b[0m\u001b[0;34m(\u001b[0m\u001b[0;34m)\u001b[0m\u001b[0;34m,\u001b[0m\u001b[0;34m\u001b[0m\u001b[0;34m\u001b[0m\u001b[0m\n\u001b[1;32m    556\u001b[0m                             extract_comment_metadata=self.extract_comment_metadata)\n\u001b[0;32m--> 557\u001b[0;31m                     self._parse_tree_node_description(\n\u001b[0m\u001b[1;32m    558\u001b[0m                             \u001b[0mnexus_tokenizer\u001b[0m\u001b[0;34m=\u001b[0m\u001b[0mnexus_tokenizer\u001b[0m\u001b[0;34m,\u001b[0m\u001b[0;34m\u001b[0m\u001b[0;34m\u001b[0m\u001b[0m\n\u001b[1;32m    559\u001b[0m                             \u001b[0mtree\u001b[0m\u001b[0;34m=\u001b[0m\u001b[0mtree\u001b[0m\u001b[0;34m,\u001b[0m\u001b[0;34m\u001b[0m\u001b[0;34m\u001b[0m\u001b[0m\n",
      "\u001b[0;32m~/projects/otapi/OT2020/venv-ot2020/lib/python3.8/site-packages/dendropy/dataio/newickreader.py\u001b[0m in \u001b[0;36m_parse_tree_node_description\u001b[0;34m(self, nexus_tokenizer, tree, current_node, taxon_symbol_map_fn, is_internal_node)\u001b[0m\n\u001b[1;32m    555\u001b[0m                             \u001b[0mitem_comments\u001b[0m\u001b[0;34m=\u001b[0m\u001b[0mnexus_tokenizer\u001b[0m\u001b[0;34m.\u001b[0m\u001b[0mpull_captured_comments\u001b[0m\u001b[0;34m(\u001b[0m\u001b[0;34m)\u001b[0m\u001b[0;34m,\u001b[0m\u001b[0;34m\u001b[0m\u001b[0;34m\u001b[0m\u001b[0m\n\u001b[1;32m    556\u001b[0m                             extract_comment_metadata=self.extract_comment_metadata)\n\u001b[0;32m--> 557\u001b[0;31m                     self._parse_tree_node_description(\n\u001b[0m\u001b[1;32m    558\u001b[0m                             \u001b[0mnexus_tokenizer\u001b[0m\u001b[0;34m=\u001b[0m\u001b[0mnexus_tokenizer\u001b[0m\u001b[0;34m,\u001b[0m\u001b[0;34m\u001b[0m\u001b[0;34m\u001b[0m\u001b[0m\n\u001b[1;32m    559\u001b[0m                             \u001b[0mtree\u001b[0m\u001b[0;34m=\u001b[0m\u001b[0mtree\u001b[0m\u001b[0;34m,\u001b[0m\u001b[0;34m\u001b[0m\u001b[0;34m\u001b[0m\u001b[0m\n",
      "\u001b[0;32m~/projects/otapi/OT2020/venv-ot2020/lib/python3.8/site-packages/dendropy/dataio/newickreader.py\u001b[0m in \u001b[0;36m_parse_tree_node_description\u001b[0;34m(self, nexus_tokenizer, tree, current_node, taxon_symbol_map_fn, is_internal_node)\u001b[0m\n\u001b[1;32m    555\u001b[0m                             \u001b[0mitem_comments\u001b[0m\u001b[0;34m=\u001b[0m\u001b[0mnexus_tokenizer\u001b[0m\u001b[0;34m.\u001b[0m\u001b[0mpull_captured_comments\u001b[0m\u001b[0;34m(\u001b[0m\u001b[0;34m)\u001b[0m\u001b[0;34m,\u001b[0m\u001b[0;34m\u001b[0m\u001b[0;34m\u001b[0m\u001b[0m\n\u001b[1;32m    556\u001b[0m                             extract_comment_metadata=self.extract_comment_metadata)\n\u001b[0;32m--> 557\u001b[0;31m                     self._parse_tree_node_description(\n\u001b[0m\u001b[1;32m    558\u001b[0m                             \u001b[0mnexus_tokenizer\u001b[0m\u001b[0;34m=\u001b[0m\u001b[0mnexus_tokenizer\u001b[0m\u001b[0;34m,\u001b[0m\u001b[0;34m\u001b[0m\u001b[0;34m\u001b[0m\u001b[0m\n\u001b[1;32m    559\u001b[0m                             \u001b[0mtree\u001b[0m\u001b[0;34m=\u001b[0m\u001b[0mtree\u001b[0m\u001b[0;34m,\u001b[0m\u001b[0;34m\u001b[0m\u001b[0;34m\u001b[0m\u001b[0m\n",
      "\u001b[0;32m~/projects/otapi/OT2020/venv-ot2020/lib/python3.8/site-packages/dendropy/dataio/newickreader.py\u001b[0m in \u001b[0;36m_parse_tree_node_description\u001b[0;34m(self, nexus_tokenizer, tree, current_node, taxon_symbol_map_fn, is_internal_node)\u001b[0m\n\u001b[1;32m    555\u001b[0m                             \u001b[0mitem_comments\u001b[0m\u001b[0;34m=\u001b[0m\u001b[0mnexus_tokenizer\u001b[0m\u001b[0;34m.\u001b[0m\u001b[0mpull_captured_comments\u001b[0m\u001b[0;34m(\u001b[0m\u001b[0;34m)\u001b[0m\u001b[0;34m,\u001b[0m\u001b[0;34m\u001b[0m\u001b[0;34m\u001b[0m\u001b[0m\n\u001b[1;32m    556\u001b[0m                             extract_comment_metadata=self.extract_comment_metadata)\n\u001b[0;32m--> 557\u001b[0;31m                     self._parse_tree_node_description(\n\u001b[0m\u001b[1;32m    558\u001b[0m                             \u001b[0mnexus_tokenizer\u001b[0m\u001b[0;34m=\u001b[0m\u001b[0mnexus_tokenizer\u001b[0m\u001b[0;34m,\u001b[0m\u001b[0;34m\u001b[0m\u001b[0;34m\u001b[0m\u001b[0m\n\u001b[1;32m    559\u001b[0m                             \u001b[0mtree\u001b[0m\u001b[0;34m=\u001b[0m\u001b[0mtree\u001b[0m\u001b[0;34m,\u001b[0m\u001b[0;34m\u001b[0m\u001b[0;34m\u001b[0m\u001b[0m\n",
      "\u001b[0;32m~/projects/otapi/OT2020/venv-ot2020/lib/python3.8/site-packages/dendropy/dataio/newickreader.py\u001b[0m in \u001b[0;36m_parse_tree_node_description\u001b[0;34m(self, nexus_tokenizer, tree, current_node, taxon_symbol_map_fn, is_internal_node)\u001b[0m\n\u001b[1;32m    555\u001b[0m                             \u001b[0mitem_comments\u001b[0m\u001b[0;34m=\u001b[0m\u001b[0mnexus_tokenizer\u001b[0m\u001b[0;34m.\u001b[0m\u001b[0mpull_captured_comments\u001b[0m\u001b[0;34m(\u001b[0m\u001b[0;34m)\u001b[0m\u001b[0;34m,\u001b[0m\u001b[0;34m\u001b[0m\u001b[0;34m\u001b[0m\u001b[0m\n\u001b[1;32m    556\u001b[0m                             extract_comment_metadata=self.extract_comment_metadata)\n\u001b[0;32m--> 557\u001b[0;31m                     self._parse_tree_node_description(\n\u001b[0m\u001b[1;32m    558\u001b[0m                             \u001b[0mnexus_tokenizer\u001b[0m\u001b[0;34m=\u001b[0m\u001b[0mnexus_tokenizer\u001b[0m\u001b[0;34m,\u001b[0m\u001b[0;34m\u001b[0m\u001b[0;34m\u001b[0m\u001b[0m\n\u001b[1;32m    559\u001b[0m                             \u001b[0mtree\u001b[0m\u001b[0;34m=\u001b[0m\u001b[0mtree\u001b[0m\u001b[0;34m,\u001b[0m\u001b[0;34m\u001b[0m\u001b[0;34m\u001b[0m\u001b[0m\n",
      "\u001b[0;32m~/projects/otapi/OT2020/venv-ot2020/lib/python3.8/site-packages/dendropy/dataio/newickreader.py\u001b[0m in \u001b[0;36m_parse_tree_node_description\u001b[0;34m(self, nexus_tokenizer, tree, current_node, taxon_symbol_map_fn, is_internal_node)\u001b[0m\n\u001b[1;32m    555\u001b[0m                             \u001b[0mitem_comments\u001b[0m\u001b[0;34m=\u001b[0m\u001b[0mnexus_tokenizer\u001b[0m\u001b[0;34m.\u001b[0m\u001b[0mpull_captured_comments\u001b[0m\u001b[0;34m(\u001b[0m\u001b[0;34m)\u001b[0m\u001b[0;34m,\u001b[0m\u001b[0;34m\u001b[0m\u001b[0;34m\u001b[0m\u001b[0m\n\u001b[1;32m    556\u001b[0m                             extract_comment_metadata=self.extract_comment_metadata)\n\u001b[0;32m--> 557\u001b[0;31m                     self._parse_tree_node_description(\n\u001b[0m\u001b[1;32m    558\u001b[0m                             \u001b[0mnexus_tokenizer\u001b[0m\u001b[0;34m=\u001b[0m\u001b[0mnexus_tokenizer\u001b[0m\u001b[0;34m,\u001b[0m\u001b[0;34m\u001b[0m\u001b[0;34m\u001b[0m\u001b[0m\n\u001b[1;32m    559\u001b[0m                             \u001b[0mtree\u001b[0m\u001b[0;34m=\u001b[0m\u001b[0mtree\u001b[0m\u001b[0;34m,\u001b[0m\u001b[0;34m\u001b[0m\u001b[0;34m\u001b[0m\u001b[0m\n",
      "\u001b[0;32m~/projects/otapi/OT2020/venv-ot2020/lib/python3.8/site-packages/dendropy/dataio/newickreader.py\u001b[0m in \u001b[0;36m_parse_tree_node_description\u001b[0;34m(self, nexus_tokenizer, tree, current_node, taxon_symbol_map_fn, is_internal_node)\u001b[0m\n\u001b[1;32m    555\u001b[0m                             \u001b[0mitem_comments\u001b[0m\u001b[0;34m=\u001b[0m\u001b[0mnexus_tokenizer\u001b[0m\u001b[0;34m.\u001b[0m\u001b[0mpull_captured_comments\u001b[0m\u001b[0;34m(\u001b[0m\u001b[0;34m)\u001b[0m\u001b[0;34m,\u001b[0m\u001b[0;34m\u001b[0m\u001b[0;34m\u001b[0m\u001b[0m\n\u001b[1;32m    556\u001b[0m                             extract_comment_metadata=self.extract_comment_metadata)\n\u001b[0;32m--> 557\u001b[0;31m                     self._parse_tree_node_description(\n\u001b[0m\u001b[1;32m    558\u001b[0m                             \u001b[0mnexus_tokenizer\u001b[0m\u001b[0;34m=\u001b[0m\u001b[0mnexus_tokenizer\u001b[0m\u001b[0;34m,\u001b[0m\u001b[0;34m\u001b[0m\u001b[0;34m\u001b[0m\u001b[0m\n\u001b[1;32m    559\u001b[0m                             \u001b[0mtree\u001b[0m\u001b[0;34m=\u001b[0m\u001b[0mtree\u001b[0m\u001b[0;34m,\u001b[0m\u001b[0;34m\u001b[0m\u001b[0;34m\u001b[0m\u001b[0m\n",
      "\u001b[0;32m~/projects/otapi/OT2020/venv-ot2020/lib/python3.8/site-packages/dendropy/dataio/newickreader.py\u001b[0m in \u001b[0;36m_parse_tree_node_description\u001b[0;34m(self, nexus_tokenizer, tree, current_node, taxon_symbol_map_fn, is_internal_node)\u001b[0m\n\u001b[1;32m    555\u001b[0m                             \u001b[0mitem_comments\u001b[0m\u001b[0;34m=\u001b[0m\u001b[0mnexus_tokenizer\u001b[0m\u001b[0;34m.\u001b[0m\u001b[0mpull_captured_comments\u001b[0m\u001b[0;34m(\u001b[0m\u001b[0;34m)\u001b[0m\u001b[0;34m,\u001b[0m\u001b[0;34m\u001b[0m\u001b[0;34m\u001b[0m\u001b[0m\n\u001b[1;32m    556\u001b[0m                             extract_comment_metadata=self.extract_comment_metadata)\n\u001b[0;32m--> 557\u001b[0;31m                     self._parse_tree_node_description(\n\u001b[0m\u001b[1;32m    558\u001b[0m                             \u001b[0mnexus_tokenizer\u001b[0m\u001b[0;34m=\u001b[0m\u001b[0mnexus_tokenizer\u001b[0m\u001b[0;34m,\u001b[0m\u001b[0;34m\u001b[0m\u001b[0;34m\u001b[0m\u001b[0m\n\u001b[1;32m    559\u001b[0m                             \u001b[0mtree\u001b[0m\u001b[0;34m=\u001b[0m\u001b[0mtree\u001b[0m\u001b[0;34m,\u001b[0m\u001b[0;34m\u001b[0m\u001b[0;34m\u001b[0m\u001b[0m\n",
      "\u001b[0;32m~/projects/otapi/OT2020/venv-ot2020/lib/python3.8/site-packages/dendropy/dataio/newickreader.py\u001b[0m in \u001b[0;36m_parse_tree_node_description\u001b[0;34m(self, nexus_tokenizer, tree, current_node, taxon_symbol_map_fn, is_internal_node)\u001b[0m\n\u001b[1;32m    555\u001b[0m                             \u001b[0mitem_comments\u001b[0m\u001b[0;34m=\u001b[0m\u001b[0mnexus_tokenizer\u001b[0m\u001b[0;34m.\u001b[0m\u001b[0mpull_captured_comments\u001b[0m\u001b[0;34m(\u001b[0m\u001b[0;34m)\u001b[0m\u001b[0;34m,\u001b[0m\u001b[0;34m\u001b[0m\u001b[0;34m\u001b[0m\u001b[0m\n\u001b[1;32m    556\u001b[0m                             extract_comment_metadata=self.extract_comment_metadata)\n\u001b[0;32m--> 557\u001b[0;31m                     self._parse_tree_node_description(\n\u001b[0m\u001b[1;32m    558\u001b[0m                             \u001b[0mnexus_tokenizer\u001b[0m\u001b[0;34m=\u001b[0m\u001b[0mnexus_tokenizer\u001b[0m\u001b[0;34m,\u001b[0m\u001b[0;34m\u001b[0m\u001b[0;34m\u001b[0m\u001b[0m\n\u001b[1;32m    559\u001b[0m                             \u001b[0mtree\u001b[0m\u001b[0;34m=\u001b[0m\u001b[0mtree\u001b[0m\u001b[0;34m,\u001b[0m\u001b[0;34m\u001b[0m\u001b[0;34m\u001b[0m\u001b[0m\n",
      "\u001b[0;32m~/projects/otapi/OT2020/venv-ot2020/lib/python3.8/site-packages/dendropy/dataio/newickreader.py\u001b[0m in \u001b[0;36m_parse_tree_node_description\u001b[0;34m(self, nexus_tokenizer, tree, current_node, taxon_symbol_map_fn, is_internal_node)\u001b[0m\n\u001b[1;32m    555\u001b[0m                             \u001b[0mitem_comments\u001b[0m\u001b[0;34m=\u001b[0m\u001b[0mnexus_tokenizer\u001b[0m\u001b[0;34m.\u001b[0m\u001b[0mpull_captured_comments\u001b[0m\u001b[0;34m(\u001b[0m\u001b[0;34m)\u001b[0m\u001b[0;34m,\u001b[0m\u001b[0;34m\u001b[0m\u001b[0;34m\u001b[0m\u001b[0m\n\u001b[1;32m    556\u001b[0m                             extract_comment_metadata=self.extract_comment_metadata)\n\u001b[0;32m--> 557\u001b[0;31m                     self._parse_tree_node_description(\n\u001b[0m\u001b[1;32m    558\u001b[0m                             \u001b[0mnexus_tokenizer\u001b[0m\u001b[0;34m=\u001b[0m\u001b[0mnexus_tokenizer\u001b[0m\u001b[0;34m,\u001b[0m\u001b[0;34m\u001b[0m\u001b[0;34m\u001b[0m\u001b[0m\n\u001b[1;32m    559\u001b[0m                             \u001b[0mtree\u001b[0m\u001b[0;34m=\u001b[0m\u001b[0mtree\u001b[0m\u001b[0;34m,\u001b[0m\u001b[0;34m\u001b[0m\u001b[0;34m\u001b[0m\u001b[0m\n",
      "\u001b[0;32m~/projects/otapi/OT2020/venv-ot2020/lib/python3.8/site-packages/dendropy/dataio/newickreader.py\u001b[0m in \u001b[0;36m_parse_tree_node_description\u001b[0;34m(self, nexus_tokenizer, tree, current_node, taxon_symbol_map_fn, is_internal_node)\u001b[0m\n\u001b[1;32m    555\u001b[0m                             \u001b[0mitem_comments\u001b[0m\u001b[0;34m=\u001b[0m\u001b[0mnexus_tokenizer\u001b[0m\u001b[0;34m.\u001b[0m\u001b[0mpull_captured_comments\u001b[0m\u001b[0;34m(\u001b[0m\u001b[0;34m)\u001b[0m\u001b[0;34m,\u001b[0m\u001b[0;34m\u001b[0m\u001b[0;34m\u001b[0m\u001b[0m\n\u001b[1;32m    556\u001b[0m                             extract_comment_metadata=self.extract_comment_metadata)\n\u001b[0;32m--> 557\u001b[0;31m                     self._parse_tree_node_description(\n\u001b[0m\u001b[1;32m    558\u001b[0m                             \u001b[0mnexus_tokenizer\u001b[0m\u001b[0;34m=\u001b[0m\u001b[0mnexus_tokenizer\u001b[0m\u001b[0;34m,\u001b[0m\u001b[0;34m\u001b[0m\u001b[0;34m\u001b[0m\u001b[0m\n\u001b[1;32m    559\u001b[0m                             \u001b[0mtree\u001b[0m\u001b[0;34m=\u001b[0m\u001b[0mtree\u001b[0m\u001b[0;34m,\u001b[0m\u001b[0;34m\u001b[0m\u001b[0;34m\u001b[0m\u001b[0m\n",
      "\u001b[0;32m~/projects/otapi/OT2020/venv-ot2020/lib/python3.8/site-packages/dendropy/dataio/newickreader.py\u001b[0m in \u001b[0;36m_parse_tree_node_description\u001b[0;34m(self, nexus_tokenizer, tree, current_node, taxon_symbol_map_fn, is_internal_node)\u001b[0m\n\u001b[1;32m    555\u001b[0m                             \u001b[0mitem_comments\u001b[0m\u001b[0;34m=\u001b[0m\u001b[0mnexus_tokenizer\u001b[0m\u001b[0;34m.\u001b[0m\u001b[0mpull_captured_comments\u001b[0m\u001b[0;34m(\u001b[0m\u001b[0;34m)\u001b[0m\u001b[0;34m,\u001b[0m\u001b[0;34m\u001b[0m\u001b[0;34m\u001b[0m\u001b[0m\n\u001b[1;32m    556\u001b[0m                             extract_comment_metadata=self.extract_comment_metadata)\n\u001b[0;32m--> 557\u001b[0;31m                     self._parse_tree_node_description(\n\u001b[0m\u001b[1;32m    558\u001b[0m                             \u001b[0mnexus_tokenizer\u001b[0m\u001b[0;34m=\u001b[0m\u001b[0mnexus_tokenizer\u001b[0m\u001b[0;34m,\u001b[0m\u001b[0;34m\u001b[0m\u001b[0;34m\u001b[0m\u001b[0m\n\u001b[1;32m    559\u001b[0m                             \u001b[0mtree\u001b[0m\u001b[0;34m=\u001b[0m\u001b[0mtree\u001b[0m\u001b[0;34m,\u001b[0m\u001b[0;34m\u001b[0m\u001b[0;34m\u001b[0m\u001b[0m\n",
      "\u001b[0;32m~/projects/otapi/OT2020/venv-ot2020/lib/python3.8/site-packages/dendropy/dataio/newickreader.py\u001b[0m in \u001b[0;36m_parse_tree_node_description\u001b[0;34m(self, nexus_tokenizer, tree, current_node, taxon_symbol_map_fn, is_internal_node)\u001b[0m\n\u001b[1;32m    555\u001b[0m                             \u001b[0mitem_comments\u001b[0m\u001b[0;34m=\u001b[0m\u001b[0mnexus_tokenizer\u001b[0m\u001b[0;34m.\u001b[0m\u001b[0mpull_captured_comments\u001b[0m\u001b[0;34m(\u001b[0m\u001b[0;34m)\u001b[0m\u001b[0;34m,\u001b[0m\u001b[0;34m\u001b[0m\u001b[0;34m\u001b[0m\u001b[0m\n\u001b[1;32m    556\u001b[0m                             extract_comment_metadata=self.extract_comment_metadata)\n\u001b[0;32m--> 557\u001b[0;31m                     self._parse_tree_node_description(\n\u001b[0m\u001b[1;32m    558\u001b[0m                             \u001b[0mnexus_tokenizer\u001b[0m\u001b[0;34m=\u001b[0m\u001b[0mnexus_tokenizer\u001b[0m\u001b[0;34m,\u001b[0m\u001b[0;34m\u001b[0m\u001b[0;34m\u001b[0m\u001b[0m\n\u001b[1;32m    559\u001b[0m                             \u001b[0mtree\u001b[0m\u001b[0;34m=\u001b[0m\u001b[0mtree\u001b[0m\u001b[0;34m,\u001b[0m\u001b[0;34m\u001b[0m\u001b[0;34m\u001b[0m\u001b[0m\n",
      "\u001b[0;32m~/projects/otapi/OT2020/venv-ot2020/lib/python3.8/site-packages/dendropy/dataio/newickreader.py\u001b[0m in \u001b[0;36m_parse_tree_node_description\u001b[0;34m(self, nexus_tokenizer, tree, current_node, taxon_symbol_map_fn, is_internal_node)\u001b[0m\n\u001b[1;32m    555\u001b[0m                             \u001b[0mitem_comments\u001b[0m\u001b[0;34m=\u001b[0m\u001b[0mnexus_tokenizer\u001b[0m\u001b[0;34m.\u001b[0m\u001b[0mpull_captured_comments\u001b[0m\u001b[0;34m(\u001b[0m\u001b[0;34m)\u001b[0m\u001b[0;34m,\u001b[0m\u001b[0;34m\u001b[0m\u001b[0;34m\u001b[0m\u001b[0m\n\u001b[1;32m    556\u001b[0m                             extract_comment_metadata=self.extract_comment_metadata)\n\u001b[0;32m--> 557\u001b[0;31m                     self._parse_tree_node_description(\n\u001b[0m\u001b[1;32m    558\u001b[0m                             \u001b[0mnexus_tokenizer\u001b[0m\u001b[0;34m=\u001b[0m\u001b[0mnexus_tokenizer\u001b[0m\u001b[0;34m,\u001b[0m\u001b[0;34m\u001b[0m\u001b[0;34m\u001b[0m\u001b[0m\n\u001b[1;32m    559\u001b[0m                             \u001b[0mtree\u001b[0m\u001b[0;34m=\u001b[0m\u001b[0mtree\u001b[0m\u001b[0;34m,\u001b[0m\u001b[0;34m\u001b[0m\u001b[0;34m\u001b[0m\u001b[0m\n",
      "\u001b[0;32m~/projects/otapi/OT2020/venv-ot2020/lib/python3.8/site-packages/dendropy/dataio/newickreader.py\u001b[0m in \u001b[0;36m_parse_tree_node_description\u001b[0;34m(self, nexus_tokenizer, tree, current_node, taxon_symbol_map_fn, is_internal_node)\u001b[0m\n\u001b[1;32m    555\u001b[0m                             \u001b[0mitem_comments\u001b[0m\u001b[0;34m=\u001b[0m\u001b[0mnexus_tokenizer\u001b[0m\u001b[0;34m.\u001b[0m\u001b[0mpull_captured_comments\u001b[0m\u001b[0;34m(\u001b[0m\u001b[0;34m)\u001b[0m\u001b[0;34m,\u001b[0m\u001b[0;34m\u001b[0m\u001b[0;34m\u001b[0m\u001b[0m\n\u001b[1;32m    556\u001b[0m                             extract_comment_metadata=self.extract_comment_metadata)\n\u001b[0;32m--> 557\u001b[0;31m                     self._parse_tree_node_description(\n\u001b[0m\u001b[1;32m    558\u001b[0m                             \u001b[0mnexus_tokenizer\u001b[0m\u001b[0;34m=\u001b[0m\u001b[0mnexus_tokenizer\u001b[0m\u001b[0;34m,\u001b[0m\u001b[0;34m\u001b[0m\u001b[0;34m\u001b[0m\u001b[0m\n\u001b[1;32m    559\u001b[0m                             \u001b[0mtree\u001b[0m\u001b[0;34m=\u001b[0m\u001b[0mtree\u001b[0m\u001b[0;34m,\u001b[0m\u001b[0;34m\u001b[0m\u001b[0;34m\u001b[0m\u001b[0m\n",
      "\u001b[0;32m~/projects/otapi/OT2020/venv-ot2020/lib/python3.8/site-packages/dendropy/dataio/newickreader.py\u001b[0m in \u001b[0;36m_parse_tree_node_description\u001b[0;34m(self, nexus_tokenizer, tree, current_node, taxon_symbol_map_fn, is_internal_node)\u001b[0m\n\u001b[1;32m    555\u001b[0m                             \u001b[0mitem_comments\u001b[0m\u001b[0;34m=\u001b[0m\u001b[0mnexus_tokenizer\u001b[0m\u001b[0;34m.\u001b[0m\u001b[0mpull_captured_comments\u001b[0m\u001b[0;34m(\u001b[0m\u001b[0;34m)\u001b[0m\u001b[0;34m,\u001b[0m\u001b[0;34m\u001b[0m\u001b[0;34m\u001b[0m\u001b[0m\n\u001b[1;32m    556\u001b[0m                             extract_comment_metadata=self.extract_comment_metadata)\n\u001b[0;32m--> 557\u001b[0;31m                     self._parse_tree_node_description(\n\u001b[0m\u001b[1;32m    558\u001b[0m                             \u001b[0mnexus_tokenizer\u001b[0m\u001b[0;34m=\u001b[0m\u001b[0mnexus_tokenizer\u001b[0m\u001b[0;34m,\u001b[0m\u001b[0;34m\u001b[0m\u001b[0;34m\u001b[0m\u001b[0m\n\u001b[1;32m    559\u001b[0m                             \u001b[0mtree\u001b[0m\u001b[0;34m=\u001b[0m\u001b[0mtree\u001b[0m\u001b[0;34m,\u001b[0m\u001b[0;34m\u001b[0m\u001b[0;34m\u001b[0m\u001b[0m\n",
      "\u001b[0;32m~/projects/otapi/OT2020/venv-ot2020/lib/python3.8/site-packages/dendropy/dataio/newickreader.py\u001b[0m in \u001b[0;36m_parse_tree_node_description\u001b[0;34m(self, nexus_tokenizer, tree, current_node, taxon_symbol_map_fn, is_internal_node)\u001b[0m\n\u001b[1;32m    555\u001b[0m                             \u001b[0mitem_comments\u001b[0m\u001b[0;34m=\u001b[0m\u001b[0mnexus_tokenizer\u001b[0m\u001b[0;34m.\u001b[0m\u001b[0mpull_captured_comments\u001b[0m\u001b[0;34m(\u001b[0m\u001b[0;34m)\u001b[0m\u001b[0;34m,\u001b[0m\u001b[0;34m\u001b[0m\u001b[0;34m\u001b[0m\u001b[0m\n\u001b[1;32m    556\u001b[0m                             extract_comment_metadata=self.extract_comment_metadata)\n\u001b[0;32m--> 557\u001b[0;31m                     self._parse_tree_node_description(\n\u001b[0m\u001b[1;32m    558\u001b[0m                             \u001b[0mnexus_tokenizer\u001b[0m\u001b[0;34m=\u001b[0m\u001b[0mnexus_tokenizer\u001b[0m\u001b[0;34m,\u001b[0m\u001b[0;34m\u001b[0m\u001b[0;34m\u001b[0m\u001b[0m\n\u001b[1;32m    559\u001b[0m                             \u001b[0mtree\u001b[0m\u001b[0;34m=\u001b[0m\u001b[0mtree\u001b[0m\u001b[0;34m,\u001b[0m\u001b[0;34m\u001b[0m\u001b[0;34m\u001b[0m\u001b[0m\n",
      "\u001b[0;32m~/projects/otapi/OT2020/venv-ot2020/lib/python3.8/site-packages/dendropy/dataio/newickreader.py\u001b[0m in \u001b[0;36m_parse_tree_node_description\u001b[0;34m(self, nexus_tokenizer, tree, current_node, taxon_symbol_map_fn, is_internal_node)\u001b[0m\n\u001b[1;32m    555\u001b[0m                             \u001b[0mitem_comments\u001b[0m\u001b[0;34m=\u001b[0m\u001b[0mnexus_tokenizer\u001b[0m\u001b[0;34m.\u001b[0m\u001b[0mpull_captured_comments\u001b[0m\u001b[0;34m(\u001b[0m\u001b[0;34m)\u001b[0m\u001b[0;34m,\u001b[0m\u001b[0;34m\u001b[0m\u001b[0;34m\u001b[0m\u001b[0m\n\u001b[1;32m    556\u001b[0m                             extract_comment_metadata=self.extract_comment_metadata)\n\u001b[0;32m--> 557\u001b[0;31m                     self._parse_tree_node_description(\n\u001b[0m\u001b[1;32m    558\u001b[0m                             \u001b[0mnexus_tokenizer\u001b[0m\u001b[0;34m=\u001b[0m\u001b[0mnexus_tokenizer\u001b[0m\u001b[0;34m,\u001b[0m\u001b[0;34m\u001b[0m\u001b[0;34m\u001b[0m\u001b[0m\n\u001b[1;32m    559\u001b[0m                             \u001b[0mtree\u001b[0m\u001b[0;34m=\u001b[0m\u001b[0mtree\u001b[0m\u001b[0;34m,\u001b[0m\u001b[0;34m\u001b[0m\u001b[0;34m\u001b[0m\u001b[0m\n",
      "\u001b[0;32m~/projects/otapi/OT2020/venv-ot2020/lib/python3.8/site-packages/dendropy/dataio/newickreader.py\u001b[0m in \u001b[0;36m_parse_tree_node_description\u001b[0;34m(self, nexus_tokenizer, tree, current_node, taxon_symbol_map_fn, is_internal_node)\u001b[0m\n\u001b[1;32m    555\u001b[0m                             \u001b[0mitem_comments\u001b[0m\u001b[0;34m=\u001b[0m\u001b[0mnexus_tokenizer\u001b[0m\u001b[0;34m.\u001b[0m\u001b[0mpull_captured_comments\u001b[0m\u001b[0;34m(\u001b[0m\u001b[0;34m)\u001b[0m\u001b[0;34m,\u001b[0m\u001b[0;34m\u001b[0m\u001b[0;34m\u001b[0m\u001b[0m\n\u001b[1;32m    556\u001b[0m                             extract_comment_metadata=self.extract_comment_metadata)\n\u001b[0;32m--> 557\u001b[0;31m                     self._parse_tree_node_description(\n\u001b[0m\u001b[1;32m    558\u001b[0m                             \u001b[0mnexus_tokenizer\u001b[0m\u001b[0;34m=\u001b[0m\u001b[0mnexus_tokenizer\u001b[0m\u001b[0;34m,\u001b[0m\u001b[0;34m\u001b[0m\u001b[0;34m\u001b[0m\u001b[0m\n\u001b[1;32m    559\u001b[0m                             \u001b[0mtree\u001b[0m\u001b[0;34m=\u001b[0m\u001b[0mtree\u001b[0m\u001b[0;34m,\u001b[0m\u001b[0;34m\u001b[0m\u001b[0;34m\u001b[0m\u001b[0m\n",
      "\u001b[0;32m~/projects/otapi/OT2020/venv-ot2020/lib/python3.8/site-packages/dendropy/dataio/newickreader.py\u001b[0m in \u001b[0;36m_parse_tree_node_description\u001b[0;34m(self, nexus_tokenizer, tree, current_node, taxon_symbol_map_fn, is_internal_node)\u001b[0m\n\u001b[1;32m    555\u001b[0m                             \u001b[0mitem_comments\u001b[0m\u001b[0;34m=\u001b[0m\u001b[0mnexus_tokenizer\u001b[0m\u001b[0;34m.\u001b[0m\u001b[0mpull_captured_comments\u001b[0m\u001b[0;34m(\u001b[0m\u001b[0;34m)\u001b[0m\u001b[0;34m,\u001b[0m\u001b[0;34m\u001b[0m\u001b[0;34m\u001b[0m\u001b[0m\n\u001b[1;32m    556\u001b[0m                             extract_comment_metadata=self.extract_comment_metadata)\n\u001b[0;32m--> 557\u001b[0;31m                     self._parse_tree_node_description(\n\u001b[0m\u001b[1;32m    558\u001b[0m                             \u001b[0mnexus_tokenizer\u001b[0m\u001b[0;34m=\u001b[0m\u001b[0mnexus_tokenizer\u001b[0m\u001b[0;34m,\u001b[0m\u001b[0;34m\u001b[0m\u001b[0;34m\u001b[0m\u001b[0m\n\u001b[1;32m    559\u001b[0m                             \u001b[0mtree\u001b[0m\u001b[0;34m=\u001b[0m\u001b[0mtree\u001b[0m\u001b[0;34m,\u001b[0m\u001b[0;34m\u001b[0m\u001b[0;34m\u001b[0m\u001b[0m\n",
      "\u001b[0;32m~/projects/otapi/OT2020/venv-ot2020/lib/python3.8/site-packages/dendropy/dataio/newickreader.py\u001b[0m in \u001b[0;36m_parse_tree_node_description\u001b[0;34m(self, nexus_tokenizer, tree, current_node, taxon_symbol_map_fn, is_internal_node)\u001b[0m\n\u001b[1;32m    555\u001b[0m                             \u001b[0mitem_comments\u001b[0m\u001b[0;34m=\u001b[0m\u001b[0mnexus_tokenizer\u001b[0m\u001b[0;34m.\u001b[0m\u001b[0mpull_captured_comments\u001b[0m\u001b[0;34m(\u001b[0m\u001b[0;34m)\u001b[0m\u001b[0;34m,\u001b[0m\u001b[0;34m\u001b[0m\u001b[0;34m\u001b[0m\u001b[0m\n\u001b[1;32m    556\u001b[0m                             extract_comment_metadata=self.extract_comment_metadata)\n\u001b[0;32m--> 557\u001b[0;31m                     self._parse_tree_node_description(\n\u001b[0m\u001b[1;32m    558\u001b[0m                             \u001b[0mnexus_tokenizer\u001b[0m\u001b[0;34m=\u001b[0m\u001b[0mnexus_tokenizer\u001b[0m\u001b[0;34m,\u001b[0m\u001b[0;34m\u001b[0m\u001b[0;34m\u001b[0m\u001b[0m\n\u001b[1;32m    559\u001b[0m                             \u001b[0mtree\u001b[0m\u001b[0;34m=\u001b[0m\u001b[0mtree\u001b[0m\u001b[0;34m,\u001b[0m\u001b[0;34m\u001b[0m\u001b[0;34m\u001b[0m\u001b[0m\n",
      "\u001b[0;32m~/projects/otapi/OT2020/venv-ot2020/lib/python3.8/site-packages/dendropy/dataio/newickreader.py\u001b[0m in \u001b[0;36m_parse_tree_node_description\u001b[0;34m(self, nexus_tokenizer, tree, current_node, taxon_symbol_map_fn, is_internal_node)\u001b[0m\n\u001b[1;32m    555\u001b[0m                             \u001b[0mitem_comments\u001b[0m\u001b[0;34m=\u001b[0m\u001b[0mnexus_tokenizer\u001b[0m\u001b[0;34m.\u001b[0m\u001b[0mpull_captured_comments\u001b[0m\u001b[0;34m(\u001b[0m\u001b[0;34m)\u001b[0m\u001b[0;34m,\u001b[0m\u001b[0;34m\u001b[0m\u001b[0;34m\u001b[0m\u001b[0m\n\u001b[1;32m    556\u001b[0m                             extract_comment_metadata=self.extract_comment_metadata)\n\u001b[0;32m--> 557\u001b[0;31m                     self._parse_tree_node_description(\n\u001b[0m\u001b[1;32m    558\u001b[0m                             \u001b[0mnexus_tokenizer\u001b[0m\u001b[0;34m=\u001b[0m\u001b[0mnexus_tokenizer\u001b[0m\u001b[0;34m,\u001b[0m\u001b[0;34m\u001b[0m\u001b[0;34m\u001b[0m\u001b[0m\n\u001b[1;32m    559\u001b[0m                             \u001b[0mtree\u001b[0m\u001b[0;34m=\u001b[0m\u001b[0mtree\u001b[0m\u001b[0;34m,\u001b[0m\u001b[0;34m\u001b[0m\u001b[0;34m\u001b[0m\u001b[0m\n",
      "\u001b[0;32m~/projects/otapi/OT2020/venv-ot2020/lib/python3.8/site-packages/dendropy/dataio/newickreader.py\u001b[0m in \u001b[0;36m_parse_tree_node_description\u001b[0;34m(self, nexus_tokenizer, tree, current_node, taxon_symbol_map_fn, is_internal_node)\u001b[0m\n\u001b[1;32m    555\u001b[0m                             \u001b[0mitem_comments\u001b[0m\u001b[0;34m=\u001b[0m\u001b[0mnexus_tokenizer\u001b[0m\u001b[0;34m.\u001b[0m\u001b[0mpull_captured_comments\u001b[0m\u001b[0;34m(\u001b[0m\u001b[0;34m)\u001b[0m\u001b[0;34m,\u001b[0m\u001b[0;34m\u001b[0m\u001b[0;34m\u001b[0m\u001b[0m\n\u001b[1;32m    556\u001b[0m                             extract_comment_metadata=self.extract_comment_metadata)\n\u001b[0;32m--> 557\u001b[0;31m                     self._parse_tree_node_description(\n\u001b[0m\u001b[1;32m    558\u001b[0m                             \u001b[0mnexus_tokenizer\u001b[0m\u001b[0;34m=\u001b[0m\u001b[0mnexus_tokenizer\u001b[0m\u001b[0;34m,\u001b[0m\u001b[0;34m\u001b[0m\u001b[0;34m\u001b[0m\u001b[0m\n\u001b[1;32m    559\u001b[0m                             \u001b[0mtree\u001b[0m\u001b[0;34m=\u001b[0m\u001b[0mtree\u001b[0m\u001b[0;34m,\u001b[0m\u001b[0;34m\u001b[0m\u001b[0;34m\u001b[0m\u001b[0m\n",
      "\u001b[0;32m~/projects/otapi/OT2020/venv-ot2020/lib/python3.8/site-packages/dendropy/dataio/newickreader.py\u001b[0m in \u001b[0;36m_parse_tree_node_description\u001b[0;34m(self, nexus_tokenizer, tree, current_node, taxon_symbol_map_fn, is_internal_node)\u001b[0m\n\u001b[1;32m    555\u001b[0m                             \u001b[0mitem_comments\u001b[0m\u001b[0;34m=\u001b[0m\u001b[0mnexus_tokenizer\u001b[0m\u001b[0;34m.\u001b[0m\u001b[0mpull_captured_comments\u001b[0m\u001b[0;34m(\u001b[0m\u001b[0;34m)\u001b[0m\u001b[0;34m,\u001b[0m\u001b[0;34m\u001b[0m\u001b[0;34m\u001b[0m\u001b[0m\n\u001b[1;32m    556\u001b[0m                             extract_comment_metadata=self.extract_comment_metadata)\n\u001b[0;32m--> 557\u001b[0;31m                     self._parse_tree_node_description(\n\u001b[0m\u001b[1;32m    558\u001b[0m                             \u001b[0mnexus_tokenizer\u001b[0m\u001b[0;34m=\u001b[0m\u001b[0mnexus_tokenizer\u001b[0m\u001b[0;34m,\u001b[0m\u001b[0;34m\u001b[0m\u001b[0;34m\u001b[0m\u001b[0m\n\u001b[1;32m    559\u001b[0m                             \u001b[0mtree\u001b[0m\u001b[0;34m=\u001b[0m\u001b[0mtree\u001b[0m\u001b[0;34m,\u001b[0m\u001b[0;34m\u001b[0m\u001b[0;34m\u001b[0m\u001b[0m\n",
      "\u001b[0;32m~/projects/otapi/OT2020/venv-ot2020/lib/python3.8/site-packages/dendropy/dataio/newickreader.py\u001b[0m in \u001b[0;36m_parse_tree_node_description\u001b[0;34m(self, nexus_tokenizer, tree, current_node, taxon_symbol_map_fn, is_internal_node)\u001b[0m\n\u001b[1;32m    555\u001b[0m                             \u001b[0mitem_comments\u001b[0m\u001b[0;34m=\u001b[0m\u001b[0mnexus_tokenizer\u001b[0m\u001b[0;34m.\u001b[0m\u001b[0mpull_captured_comments\u001b[0m\u001b[0;34m(\u001b[0m\u001b[0;34m)\u001b[0m\u001b[0;34m,\u001b[0m\u001b[0;34m\u001b[0m\u001b[0;34m\u001b[0m\u001b[0m\n\u001b[1;32m    556\u001b[0m                             extract_comment_metadata=self.extract_comment_metadata)\n\u001b[0;32m--> 557\u001b[0;31m                     self._parse_tree_node_description(\n\u001b[0m\u001b[1;32m    558\u001b[0m                             \u001b[0mnexus_tokenizer\u001b[0m\u001b[0;34m=\u001b[0m\u001b[0mnexus_tokenizer\u001b[0m\u001b[0;34m,\u001b[0m\u001b[0;34m\u001b[0m\u001b[0;34m\u001b[0m\u001b[0m\n\u001b[1;32m    559\u001b[0m                             \u001b[0mtree\u001b[0m\u001b[0;34m=\u001b[0m\u001b[0mtree\u001b[0m\u001b[0;34m,\u001b[0m\u001b[0;34m\u001b[0m\u001b[0;34m\u001b[0m\u001b[0m\n",
      "\u001b[0;32m~/projects/otapi/OT2020/venv-ot2020/lib/python3.8/site-packages/dendropy/dataio/newickreader.py\u001b[0m in \u001b[0;36m_parse_tree_node_description\u001b[0;34m(self, nexus_tokenizer, tree, current_node, taxon_symbol_map_fn, is_internal_node)\u001b[0m\n\u001b[1;32m    555\u001b[0m                             \u001b[0mitem_comments\u001b[0m\u001b[0;34m=\u001b[0m\u001b[0mnexus_tokenizer\u001b[0m\u001b[0;34m.\u001b[0m\u001b[0mpull_captured_comments\u001b[0m\u001b[0;34m(\u001b[0m\u001b[0;34m)\u001b[0m\u001b[0;34m,\u001b[0m\u001b[0;34m\u001b[0m\u001b[0;34m\u001b[0m\u001b[0m\n\u001b[1;32m    556\u001b[0m                             extract_comment_metadata=self.extract_comment_metadata)\n\u001b[0;32m--> 557\u001b[0;31m                     self._parse_tree_node_description(\n\u001b[0m\u001b[1;32m    558\u001b[0m                             \u001b[0mnexus_tokenizer\u001b[0m\u001b[0;34m=\u001b[0m\u001b[0mnexus_tokenizer\u001b[0m\u001b[0;34m,\u001b[0m\u001b[0;34m\u001b[0m\u001b[0;34m\u001b[0m\u001b[0m\n\u001b[1;32m    559\u001b[0m                             \u001b[0mtree\u001b[0m\u001b[0;34m=\u001b[0m\u001b[0mtree\u001b[0m\u001b[0;34m,\u001b[0m\u001b[0;34m\u001b[0m\u001b[0;34m\u001b[0m\u001b[0m\n",
      "\u001b[0;32m~/projects/otapi/OT2020/venv-ot2020/lib/python3.8/site-packages/dendropy/dataio/newickreader.py\u001b[0m in \u001b[0;36m_parse_tree_node_description\u001b[0;34m(self, nexus_tokenizer, tree, current_node, taxon_symbol_map_fn, is_internal_node)\u001b[0m\n\u001b[1;32m    555\u001b[0m                             \u001b[0mitem_comments\u001b[0m\u001b[0;34m=\u001b[0m\u001b[0mnexus_tokenizer\u001b[0m\u001b[0;34m.\u001b[0m\u001b[0mpull_captured_comments\u001b[0m\u001b[0;34m(\u001b[0m\u001b[0;34m)\u001b[0m\u001b[0;34m,\u001b[0m\u001b[0;34m\u001b[0m\u001b[0;34m\u001b[0m\u001b[0m\n\u001b[1;32m    556\u001b[0m                             extract_comment_metadata=self.extract_comment_metadata)\n\u001b[0;32m--> 557\u001b[0;31m                     self._parse_tree_node_description(\n\u001b[0m\u001b[1;32m    558\u001b[0m                             \u001b[0mnexus_tokenizer\u001b[0m\u001b[0;34m=\u001b[0m\u001b[0mnexus_tokenizer\u001b[0m\u001b[0;34m,\u001b[0m\u001b[0;34m\u001b[0m\u001b[0;34m\u001b[0m\u001b[0m\n\u001b[1;32m    559\u001b[0m                             \u001b[0mtree\u001b[0m\u001b[0;34m=\u001b[0m\u001b[0mtree\u001b[0m\u001b[0;34m,\u001b[0m\u001b[0;34m\u001b[0m\u001b[0;34m\u001b[0m\u001b[0m\n",
      "\u001b[0;32m~/projects/otapi/OT2020/venv-ot2020/lib/python3.8/site-packages/dendropy/dataio/newickreader.py\u001b[0m in \u001b[0;36m_parse_tree_node_description\u001b[0;34m(self, nexus_tokenizer, tree, current_node, taxon_symbol_map_fn, is_internal_node)\u001b[0m\n\u001b[1;32m    555\u001b[0m                             \u001b[0mitem_comments\u001b[0m\u001b[0;34m=\u001b[0m\u001b[0mnexus_tokenizer\u001b[0m\u001b[0;34m.\u001b[0m\u001b[0mpull_captured_comments\u001b[0m\u001b[0;34m(\u001b[0m\u001b[0;34m)\u001b[0m\u001b[0;34m,\u001b[0m\u001b[0;34m\u001b[0m\u001b[0;34m\u001b[0m\u001b[0m\n\u001b[1;32m    556\u001b[0m                             extract_comment_metadata=self.extract_comment_metadata)\n\u001b[0;32m--> 557\u001b[0;31m                     self._parse_tree_node_description(\n\u001b[0m\u001b[1;32m    558\u001b[0m                             \u001b[0mnexus_tokenizer\u001b[0m\u001b[0;34m=\u001b[0m\u001b[0mnexus_tokenizer\u001b[0m\u001b[0;34m,\u001b[0m\u001b[0;34m\u001b[0m\u001b[0;34m\u001b[0m\u001b[0m\n\u001b[1;32m    559\u001b[0m                             \u001b[0mtree\u001b[0m\u001b[0;34m=\u001b[0m\u001b[0mtree\u001b[0m\u001b[0;34m,\u001b[0m\u001b[0;34m\u001b[0m\u001b[0;34m\u001b[0m\u001b[0m\n",
      "\u001b[0;32m~/projects/otapi/OT2020/venv-ot2020/lib/python3.8/site-packages/dendropy/dataio/newickreader.py\u001b[0m in \u001b[0;36m_parse_tree_node_description\u001b[0;34m(self, nexus_tokenizer, tree, current_node, taxon_symbol_map_fn, is_internal_node)\u001b[0m\n\u001b[1;32m    555\u001b[0m                             \u001b[0mitem_comments\u001b[0m\u001b[0;34m=\u001b[0m\u001b[0mnexus_tokenizer\u001b[0m\u001b[0;34m.\u001b[0m\u001b[0mpull_captured_comments\u001b[0m\u001b[0;34m(\u001b[0m\u001b[0;34m)\u001b[0m\u001b[0;34m,\u001b[0m\u001b[0;34m\u001b[0m\u001b[0;34m\u001b[0m\u001b[0m\n\u001b[1;32m    556\u001b[0m                             extract_comment_metadata=self.extract_comment_metadata)\n\u001b[0;32m--> 557\u001b[0;31m                     self._parse_tree_node_description(\n\u001b[0m\u001b[1;32m    558\u001b[0m                             \u001b[0mnexus_tokenizer\u001b[0m\u001b[0;34m=\u001b[0m\u001b[0mnexus_tokenizer\u001b[0m\u001b[0;34m,\u001b[0m\u001b[0;34m\u001b[0m\u001b[0;34m\u001b[0m\u001b[0m\n\u001b[1;32m    559\u001b[0m                             \u001b[0mtree\u001b[0m\u001b[0;34m=\u001b[0m\u001b[0mtree\u001b[0m\u001b[0;34m,\u001b[0m\u001b[0;34m\u001b[0m\u001b[0;34m\u001b[0m\u001b[0m\n",
      "\u001b[0;32m~/projects/otapi/OT2020/venv-ot2020/lib/python3.8/site-packages/dendropy/dataio/newickreader.py\u001b[0m in \u001b[0;36m_parse_tree_node_description\u001b[0;34m(self, nexus_tokenizer, tree, current_node, taxon_symbol_map_fn, is_internal_node)\u001b[0m\n\u001b[1;32m    555\u001b[0m                             \u001b[0mitem_comments\u001b[0m\u001b[0;34m=\u001b[0m\u001b[0mnexus_tokenizer\u001b[0m\u001b[0;34m.\u001b[0m\u001b[0mpull_captured_comments\u001b[0m\u001b[0;34m(\u001b[0m\u001b[0;34m)\u001b[0m\u001b[0;34m,\u001b[0m\u001b[0;34m\u001b[0m\u001b[0;34m\u001b[0m\u001b[0m\n\u001b[1;32m    556\u001b[0m                             extract_comment_metadata=self.extract_comment_metadata)\n\u001b[0;32m--> 557\u001b[0;31m                     self._parse_tree_node_description(\n\u001b[0m\u001b[1;32m    558\u001b[0m                             \u001b[0mnexus_tokenizer\u001b[0m\u001b[0;34m=\u001b[0m\u001b[0mnexus_tokenizer\u001b[0m\u001b[0;34m,\u001b[0m\u001b[0;34m\u001b[0m\u001b[0;34m\u001b[0m\u001b[0m\n\u001b[1;32m    559\u001b[0m                             \u001b[0mtree\u001b[0m\u001b[0;34m=\u001b[0m\u001b[0mtree\u001b[0m\u001b[0;34m,\u001b[0m\u001b[0;34m\u001b[0m\u001b[0;34m\u001b[0m\u001b[0m\n",
      "\u001b[0;32m~/projects/otapi/OT2020/venv-ot2020/lib/python3.8/site-packages/dendropy/dataio/newickreader.py\u001b[0m in \u001b[0;36m_parse_tree_node_description\u001b[0;34m(self, nexus_tokenizer, tree, current_node, taxon_symbol_map_fn, is_internal_node)\u001b[0m\n\u001b[1;32m    555\u001b[0m                             \u001b[0mitem_comments\u001b[0m\u001b[0;34m=\u001b[0m\u001b[0mnexus_tokenizer\u001b[0m\u001b[0;34m.\u001b[0m\u001b[0mpull_captured_comments\u001b[0m\u001b[0;34m(\u001b[0m\u001b[0;34m)\u001b[0m\u001b[0;34m,\u001b[0m\u001b[0;34m\u001b[0m\u001b[0;34m\u001b[0m\u001b[0m\n\u001b[1;32m    556\u001b[0m                             extract_comment_metadata=self.extract_comment_metadata)\n\u001b[0;32m--> 557\u001b[0;31m                     self._parse_tree_node_description(\n\u001b[0m\u001b[1;32m    558\u001b[0m                             \u001b[0mnexus_tokenizer\u001b[0m\u001b[0;34m=\u001b[0m\u001b[0mnexus_tokenizer\u001b[0m\u001b[0;34m,\u001b[0m\u001b[0;34m\u001b[0m\u001b[0;34m\u001b[0m\u001b[0m\n\u001b[1;32m    559\u001b[0m                             \u001b[0mtree\u001b[0m\u001b[0;34m=\u001b[0m\u001b[0mtree\u001b[0m\u001b[0;34m,\u001b[0m\u001b[0;34m\u001b[0m\u001b[0;34m\u001b[0m\u001b[0m\n",
      "\u001b[0;32m~/projects/otapi/OT2020/venv-ot2020/lib/python3.8/site-packages/dendropy/dataio/newickreader.py\u001b[0m in \u001b[0;36m_parse_tree_node_description\u001b[0;34m(self, nexus_tokenizer, tree, current_node, taxon_symbol_map_fn, is_internal_node)\u001b[0m\n\u001b[1;32m    555\u001b[0m                             \u001b[0mitem_comments\u001b[0m\u001b[0;34m=\u001b[0m\u001b[0mnexus_tokenizer\u001b[0m\u001b[0;34m.\u001b[0m\u001b[0mpull_captured_comments\u001b[0m\u001b[0;34m(\u001b[0m\u001b[0;34m)\u001b[0m\u001b[0;34m,\u001b[0m\u001b[0;34m\u001b[0m\u001b[0;34m\u001b[0m\u001b[0m\n\u001b[1;32m    556\u001b[0m                             extract_comment_metadata=self.extract_comment_metadata)\n\u001b[0;32m--> 557\u001b[0;31m                     self._parse_tree_node_description(\n\u001b[0m\u001b[1;32m    558\u001b[0m                             \u001b[0mnexus_tokenizer\u001b[0m\u001b[0;34m=\u001b[0m\u001b[0mnexus_tokenizer\u001b[0m\u001b[0;34m,\u001b[0m\u001b[0;34m\u001b[0m\u001b[0;34m\u001b[0m\u001b[0m\n\u001b[1;32m    559\u001b[0m                             \u001b[0mtree\u001b[0m\u001b[0;34m=\u001b[0m\u001b[0mtree\u001b[0m\u001b[0;34m,\u001b[0m\u001b[0;34m\u001b[0m\u001b[0;34m\u001b[0m\u001b[0m\n",
      "\u001b[0;32m~/projects/otapi/OT2020/venv-ot2020/lib/python3.8/site-packages/dendropy/dataio/newickreader.py\u001b[0m in \u001b[0;36m_parse_tree_node_description\u001b[0;34m(self, nexus_tokenizer, tree, current_node, taxon_symbol_map_fn, is_internal_node)\u001b[0m\n\u001b[1;32m    555\u001b[0m                             \u001b[0mitem_comments\u001b[0m\u001b[0;34m=\u001b[0m\u001b[0mnexus_tokenizer\u001b[0m\u001b[0;34m.\u001b[0m\u001b[0mpull_captured_comments\u001b[0m\u001b[0;34m(\u001b[0m\u001b[0;34m)\u001b[0m\u001b[0;34m,\u001b[0m\u001b[0;34m\u001b[0m\u001b[0;34m\u001b[0m\u001b[0m\n\u001b[1;32m    556\u001b[0m                             extract_comment_metadata=self.extract_comment_metadata)\n\u001b[0;32m--> 557\u001b[0;31m                     self._parse_tree_node_description(\n\u001b[0m\u001b[1;32m    558\u001b[0m                             \u001b[0mnexus_tokenizer\u001b[0m\u001b[0;34m=\u001b[0m\u001b[0mnexus_tokenizer\u001b[0m\u001b[0;34m,\u001b[0m\u001b[0;34m\u001b[0m\u001b[0;34m\u001b[0m\u001b[0m\n\u001b[1;32m    559\u001b[0m                             \u001b[0mtree\u001b[0m\u001b[0;34m=\u001b[0m\u001b[0mtree\u001b[0m\u001b[0;34m,\u001b[0m\u001b[0;34m\u001b[0m\u001b[0;34m\u001b[0m\u001b[0m\n",
      "\u001b[0;32m~/projects/otapi/OT2020/venv-ot2020/lib/python3.8/site-packages/dendropy/dataio/newickreader.py\u001b[0m in \u001b[0;36m_parse_tree_node_description\u001b[0;34m(self, nexus_tokenizer, tree, current_node, taxon_symbol_map_fn, is_internal_node)\u001b[0m\n\u001b[1;32m    555\u001b[0m                             \u001b[0mitem_comments\u001b[0m\u001b[0;34m=\u001b[0m\u001b[0mnexus_tokenizer\u001b[0m\u001b[0;34m.\u001b[0m\u001b[0mpull_captured_comments\u001b[0m\u001b[0;34m(\u001b[0m\u001b[0;34m)\u001b[0m\u001b[0;34m,\u001b[0m\u001b[0;34m\u001b[0m\u001b[0;34m\u001b[0m\u001b[0m\n\u001b[1;32m    556\u001b[0m                             extract_comment_metadata=self.extract_comment_metadata)\n\u001b[0;32m--> 557\u001b[0;31m                     self._parse_tree_node_description(\n\u001b[0m\u001b[1;32m    558\u001b[0m                             \u001b[0mnexus_tokenizer\u001b[0m\u001b[0;34m=\u001b[0m\u001b[0mnexus_tokenizer\u001b[0m\u001b[0;34m,\u001b[0m\u001b[0;34m\u001b[0m\u001b[0;34m\u001b[0m\u001b[0m\n\u001b[1;32m    559\u001b[0m                             \u001b[0mtree\u001b[0m\u001b[0;34m=\u001b[0m\u001b[0mtree\u001b[0m\u001b[0;34m,\u001b[0m\u001b[0;34m\u001b[0m\u001b[0;34m\u001b[0m\u001b[0m\n",
      "\u001b[0;32m~/projects/otapi/OT2020/venv-ot2020/lib/python3.8/site-packages/dendropy/dataio/newickreader.py\u001b[0m in \u001b[0;36m_parse_tree_node_description\u001b[0;34m(self, nexus_tokenizer, tree, current_node, taxon_symbol_map_fn, is_internal_node)\u001b[0m\n\u001b[1;32m    555\u001b[0m                             \u001b[0mitem_comments\u001b[0m\u001b[0;34m=\u001b[0m\u001b[0mnexus_tokenizer\u001b[0m\u001b[0;34m.\u001b[0m\u001b[0mpull_captured_comments\u001b[0m\u001b[0;34m(\u001b[0m\u001b[0;34m)\u001b[0m\u001b[0;34m,\u001b[0m\u001b[0;34m\u001b[0m\u001b[0;34m\u001b[0m\u001b[0m\n\u001b[1;32m    556\u001b[0m                             extract_comment_metadata=self.extract_comment_metadata)\n\u001b[0;32m--> 557\u001b[0;31m                     self._parse_tree_node_description(\n\u001b[0m\u001b[1;32m    558\u001b[0m                             \u001b[0mnexus_tokenizer\u001b[0m\u001b[0;34m=\u001b[0m\u001b[0mnexus_tokenizer\u001b[0m\u001b[0;34m,\u001b[0m\u001b[0;34m\u001b[0m\u001b[0;34m\u001b[0m\u001b[0m\n\u001b[1;32m    559\u001b[0m                             \u001b[0mtree\u001b[0m\u001b[0;34m=\u001b[0m\u001b[0mtree\u001b[0m\u001b[0;34m,\u001b[0m\u001b[0;34m\u001b[0m\u001b[0;34m\u001b[0m\u001b[0m\n",
      "\u001b[0;32m~/projects/otapi/OT2020/venv-ot2020/lib/python3.8/site-packages/dendropy/dataio/newickreader.py\u001b[0m in \u001b[0;36m_parse_tree_node_description\u001b[0;34m(self, nexus_tokenizer, tree, current_node, taxon_symbol_map_fn, is_internal_node)\u001b[0m\n\u001b[1;32m    555\u001b[0m                             \u001b[0mitem_comments\u001b[0m\u001b[0;34m=\u001b[0m\u001b[0mnexus_tokenizer\u001b[0m\u001b[0;34m.\u001b[0m\u001b[0mpull_captured_comments\u001b[0m\u001b[0;34m(\u001b[0m\u001b[0;34m)\u001b[0m\u001b[0;34m,\u001b[0m\u001b[0;34m\u001b[0m\u001b[0;34m\u001b[0m\u001b[0m\n\u001b[1;32m    556\u001b[0m                             extract_comment_metadata=self.extract_comment_metadata)\n\u001b[0;32m--> 557\u001b[0;31m                     self._parse_tree_node_description(\n\u001b[0m\u001b[1;32m    558\u001b[0m                             \u001b[0mnexus_tokenizer\u001b[0m\u001b[0;34m=\u001b[0m\u001b[0mnexus_tokenizer\u001b[0m\u001b[0;34m,\u001b[0m\u001b[0;34m\u001b[0m\u001b[0;34m\u001b[0m\u001b[0m\n\u001b[1;32m    559\u001b[0m                             \u001b[0mtree\u001b[0m\u001b[0;34m=\u001b[0m\u001b[0mtree\u001b[0m\u001b[0;34m,\u001b[0m\u001b[0;34m\u001b[0m\u001b[0;34m\u001b[0m\u001b[0m\n",
      "\u001b[0;32m~/projects/otapi/OT2020/venv-ot2020/lib/python3.8/site-packages/dendropy/dataio/newickreader.py\u001b[0m in \u001b[0;36m_parse_tree_node_description\u001b[0;34m(self, nexus_tokenizer, tree, current_node, taxon_symbol_map_fn, is_internal_node)\u001b[0m\n\u001b[1;32m    555\u001b[0m                             \u001b[0mitem_comments\u001b[0m\u001b[0;34m=\u001b[0m\u001b[0mnexus_tokenizer\u001b[0m\u001b[0;34m.\u001b[0m\u001b[0mpull_captured_comments\u001b[0m\u001b[0;34m(\u001b[0m\u001b[0;34m)\u001b[0m\u001b[0;34m,\u001b[0m\u001b[0;34m\u001b[0m\u001b[0;34m\u001b[0m\u001b[0m\n\u001b[1;32m    556\u001b[0m                             extract_comment_metadata=self.extract_comment_metadata)\n\u001b[0;32m--> 557\u001b[0;31m                     self._parse_tree_node_description(\n\u001b[0m\u001b[1;32m    558\u001b[0m                             \u001b[0mnexus_tokenizer\u001b[0m\u001b[0;34m=\u001b[0m\u001b[0mnexus_tokenizer\u001b[0m\u001b[0;34m,\u001b[0m\u001b[0;34m\u001b[0m\u001b[0;34m\u001b[0m\u001b[0m\n\u001b[1;32m    559\u001b[0m                             \u001b[0mtree\u001b[0m\u001b[0;34m=\u001b[0m\u001b[0mtree\u001b[0m\u001b[0;34m,\u001b[0m\u001b[0;34m\u001b[0m\u001b[0;34m\u001b[0m\u001b[0m\n",
      "\u001b[0;32m~/projects/otapi/OT2020/venv-ot2020/lib/python3.8/site-packages/dendropy/dataio/newickreader.py\u001b[0m in \u001b[0;36m_parse_tree_node_description\u001b[0;34m(self, nexus_tokenizer, tree, current_node, taxon_symbol_map_fn, is_internal_node)\u001b[0m\n\u001b[1;32m    555\u001b[0m                             \u001b[0mitem_comments\u001b[0m\u001b[0;34m=\u001b[0m\u001b[0mnexus_tokenizer\u001b[0m\u001b[0;34m.\u001b[0m\u001b[0mpull_captured_comments\u001b[0m\u001b[0;34m(\u001b[0m\u001b[0;34m)\u001b[0m\u001b[0;34m,\u001b[0m\u001b[0;34m\u001b[0m\u001b[0;34m\u001b[0m\u001b[0m\n\u001b[1;32m    556\u001b[0m                             extract_comment_metadata=self.extract_comment_metadata)\n\u001b[0;32m--> 557\u001b[0;31m                     self._parse_tree_node_description(\n\u001b[0m\u001b[1;32m    558\u001b[0m                             \u001b[0mnexus_tokenizer\u001b[0m\u001b[0;34m=\u001b[0m\u001b[0mnexus_tokenizer\u001b[0m\u001b[0;34m,\u001b[0m\u001b[0;34m\u001b[0m\u001b[0;34m\u001b[0m\u001b[0m\n\u001b[1;32m    559\u001b[0m                             \u001b[0mtree\u001b[0m\u001b[0;34m=\u001b[0m\u001b[0mtree\u001b[0m\u001b[0;34m,\u001b[0m\u001b[0;34m\u001b[0m\u001b[0;34m\u001b[0m\u001b[0m\n",
      "\u001b[0;32m~/projects/otapi/OT2020/venv-ot2020/lib/python3.8/site-packages/dendropy/dataio/newickreader.py\u001b[0m in \u001b[0;36m_parse_tree_node_description\u001b[0;34m(self, nexus_tokenizer, tree, current_node, taxon_symbol_map_fn, is_internal_node)\u001b[0m\n\u001b[1;32m    555\u001b[0m                             \u001b[0mitem_comments\u001b[0m\u001b[0;34m=\u001b[0m\u001b[0mnexus_tokenizer\u001b[0m\u001b[0;34m.\u001b[0m\u001b[0mpull_captured_comments\u001b[0m\u001b[0;34m(\u001b[0m\u001b[0;34m)\u001b[0m\u001b[0;34m,\u001b[0m\u001b[0;34m\u001b[0m\u001b[0;34m\u001b[0m\u001b[0m\n\u001b[1;32m    556\u001b[0m                             extract_comment_metadata=self.extract_comment_metadata)\n\u001b[0;32m--> 557\u001b[0;31m                     self._parse_tree_node_description(\n\u001b[0m\u001b[1;32m    558\u001b[0m                             \u001b[0mnexus_tokenizer\u001b[0m\u001b[0;34m=\u001b[0m\u001b[0mnexus_tokenizer\u001b[0m\u001b[0;34m,\u001b[0m\u001b[0;34m\u001b[0m\u001b[0;34m\u001b[0m\u001b[0m\n\u001b[1;32m    559\u001b[0m                             \u001b[0mtree\u001b[0m\u001b[0;34m=\u001b[0m\u001b[0mtree\u001b[0m\u001b[0;34m,\u001b[0m\u001b[0;34m\u001b[0m\u001b[0;34m\u001b[0m\u001b[0m\n",
      "\u001b[0;32m~/projects/otapi/OT2020/venv-ot2020/lib/python3.8/site-packages/dendropy/dataio/newickreader.py\u001b[0m in \u001b[0;36m_parse_tree_node_description\u001b[0;34m(self, nexus_tokenizer, tree, current_node, taxon_symbol_map_fn, is_internal_node)\u001b[0m\n\u001b[1;32m    555\u001b[0m                             \u001b[0mitem_comments\u001b[0m\u001b[0;34m=\u001b[0m\u001b[0mnexus_tokenizer\u001b[0m\u001b[0;34m.\u001b[0m\u001b[0mpull_captured_comments\u001b[0m\u001b[0;34m(\u001b[0m\u001b[0;34m)\u001b[0m\u001b[0;34m,\u001b[0m\u001b[0;34m\u001b[0m\u001b[0;34m\u001b[0m\u001b[0m\n\u001b[1;32m    556\u001b[0m                             extract_comment_metadata=self.extract_comment_metadata)\n\u001b[0;32m--> 557\u001b[0;31m                     self._parse_tree_node_description(\n\u001b[0m\u001b[1;32m    558\u001b[0m                             \u001b[0mnexus_tokenizer\u001b[0m\u001b[0;34m=\u001b[0m\u001b[0mnexus_tokenizer\u001b[0m\u001b[0;34m,\u001b[0m\u001b[0;34m\u001b[0m\u001b[0;34m\u001b[0m\u001b[0m\n\u001b[1;32m    559\u001b[0m                             \u001b[0mtree\u001b[0m\u001b[0;34m=\u001b[0m\u001b[0mtree\u001b[0m\u001b[0;34m,\u001b[0m\u001b[0;34m\u001b[0m\u001b[0;34m\u001b[0m\u001b[0m\n",
      "\u001b[0;32m~/projects/otapi/OT2020/venv-ot2020/lib/python3.8/site-packages/dendropy/dataio/newickreader.py\u001b[0m in \u001b[0;36m_parse_tree_node_description\u001b[0;34m(self, nexus_tokenizer, tree, current_node, taxon_symbol_map_fn, is_internal_node)\u001b[0m\n\u001b[1;32m    555\u001b[0m                             \u001b[0mitem_comments\u001b[0m\u001b[0;34m=\u001b[0m\u001b[0mnexus_tokenizer\u001b[0m\u001b[0;34m.\u001b[0m\u001b[0mpull_captured_comments\u001b[0m\u001b[0;34m(\u001b[0m\u001b[0;34m)\u001b[0m\u001b[0;34m,\u001b[0m\u001b[0;34m\u001b[0m\u001b[0;34m\u001b[0m\u001b[0m\n\u001b[1;32m    556\u001b[0m                             extract_comment_metadata=self.extract_comment_metadata)\n\u001b[0;32m--> 557\u001b[0;31m                     self._parse_tree_node_description(\n\u001b[0m\u001b[1;32m    558\u001b[0m                             \u001b[0mnexus_tokenizer\u001b[0m\u001b[0;34m=\u001b[0m\u001b[0mnexus_tokenizer\u001b[0m\u001b[0;34m,\u001b[0m\u001b[0;34m\u001b[0m\u001b[0;34m\u001b[0m\u001b[0m\n\u001b[1;32m    559\u001b[0m                             \u001b[0mtree\u001b[0m\u001b[0;34m=\u001b[0m\u001b[0mtree\u001b[0m\u001b[0;34m,\u001b[0m\u001b[0;34m\u001b[0m\u001b[0;34m\u001b[0m\u001b[0m\n",
      "\u001b[0;32m~/projects/otapi/OT2020/venv-ot2020/lib/python3.8/site-packages/dendropy/dataio/newickreader.py\u001b[0m in \u001b[0;36m_parse_tree_node_description\u001b[0;34m(self, nexus_tokenizer, tree, current_node, taxon_symbol_map_fn, is_internal_node)\u001b[0m\n\u001b[1;32m    555\u001b[0m                             \u001b[0mitem_comments\u001b[0m\u001b[0;34m=\u001b[0m\u001b[0mnexus_tokenizer\u001b[0m\u001b[0;34m.\u001b[0m\u001b[0mpull_captured_comments\u001b[0m\u001b[0;34m(\u001b[0m\u001b[0;34m)\u001b[0m\u001b[0;34m,\u001b[0m\u001b[0;34m\u001b[0m\u001b[0;34m\u001b[0m\u001b[0m\n\u001b[1;32m    556\u001b[0m                             extract_comment_metadata=self.extract_comment_metadata)\n\u001b[0;32m--> 557\u001b[0;31m                     self._parse_tree_node_description(\n\u001b[0m\u001b[1;32m    558\u001b[0m                             \u001b[0mnexus_tokenizer\u001b[0m\u001b[0;34m=\u001b[0m\u001b[0mnexus_tokenizer\u001b[0m\u001b[0;34m,\u001b[0m\u001b[0;34m\u001b[0m\u001b[0;34m\u001b[0m\u001b[0m\n\u001b[1;32m    559\u001b[0m                             \u001b[0mtree\u001b[0m\u001b[0;34m=\u001b[0m\u001b[0mtree\u001b[0m\u001b[0;34m,\u001b[0m\u001b[0;34m\u001b[0m\u001b[0;34m\u001b[0m\u001b[0m\n",
      "\u001b[0;32m~/projects/otapi/OT2020/venv-ot2020/lib/python3.8/site-packages/dendropy/dataio/newickreader.py\u001b[0m in \u001b[0;36m_parse_tree_node_description\u001b[0;34m(self, nexus_tokenizer, tree, current_node, taxon_symbol_map_fn, is_internal_node)\u001b[0m\n\u001b[1;32m    555\u001b[0m                             \u001b[0mitem_comments\u001b[0m\u001b[0;34m=\u001b[0m\u001b[0mnexus_tokenizer\u001b[0m\u001b[0;34m.\u001b[0m\u001b[0mpull_captured_comments\u001b[0m\u001b[0;34m(\u001b[0m\u001b[0;34m)\u001b[0m\u001b[0;34m,\u001b[0m\u001b[0;34m\u001b[0m\u001b[0;34m\u001b[0m\u001b[0m\n\u001b[1;32m    556\u001b[0m                             extract_comment_metadata=self.extract_comment_metadata)\n\u001b[0;32m--> 557\u001b[0;31m                     self._parse_tree_node_description(\n\u001b[0m\u001b[1;32m    558\u001b[0m                             \u001b[0mnexus_tokenizer\u001b[0m\u001b[0;34m=\u001b[0m\u001b[0mnexus_tokenizer\u001b[0m\u001b[0;34m,\u001b[0m\u001b[0;34m\u001b[0m\u001b[0;34m\u001b[0m\u001b[0m\n\u001b[1;32m    559\u001b[0m                             \u001b[0mtree\u001b[0m\u001b[0;34m=\u001b[0m\u001b[0mtree\u001b[0m\u001b[0;34m,\u001b[0m\u001b[0;34m\u001b[0m\u001b[0;34m\u001b[0m\u001b[0m\n",
      "\u001b[0;32m~/projects/otapi/OT2020/venv-ot2020/lib/python3.8/site-packages/dendropy/dataio/newickreader.py\u001b[0m in \u001b[0;36m_parse_tree_node_description\u001b[0;34m(self, nexus_tokenizer, tree, current_node, taxon_symbol_map_fn, is_internal_node)\u001b[0m\n\u001b[1;32m    555\u001b[0m                             \u001b[0mitem_comments\u001b[0m\u001b[0;34m=\u001b[0m\u001b[0mnexus_tokenizer\u001b[0m\u001b[0;34m.\u001b[0m\u001b[0mpull_captured_comments\u001b[0m\u001b[0;34m(\u001b[0m\u001b[0;34m)\u001b[0m\u001b[0;34m,\u001b[0m\u001b[0;34m\u001b[0m\u001b[0;34m\u001b[0m\u001b[0m\n\u001b[1;32m    556\u001b[0m                             extract_comment_metadata=self.extract_comment_metadata)\n\u001b[0;32m--> 557\u001b[0;31m                     self._parse_tree_node_description(\n\u001b[0m\u001b[1;32m    558\u001b[0m                             \u001b[0mnexus_tokenizer\u001b[0m\u001b[0;34m=\u001b[0m\u001b[0mnexus_tokenizer\u001b[0m\u001b[0;34m,\u001b[0m\u001b[0;34m\u001b[0m\u001b[0;34m\u001b[0m\u001b[0m\n\u001b[1;32m    559\u001b[0m                             \u001b[0mtree\u001b[0m\u001b[0;34m=\u001b[0m\u001b[0mtree\u001b[0m\u001b[0;34m,\u001b[0m\u001b[0;34m\u001b[0m\u001b[0;34m\u001b[0m\u001b[0m\n",
      "\u001b[0;32m~/projects/otapi/OT2020/venv-ot2020/lib/python3.8/site-packages/dendropy/dataio/newickreader.py\u001b[0m in \u001b[0;36m_parse_tree_node_description\u001b[0;34m(self, nexus_tokenizer, tree, current_node, taxon_symbol_map_fn, is_internal_node)\u001b[0m\n\u001b[1;32m    555\u001b[0m                             \u001b[0mitem_comments\u001b[0m\u001b[0;34m=\u001b[0m\u001b[0mnexus_tokenizer\u001b[0m\u001b[0;34m.\u001b[0m\u001b[0mpull_captured_comments\u001b[0m\u001b[0;34m(\u001b[0m\u001b[0;34m)\u001b[0m\u001b[0;34m,\u001b[0m\u001b[0;34m\u001b[0m\u001b[0;34m\u001b[0m\u001b[0m\n\u001b[1;32m    556\u001b[0m                             extract_comment_metadata=self.extract_comment_metadata)\n\u001b[0;32m--> 557\u001b[0;31m                     self._parse_tree_node_description(\n\u001b[0m\u001b[1;32m    558\u001b[0m                             \u001b[0mnexus_tokenizer\u001b[0m\u001b[0;34m=\u001b[0m\u001b[0mnexus_tokenizer\u001b[0m\u001b[0;34m,\u001b[0m\u001b[0;34m\u001b[0m\u001b[0;34m\u001b[0m\u001b[0m\n\u001b[1;32m    559\u001b[0m                             \u001b[0mtree\u001b[0m\u001b[0;34m=\u001b[0m\u001b[0mtree\u001b[0m\u001b[0;34m,\u001b[0m\u001b[0;34m\u001b[0m\u001b[0;34m\u001b[0m\u001b[0m\n",
      "\u001b[0;32m~/projects/otapi/OT2020/venv-ot2020/lib/python3.8/site-packages/dendropy/dataio/newickreader.py\u001b[0m in \u001b[0;36m_parse_tree_node_description\u001b[0;34m(self, nexus_tokenizer, tree, current_node, taxon_symbol_map_fn, is_internal_node)\u001b[0m\n\u001b[1;32m    555\u001b[0m                             \u001b[0mitem_comments\u001b[0m\u001b[0;34m=\u001b[0m\u001b[0mnexus_tokenizer\u001b[0m\u001b[0;34m.\u001b[0m\u001b[0mpull_captured_comments\u001b[0m\u001b[0;34m(\u001b[0m\u001b[0;34m)\u001b[0m\u001b[0;34m,\u001b[0m\u001b[0;34m\u001b[0m\u001b[0;34m\u001b[0m\u001b[0m\n\u001b[1;32m    556\u001b[0m                             extract_comment_metadata=self.extract_comment_metadata)\n\u001b[0;32m--> 557\u001b[0;31m                     self._parse_tree_node_description(\n\u001b[0m\u001b[1;32m    558\u001b[0m                             \u001b[0mnexus_tokenizer\u001b[0m\u001b[0;34m=\u001b[0m\u001b[0mnexus_tokenizer\u001b[0m\u001b[0;34m,\u001b[0m\u001b[0;34m\u001b[0m\u001b[0;34m\u001b[0m\u001b[0m\n\u001b[1;32m    559\u001b[0m                             \u001b[0mtree\u001b[0m\u001b[0;34m=\u001b[0m\u001b[0mtree\u001b[0m\u001b[0;34m,\u001b[0m\u001b[0;34m\u001b[0m\u001b[0;34m\u001b[0m\u001b[0m\n",
      "\u001b[0;32m~/projects/otapi/OT2020/venv-ot2020/lib/python3.8/site-packages/dendropy/dataio/newickreader.py\u001b[0m in \u001b[0;36m_parse_tree_node_description\u001b[0;34m(self, nexus_tokenizer, tree, current_node, taxon_symbol_map_fn, is_internal_node)\u001b[0m\n\u001b[1;32m    555\u001b[0m                             \u001b[0mitem_comments\u001b[0m\u001b[0;34m=\u001b[0m\u001b[0mnexus_tokenizer\u001b[0m\u001b[0;34m.\u001b[0m\u001b[0mpull_captured_comments\u001b[0m\u001b[0;34m(\u001b[0m\u001b[0;34m)\u001b[0m\u001b[0;34m,\u001b[0m\u001b[0;34m\u001b[0m\u001b[0;34m\u001b[0m\u001b[0m\n\u001b[1;32m    556\u001b[0m                             extract_comment_metadata=self.extract_comment_metadata)\n\u001b[0;32m--> 557\u001b[0;31m                     self._parse_tree_node_description(\n\u001b[0m\u001b[1;32m    558\u001b[0m                             \u001b[0mnexus_tokenizer\u001b[0m\u001b[0;34m=\u001b[0m\u001b[0mnexus_tokenizer\u001b[0m\u001b[0;34m,\u001b[0m\u001b[0;34m\u001b[0m\u001b[0;34m\u001b[0m\u001b[0m\n\u001b[1;32m    559\u001b[0m                             \u001b[0mtree\u001b[0m\u001b[0;34m=\u001b[0m\u001b[0mtree\u001b[0m\u001b[0;34m,\u001b[0m\u001b[0;34m\u001b[0m\u001b[0;34m\u001b[0m\u001b[0m\n",
      "\u001b[0;32m~/projects/otapi/OT2020/venv-ot2020/lib/python3.8/site-packages/dendropy/dataio/newickreader.py\u001b[0m in \u001b[0;36m_parse_tree_node_description\u001b[0;34m(self, nexus_tokenizer, tree, current_node, taxon_symbol_map_fn, is_internal_node)\u001b[0m\n\u001b[1;32m    555\u001b[0m                             \u001b[0mitem_comments\u001b[0m\u001b[0;34m=\u001b[0m\u001b[0mnexus_tokenizer\u001b[0m\u001b[0;34m.\u001b[0m\u001b[0mpull_captured_comments\u001b[0m\u001b[0;34m(\u001b[0m\u001b[0;34m)\u001b[0m\u001b[0;34m,\u001b[0m\u001b[0;34m\u001b[0m\u001b[0;34m\u001b[0m\u001b[0m\n\u001b[1;32m    556\u001b[0m                             extract_comment_metadata=self.extract_comment_metadata)\n\u001b[0;32m--> 557\u001b[0;31m                     self._parse_tree_node_description(\n\u001b[0m\u001b[1;32m    558\u001b[0m                             \u001b[0mnexus_tokenizer\u001b[0m\u001b[0;34m=\u001b[0m\u001b[0mnexus_tokenizer\u001b[0m\u001b[0;34m,\u001b[0m\u001b[0;34m\u001b[0m\u001b[0;34m\u001b[0m\u001b[0m\n\u001b[1;32m    559\u001b[0m                             \u001b[0mtree\u001b[0m\u001b[0;34m=\u001b[0m\u001b[0mtree\u001b[0m\u001b[0;34m,\u001b[0m\u001b[0;34m\u001b[0m\u001b[0;34m\u001b[0m\u001b[0m\n",
      "\u001b[0;32m~/projects/otapi/OT2020/venv-ot2020/lib/python3.8/site-packages/dendropy/dataio/newickreader.py\u001b[0m in \u001b[0;36m_parse_tree_node_description\u001b[0;34m(self, nexus_tokenizer, tree, current_node, taxon_symbol_map_fn, is_internal_node)\u001b[0m\n\u001b[1;32m    555\u001b[0m                             \u001b[0mitem_comments\u001b[0m\u001b[0;34m=\u001b[0m\u001b[0mnexus_tokenizer\u001b[0m\u001b[0;34m.\u001b[0m\u001b[0mpull_captured_comments\u001b[0m\u001b[0;34m(\u001b[0m\u001b[0;34m)\u001b[0m\u001b[0;34m,\u001b[0m\u001b[0;34m\u001b[0m\u001b[0;34m\u001b[0m\u001b[0m\n\u001b[1;32m    556\u001b[0m                             extract_comment_metadata=self.extract_comment_metadata)\n\u001b[0;32m--> 557\u001b[0;31m                     self._parse_tree_node_description(\n\u001b[0m\u001b[1;32m    558\u001b[0m                             \u001b[0mnexus_tokenizer\u001b[0m\u001b[0;34m=\u001b[0m\u001b[0mnexus_tokenizer\u001b[0m\u001b[0;34m,\u001b[0m\u001b[0;34m\u001b[0m\u001b[0;34m\u001b[0m\u001b[0m\n\u001b[1;32m    559\u001b[0m                             \u001b[0mtree\u001b[0m\u001b[0;34m=\u001b[0m\u001b[0mtree\u001b[0m\u001b[0;34m,\u001b[0m\u001b[0;34m\u001b[0m\u001b[0;34m\u001b[0m\u001b[0m\n",
      "\u001b[0;32m~/projects/otapi/OT2020/venv-ot2020/lib/python3.8/site-packages/dendropy/dataio/newickreader.py\u001b[0m in \u001b[0;36m_parse_tree_node_description\u001b[0;34m(self, nexus_tokenizer, tree, current_node, taxon_symbol_map_fn, is_internal_node)\u001b[0m\n\u001b[1;32m    555\u001b[0m                             \u001b[0mitem_comments\u001b[0m\u001b[0;34m=\u001b[0m\u001b[0mnexus_tokenizer\u001b[0m\u001b[0;34m.\u001b[0m\u001b[0mpull_captured_comments\u001b[0m\u001b[0;34m(\u001b[0m\u001b[0;34m)\u001b[0m\u001b[0;34m,\u001b[0m\u001b[0;34m\u001b[0m\u001b[0;34m\u001b[0m\u001b[0m\n\u001b[1;32m    556\u001b[0m                             extract_comment_metadata=self.extract_comment_metadata)\n\u001b[0;32m--> 557\u001b[0;31m                     self._parse_tree_node_description(\n\u001b[0m\u001b[1;32m    558\u001b[0m                             \u001b[0mnexus_tokenizer\u001b[0m\u001b[0;34m=\u001b[0m\u001b[0mnexus_tokenizer\u001b[0m\u001b[0;34m,\u001b[0m\u001b[0;34m\u001b[0m\u001b[0;34m\u001b[0m\u001b[0m\n\u001b[1;32m    559\u001b[0m                             \u001b[0mtree\u001b[0m\u001b[0;34m=\u001b[0m\u001b[0mtree\u001b[0m\u001b[0;34m,\u001b[0m\u001b[0;34m\u001b[0m\u001b[0;34m\u001b[0m\u001b[0m\n",
      "\u001b[0;32m~/projects/otapi/OT2020/venv-ot2020/lib/python3.8/site-packages/dendropy/dataio/newickreader.py\u001b[0m in \u001b[0;36m_parse_tree_node_description\u001b[0;34m(self, nexus_tokenizer, tree, current_node, taxon_symbol_map_fn, is_internal_node)\u001b[0m\n\u001b[1;32m    551\u001b[0m                     \u001b[0;32melse\u001b[0m\u001b[0;34m:\u001b[0m\u001b[0;34m\u001b[0m\u001b[0;34m\u001b[0m\u001b[0m\n\u001b[1;32m    552\u001b[0m                         \u001b[0mis_new_internal_node\u001b[0m \u001b[0;34m=\u001b[0m \u001b[0;32mFalse\u001b[0m\u001b[0;34m\u001b[0m\u001b[0;34m\u001b[0m\u001b[0m\n\u001b[0;32m--> 553\u001b[0;31m                     \u001b[0mnew_node\u001b[0m \u001b[0;34m=\u001b[0m \u001b[0mtree\u001b[0m\u001b[0;34m.\u001b[0m\u001b[0mnode_factory\u001b[0m\u001b[0;34m(\u001b[0m\u001b[0;34m)\u001b[0m\u001b[0;34m;\u001b[0m\u001b[0;34m\u001b[0m\u001b[0;34m\u001b[0m\u001b[0m\n\u001b[0m\u001b[1;32m    554\u001b[0m                     nexusprocessing.process_comments_for_item(item=new_node,\n\u001b[1;32m    555\u001b[0m                             \u001b[0mitem_comments\u001b[0m\u001b[0;34m=\u001b[0m\u001b[0mnexus_tokenizer\u001b[0m\u001b[0;34m.\u001b[0m\u001b[0mpull_captured_comments\u001b[0m\u001b[0;34m(\u001b[0m\u001b[0;34m)\u001b[0m\u001b[0;34m,\u001b[0m\u001b[0;34m\u001b[0m\u001b[0;34m\u001b[0m\u001b[0m\n",
      "\u001b[0;32m~/projects/otapi/OT2020/venv-ot2020/lib/python3.8/site-packages/dendropy/datamodel/treemodel.py\u001b[0m in \u001b[0;36mnode_factory\u001b[0;34m(cls, **kwargs)\u001b[0m\n\u001b[1;32m   3025\u001b[0m \u001b[0;34m\u001b[0m\u001b[0m\n\u001b[1;32m   3026\u001b[0m         \"\"\"\n\u001b[0;32m-> 3027\u001b[0;31m         \u001b[0;32mreturn\u001b[0m \u001b[0mNode\u001b[0m\u001b[0;34m(\u001b[0m\u001b[0;34m**\u001b[0m\u001b[0mkwargs\u001b[0m\u001b[0;34m)\u001b[0m\u001b[0;34m\u001b[0m\u001b[0;34m\u001b[0m\u001b[0m\n\u001b[0m\u001b[1;32m   3028\u001b[0m     \u001b[0mnode_factory\u001b[0m \u001b[0;34m=\u001b[0m \u001b[0mclassmethod\u001b[0m\u001b[0;34m(\u001b[0m\u001b[0mnode_factory\u001b[0m\u001b[0;34m)\u001b[0m\u001b[0;34m\u001b[0m\u001b[0;34m\u001b[0m\u001b[0m\n\u001b[1;32m   3029\u001b[0m \u001b[0;34m\u001b[0m\u001b[0m\n",
      "\u001b[0;32m~/projects/otapi/OT2020/venv-ot2020/lib/python3.8/site-packages/dendropy/datamodel/treemodel.py\u001b[0m in \u001b[0;36m__init__\u001b[0;34m(self, **kwargs)\u001b[0m\n\u001b[1;32m   1025\u001b[0m         \u001b[0mself\u001b[0m\u001b[0;34m.\u001b[0m\u001b[0m_child_nodes\u001b[0m \u001b[0;34m=\u001b[0m \u001b[0;34m[\u001b[0m\u001b[0;34m]\u001b[0m\u001b[0;34m\u001b[0m\u001b[0;34m\u001b[0m\u001b[0m\n\u001b[1;32m   1026\u001b[0m         \u001b[0mself\u001b[0m\u001b[0;34m.\u001b[0m\u001b[0m_parent_node\u001b[0m \u001b[0;34m=\u001b[0m \u001b[0;32mNone\u001b[0m\u001b[0;34m\u001b[0m\u001b[0;34m\u001b[0m\u001b[0m\n\u001b[0;32m-> 1027\u001b[0;31m         self.edge = self.edge_factory(head_node=self,\n\u001b[0m\u001b[1;32m   1028\u001b[0m                 length=kwargs.pop(\"edge_length\", None))\n\u001b[1;32m   1029\u001b[0m         \u001b[0;32mif\u001b[0m \u001b[0mkwargs\u001b[0m\u001b[0;34m:\u001b[0m\u001b[0;34m\u001b[0m\u001b[0;34m\u001b[0m\u001b[0m\n",
      "\u001b[0;32m~/projects/otapi/OT2020/venv-ot2020/lib/python3.8/site-packages/dendropy/datamodel/treemodel.py\u001b[0m in \u001b[0;36medge_factory\u001b[0;34m(cls, **kwargs)\u001b[0m\n\u001b[1;32m   1000\u001b[0m \u001b[0;34m\u001b[0m\u001b[0m\n\u001b[1;32m   1001\u001b[0m         \"\"\"\n\u001b[0;32m-> 1002\u001b[0;31m         \u001b[0;32mreturn\u001b[0m \u001b[0mEdge\u001b[0m\u001b[0;34m(\u001b[0m\u001b[0;34m**\u001b[0m\u001b[0mkwargs\u001b[0m\u001b[0;34m)\u001b[0m\u001b[0;34m\u001b[0m\u001b[0;34m\u001b[0m\u001b[0m\n\u001b[0m\u001b[1;32m   1003\u001b[0m     \u001b[0medge_factory\u001b[0m \u001b[0;34m=\u001b[0m \u001b[0mclassmethod\u001b[0m\u001b[0;34m(\u001b[0m\u001b[0medge_factory\u001b[0m\u001b[0;34m)\u001b[0m\u001b[0;34m\u001b[0m\u001b[0;34m\u001b[0m\u001b[0m\n\u001b[1;32m   1004\u001b[0m \u001b[0;34m\u001b[0m\u001b[0m\n",
      "\u001b[0;32m~/projects/otapi/OT2020/venv-ot2020/lib/python3.8/site-packages/dendropy/datamodel/treemodel.py\u001b[0m in \u001b[0;36m__init__\u001b[0;34m(self, **kwargs)\u001b[0m\n\u001b[1;32m    730\u001b[0m     \u001b[0;31m### Life-cycle and Identity\u001b[0m\u001b[0;34m\u001b[0m\u001b[0;34m\u001b[0m\u001b[0;34m\u001b[0m\u001b[0m\n\u001b[1;32m    731\u001b[0m \u001b[0;34m\u001b[0m\u001b[0m\n\u001b[0;32m--> 732\u001b[0;31m     \u001b[0;32mdef\u001b[0m \u001b[0m__init__\u001b[0m\u001b[0;34m(\u001b[0m\u001b[0mself\u001b[0m\u001b[0;34m,\u001b[0m \u001b[0;34m**\u001b[0m\u001b[0mkwargs\u001b[0m\u001b[0;34m)\u001b[0m\u001b[0;34m:\u001b[0m\u001b[0;34m\u001b[0m\u001b[0;34m\u001b[0m\u001b[0m\n\u001b[0m\u001b[1;32m    733\u001b[0m         \"\"\"\n\u001b[1;32m    734\u001b[0m         \u001b[0mKeyword\u001b[0m \u001b[0mArguments\u001b[0m\u001b[0;34m\u001b[0m\u001b[0;34m\u001b[0m\u001b[0m\n",
      "\u001b[0;31mKeyboardInterrupt\u001b[0m: "
     ]
    }
   ],
   "source": [
    "# Download synth tree from https://tree.opentreeoflife.org/about/synthesis-release/v12.3\n",
    "tips_over_500 = set()\n",
    "\n",
    "fi = '/home/ejmctavish/projects/otapi/opentree12.3_tree/labelled_supertree/labelled_supertree.tre'\n",
    "total_synth = dendropy.Tree.get(path=fi, schema=\"newick\")\n",
    "for node in total_synth:\n",
    "    if len(node.leaf_nodes()) > 500:\n",
    "        tips_over_500.add(node.label)"
   ]
  },
  {
   "cell_type": "code",
   "execution_count": null,
   "metadata": {},
   "outputs": [],
   "source": [
    "synthtreeid_over_500 = OT.synth_induced_tree(node_ids = list(tips_over_500), label_format=\"id\")\n",
    "synth_tips_over_500 = [leaf.taxon.label for leaf in synthtreeid_over_500.tree.leaf_node_iter()]"
   ]
  },
  {
   "cell_type": "code",
   "execution_count": null,
   "metadata": {},
   "outputs": [],
   "source": [
    "len(species_set)"
   ]
  },
  {
   "cell_type": "code",
   "execution_count": null,
   "metadata": {},
   "outputs": [],
   "source": [
    "len(test_tips)"
   ]
  },
  {
   "cell_type": "code",
   "execution_count": null,
   "metadata": {},
   "outputs": [],
   "source": [
    "#with open('tip_dict.json', 'w') as outfile:\n",
    "#    json.dump(tip_dict, outfile)"
   ]
  },
  {
   "cell_type": "code",
   "execution_count": 14,
   "metadata": {},
   "outputs": [
    {
     "data": {
      "text/plain": [
       "{'mrcaott10050ott302228': {'tips_counted': 507,\n",
       "  'ncbi_ids': 240,\n",
       "  'gbif_ids': 463,\n",
       "  'genomes': 7,\n",
       "  'genbank': 88252,\n",
       "  'gbif_occ': 218388,\n",
       "  'has_gbif_dat': 424,\n",
       "  'has_gbif_id': 462,\n",
       "  'has_nuc_dat': 239,\n",
       "  'has_ncbi_id': 240,\n",
       "  'total_descendents': 507,\n",
       "  'has_gbif_dat_perc': 83,\n",
       "  'has_nuc_dat_perc': 47,\n",
       "  'has_gbif_id_perc': 91,\n",
       "  'has_ncbi_id_perc': 47},\n",
       " 'mrcaott10141ott61528': {'tips_counted': 822,\n",
       "  'ncbi_ids': 147,\n",
       "  'gbif_ids': 791,\n",
       "  'genomes': 0,\n",
       "  'genbank': 29147,\n",
       "  'gbif_occ': 64293,\n",
       "  'has_gbif_dat': 619,\n",
       "  'has_gbif_id': 791,\n",
       "  'has_nuc_dat': 146,\n",
       "  'has_ncbi_id': 147,\n",
       "  'total_descendents': 822,\n",
       "  'has_gbif_dat_perc': 75,\n",
       "  'has_nuc_dat_perc': 17,\n",
       "  'has_gbif_id_perc': 96,\n",
       "  'has_ncbi_id_perc': 17},\n",
       " 'mrcaott10167ott64672': {'tips_counted': 559,\n",
       "  'ncbi_ids': 238,\n",
       "  'gbif_ids': 532,\n",
       "  'genomes': 0,\n",
       "  'genbank': 67859,\n",
       "  'gbif_occ': 51104,\n",
       "  'has_gbif_dat': 508,\n",
       "  'has_gbif_id': 527,\n",
       "  'has_nuc_dat': 237,\n",
       "  'has_ncbi_id': 238,\n",
       "  'total_descendents': 559,\n",
       "  'has_gbif_dat_perc': 90,\n",
       "  'has_nuc_dat_perc': 42,\n",
       "  'has_gbif_id_perc': 94,\n",
       "  'has_ncbi_id_perc': 42},\n",
       " 'mrcaott102ott38119': {'tips_counted': 545,\n",
       "  'ncbi_ids': 392,\n",
       "  'gbif_ids': 425,\n",
       "  'genomes': 14,\n",
       "  'genbank': 936171,\n",
       "  'gbif_occ': 506363,\n",
       "  'has_gbif_dat': 396,\n",
       "  'has_gbif_id': 425,\n",
       "  'has_nuc_dat': 392,\n",
       "  'has_ncbi_id': 392,\n",
       "  'total_descendents': 545,\n",
       "  'has_gbif_dat_perc': 72,\n",
       "  'has_nuc_dat_perc': 71,\n",
       "  'has_gbif_id_perc': 77,\n",
       "  'has_ncbi_id_perc': 71},\n",
       " 'mrcaott10354ott17309': {'tips_counted': 766,\n",
       "  'ncbi_ids': 765,\n",
       "  'gbif_ids': 270,\n",
       "  'genomes': 220,\n",
       "  'genbank': 93991,\n",
       "  'gbif_occ': 1805,\n",
       "  'has_gbif_dat': 240,\n",
       "  'has_gbif_id': 269,\n",
       "  'has_nuc_dat': 763,\n",
       "  'has_ncbi_id': 765,\n",
       "  'total_descendents': 766,\n",
       "  'has_gbif_dat_perc': 31,\n",
       "  'has_nuc_dat_perc': 99,\n",
       "  'has_gbif_id_perc': 35,\n",
       "  'has_ncbi_id_perc': 99}}"
      ]
     },
     "execution_count": 14,
     "metadata": {},
     "output_type": "execute_result"
    }
   ],
   "source": [
    "node_annotation"
   ]
  },
  {
   "cell_type": "code",
   "execution_count": 16,
   "metadata": {},
   "outputs": [
    {
     "data": {
      "text/plain": [
       "True"
      ]
     },
     "execution_count": 16,
     "metadata": {},
     "output_type": "execute_result"
    }
   ],
   "source": [
    "'ott922493' in node_tips['mrcaott102ott38119']"
   ]
  },
  {
   "cell_type": "code",
   "execution_count": 15,
   "metadata": {},
   "outputs": [
    {
     "data": {
      "text/plain": [
       "{'ottid': '922493',\n",
       " 'parent_ottid': '164652',\n",
       " 'name': 'Mus caroli',\n",
       " 'rank': 'species',\n",
       " 'source': 'ncbi:10089,gbif:2438800,irmng:10723449',\n",
       " 'uniqname': '',\n",
       " 'flags': '',\n",
       " 'ncbi_ids': ['10089'],\n",
       " 'gbif_ids': ['2438800'],\n",
       " 'ncbi_eq_results': [{'pmc': {'DbName': 'pmc',\n",
       "    'MenuName': 'PubMed Central',\n",
       "    'Count': '196',\n",
       "    'Status': 'Ok'},\n",
       "   'nuccore': {'DbName': 'nuccore',\n",
       "    'MenuName': 'Nucleotide',\n",
       "    'Count': '57469',\n",
       "    'Status': 'Ok'},\n",
       "   'protein': {'DbName': 'protein',\n",
       "    'MenuName': 'Protein',\n",
       "    'Count': '47730',\n",
       "    'Status': 'Ok'},\n",
       "   'genome': {'DbName': 'genome',\n",
       "    'MenuName': 'Genome',\n",
       "    'Count': '1',\n",
       "    'Status': 'Ok'},\n",
       "   'taxonomy': {'DbName': 'taxonomy',\n",
       "    'MenuName': 'Taxonomy',\n",
       "    'Count': '1',\n",
       "    'Status': 'Ok'},\n",
       "   'gene': {'DbName': 'gene',\n",
       "    'MenuName': 'Gene',\n",
       "    'Count': '33051',\n",
       "    'Status': 'Ok'},\n",
       "   'sra': {'DbName': 'sra', 'MenuName': 'SRA', 'Count': '185', 'Status': 'Ok'},\n",
       "   'popset': {'DbName': 'popset',\n",
       "    'MenuName': 'PopSet',\n",
       "    'Count': '72',\n",
       "    'Status': 'Ok'},\n",
       "   'bioproject': {'DbName': 'bioproject',\n",
       "    'MenuName': 'BioProject',\n",
       "    'Count': '13',\n",
       "    'Status': 'Ok'},\n",
       "   'biosample': {'DbName': 'biosample',\n",
       "    'MenuName': 'BioSample',\n",
       "    'Count': '269',\n",
       "    'Status': 'Ok'}}],\n",
       " 'gbif_records': 672}"
      ]
     },
     "execution_count": 15,
     "metadata": {},
     "output_type": "execute_result"
    }
   ],
   "source": [
    "tip = 'ott922493'\n",
    "tip_dict[tip]"
   ]
  },
  {
   "cell_type": "code",
   "execution_count": 46,
   "metadata": {},
   "outputs": [
    {
     "data": {
      "text/plain": [
       "3199"
      ]
     },
     "execution_count": 46,
     "metadata": {},
     "output_type": "execute_result"
    }
   ],
   "source": [
    "len(all_synth_tips)"
   ]
  },
  {
   "cell_type": "code",
   "execution_count": 47,
   "metadata": {},
   "outputs": [],
   "source": [
    "mini_synth_tree = OT.synth_induced_tree(node_ids=synth_tips_over_500[:5], label_format=\"id\")"
   ]
  },
  {
   "cell_type": "code",
   "execution_count": 48,
   "metadata": {},
   "outputs": [],
   "source": [
    "mini_synth_tree.tree.write(path=\"desc500plus_5.tre\",schema=\"newick\")"
   ]
  },
  {
   "cell_type": "code",
   "execution_count": 16,
   "metadata": {},
   "outputs": [],
   "source": [
    "def write_itol_heatmap(filename, title, unit, node_annotation, param):\n",
    "    \"\"\"Write out an itol heatmap file to filename, with title and units label.\n",
    "    annot dict must have keys which are node ids in tree on itol (may require underscore space subs..)\n",
    "    param should be key of annot_dict[node_ids] = {}\"\"\"\n",
    "    fi = open(filename, 'w')\n",
    "    startstr = \"\"\"DATASET_HEATMAP\n",
    "    #In heatmaps, each ID is associated to multiple numeric values, which are displayed as a set of colored boxes defined by a color gradient\n",
    "    #lines starting with a hash are comments and ignored during parsing\n",
    "    #=================================================================#\n",
    "    #                    MANDATORY SETTINGS                           #\n",
    "    #=================================================================#\n",
    "    #select the separator which is used to delimit the data below (TAB,SPACE or COMMA).This separator must be used throughout this file (except in the SEPARATOR line, which uses space).\n",
    "    #SEPARATOR TAB\n",
    "    SEPARATOR SPACE\n",
    "    #SEPARATOR COMMA\n",
    "\n",
    "    #label is used in the legend table (can be changed later)\n",
    "    DATASET_LABEL {t}\n",
    "\n",
    "    #dataset color (can be changed later)\n",
    "    COLOR #ff0000\n",
    "\n",
    "    #define labels for each individual field column\n",
    "    FIELD_LABELS {u}\n",
    "\n",
    "    #=================================================================#\n",
    "    #                    OPTIONAL SETTINGS                            #\n",
    "    #=================================================================#\n",
    "\n",
    "\n",
    "    #Heatmaps can have an optional Newick formatted tree assigned. Its leaf IDs must exactly match the dataset FIELD_LABELS.\n",
    "    #The tree will be used to sort the dataset fields, and will be displayed above the dataset. It can have branch lengths defined.\n",
    "    #All newlines and spaces should be stripped from the tree, and COMMA cannot be used as the dataset separator if a FIELD_TREE is provided.\n",
    "    #FIELD_TREE (((f1:0.2,f5:0.5):1,(f2:0.2,f3:0.3):1.2):0.5,(f4:0.1,f6:0.5):0.8):1;\n",
    "\n",
    "\n",
    "\n",
    "    #=================================================================#\n",
    "    #     all other optional settings can be set or changed later     #\n",
    "    #           in the web interface (under 'Datasets' tab)           #\n",
    "    #=================================================================#\n",
    "\n",
    "    #Each dataset can have a legend, which is defined using LEGEND_XXX fields below\n",
    "    #For each row in the legend, there should be one shape, color and label.\n",
    "    #Optionally, you can define an exact legend position using LEGEND_POSITION_X and LEGEND_POSITION_Y. To use automatic legend positioning, do NOT define these values\n",
    "    #Optionally, shape scaling can be present (LEGEND_SHAPE_SCALES). For each shape, you can define a scaling factor between 0 and 1.\n",
    "    #Shape should be a number between 1 and 6, or any protein domain shape definition.\n",
    "    #1: square\n",
    "    #2: circle\n",
    "    #3: star\n",
    "    #4: right pointing triangle\n",
    "    #5: left pointing triangle\n",
    "    #6: checkmark\n",
    "\n",
    "    #LEGEND_TITLE,Dataset legend\n",
    "    #LEGEND_POSITION_X,100\n",
    "    #LEGEND_POSITION_Y,100\n",
    "    #LEGEND_SHAPES,1,2,3\n",
    "    #LEGEND_COLORS,#ff0000,#00ff00,#0000ff\n",
    "    #LEGEND_LABELS,value1,value2,value3\n",
    "    #LEGEND_SHAPE_SCALES,1,1,0.5\n",
    "\n",
    "    #left margin, used to increase/decrease the spacing to the next dataset. Can be negative, causing datasets to overlap.\n",
    "    #MARGIN 0\n",
    "\n",
    "    #width of the individual boxes\n",
    "    #STRIP_WIDTH 25\n",
    "\n",
    "    #always show internal values; if set, values associated to internal nodes will be displayed even if these nodes are not collapsed. It could cause overlapping in the dataset display.\n",
    "    #SHOW_INTERNAL 0\n",
    "\n",
    "\n",
    "    #show dashed lines between leaf labels and the dataset\n",
    "    #DASHED_LINES 1\n",
    "\n",
    "    #if a FIELD_TREE is present, it can be hidden by setting this option to 0\n",
    "    #SHOW_TREE 1\n",
    "\n",
    "    #define the color for the NULL values in the dataset. Use the letter X in the data to define the NULL values\n",
    "    #COLOR_NAN #000000\n",
    "\n",
    "    #automatically create and display a legend based on the color gradients and values defined below\n",
    "    #AUTO_LEGEND 1\n",
    "\n",
    "\n",
    "    #define the heatmap gradient colors. Values in the dataset will be mapped onto the corresponding color gradient.\n",
    "    COLOR_MIN #0000ff\n",
    "    COLOR_MAX #ff0000\n",
    "\n",
    "    #you can specify a gradient with three colors (e.g red to yellow to green) by setting 'USE_MID_COLOR' to 1, and specifying the midpoint color\n",
    "    #USE_MID_COLOR 1\n",
    "    #COLOR_MID #ffff00\n",
    "\n",
    "    #By default, color gradients will be calculated based on dataset values. You can force different values to use in the calculation by setting the values below:\n",
    "    #USER_MIN_VALUE 0\n",
    "    #USER_MID_VALUE 500\n",
    "    #USER_MAX_VALUE 1000\n",
    "\n",
    "    #border width; if set above 0, a border of specified width (in pixels) will be drawn around individual cells\n",
    "    #BORDER_WIDTH,0\n",
    "\n",
    "    #border color; used only when BORDER_WIDTH is above 0\n",
    "    #BORDER_COLOR,#0000ff\n",
    "\n",
    "\n",
    "    #Internal tree nodes can be specified using IDs directly, or using the 'last common ancestor' method described in iTOL help pages\n",
    "    #=================================================================#\n",
    "    #       Actual data follows after the \"DATA\" keyword              #\n",
    "    #=================================================================#\n",
    "    DATA\\n\n",
    "    \"\"\".format(t=title, u=unit)\n",
    "    fi.write(startstr)\n",
    "    for node in node_annotation:\n",
    "        desc = int(node_annotation[node][param])\n",
    "        fi.write(\"{} {}\\n\".format(node, desc))    \n",
    "    fi.close()\n"
   ]
  },
  {
   "cell_type": "code",
   "execution_count": 22,
   "metadata": {},
   "outputs": [],
   "source": [
    "write_itol_heatmap(\"genomes_heatmap.txt\", \"Genome_counts\", \"Genome_count\", node_annotation, 'genomes')\n",
    "write_itol_heatmap(\"genbank.txt\", \"genbank_counts\", \"genbank_count\", node_annotation, 'genbank')\n",
    "write_itol_heatmap(\"GBIF_heatmap.txt\", \"GBIF_counts\", \"GBIF_count\", node_annotation, 'gbif_occ')\n",
    "write_itol_heatmap(\"genbank_perc.txt\", \"genbank_perc\", \"genbank_perc\", node_annotation, 'has_gbif_dat_perc')\n",
    "write_itol_heatmap(\"GBIF_perc.txt\", \"GBIF_perc\", \"GBIF_perc\", node_annotation, 'has_nuc_dat_perc')\n"
   ]
  },
  {
   "cell_type": "code",
   "execution_count": null,
   "metadata": {},
   "outputs": [],
   "source": []
  },
  {
   "cell_type": "code",
   "execution_count": null,
   "metadata": {},
   "outputs": [],
   "source": []
  },
  {
   "cell_type": "markdown",
   "metadata": {},
   "source": [
    "## For each family in tree get tip taxa, including NCBI ids and GBIF ids"
   ]
  },
  {
   "cell_type": "code",
   "execution_count": 12,
   "metadata": {},
   "outputs": [
    {
     "name": "stdout",
     "output_type": "stream",
     "text": [
      "ott649007\n",
      "ott782239\n",
      "ott782231\n",
      "ott1053057\n",
      "ott372826\n",
      "ott766272\n",
      "ott36015\n",
      "mrcaott24237ott109257\n",
      "ott412944\n",
      "ott436442\n"
     ]
    }
   ],
   "source": [
    "for fam in tip_dict:\n",
    "    print(fam)\n",
    "    for tip in tip_dict[fam]:\n",
    "        if 'ncbi_eq_results' in tip_dict[fam][tip]:\n",
    "            pass\n",
    "        else:\n",
    "            tip_dict[fam][tip]['ncbi_eq_results'] = []\n",
    "            tip_dict[fam][tip]['gbif_records'] = 0\n",
    "            for ncbi_id in tip_dict[fam][tip]['ncbi_ids']:\n",
    "                handle = Entrez.egquery(retmax=50, term=\"txid{}[Organism]\".format(ncbi_id), idtype=\"acc\")\n",
    "                gen_record = Entrez.read(handle)\n",
    "                eq_results = {}\n",
    "                for db in gen_record['eGQueryResult']:\n",
    "                    try:\n",
    "                        count = int(db['Count'])\n",
    "                        if count > 0:\n",
    "                            eq_results[db['DbName']]=db\n",
    "                    except ValueError:\n",
    "                        pass\n",
    "                tip_dict[fam][tip]['ncbi_eq_results'].append(eq_results)\n",
    "            for gbif_id in tip_dict[fam][tip]['gbif_ids']:\n",
    "                tip_dict[fam][tip]['gbif_records'] += occ.count(taxonKey = gbif_id)"
   ]
  },
  {
   "cell_type": "code",
   "execution_count": 10,
   "metadata": {},
   "outputs": [],
   "source": [
    "tip_dict = {}\n",
    "for fam in synth_tips[:10]:\n",
    "    tip_dict[fam]={}\n",
    "    synth_sub = OT.synth_subtree(node_id=fam, label_format=\"id\")\n",
    "    sub_tips = [leaf.taxon.label for leaf in synth_sub.tree.leaf_node_iter()]\n",
    "    for tip in sub_tips:\n",
    "        tip_dict[fam][tip] = all_tax_dict[tip.strip('ott')]\n",
    "        tip_dict[fam][tip]['ncbi_ids'] = []\n",
    "        tip_dict[fam][tip]['gbif_ids'] = []     \n",
    "        for source in tip_dict[fam][tip]['source'].split(','):\n",
    "            if source.startswith('ncbi'):\n",
    "                tip_dict[fam][tip]['ncbi_ids'].append(source.split(':')[1])\n",
    "            if source.startswith('gbif'):\n",
    "                tip_dict[fam][tip]['gbif_ids'].append(source.split(':')[1])"
   ]
  },
  {
   "cell_type": "code",
   "execution_count": 3,
   "metadata": {},
   "outputs": [],
   "source": [
    "fams_node_id = json.load(open('fam_synth_node_info.json'))\n",
    "## reload families in tree from all\n",
    "#fams_resp = json.load(open('fam_resp_dict.json'))"
   ]
  },
  {
   "cell_type": "code",
   "execution_count": 8,
   "metadata": {},
   "outputs": [],
   "source": [
    "node_ids = {}\n",
    "fams_in_tree = set()\n",
    "not_in_tree = set()\n",
    "monophy = set()\n",
    "non_monophy = set()\n",
    "for fam in fams_node_id:\n",
    "    nid = fams_node_id[fam]\n",
    "    ott_id = fam_dict[fam][0]\n",
    "    if nid:\n",
    "        if nid not in node_ids:\n",
    "            node_ids[nid] = set()\n",
    "        node_ids[nid].add(fam)\n",
    "        fams_in_tree.add(fam)\n",
    "        if nid.strip('ott') == ott_id:\n",
    "            monophy.add(fam)\n",
    "        else:\n",
    "            non_monophy.add(fam)\n",
    "    else:\n",
    "        not_in_tree.add(fam)"
   ]
  },
  {
   "cell_type": "code",
   "execution_count": 11,
   "metadata": {},
   "outputs": [],
   "source": []
  },
  {
   "cell_type": "code",
   "execution_count": 12,
   "metadata": {},
   "outputs": [],
   "source": []
  },
  {
   "cell_type": "code",
   "execution_count": 76,
   "metadata": {},
   "outputs": [],
   "source": [
    "#with open('tip_dict.json', 'w') as outfile:\n",
    "#    json.dump(tip_dict, outfile)"
   ]
  },
  {
   "cell_type": "code",
   "execution_count": 13,
   "metadata": {},
   "outputs": [],
   "source": [
    "synthtreeid.tree.write(path=\"mini_fam_id_label.tre\",schema=\"newick\")"
   ]
  },
  {
   "cell_type": "markdown",
   "metadata": {},
   "source": [
    "## Go through tree of tips w/500 plus desc"
   ]
  },
  {
   "cell_type": "markdown",
   "metadata": {},
   "source": [
    "## Get tree of families"
   ]
  },
  {
   "cell_type": "code",
   "execution_count": 7,
   "metadata": {},
   "outputs": [],
   "source": [
    "synthtreeid = OT.synth_induced_tree(node_ids = list(labels), label_format=\"id\")\n",
    "#synthtreeid.tree.write(path=\"desc500plus.tre\",schema=\"newick\")"
   ]
  },
  {
   "cell_type": "markdown",
   "metadata": {},
   "source": [
    "## For each of the familes in the synth tree, what proportion of the lineages contained in that family have:\n",
    "  - sequences in genbank\n",
    "  - genomes in genbank or SRA\n",
    "  - location records in GBIF"
   ]
  },
  {
   "cell_type": "code",
   "execution_count": 10,
   "metadata": {},
   "outputs": [
    {
     "data": {
      "text/plain": [
       "47020"
      ]
     },
     "execution_count": 10,
     "metadata": {},
     "output_type": "execute_result"
    }
   ],
   "source": [
    "len(test_tips)"
   ]
  },
  {
   "cell_type": "code",
   "execution_count": null,
   "metadata": {},
   "outputs": [],
   "source": [
    "test_tips[:5]"
   ]
  },
  {
   "cell_type": "code",
   "execution_count": null,
   "metadata": {},
   "outputs": [],
   "source": [
    "tip_dict['ott7827144']"
   ]
  },
  {
   "cell_type": "code",
   "execution_count": 62,
   "metadata": {},
   "outputs": [
    {
     "data": {
      "text/plain": [
       "21"
      ]
     },
     "execution_count": 62,
     "metadata": {},
     "output_type": "execute_result"
    }
   ],
   "source": [
    "tip = 'ott154258'\n",
    "sum([int(res['nuccore']['Count']) for res in tip_dict[tip]['ncbi_eq_results']])"
   ]
  },
  {
   "cell_type": "code",
   "execution_count": 58,
   "metadata": {},
   "outputs": [
    {
     "data": {
      "text/plain": [
       "[{'nuccore': {'DbName': 'nuccore', 'MenuName': 'Nucleotide', 'Count': '21', 'Status': 'Ok'},\n",
       "  'protein': {'DbName': 'protein', 'MenuName': 'Protein', 'Count': '29', 'Status': 'Ok'},\n",
       "  'taxonomy': {'DbName': 'taxonomy', 'MenuName': 'Taxonomy', 'Count': '1', 'Status': 'Ok'},\n",
       "  'popset': {'DbName': 'popset', 'MenuName': 'PopSet', 'Count': '6', 'Status': 'Ok'}}]"
      ]
     },
     "execution_count": 58,
     "metadata": {},
     "output_type": "execute_result"
    }
   ],
   "source": [
    "tip_dict[tip]['ncbi_eq_results']"
   ]
  },
  {
   "cell_type": "code",
   "execution_count": 66,
   "metadata": {},
   "outputs": [
    {
     "data": {
      "text/plain": [
       "0"
      ]
     },
     "execution_count": 66,
     "metadata": {},
     "output_type": "execute_result"
    }
   ],
   "source": [
    "sum([int(res.get('genome',{'Count':0})['Count']) for res in tip_dict[tip]['ncbi_eq_results']])"
   ]
  },
  {
   "cell_type": "code",
   "execution_count": null,
   "metadata": {},
   "outputs": [],
   "source": []
  }
 ],
 "metadata": {
  "kernelspec": {
   "display_name": "opentree",
   "language": "python",
   "name": "opentree"
  },
  "language_info": {
   "codemirror_mode": {
    "name": "ipython",
    "version": 3
   },
   "file_extension": ".py",
   "mimetype": "text/x-python",
   "name": "python",
   "nbconvert_exporter": "python",
   "pygments_lexer": "ipython3",
   "version": "3.8.5"
  }
 },
 "nbformat": 4,
 "nbformat_minor": 4
}
