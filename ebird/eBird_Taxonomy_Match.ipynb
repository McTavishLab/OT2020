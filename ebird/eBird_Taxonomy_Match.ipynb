{
 "cells": [
  {
   "cell_type": "code",
   "execution_count": 1,
   "metadata": {},
   "outputs": [],
   "source": [
    "from opentree import OT\n",
    "import csv"
   ]
  },
  {
   "cell_type": "code",
   "execution_count": 2,
   "metadata": {},
   "outputs": [],
   "source": [
    "ott_birds_subtree = OT.taxon_subtree(ott_id=81461, label_format=\"id\")"
   ]
  },
  {
   "cell_type": "code",
   "execution_count": 3,
   "metadata": {},
   "outputs": [],
   "source": [
    "ott_birds_ids = set()\n",
    "for node in ott_birds_subtree.tree:\n",
    "    if node.label:\n",
    "        ott_birds_ids.add(node.label)\n",
    "    if node.taxon:\n",
    "        if node.taxon.label:\n",
    "            ott_birds_ids.add(node.taxon.label)"
   ]
  },
  {
   "cell_type": "code",
   "execution_count": 4,
   "metadata": {},
   "outputs": [
    {
     "data": {
      "text/plain": [
       "27530"
      ]
     },
     "execution_count": 4,
     "metadata": {},
     "output_type": "execute_result"
    }
   ],
   "source": [
    "len(ott_birds_ids)"
   ]
  },
  {
   "cell_type": "code",
   "execution_count": 5,
   "metadata": {},
   "outputs": [],
   "source": [
    "ott_taxonomy_file = \"../../ott3.3/taxonomy.tsv\"\n",
    "ott_bird_tax_dict = {}\n",
    "header = ['ottid', 'parent_ottid', 'name','rank','source','uniqname','flags']\n",
    "bird_tax_file = open(\"birds_of_ott.tsv\", \"w\")\n",
    "head = open(ott_taxonomy_file).readline()\n",
    "bird_tax_file.write(head)\n",
    "for lin in open(ott_taxonomy_file):\n",
    "        lii=lin.split('\\t|\\t')\n",
    "        if \"ott{}\".format(lii[0]) in ott_birds_ids:\n",
    "            ott_bird_tax_dict[lii[0]]=dict(zip(header, lii))\n",
    "            bird_tax_file.write(lin)\n",
    "        \n",
    "bird_tax_file.close()\n",
    "        "
   ]
  },
  {
   "cell_type": "code",
   "execution_count": 6,
   "metadata": {},
   "outputs": [
    {
     "data": {
      "text/plain": [
       "27530"
      ]
     },
     "execution_count": 6,
     "metadata": {},
     "output_type": "execute_result"
    }
   ],
   "source": [
    "len(ott_bird_tax_dict)"
   ]
  },
  {
   "cell_type": "code",
   "execution_count": 7,
   "metadata": {},
   "outputs": [],
   "source": [
    "name_to_id = {}\n",
    "for tax in ott_bird_tax_dict:\n",
    "    name_to_id[ott_bird_tax_dict[tax]['name']] = ott_bird_tax_dict[tax]['ottid']"
   ]
  },
  {
   "cell_type": "code",
   "execution_count": 8,
   "metadata": {},
   "outputs": [],
   "source": [
    "ebird_taxonomy_file = open(\"eBird_Taxonomy_v2019.csv\")\n",
    "##NOTE: Taxonomy file has commas within fields, quoted\n",
    "header = ['TAXON_ORDER','CATEGORY','SPECIES_CODE','PRIMARY_COM_NAME','SCI_NAME','ORDER1','FAMILY','SPECIES_GROUP','REPORT_AS']\n",
    "ebird_all_tax_dict = {}\n",
    "ebird_taxonomy_file.readline()\n",
    "\n",
    "lines = ebird_taxonomy_file.readlines()\n",
    "for lii in csv.reader(lines, quotechar='\"', delimiter=',', quoting=csv.QUOTE_ALL, skipinitialspace=True):\n",
    "        ebird_all_tax_dict[lii[2]]=dict(zip(header, lii))"
   ]
  },
  {
   "cell_type": "code",
   "execution_count": 9,
   "metadata": {},
   "outputs": [
    {
     "data": {
      "text/plain": [
       "{'TAXON_ORDER': '864',\n",
       " 'CATEGORY': 'species',\n",
       " 'SPECIES_CODE': 'helgui',\n",
       " 'PRIMARY_COM_NAME': 'Helmeted Guineafowl',\n",
       " 'SCI_NAME': 'Numida meleagris',\n",
       " 'ORDER1': 'Galliformes',\n",
       " 'FAMILY': 'Numididae (Guineafowl)',\n",
       " 'SPECIES_GROUP': 'Grouse, Quail, and Allies',\n",
       " 'REPORT_AS': ''}"
      ]
     },
     "execution_count": 9,
     "metadata": {},
     "output_type": "execute_result"
    }
   ],
   "source": [
    "ebird_all_tax_dict['helgui']"
   ]
  },
  {
   "cell_type": "code",
   "execution_count": 10,
   "metadata": {},
   "outputs": [
    {
     "data": {
      "text/plain": [
       "16513"
      ]
     },
     "execution_count": 10,
     "metadata": {},
     "output_type": "execute_result"
    }
   ],
   "source": [
    "len(ebird_all_tax_dict)"
   ]
  },
  {
   "cell_type": "code",
   "execution_count": 11,
   "metadata": {},
   "outputs": [],
   "source": [
    "ebird_name_to_code = {}\n",
    "for tax in ebird_all_tax_dict:\n",
    "    ebird_name_to_code[ebird_all_tax_dict[tax]['SCI_NAME']] = tax"
   ]
  },
  {
   "cell_type": "code",
   "execution_count": 12,
   "metadata": {},
   "outputs": [],
   "source": [
    "exact_taxon_matches = {}\n",
    "for spp in ebird_all_tax_dict:\n",
    "    if ebird_all_tax_dict[spp]['SCI_NAME'] in name_to_id:\n",
    "        exact_taxon_matches[spp] = name_to_id[ebird_all_tax_dict[spp]['SCI_NAME']]"
   ]
  },
  {
   "cell_type": "code",
   "execution_count": 13,
   "metadata": {},
   "outputs": [
    {
     "data": {
      "text/plain": [
       "['ostric2',\n",
       " 'ostric3',\n",
       " 'grerhe1',\n",
       " 'tabtin1',\n",
       " 'higtin1',\n",
       " 'hootin1',\n",
       " 'grytin1',\n",
       " 'soltin1',\n",
       " 'blatin1',\n",
       " 'gretin1']"
      ]
     },
     "execution_count": 13,
     "metadata": {},
     "output_type": "execute_result"
    }
   ],
   "source": [
    "list(exact_taxon_matches.keys())[:10]"
   ]
  },
  {
   "cell_type": "code",
   "execution_count": 15,
   "metadata": {},
   "outputs": [],
   "source": [
    "synonym_exact_matched = {}\n",
    "for spp in ebird_all_tax_dict:\n",
    "    if spp not in exact_taxon_matches:\n",
    "        if spp not in synonym_exact_matched:\n",
    "            ebname= ebird_all_tax_dict[spp]['SCI_NAME']\n",
    "            match = OT.tnrs_match(names=[ebname], context_name=\"Birds\")\n",
    "            if match.response_dict.get('results'):\n",
    "                if len(match.response_dict['results'][0]['matches']) == 1:\n",
    "                    ott_id = match.response_dict['results'][0]['matches'][0]['taxon']['ott_id']\n",
    "                    synonym_exact_matched[spp] = ott_id\n",
    "    "
   ]
  },
  {
   "cell_type": "code",
   "execution_count": 16,
   "metadata": {},
   "outputs": [
    {
     "data": {
      "text/plain": [
       "908"
      ]
     },
     "execution_count": 16,
     "metadata": {},
     "output_type": "execute_result"
    }
   ],
   "source": [
    "len(synonym_exact_matched)"
   ]
  },
  {
   "cell_type": "code",
   "execution_count": 17,
   "metadata": {},
   "outputs": [],
   "source": [
    "synmatchedfi = open('exact_synonym_match_ott3.3.csv', 'w')\n",
    "synmatchedfi.write(\"ebird_code, ott_id\\n\")\n",
    "for spp in synonym_exact_matched:\n",
    "    synmatchedfi.write(\"{},{}\\n\".format(spp, synonym_exact_matched[spp]))\n",
    "\n",
    "synmatchedfi.close()\n",
    "    "
   ]
  },
  {
   "cell_type": "code",
   "execution_count": 18,
   "metadata": {},
   "outputs": [],
   "source": [
    "synmatchedfi = open('exact_synonym_match_ott3.3.csv')\n",
    "synonym_exact_matched = {}\n",
    "for lin in synmatchedfi:\n",
    "    lii = lin.strip().split(',')\n",
    "    synonym_exact_matched[lii[0]] = lii[1]"
   ]
  },
  {
   "cell_type": "code",
   "execution_count": 19,
   "metadata": {},
   "outputs": [],
   "source": [
    "unmatchedfi = open('unmatched.txt','w')\n",
    "for spp in ebird_all_tax_dict:\n",
    "    if spp not in exact_taxon_matches:\n",
    "        if spp not in synonym_exact_matched:\n",
    "            unmatchedfi.write(ebird_all_tax_dict[spp]['SCI_NAME'])\n",
    "            unmatchedfi.write('\\n')\n",
    "            \n",
    "unmatchedfi.close()"
   ]
  },
  {
   "cell_type": "code",
   "execution_count": 20,
   "metadata": {},
   "outputs": [],
   "source": [
    "reverse_name = {}\n",
    "for spp in ebird_all_tax_dict:\n",
    "    reverse_name[ebird_all_tax_dict[spp]['SCI_NAME']] = spp"
   ]
  },
  {
   "cell_type": "code",
   "execution_count": 21,
   "metadata": {},
   "outputs": [],
   "source": [
    "fuzzy_matches = {}\n",
    "fuzzy_match_fi = open(\"output/fuzzy_matches.csv\")\n",
    "fuzzy_match_fi.readline()\n",
    "for lin in fuzzy_match_fi:\n",
    "    lii = lin.split('\\t')\n",
    "    ott_id = lii[2]\n",
    "    if len(ott_id) > 1:\n",
    "        spp = reverse_name[lii[0]]\n",
    "        fuzzy_matches[spp] = ott_id"
   ]
  },
  {
   "cell_type": "code",
   "execution_count": 22,
   "metadata": {},
   "outputs": [],
   "source": [
    "eliot_matches = {}\n",
    "eliot_match_fi = open(\"final-eBird-ott7Mar2021.csv\")\n",
    "eliot_match_fi.readline()\n",
    "new_synonmys = open(\"synonym_ammendments.csv\", 'w')\n",
    "new_synonmys.write(\"ott_id, current_name, new_synonym\\n\")\n",
    "new_taxa = open(\"taxon_ammendments.csv\", 'w')\n",
    "new_taxa.write(\"genus,new_taxon\\n\")\n",
    "for lin in eliot_match_fi:\n",
    "    lii = lin.split(',')\n",
    "    ebname = lii[0]\n",
    "    synonym = lii[1].strip()\n",
    "    if len(synonym.split(' ')) >= 2:\n",
    "        match = OT.tnrs_match(names=[synonym], context_name=\"Birds\")\n",
    "        if match.response_dict.get('results'):\n",
    "                if len(match.response_dict['results'][0]['matches']) == 1:\n",
    "                    ott_id = match.response_dict['results'][0]['matches'][0]['taxon']['ott_id']\n",
    "                    code = ebird_name_to_code[ebname]\n",
    "                    eliot_matches[code] = ott_id\n",
    "                    new_synonmys.write(\"{},{},{}\\n\".format(ott_id, synonym, ebname))\n",
    "        else:\n",
    "            print(synonym)\n",
    "    else:\n",
    "        new_taxa.write(lin)\n",
    "        \n",
    "new_synonmys.close()\n",
    "new_taxa.close()"
   ]
  },
  {
   "cell_type": "code",
   "execution_count": 26,
   "metadata": {},
   "outputs": [],
   "source": [
    "ofi = open(\"combined_data_ott3.3.tsv\", \"w\")\n",
    "header = ['TAXON_ORDER','CATEGORY','SPECIES_CODE','PRIMARY_COM_NAME','SCI_NAME','ORDER1','FAMILY','SPECIES_GROUP','REPORT_AS', 'ottid', 'parent_ottid', 'name','rank','source','uniqname','flags']\n",
    "ofi.write('\\t'.join(header))\n",
    "ofi.write('\\tmatch_type\\n')\n",
    "all_ott_ids = {}\n",
    "for spp in ebird_all_tax_dict:\n",
    "    ott_id = None\n",
    "    typ = \"\"\n",
    "    if spp in exact_taxon_matches:\n",
    "        ott_id = exact_taxon_matches[spp]\n",
    "        typ = \"canonical_match\"\n",
    "    if spp in synonym_exact_matched:\n",
    "        ott_id = synonym_exact_matched[spp]\n",
    "        typ = \"synonym_match\"\n",
    "    if spp in fuzzy_matches:\n",
    "        ott_id = fuzzy_matches[spp]\n",
    "        typ = \"fuzzy_match\"\n",
    "    if spp in eliot_matches:\n",
    "        ott_id = eliot_matches[spp]\n",
    "        typ = \"hand_match_eliot\"\n",
    "    info = ebird_all_tax_dict[spp]\n",
    "    if ott_id:\n",
    "        info.update(ott_bird_tax_dict[str(ott_id)])\n",
    "        for item in header:\n",
    "            ofi.write(info.get(item,'-').strip())\n",
    "            ofi.write('\\t')\n",
    "        ofi.write(typ)\n",
    "        all_ott_ids[str(ott_id)] = (info['SPECIES_CODE'], info['SCI_NAME'])\n",
    "    else:\n",
    "        for item in header:\n",
    "            ofi.write(info.get(item,'-').strip())\n",
    "            ofi.write('\\t')\n",
    "        ofi.write(\"unmatched\")\n",
    "    ofi.write('\\n')\n",
    "ofi.close()\n",
    "            \n",
    "        \n",
    "\n",
    "        \n",
    "        "
   ]
  },
  {
   "cell_type": "code",
   "execution_count": 24,
   "metadata": {},
   "outputs": [],
   "source": [
    "spp='helgui'\n",
    "info = ebird_all_tax_dict[spp]\n",
    "if spp in exact_taxon_matches:\n",
    "        ott_id = exact_taxon_matches[spp]\n",
    "        typ = \"canonical_match\"\n",
    "if spp in synonym_exact_matched:\n",
    "        ott_id = synonym_exact_matched[spp]\n",
    "        typ = \"synonym_match\"\n",
    "if spp in fuzzy_matches:\n",
    "        ott_id = fuzzy_matches[spp]\n",
    "        typ = \"fuzzy_match\"\n",
    "if spp in eliot_matches:\n",
    "        ott_id = eliot_matches[spp]\n",
    "        typ = \"hand_match_eliot\"\n",
    "        \n",
    "info.update(ott_bird_tax_dict[str(ott_id)])"
   ]
  },
  {
   "cell_type": "code",
   "execution_count": 25,
   "metadata": {},
   "outputs": [
    {
     "data": {
      "text/plain": [
       "{'TAXON_ORDER': '864',\n",
       " 'CATEGORY': 'species',\n",
       " 'SPECIES_CODE': 'helgui',\n",
       " 'PRIMARY_COM_NAME': 'Helmeted Guineafowl',\n",
       " 'SCI_NAME': 'Numida meleagris',\n",
       " 'ORDER1': 'Galliformes',\n",
       " 'FAMILY': 'Numididae (Guineafowl)',\n",
       " 'SPECIES_GROUP': 'Grouse, Quail, and Allies',\n",
       " 'REPORT_AS': '',\n",
       " 'ottid': '684046',\n",
       " 'parent_ottid': '684050',\n",
       " 'name': 'Numida meleagris',\n",
       " 'rank': 'species',\n",
       " 'source': 'ncbi:8996,gbif:2473341,irmng:10192853',\n",
       " 'uniqname': '',\n",
       " 'flags': ''}"
      ]
     },
     "execution_count": 25,
     "metadata": {},
     "output_type": "execute_result"
    }
   ],
   "source": [
    "info"
   ]
  },
  {
   "cell_type": "code",
   "execution_count": 27,
   "metadata": {},
   "outputs": [
    {
     "data": {
      "text/plain": [
       "-5114"
      ]
     },
     "execution_count": 27,
     "metadata": {},
     "output_type": "execute_result"
    }
   ],
   "source": [
    "len(all_ott_ids) - len(ebird_all_tax_dict)"
   ]
  },
  {
   "cell_type": "code",
   "execution_count": 28,
   "metadata": {},
   "outputs": [],
   "source": [
    "ofi = open(\"ott_taxa_not_in_ebird.csv\", 'w')\n",
    "header = ['ottid', 'parent_ottid', 'name','rank','source','uniqname','flags']\n",
    "ofi.write('\\t'.join(header))\n",
    "for ott_id in ott_bird_tax_dict:\n",
    "    if ott_id not in all_ott_ids:\n",
    "        for item in header:\n",
    "            ofi.write(ott_bird_tax_dict[str(ott_id)][item].strip())\n",
    "            ofi.write('\\t')\n",
    "        ofi.write('\\n')\n",
    "        \n",
    "ofi.close()\n",
    "        "
   ]
  },
  {
   "cell_type": "code",
   "execution_count": null,
   "metadata": {},
   "outputs": [],
   "source": [
    "output = OT.synth_induced_tree(ott_ids=list(all_ott_ids.keys()),  label_format='id', ignore_unknown_ids= True)\n",
    "output.tree.write(path=\"all_ebird_id_label.tre\",schema=\"newick\")"
   ]
  },
  {
   "cell_type": "code",
   "execution_count": null,
   "metadata": {},
   "outputs": [],
   "source": [
    "import json\n",
    "# From git@github.com:OpenTreeOfLife/ChronoSynth.git\n",
    "dates = json.load(open(\"../../ChronoSynth/node_ages.json\"))"
   ]
  },
  {
   "cell_type": "code",
   "execution_count": null,
   "metadata": {},
   "outputs": [],
   "source": [
    "#Blad demands a date for the root. I picked this one form google...\n",
    "dates['node_ages']['ott81461'] = {'age': 60,\n",
    "  'source_id': 'google',\n",
    "  'source_node': None,\n",
    "  'time_unit': 'Myr'},\n",
    "\n",
    "dates['node_ages']['ott241846'] = {'age': 60,\n",
    "  'source_id': 'google',\n",
    "  'source_node': None,\n",
    "  'time_unit': 'Myr'},"
   ]
  },
  {
   "cell_type": "code",
   "execution_count": null,
   "metadata": {},
   "outputs": [],
   "source": [
    "trefile = \"ebird_Aves_ID_annot.tre\"\n",
    "#Get the synthetic tree from OpenTree and write out the citations to a text file.\n",
    "output.tree.write(path = trefile, schema = \"newick\")"
   ]
  },
  {
   "cell_type": "code",
   "execution_count": null,
   "metadata": {},
   "outputs": [],
   "source": [
    "ages = open(\"ages\",'w')\n",
    "\n",
    "dated_nodes = set()\n",
    "undated_nodes = set()\n",
    "for node in output.tree:\n",
    "    lab = None\n",
    "    if node.label:\n",
    "        if node.label.startswith('mrca'):\n",
    "            lab = node.label\n",
    "        elif node.label.startswith('ott'):\n",
    "            lab = node.label\n",
    "        else:\n",
    "            lab = node.label.split()[-1]\n",
    "        if lab in dates['node_ages']:\n",
    "            dated_nodes.add(lab)\n",
    "            age_range = [float(source['age']) for source in dates['node_ages'][lab]]\n",
    "            age_range.sort()\n",
    "            age_est = sum(age_range) / len(age_range) \n",
    "            ages.write(\"{}\\t{}\\n\".format(node.label, age_est))\n",
    "        else:\n",
    "            undated_nodes.add(lab)\n",
    "    if node.taxon:\n",
    "        if node.taxon.label:\n",
    "            if node.taxon.label.startswith('mrca'):\n",
    "                lab = node.taxon.label\n",
    "            elif node.taxon.label.startswith('ott'):\n",
    "                lab = node.taxon.label\n",
    "            else:\n",
    "                lab = node.taxon.label.split()[-1]\n",
    "            if lab in dates['node_ages']:\n",
    "                dated_nodes.add(lab)\n",
    "                age_range = [float(source['age']) for source in dates['node_ages'][lab]]\n",
    "                age_range.sort()\n",
    "                age_est = sum(age_range) / len(age_range) \n",
    "                ages.write(\"{}\\t{}\\n\".format(node.label, age_est))\n",
    "            else:\n",
    "                undated_nodes.add(lab)\n",
    "\n",
    "\n",
    "len(dated_nodes)"
   ]
  },
  {
   "cell_type": "code",
   "execution_count": null,
   "metadata": {},
   "outputs": [],
   "source": [
    "! phylocom bladj -f ebird_Aves_ID_annot.tre > all_ebird_blad.tre"
   ]
  },
  {
   "cell_type": "code",
   "execution_count": null,
   "metadata": {},
   "outputs": [],
   "source": [
    "ages = open(\"ages\",'w')\n",
    "\n",
    "dated_nodes = set()\n",
    "undated_nodes = set()\n",
    "for node in output.tree:\n",
    "    lab = None\n",
    "    if node.label:\n",
    "        if node.label.startswith('mrca'):\n",
    "            lab = node.label\n",
    "        elif node.label.startswith('ott'):\n",
    "            lab = node.label\n",
    "        else:\n",
    "            lab = node.label.split()[-1]\n",
    "        if lab in dates['node_ages']:\n",
    "            dated_nodes.add(lab)\n",
    "            age_range = [float(source['age']) for source in dates['node_ages'][lab]]\n",
    "            age_range.sort()\n",
    "            age_est = sum(age_range) / len(age_range) \n",
    "            ages.write(\"{}\\t{}\\n\".format(node.label, age_est))\n",
    "        else:\n",
    "            undated_nodes.add(lab)\n",
    "    if node.taxon:\n",
    "        if node.taxon.label:\n",
    "            if node.taxon.label.startswith('mrca'):\n",
    "                lab = node.taxon.label\n",
    "            elif node.taxon.label.startswith('ott'):\n",
    "                lab = node.taxon.label\n",
    "            else:\n",
    "                lab = node.taxon.label.split()[-1]\n",
    "            if lab in dates['node_ages']:\n",
    "                dated_nodes.add(lab)\n",
    "                age_range = [float(source['age']) for source in dates['node_ages'][lab]]\n",
    "                age_range.sort()\n",
    "                age_est = age_range[:-1]\n",
    "                ages.write(\"{}\\t{}\\n\".format(node.label, age_est))\n",
    "            else:\n",
    "                undated_nodes.add(lab)\n",
    "\n",
    "\n",
    "len(dated_nodes)\n",
    "\n",
    "! phylocom bladj -f ebird_Aves_ID_annot.tre > all_ebird_blad_max.tre"
   ]
  },
  {
   "cell_type": "code",
   "execution_count": null,
   "metadata": {},
   "outputs": [],
   "source": [
    "ages = open(\"ages\",'w')\n",
    "\n",
    "dated_nodes = set()\n",
    "undated_nodes = set()\n",
    "for node in output.tree:\n",
    "    lab = None\n",
    "    if node.label:\n",
    "        if node.label.startswith('mrca'):\n",
    "            lab = node.label\n",
    "        elif node.label.startswith('ott'):\n",
    "            lab = node.label\n",
    "        else:\n",
    "            lab = node.label.split()[-1]\n",
    "        if lab in dates['node_ages']:\n",
    "            dated_nodes.add(lab)\n",
    "            age_range = [float(source['age']) for source in dates['node_ages'][lab]]\n",
    "            age_range.sort()\n",
    "            age_est = sum(age_range) / len(age_range) \n",
    "            ages.write(\"{}\\t{}\\n\".format(node.label, age_est))\n",
    "        else:\n",
    "            undated_nodes.add(lab)\n",
    "    if node.taxon:\n",
    "        if node.taxon.label:\n",
    "            if node.taxon.label.startswith('mrca'):\n",
    "                lab = node.taxon.label\n",
    "            elif node.taxon.label.startswith('ott'):\n",
    "                lab = node.taxon.label\n",
    "            else:\n",
    "                lab = node.taxon.label.split()[-1]\n",
    "            if lab in dates['node_ages']:\n",
    "                dated_nodes.add(lab)\n",
    "                age_range = [float(source['age']) for source in dates['node_ages'][lab]]\n",
    "                age_range.sort()\n",
    "                age_est = age_range[0]\n",
    "                ages.write(\"{}\\t{}\\n\".format(node.label, age_est))\n",
    "            else:\n",
    "                undated_nodes.add(lab)\n",
    "\n",
    "\n",
    "len(dated_nodes)\n",
    "\n",
    "! phylocom bladj -f ebird_Aves_ID_annot.tre > all_ebird_blad_min.tre"
   ]
  },
  {
   "cell_type": "code",
   "execution_count": null,
   "metadata": {},
   "outputs": [],
   "source": [
    "import random\n",
    "ages = open(\"ages\",'w')\n",
    "\n",
    "all_studies = set()\n",
    "dated_nodes = set()\n",
    "undated_nodes = set()\n",
    "for node in output.tree:\n",
    "    lab = None\n",
    "    if node.label:\n",
    "        if node.label.startswith('mrca'):\n",
    "            lab = node.label\n",
    "        elif node.label.startswith('ott'):\n",
    "            lab = node.label\n",
    "        else:\n",
    "            lab = node.label.split()[-1]\n",
    "        if lab in dates['node_ages']:\n",
    "            studies = {source[\"source_id\"].split('@')[0] for source in dates['node_ages'][lab]}\n",
    "            all_studies = all_studies.union(studies)\n",
    "            dated_nodes.add(lab)\n",
    "            age_range = [float(source['age']) for source in dates['node_ages'][lab]]\n",
    "            age_range.sort()\n",
    "            age_est = sum(age_range) / len(age_range) \n",
    "            ages.write(\"{}\\t{}\\n\".format(node.label, age_est))\n",
    "        else:\n",
    "            undated_nodes.add(lab)\n",
    "    if node.taxon:\n",
    "        if node.taxon.label:\n",
    "            if node.taxon.label.startswith('mrca'):\n",
    "                lab = node.taxon.label\n",
    "            elif node.taxon.label.startswith('ott'):\n",
    "                lab = node.taxon.label\n",
    "            else:\n",
    "                lab = node.taxon.label.split()[-1]\n",
    "            if lab in dates['node_ages']:\n",
    "                studies = {source[\"source_id\"].split('@')[0] for source in dates['node_ages'][lab]}\n",
    "                all_studies = all_studies.union(studies)\n",
    "                dated_nodes.add(lab)\n",
    "                age_range = [float(source['age']) for source in dates['node_ages'][lab]]\n",
    "                age_range.sort()\n",
    "                age_est = random.choice(age_range)\n",
    "                ages.write(\"{}\\t{}\\n\".format(node.label, age_est))\n",
    "            else:\n",
    "                undated_nodes.add(lab)\n",
    "\n",
    "\n",
    "len(dated_nodes)\n",
    "\n",
    "! phylocom bladj -f ebird_Aves_ID_annot.tre > all_ebird_blad_rand1.tre"
   ]
  },
  {
   "cell_type": "code",
   "execution_count": null,
   "metadata": {},
   "outputs": [],
   "source": [
    "len(all_studies)"
   ]
  },
  {
   "cell_type": "code",
   "execution_count": null,
   "metadata": {
    "scrolled": true
   },
   "outputs": [],
   "source": []
  },
  {
   "cell_type": "code",
   "execution_count": null,
   "metadata": {},
   "outputs": [],
   "source": [
    "import dendropy\n",
    "bl_tree = dendropy.Tree.get_from_path(\"all_ebird_blad.tre\", schema = \"newick\")"
   ]
  },
  {
   "cell_type": "code",
   "execution_count": null,
   "metadata": {},
   "outputs": [],
   "source": [
    "id_to_name = {}"
   ]
  },
  {
   "cell_type": "code",
   "execution_count": null,
   "metadata": {},
   "outputs": [],
   "source": [
    "for node in bl_tree:\n",
    "    ebird_name = None\n",
    "    if node.label:\n",
    "        if node.label.startswith('ott'):\n",
    "            print(node.label)\n",
    "            ebird_name = all_ott_ids.get(node.label.strip('ott'), [None, None])[1]\n",
    "            if ebird_name:\n",
    "                print(ebird_name)\n",
    "                id_to_name[node.label] = ebird_name\n",
    "    if node.taxon:\n",
    "        if node.taxon.label:\n",
    "            if node.taxon.label.startswith('ott'):\n",
    "                print(node.taxon.label)\n",
    "                ebird_name = all_ott_ids.get(node.taxon.label.strip('ott'), [None, None])[1]\n",
    "                if ebird_name:\n",
    "                    print(ebird_name)\n",
    "                    id_to_name[node.taxon.label] = ebird_name"
   ]
  },
  {
   "cell_type": "code",
   "execution_count": null,
   "metadata": {},
   "outputs": [],
   "source": [
    "tips = [tip.taxon.label for tip in bl_tree.leaf_node_iter()]\n",
    "nodes = [node for node in bl_tree]"
   ]
  },
  {
   "cell_type": "code",
   "execution_count": null,
   "metadata": {},
   "outputs": [],
   "source": [
    "len(tips)"
   ]
  },
  {
   "cell_type": "code",
   "execution_count": null,
   "metadata": {},
   "outputs": [],
   "source": [
    "len(nodes)"
   ]
  },
  {
   "cell_type": "code",
   "execution_count": null,
   "metadata": {},
   "outputs": [],
   "source": [
    "len(nodes)-len(tips)"
   ]
  },
  {
   "cell_type": "code",
   "execution_count": null,
   "metadata": {},
   "outputs": [],
   "source": [
    "for tip in tips:\n",
    "    if tip.startswith('ott'):\n",
    "        assert tip in id_to_name"
   ]
  },
  {
   "cell_type": "code",
   "execution_count": null,
   "metadata": {},
   "outputs": [],
   "source": [
    "node_annotation = {}\n",
    "for node in bl_tree:\n",
    "    if node.label:\n",
    "        node_annotation[node.label] = {}\n",
    "    elif node.taxon:\n",
    "        if node.taxon.label:\n",
    "            node_annotation[node.taxon.label] = {}\n",
    "    else:\n",
    "        print(node)"
   ]
  },
  {
   "cell_type": "code",
   "execution_count": null,
   "metadata": {},
   "outputs": [],
   "source": [
    "for nid in node_annotation:\n",
    "    node_annotation[nid] = {}\n",
    "    node_annotation[nid]['studies'] = []\n",
    "    node_annotation[nid]['strict_support'] = []\n",
    "    node_annotation[nid]['conflict'] = []"
   ]
  },
  {
   "cell_type": "code",
   "execution_count": null,
   "metadata": {},
   "outputs": [],
   "source": [
    "nid_annotation = {}\n",
    "for node in output.tree:\n",
    "    if node.label:\n",
    "        nid_annotation[node.label] = {}\n",
    "    elif node.taxon:\n",
    "        if node.taxon.label:\n",
    "            nid_annotation[node.taxon.label] = {}\n",
    "    else:\n",
    "        print(node)\n",
    "\n",
    "nid_resp = dict()\n",
    "resp = OT.synth_node_info(list(nid_annotation.keys())).response_dict\n",
    "for node_info in resp:\n",
    "    nid_resp[node_info['node_id']] = node_info\n",
    "    nid_resp[node_info['node_id']]['dates'] =  len(dates['node_ages'].get(node_info['node_id'],[]))\n",
    "    \n"
   ]
  },
  {
   "cell_type": "code",
   "execution_count": null,
   "metadata": {},
   "outputs": [],
   "source": [
    "supported_tips = set()\n",
    "unsupported_tips = set()\n",
    "i = 0\n",
    "for node in node_annotation:\n",
    "    i+=1\n",
    "    supporting = nid_resp[node].get('source_id_map')\n",
    "    strict_support = nid_resp[node].get('supported_by')\n",
    "    conflict = nid_resp[node].get('conflicts_with', [])\n",
    "    node_annotation[node]['dates'] = nid_resp[node]['dates']\n",
    "    if supporting.keys() == set(['ott3.2draft9']):\n",
    "        node_annotation[node]['studies'] = 0\n",
    "    else:\n",
    "        node_annotation[node]['studies'] = len(supporting.keys())\n",
    "    if strict_support.keys() == set(['ott3.2draft9']):\n",
    "        node_annotation[node]['strict_support'] = 0\n",
    "    else:\n",
    "        node_annotation[node]['strict_support'] = len(strict_support.keys())\n",
    "    node_annotation[node]['conflict'] = len(conflict)\n"
   ]
  },
  {
   "cell_type": "code",
   "execution_count": null,
   "metadata": {},
   "outputs": [],
   "source": [
    "max_conf=0\n",
    "max_support=0\n",
    "max_dates =0\n",
    "for node in node_annotation:\n",
    "    if node_annotation[node]['conflict'] > max_conf:\n",
    "        max_conf = node_annotation[node]['conflict']\n",
    "    if node_annotation[node]['studies'] > max_support:\n",
    "        max_support = node_annotation[node]['studies']\n",
    "    if node_annotation[node]['dates'] > max_dates:\n",
    "        max_dates = node_annotation[node]['dates']\n",
    "\n",
    "        \n",
    "\n",
    "print(max_conf)\n",
    "print(max_support)\n",
    "print(max_dates)\n"
   ]
  },
  {
   "cell_type": "code",
   "execution_count": null,
   "metadata": {},
   "outputs": [],
   "source": [
    "fi = open(\"support_anno.txt\", 'w')\n",
    "startstr = \"\"\"DATASET_STYLE\n",
    "SEPARATOR TAB\n",
    "\n",
    "#label is used in the legend table (can be changed later)\n",
    "DATASET_LABEL\\t{}\n",
    "\n",
    "#dataset color (can be changed later)\n",
    "COLOR\\t#ffff00\n",
    "\n",
    "DATA\\n\"\"\".format(\"Support\")\n",
    "fi.write(startstr)\n",
    "for node in node_annotation:\n",
    "    if node_annotation[node]['studies']:\n",
    "        nodelab = node.replace(\" \",\"_\")\n",
    "        relsupport = node_annotation[node]['studies']/5\n",
    "        r = 0\n",
    "        g = 255*relsupport\n",
    "        b = 0\n",
    "        color = \"rgba({}, {}, {}, {})\".format(r, g, b, 0.25+relsupport)\n",
    "        fi.write(\"{}\\tbranch\\tclade\\t{}\\t1\\tnormal\\n\".format(nodelab,color))\n",
    "    else:\n",
    "        color = \"rgba(0, 0, 0, 0.25)\"\n",
    "        fi.write(\"{}\\tbranch\\tclade\\t{}\\t1\\tnormal\\n\".format(nodelab,color))\n",
    "for tip in tips:\n",
    "    color = \"rgba(0, 0, 0, 0.25)\"\n",
    "    fi.write(\"{}\\tbranch\\tclade\\t{}\\t1\\tnormal\\n\".format(tip,color))\n",
    "    \n",
    "fi.close()\n"
   ]
  },
  {
   "cell_type": "code",
   "execution_count": null,
   "metadata": {},
   "outputs": [],
   "source": [
    "fi = open(\"conflict_anno.txt\", 'w')\n",
    "startstr = \"\"\"DATASET_STYLE\n",
    "SEPARATOR TAB\n",
    "\n",
    "#label is used in the legend table (can be changed later)\n",
    "DATASET_LABEL\\t{}\n",
    "\n",
    "#dataset color (can be changed later)\n",
    "COLOR\\t#ffff00\n",
    "\n",
    "DATA\\n\"\"\".format(\"conflict\")\n",
    "fi.write(startstr)\n",
    "for node in node_annotation:\n",
    "    nodelab = node.replace(\" \",\"_\")\n",
    "    relconf = min(node_annotation[node]['conflict'],5)/5\n",
    "    r = 255*relconf\n",
    "    g = 0\n",
    "    b = 0\n",
    "    color = \"rgba({}, {}, {}, {})\".format(r, g, b, 0.25+relconf)\n",
    "    fi.write(\"{}\\tbranch\\tclade\\t{}\\t1\\tnormal\\n\".format(nodelab,color))\n",
    "for tip in tips:\n",
    "    color = \"rgba(0, 0, 0, 0.25)\"\n",
    "    fi.write(\"{}\\tbranch\\tclade\\t{}\\t1\\tnormal\\n\".format(tip,color))     \n",
    "fi.close()"
   ]
  },
  {
   "cell_type": "code",
   "execution_count": null,
   "metadata": {},
   "outputs": [],
   "source": [
    "fi = open(\"date_anno.txt\", 'w')\n",
    "startstr = \"\"\"DATASET_STYLE\n",
    "SEPARATOR TAB\n",
    "\n",
    "#label is used in the legend table (can be changed later)\n",
    "DATASET_LABEL\\t{}\n",
    "\n",
    "#dataset color (can be changed later)\n",
    "COLOR\\t#ffff00\n",
    "\n",
    "DATA\\n\"\"\".format(\"dates\")\n",
    "fi.write(startstr)\n",
    "for node in node_annotation:\n",
    "    nodelab = node.replace(\" \",\"_\")\n",
    "    reldates = min(node_annotation[node]['dates'],5)/5\n",
    "    r = 0\n",
    "    g = 0\n",
    "    b = 255*reldates\n",
    "    color = \"rgba({}, {}, {}, {})\".format(r, g, b, 0.25+reldates)\n",
    "    fi.write(\"{}\\tbranch\\tclade\\t{}\\t1\\tnormal\\n\".format(nodelab,color))\n",
    "        \n",
    "fi.close()"
   ]
  },
  {
   "cell_type": "code",
   "execution_count": null,
   "metadata": {},
   "outputs": [],
   "source": [
    "fi = open(\"relabel.txt\", 'w')\n",
    "startstr = \"\"\"LABELS\n",
    "#use this template to change the leaf labels, or define/change the internal node names (displayed in mouseover popups)\n",
    "\n",
    "#lines starting with a hash are comments and ignored during parsing\n",
    "\n",
    "#=================================================================#\n",
    "#                    MANDATORY SETTINGS                           #\n",
    "#=================================================================#\n",
    "#select the separator which is used to delimit the data below (TAB,SPACE or COMMA).This separator must be used throughout this file (except in the SEPARATOR line, which uses space).\n",
    "\n",
    "#SEPARATOR TAB\n",
    "#SEPARATOR SPACE\n",
    "SEPARATOR COMMA\n",
    "\n",
    "#Internal tree nodes can be specified using IDs directly, or using the 'last common ancestor' method described in iTOL help pages\n",
    "#=================================================================#\n",
    "#       Actual data follows after the \"DATA\" keyword              #\n",
    "#=================================================================#\n",
    "DATA\n",
    "#NODE_ID,LABEL\\n\"\"\"\n",
    "fi.write(startstr)\n",
    "\n",
    "for ottid in id_to_name:\n",
    "    fi.write(\"{},{}\\n\".format(ottid, id_to_name[ottid]))\n",
    "fi.close()"
   ]
  },
  {
   "cell_type": "code",
   "execution_count": null,
   "metadata": {},
   "outputs": [],
   "source": [
    "'ott892276' in tips"
   ]
  },
  {
   "cell_type": "code",
   "execution_count": null,
   "metadata": {},
   "outputs": [],
   "source": [
    "tax"
   ]
  }
 ],
 "metadata": {
  "kernelspec": {
   "display_name": "opentree",
   "language": "python",
   "name": "opentree"
  },
  "language_info": {
   "codemirror_mode": {
    "name": "ipython",
    "version": 3
   },
   "file_extension": ".py",
   "mimetype": "text/x-python",
   "name": "python",
   "nbconvert_exporter": "python",
   "pygments_lexer": "ipython3",
   "version": "3.8.5"
  }
 },
 "nbformat": 4,
 "nbformat_minor": 4
}
